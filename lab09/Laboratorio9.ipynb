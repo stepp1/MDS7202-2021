{
 "cells": [
  {
   "cell_type": "markdown",
   "metadata": {
    "cell_id": "00000-e58a33a7-5695-4e1a-8e41-ee4fad094973",
    "deepnote_cell_type": "markdown",
    "id": "XUZ1dFPHzAHl"
   },
   "source": [
    "<h1><center>Laboratorio 9: Benchmark Estadístico con Reddit 🧮</center></h1>\n",
    "\n",
    "<center><strong>MDS7202: Laboratorio de Programación Científica para Ciencia de Datos</strong></center>"
   ]
  },
  {
   "cell_type": "markdown",
   "metadata": {
    "cell_id": "00001-a6e1cf75-da72-4116-8013-b0aec5bc17ea",
    "deepnote_cell_type": "markdown",
    "id": "UD8X1uhGzAHq"
   },
   "source": [
    "### Cuerpo Docente:\n",
    "\n",
    "- Profesor: Pablo Badilla\n",
    "- Auxiliar: Ignacio Meza D.\n",
    "- Ayudante: Constanza Peña"
   ]
  },
  {
   "cell_type": "markdown",
   "metadata": {
    "cell_id": "00002-cc69b7e1-bad8-41c0-ae4a-f9a6671c3509",
    "deepnote_cell_type": "markdown",
    "id": "tXflExjqzAHr"
   },
   "source": [
    "### Equipo: SUPER IMPORTANTE - notebooks sin nombre no serán revisados\n",
    "\n",
    "- Nombre de alumno 1:\n",
    "- Nombre de alumno 2:\n"
   ]
  },
  {
   "cell_type": "markdown",
   "metadata": {
    "cell_id": "00003-fc7bdf37-e0ed-46b2-9ece-3f16c761f0d6",
    "deepnote_cell_type": "markdown",
    "id": "AD-V0bbZzAHr"
   },
   "source": [
    "### **Link de repositorio de GitHub:** `http://....`"
   ]
  },
  {
   "cell_type": "markdown",
   "metadata": {
    "cell_id": "00005-002cc95e-3cd9-4a83-ba9d-40b8a26bb665",
    "deepnote_cell_type": "markdown",
    "id": "6uBLPj1PzAHs"
   },
   "source": [
    "# Temas a tratar\n",
    "\n",
    "- Optimización de Código en Python.\n",
    "- Utilización de librerías para medir el tiempo de ejecución de funciones.\n",
    "- Métodos para optimizar el rendimiento de las funciones.\n",
    "\n",
    "# Reglas:\n",
    "\n",
    "- Fecha de entrega: 3/12/2021\n",
    "- **Grupos de 2 personas**\n",
    "- **Ausentes** deberán realizar la actividad solos. \n",
    "- Cualquier duda fuera del horario de clases al foro. Mensajes al equipo docente serán respondidos por este medio.\n",
    "- Prohibidas las copias. \n",
    "- Pueden usar cualquer matrial del curso que estimen conveniente.\n",
    "\n",
    "# Objetivos principales del laboratorio\n",
    "\n",
    "- Obtener datos desde Reddit a partir de la librería `praw` y visualizar cuales post son más probables que sean puntuados positivamente.\n",
    "- Aplicar un atajo estadístico para obtener la mean posterior de datos.\n",
    "- Optimizar a través de librerías funciones."
   ]
  },
  {
   "cell_type": "markdown",
   "metadata": {
    "cell_id": "00006-95054c9c-35b6-4246-8808-a9bc5019f321",
    "deepnote_cell_type": "markdown",
    "id": "MhISwri4zAHy"
   },
   "source": [
    "#Importamos librerias utiles 😸"
   ]
  },
  {
   "cell_type": "code",
   "execution_count": null,
   "metadata": {
    "cell_id": "00007-26cb5765-42df-4c44-8039-62904faf80c9",
    "deepnote_cell_type": "code",
    "deepnote_to_be_reexecuted": false,
    "executionInfo": {
     "elapsed": 10379,
     "status": "ok",
     "timestamp": 1627484630448,
     "user": {
      "displayName": "IGNACIO ALEJANDRO MEZA",
      "photoUrl": "",
      "userId": "17011121633069169364"
     },
     "user_tz": 240
    },
    "execution_millis": 11794,
    "execution_start": 1637947671330,
    "id": "cO7AQ9ciQ59U",
    "source_hash": "5f812e77"
   },
   "outputs": [],
   "source": [
    "%%capture\n",
    "!pip install praw\n",
    "!pip install line_profiler\n",
    "!pip install numba\n",
    "\n",
    "import sys\n",
    "import praw\n",
    "import time\n",
    "import numpy as np\n",
    "import pandas as pd\n",
    "from numba import jit\n",
    "import plotly.express as px\n",
    "from functools import lru_cache\n",
    "from IPython.core.display import Image"
   ]
  },
  {
   "cell_type": "markdown",
   "metadata": {
    "cell_id": "00008-42ae92fb-1318-4753-87ce-2a0d26da1b07",
    "deepnote_cell_type": "markdown",
    "id": "xpOTbQcxbSiy"
   },
   "source": [
    "# 1. Recomendando Posts de Subreddit"
   ]
  },
  {
   "cell_type": "markdown",
   "metadata": {
    "cell_id": "00009-6a4d7e77-29a6-4132-8b14-d0f9d5ea4f92",
    "deepnote_cell_type": "markdown",
    "id": "3Q93vbNS25bM"
   },
   "source": [
    "<p align=\"center\">\n",
    "  <img src=\"https://styles.redditmedia.com/t5_2rer8/styles/bannerBackgroundImage_xzrb6my122181.jpg\">\n",
    "</p>"
   ]
  },
  {
   "cell_type": "markdown",
   "metadata": {
    "cell_id": "00010-34fea2e6-4b5b-42a8-adc5-cc5ee77a6afe",
    "deepnote_cell_type": "markdown",
    "id": "jnmZfFpxTTYX"
   },
   "source": [
    "Unos intrépidos alumnos del curso, quienes frecuentemente participan en subreddits y foros de reviews, se preguntan lo siguiente: ¿Podremos confiar que un post es bueno, si este tiene solamente 1 o 3 votos positivos?. los compañeros, creen que esto claramente no representa una opinión general, ya que estamos mucho menos seguros acerca de la verdadera proporción de votos a favor de los comentarios con pocos datos. ¿Pero cómo podemos obtener una representación más creíble para este problema?.\n",
    "\n",
    "Lo señalado forma parte de un problema estadísticos, donde a través del cálculo de la posterior se puede conocer que tan probable es que un post sea bueno. Para efectos de este laboratorio, no se exige un conocimiento previo para resolver este problema, simplemente se deberá aplicar las ecuaciones presentadas más adelante (De igual forma si quedan interesados sobre el tema se les invita a tomar el ramo [CC6104](https://github.com/dccuchile/CC6104))."
   ]
  },
  {
   "cell_type": "markdown",
   "metadata": {
    "cell_id": "00011-d4a7a560-6425-4ccb-9d84-f59a9c36e3ac",
    "deepnote_cell_type": "markdown",
    "id": "xdbrb3AMi6EF"
   },
   "source": [
    "## 1.1 Obtención de Subrredits y Análisis [1 Punto]"
   ]
  },
  {
   "cell_type": "markdown",
   "metadata": {
    "cell_id": "00012-b7ddd335-dbd8-4db8-9533-07a0a75fa4e1",
    "deepnote_cell_type": "markdown",
    "id": "YI-IRspcjPee"
   },
   "source": [
    "Para estudiar que tan probable es que un post sea positivo se comenzará cargando datos reales del subreddit chile desde reddit (si usted desea puede cambiar el subreddit a uno de su gusto). Para esto le proponemos la utilización de la función que aparece mas abajo, la que presenta un usuario ya creado por el equipo docente. Dese un tiempo para entender que hace cada parte de la función, visualizando que se obtiene de estas.\n",
    "\n",
    "Revisada la función, utilice un **perfilador** para monitorear el tiempo y memoria que les toma a cada liena de código para ser ejecutada. Señale cuales son los procesos que mas tiempo consumen en la ejecución del Código, comentando si es posible mejorar el desempeño de la función.\n",
    "\n",
    "**TO-DO:**\n",
    "- [ ] Estudiar la función propuesta por el equipo docente.\n",
    "- [ ] Estudiar los tiempos de ejecución del código a través de un perfilador.\n",
    "- [ ] Estudiar la memoria ocupada por el código a través de un perfilador.\n",
    "- [ ] Comente los resultados. ¿Qué lineas ocupan más memoria o más/menos tiempo?¿Por qué?"
   ]
  },
  {
   "cell_type": "code",
   "execution_count": null,
   "metadata": {
    "cell_id": "00013-93efc05f-d7c4-43ab-a5e7-25678ec45bf7",
    "deepnote_cell_type": "code",
    "deepnote_to_be_reexecuted": false,
    "executionInfo": {
     "elapsed": 7,
     "status": "ok",
     "timestamp": 1627484630449,
     "user": {
      "displayName": "IGNACIO ALEJANDRO MEZA",
      "photoUrl": "",
      "userId": "17011121633069169364"
     },
     "user_tz": 240
    },
    "execution_millis": 1,
    "execution_start": 1637947497504,
    "id": "R4PQbceVPJzh",
    "source_hash": "a55fad36"
   },
   "outputs": [],
   "source": [
    "def praw_reddit(nombre_subreddit=\"chile\", n_hot=1000):\n",
    "    reddit = praw.Reddit(\n",
    "        client_id=\"-w2hyFINxZ8T3g\",\n",
    "        client_secret=\"zGPCI4s3g6Ic6AsRi7vIpP0NoxbFdw\",\n",
    "        password=\"ClasesMDS7202\",\n",
    "        user_agent=\"Clases\",\n",
    "        username=\"DocenciaDataScience\",\n",
    "        check_for_async=False,\n",
    "    )\n",
    "    subreddit = reddit.subreddit(nombre_subreddit)\n",
    "\n",
    "    votes, post, url = {}, {}, {}\n",
    "    top_submissions = list(subreddit.hot(limit=n_hot))\n",
    "    for it, top_n in enumerate(range(50, len(top_submissions), 50)):\n",
    "        top_n_submissions = top_submissions[:top_n]\n",
    "        upvotes, downvotes, url[it], post[it] = [], [], [], []\n",
    "\n",
    "        for submission in top_n_submissions:\n",
    "            try:\n",
    "                ratio = submission.upvote_ratio\n",
    "                ups = int(\n",
    "                    round((ratio * submission.score) / (2 * ratio - 1))\n",
    "                    if ratio != 0.5\n",
    "                    else round(submission.score / 2)\n",
    "                )\n",
    "                upvotes.append(ups)\n",
    "                downvotes.append(ups - submission.score)\n",
    "                post[it].append(submission.title)\n",
    "                url[it].append(submission.url)\n",
    "            except Exception as e:\n",
    "                continue\n",
    "        votes[it] = np.array([upvotes, downvotes]).T\n",
    "    return votes, post, url\n"
   ]
  },
  {
   "cell_type": "code",
   "execution_count": null,
   "metadata": {
    "cell_id": "00014-24e5a8eb-4a22-4588-9cc4-1d3d132ca121",
    "deepnote_cell_type": "code",
    "deepnote_to_be_reexecuted": false,
    "executionInfo": {
     "elapsed": 14052,
     "status": "ok",
     "timestamp": 1627484649043,
     "user": {
      "displayName": "IGNACIO ALEJANDRO MEZA",
      "photoUrl": "",
      "userId": "17011121633069169364"
     },
     "user_tz": 240
    },
    "execution_millis": 11242,
    "execution_start": 1637947497523,
    "id": "v4rjrWf_pJHJ",
    "source_hash": "4b31fefe"
   },
   "outputs": [],
   "source": [
    "votes, post, url = praw_reddit()"
   ]
  },
  {
   "cell_type": "code",
   "execution_count": null,
   "metadata": {},
   "outputs": [],
   "source": [
    "###### Código Aquí ######\n"
   ]
  },
  {
   "cell_type": "markdown",
   "metadata": {
    "cell_id": "00016-51e64884-9168-46df-b5bb-96f7950e1a13",
    "deepnote_cell_type": "markdown",
    "id": "-diI_GpXmzqS"
   },
   "source": [
    "**Respuesta:**"
   ]
  },
  {
   "cell_type": "markdown",
   "metadata": {
    "cell_id": "00017-7ea262b8-c792-4f94-8dba-d8af3c5c4dd5",
    "deepnote_cell_type": "markdown",
    "id": "6gdqQBi1m_cu"
   },
   "source": [
    "`Escriba su respuesta aquí`"
   ]
  },
  {
   "cell_type": "markdown",
   "metadata": {
    "cell_id": "00018-c6945fe3-eec1-4bf6-82a1-35b7ded97982",
    "deepnote_cell_type": "markdown",
    "id": "tNDS2OpFnMnH"
   },
   "source": [
    "## 1.2 LRU y Análisis de Tiempo con Cache [1 Punto]"
   ]
  },
  {
   "cell_type": "markdown",
   "metadata": {
    "cell_id": "00019-98704da0-6417-4ed9-a753-5672d5a12f03",
    "deepnote_cell_type": "markdown",
    "id": "i3nsxCbAna4t"
   },
   "source": [
    "Respondan las siguientes preguntas:\n",
    "\n",
    "1.\t¿Qué es la memoria cache y a que se refiere las siglas LRU?\n",
    "2.\t¿Cuáles son los costos que tiene la aplicación de técnicas de Caching?\n",
    "3. ¿Cuál es la consecuencía de ocupar caching en la función anterior?.\n",
    "\n",
    "Respondidas las preguntas, se le solicita que aplique alguna técnica de caching para mejorar el desempeño de la función `praw_reddit`. Para esto compare solo el tiempo de ejecución del algoritmo con y sin caching, señalando el tiempo total de ejecución y el tiempo promedio que le toma ejecutar cada loop a la función. Con lo anterior, ¿es posible visualizar mejoras en este caso?.\n",
    "\n",
    "\n",
    "**TO-DO:**\n",
    "- [ ] Responder las preguntas.\n",
    "- [ ] Mejorar el código con cache.\n",
    "- [ ] Explicar las consecuencias de usar lru_cache sobre praw_reddit"
   ]
  },
  {
   "cell_type": "markdown",
   "metadata": {
    "cell_id": "00020-774c602b-0847-483f-9d94-d3db21772a60",
    "deepnote_cell_type": "markdown",
    "id": "fbQPpvYorOAF"
   },
   "source": [
    "**Respuestas Teóricas:**"
   ]
  },
  {
   "cell_type": "markdown",
   "metadata": {
    "cell_id": "00021-9d26f5d4-f9f1-4ce3-b47a-0955d7d5528e",
    "deepnote_cell_type": "markdown",
    "id": "RKfLXDs_rO-w"
   },
   "source": [
    "`Escriba su respuesta aquí`"
   ]
  },
  {
   "cell_type": "code",
   "execution_count": null,
   "metadata": {
    "cell_id": "00022-d937bbea-3ff8-4700-a0b4-24e49e2036cc",
    "deepnote_cell_type": "code",
    "id": "X0u4WU11rLJd"
   },
   "outputs": [],
   "source": [
    "###### Código Aquí ######"
   ]
  },
  {
   "cell_type": "markdown",
   "metadata": {},
   "source": [
    "**Respuesta de lru_cache sobre praw_reddit**"
   ]
  },
  {
   "cell_type": "markdown",
   "metadata": {},
   "source": [
    "`Escriba su respuesta aquí`"
   ]
  },
  {
   "cell_type": "markdown",
   "metadata": {
    "cell_id": "00023-a70d4c89-5b01-4f62-b470-742d59287c02",
    "deepnote_cell_type": "markdown",
    "id": "2pS26u-trdg6"
   },
   "source": [
    "## 1.3 Obtención de Mean Posterior y Standard Error [1 Punto]\n",
    "\n",
    "Una forma de obtener la mean posterior y el Standard Error de los datos de reddit es aplicando un atajo de inferencia estadística. Este atajo se define de la siguiente forma:\n",
    "\n",
    "Sea **u** los votos positivos y **d** los votos negativos del subreddit, tendremos que:\n",
    "\n",
    "$$a = 1+u$$\n",
    "\n",
    "$$b = 1+d$$\n",
    "\n",
    "$$\\sigma= 1.65\\sqrt(\\dfrac{ab}{(a + b)^2(a + b + 1)})$$\n",
    "\n",
    "$$\\mu = \\dfrac{a}{a+b}$$\n",
    "\n",
    "Donde $\\mu$ es la mean posterior y $\\sigma$ el standard error.\n",
    "\n",
    "Con lo anterior, genere dos funciones que tengan como salida $\\mu$ y $\\sigma$ de acuerdo a las ecuaciones señaladas. La primera función, deberá ser construida sin el uso de numpy, aplicando for y aplicando comandos nativos de Python. Por otro lado, deberá generar una segunda función con el uso exclusivo de numpy. **OJO** que las funciones deben tener como entrada solo un elemento del diccionario votes (por ejemplo `votes[1]`), por lo que estas no deben tener como entrada el conjunto completo de datos."
   ]
  },
  {
   "cell_type": "code",
   "execution_count": null,
   "metadata": {
    "cell_id": "00024-11d109a9-4e84-4291-bcab-9ff1924c1022",
    "deepnote_cell_type": "code",
    "deepnote_to_be_reexecuted": false,
    "executionInfo": {
     "elapsed": 317,
     "status": "ok",
     "timestamp": 1627484660287,
     "user": {
      "displayName": "IGNACIO ALEJANDRO MEZA",
      "photoUrl": "",
      "userId": "17011121633069169364"
     },
     "user_tz": 240
    },
    "execution_millis": 15,
    "execution_start": 1637947536256,
    "id": "ahzpJ-Sk0DOD",
    "source_hash": "b9b21217"
   },
   "outputs": [],
   "source": [
    "###### Código Aquí ######"
   ]
  },
  {
   "cell_type": "markdown",
   "metadata": {
    "cell_id": "00025-276ba904-2ebf-4b01-8355-00f104cd0aba",
    "deepnote_cell_type": "markdown",
    "id": "VhHhiTRYwpGu"
   },
   "source": [
    "## 1.4 Comparación de Rendimiento [2 Puntos]\n",
    "\n",
    "Creadas las funciones de la sección 1.3, de forma iterativa compare los diferentes batches de datos que contiene el diccionario `votes`. Para esto genere un gráfico utilizando plotly, donde se pueda observar las diferencias de tiempo que toma ejecutar las diferentes cantidades de datos. ¿es posible observar una diferencia? ¿a qué se deberá esto?.\n",
    "\n",
    "Aplique el compilador **Numba** sobre las funciones 1.3 y compare el tiempo de ejecución con los obtenidos sin el compilador. "
   ]
  },
  {
   "cell_type": "code",
   "execution_count": null,
   "metadata": {
    "cell_id": "00026-46727626-7d9d-4ab1-8b94-ccf9809b2e55",
    "deepnote_cell_type": "code",
    "executionInfo": {
     "elapsed": 2,
     "status": "ok",
     "timestamp": 1627484661131,
     "user": {
      "displayName": "IGNACIO ALEJANDRO MEZA",
      "photoUrl": "",
      "userId": "17011121633069169364"
     },
     "user_tz": 240
    },
    "id": "b02IokToxPpO"
   },
   "outputs": [],
   "source": [
    "###### Código Aquí ######"
   ]
  },
  {
   "cell_type": "markdown",
   "metadata": {},
   "source": [
    "Ahora, grafiquen los tiempos tomados y comente los desempeños.\n",
    "\n",
    "**Nota:** Ejecuten las funciones compiladas con algún ejemplo antes de graficar. De lo contrario, les indicará el tiempo de compilación, cosa que no queremos medir"
   ]
  },
  {
   "cell_type": "code",
   "execution_count": null,
   "metadata": {
    "cell_id": "00027-36165a18-3b75-41d7-9a27-121172c19a2f",
    "colab": {
     "base_uri": "https://localhost:8080/",
     "height": 542
    },
    "deepnote_cell_type": "code",
    "deepnote_output_heights": [
     527
    ],
    "executionInfo": {
     "elapsed": 664,
     "status": "ok",
     "timestamp": 1627484670591,
     "user": {
      "displayName": "IGNACIO ALEJANDRO MEZA",
      "photoUrl": "",
      "userId": "17011121633069169364"
     },
     "user_tz": 240
    },
    "id": "_iCONVWNn8Ti",
    "outputId": "ea73ef0c-7512-49ff-a624-979d1e81b605"
   },
   "outputs": [],
   "source": [
    "###### Código Aquí ######"
   ]
  },
  {
   "cell_type": "markdown",
   "metadata": {
    "cell_id": "00028-19d4d7d5-b8cc-4e02-b9b1-661b163db40b",
    "deepnote_cell_type": "markdown",
    "id": "DljdJw8m0gYC"
   },
   "source": [
    "## 1.5 Plot de Resultados [1 Punto]"
   ]
  },
  {
   "cell_type": "markdown",
   "metadata": {
    "cell_id": "00029-a2d26faa-9a0c-4654-b90a-8afea2987c40",
    "deepnote_cell_type": "markdown",
    "id": "cQAxOM5D08Hl"
   },
   "source": [
    "Llego la hora de visualizar los resultados obtenidos, para esto solo ejecute las siguientes celdas y observe lo que sucede :3. ¿Qué logra observar de los resultados?, ¿La solución resulta trivial?\n",
    "\n",
    "En esta sección esperamos que solo comenten con lo que logran visualizar de los dataframes."
   ]
  },
  {
   "cell_type": "code",
   "execution_count": null,
   "metadata": {
    "cell_id": "00030-9cc49c95-022a-4b99-8e27-0c39de2d0007",
    "colab": {
     "base_uri": "https://localhost:8080/",
     "height": 737
    },
    "deepnote_cell_type": "code",
    "deepnote_output_heights": [
     null,
     611
    ],
    "executionInfo": {
     "elapsed": 390,
     "status": "ok",
     "timestamp": 1624645025761,
     "user": {
      "displayName": "IGNACIO ALEJANDRO MEZA",
      "photoUrl": "",
      "userId": "17011121633069169364"
     },
     "user_tz": 240
    },
    "id": "N5E2mNYXaafI",
    "outputId": "36f8a568-fb8d-4a2b-ff8e-651f206fbe53",
    "scrolled": true
   },
   "outputs": [],
   "source": [
    "###### Código Aquí ######"
   ]
  },
  {
   "cell_type": "markdown",
   "metadata": {
    "cell_id": "00032-d71a3ab5-0048-4d25-a4d8-341d7cab6421",
    "deepnote_cell_type": "markdown",
    "id": "szOjXLKA1Rif"
   },
   "source": [
    "**Respuesta:**"
   ]
  },
  {
   "cell_type": "markdown",
   "metadata": {
    "cell_id": "00033-959c9ac0-1d28-4b75-9d1b-6a404fb2b1da",
    "deepnote_cell_type": "markdown",
    "id": "0F83QdD61Pd1"
   },
   "source": [
    "`Escriba su respuesta aquí`"
   ]
  },
  {
   "cell_type": "markdown",
   "metadata": {
    "cell_id": "00034-99362e55-ff3e-4160-b715-f235e1edf941",
    "deepnote_cell_type": "markdown",
    "id": "Rg4ZMq8ezAH6"
   },
   "source": [
    "<p align=\"center\">\n",
    "  <img src=\"https://media1.tenor.com/images/fb5bf7cc5a4acb91b4177672886a88ba/tenor.gif?itemid=5591338\">\n",
    "</p>"
   ]
  }
 ],
 "metadata": {
  "colab": {
   "collapsed_sections": [],
   "name": "Copia de enunciado_Laboratorio5.ipynb",
   "provenance": []
  },
  "deepnote": {},
  "deepnote_execution_queue": [],
  "deepnote_notebook_id": "5d40e96b-943c-437d-9a87-f692c1b738de",
  "kernelspec": {
   "display_name": "Python 3 (ipykernel)",
   "language": "python",
   "name": "python3"
  },
  "language_info": {
   "codemirror_mode": {
    "name": "ipython",
    "version": 3
   },
   "file_extension": ".py",
   "mimetype": "text/x-python",
   "name": "python",
   "nbconvert_exporter": "python",
   "pygments_lexer": "ipython3",
   "version": "3.9.7"
  },
  "toc": {
   "base_numbering": 1,
   "nav_menu": {},
   "number_sections": true,
   "sideBar": true,
   "skip_h1_title": true,
   "title_cell": "Tabla de Contenidos",
   "title_sidebar": "Contenidos",
   "toc_cell": false,
   "toc_position": {
    "height": "calc(100% - 180px)",
    "left": "10px",
    "top": "150px",
    "width": "241.867px"
   },
   "toc_section_display": true,
   "toc_window_display": true
  },
  "varInspector": {
   "cols": {
    "lenName": 16,
    "lenType": 16,
    "lenVar": 40
   },
   "kernels_config": {
    "python": {
     "delete_cmd_postfix": "",
     "delete_cmd_prefix": "del ",
     "library": "var_list.py",
     "varRefreshCmd": "print(var_dic_list())"
    },
    "r": {
     "delete_cmd_postfix": ") ",
     "delete_cmd_prefix": "rm(",
     "library": "var_list.r",
     "varRefreshCmd": "cat(var_dic_list()) "
    }
   },
   "types_to_exclude": [
    "module",
    "function",
    "builtin_function_or_method",
    "instance",
    "_Feature"
   ],
   "window_display": false
  }
 },
 "nbformat": 4,
 "nbformat_minor": 1
}
