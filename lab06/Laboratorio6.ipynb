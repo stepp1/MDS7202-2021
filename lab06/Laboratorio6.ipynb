{
 "cells": [
  {
   "cell_type": "markdown",
   "metadata": {
    "cell_id": "00000-d883b314-09da-429e-a3a3-57745182fbf1",
    "deepnote_cell_type": "markdown",
    "id": "XUZ1dFPHzAHl"
   },
   "source": [
    "<h1><center>Laboratorio 6: La desperación de Mr. Lepin 🐼</center></h1>\n",
    "\n",
    "<center><strong>MDS7202: Laboratorio de Programación Científica para Ciencia de Datos</strong></center>"
   ]
  },
  {
   "cell_type": "markdown",
   "metadata": {
    "cell_id": "00001-311235ca-1e52-4b99-a8ed-ecc0efb3fddd",
    "deepnote_cell_type": "markdown",
    "id": "UD8X1uhGzAHq"
   },
   "source": [
    "### Cuerpo Docente:\n",
    "\n",
    "- Profesor: Pablo Badilla\n",
    "- Auxiliar: Ignacio Meza D.\n",
    "- Ayudante: Constanza Peña"
   ]
  },
  {
   "cell_type": "markdown",
   "metadata": {
    "cell_id": "00002-6c6c932b-c2ca-4e5c-8f35-4bcf76e99ae9",
    "deepnote_cell_type": "markdown",
    "id": "tXflExjqzAHr"
   },
   "source": [
    "### Equipo: SUPER IMPORTANTE - notebooks sin nombre no serán revisados\n",
    "\n",
    "- Nombre de alumno 1: Victor Faraggi "
   ]
  },
  {
   "cell_type": "markdown",
   "metadata": {
    "cell_id": "00003-78f31a0b-b9ea-415b-b6b1-c31406be9140",
    "deepnote_cell_type": "markdown",
    "id": "AD-V0bbZzAHr"
   },
   "source": [
    "### **Link de repositorio de GitHub:** `https://github.com/stepp1/MDS7202-2021`"
   ]
  },
  {
   "cell_type": "markdown",
   "metadata": {
    "cell_id": "00004-813a4b9f-ec89-4439-9b6e-4d6558759415",
    "deepnote_cell_type": "markdown",
    "id": "EcnsiQMkzAHr"
   },
   "source": [
    "### Indice \n",
    "\n",
    "1. [Temas a tratar](#Temas-a-tratar:)\n",
    "3. [Descripcción del laboratorio](#Descripción-del-laboratorio.)\n",
    "4. [Desarrollo](#Desarrollo)"
   ]
  },
  {
   "cell_type": "markdown",
   "metadata": {
    "cell_id": "00005-30720d0a-a8ea-4112-8a56-7830fced4c1e",
    "deepnote_cell_type": "markdown",
    "id": "6uBLPj1PzAHs"
   },
   "source": [
    "# Temas a tratar\n",
    "\n",
    "- Aplicar Pandas para obtener características de un DataFrame.\n",
    "- Aplicar Pipelines.\n",
    "- Aplicar Clusters sobre un conjunto de datos.\n",
    "\n",
    "## Reglas:\n",
    "\n",
    "- Fecha de entrega: 12/11/2021\n",
    "- **Grupos de 2 personas**\n",
    "- **Ausentes** deberán realizar la actividad solos. \n",
    "- Cualquier duda fuera del horario de clases al foro. Mensajes al equipo docente serán respondidos por este medio.\n",
    "- Prohibidas las copias. \n",
    "- Pueden usar cualquer matrial del curso que estimen conveniente.\n",
    "\n",
    "### Objetivos principales del laboratorio\n",
    "\n",
    "- Comprender y aprovechar las ventajas que nos ofrece la librería `pandas` con respecto a trabajar en Python 'puro'.\n",
    "- Crear nuevas características para entrenar un modelo de clustering.\n",
    "- Comprender como aplicar pipelines de Scikit-Learn para generar procesos más limpios.\n",
    "\n",
    "El laboratorio deberá ser desarrollado sin el uso indiscriminado de iteradores nativos de python (aka \"for\", \"while\"). La idea es que aprendan a exprimir al máximo las funciones optimizadas que nos entrega `numpy`, las cuales vale mencionar, son bastante más eficientes que los iteradores nativos sobre arreglos (*o tensores*)."
   ]
  },
  {
   "cell_type": "markdown",
   "metadata": {
    "cell_id": "00006-0d097eb1-85d1-4f26-8119-593d58e99a79",
    "deepnote_cell_type": "markdown",
    "id": "wrG4gYabzAHs"
   },
   "source": [
    "## Descripción del laboratorio."
   ]
  },
  {
   "cell_type": "markdown",
   "metadata": {
    "cell_id": "00007-b3b99a7c-5696-433b-a20c-3c6acdd9eb76",
    "deepnote_cell_type": "markdown",
    "id": "MhISwri4zAHy"
   },
   "source": [
    "### Importamos librerias utiles 😸"
   ]
  },
  {
   "cell_type": "code",
   "execution_count": 2,
   "metadata": {
    "ExecuteTime": {
     "end_time": "2021-03-29T00:08:16.884674Z",
     "start_time": "2021-03-29T00:08:16.349846Z"
    },
    "cell_id": "00008-147c370f-05a3-40e6-88ce-931f568c02ba",
    "colab": {
     "base_uri": "https://localhost:8080/"
    },
    "deepnote_cell_type": "code",
    "deepnote_to_be_reexecuted": false,
    "executionInfo": {
     "elapsed": 7340,
     "status": "ok",
     "timestamp": 1619926444128,
     "user": {
      "displayName": "IGNACIO ALEJANDRO MEZA",
      "photoUrl": "",
      "userId": "17011121633069169364"
     },
     "user_tz": 240
    },
    "execution_millis": 8517,
    "execution_start": 1635469788590,
    "id": "uyc33dKdzAHy",
    "outputId": "275fee3c-4ef0-4bfb-acb7-e318d613bdce",
    "source_hash": "a3741fd5"
   },
   "outputs": [],
   "source": [
    "# Libreria Core del lab.\n",
    "import numpy as np\n",
    "import pandas as pd\n",
    "import datetime\n",
    "from IPython.display import HTML\n",
    "\n",
    "# Libreria para plotear (En colab esta desactualizado plotly)\n",
    "# !pip install --upgrade plotly\n",
    "import plotly.express as px\n",
    "import plotly.graph_objects as go\n",
    "\n",
    "# Librerias utiles\n",
    "from sklearn.manifold import TSNE\n",
    "from sklearn.cluster import KMeans\n",
    "from sklearn.base import BaseEstimator, TransformerMixin\n",
    "from sklearn.model_selection import train_test_split \n",
    "from sklearn.pipeline import Pipeline\n",
    "from sklearn.compose import ColumnTransformer\n",
    "from sklearn.preprocessing import FunctionTransformer"
   ]
  },
  {
   "cell_type": "code",
   "execution_count": 3,
   "metadata": {
    "cell_id": "00009-8a73dd07-b0c0-471a-8db1-e539107fe785",
    "deepnote_cell_type": "code",
    "deepnote_to_be_reexecuted": false,
    "execution_millis": 7,
    "execution_start": 1635165625274,
    "id": "gQ0-zPV4NNrq",
    "source_hash": "c60dc4a7"
   },
   "outputs": [
    {
     "name": "stdout",
     "output_type": "stream",
     "text": [
      "Ignorando conexión drive-colab\n"
     ]
    }
   ],
   "source": [
    "# Si usted está utilizando Colabolatory le puede ser útil este código para cargar los archivos.\n",
    "try:\n",
    "    from google.colab import drive\n",
    "    drive.mount(\"/content/drive\")\n",
    "    path = 'Dirección donde tiene los archivos en el Drive'\n",
    "except: \n",
    "    print('Ignorando conexión drive-colab')"
   ]
  },
  {
   "cell_type": "markdown",
   "metadata": {
    "cell_id": "00011-44ff4b7f-0721-4a5a-91cf-0fed38291eb2",
    "deepnote_cell_type": "markdown",
    "id": "QDwIXTh7bK_A"
   },
   "source": [
    "# Segmentación de Clientes en Tienda de Retail 🛍️"
   ]
  },
  {
   "cell_type": "markdown",
   "metadata": {
    "cell_id": "00012-3f997299-ad75-4cd4-80b4-839d33c07b2a",
    "deepnote_cell_type": "markdown",
    "tags": []
   },
   "source": [
    "<p align=\"center\">\n",
    "  <img width=300 src=\"https://s1.eestatic.com/2018/04/14/social/la_jungla_-_social_299733421_73842361_854x640.jpg\">\n",
    "</p>"
   ]
  },
  {
   "cell_type": "markdown",
   "metadata": {
    "cell_id": "00013-21aecb33-d28d-4fcb-93db-67307326ab2b",
    "deepnote_cell_type": "markdown",
    "tags": []
   },
   "source": [
    "## 1.1 Cargar Dataset"
   ]
  },
  {
   "cell_type": "markdown",
   "metadata": {
    "cell_id": "00014-bfeb4dba-666e-4613-af4b-c609a72df95e",
    "deepnote_cell_type": "markdown",
    "tags": []
   },
   "source": [
    "Mr. Lepin, en una nueva reunión, le cuenta a ud y su equipo que los resultados derivados del análisis exploratorio de dato presentaron una gran utilidad para la empresa y que tiene un gran entusiasmo por continuar trabajando con ustedes.\n",
    "Es por esto, que Mr. Lepin les pide que cargue y visualicen algunas de las filas que componen el Dataset.\n",
    "A continuación un extracto de lo parlamentado en la reunión:\n",
    "\n",
    "    - Usted: Es un gran logro para nuestro equipo que usted haya encontrado excelente el EDA. ¿Qué tiene en mente ahora?\n",
    "    - Mr. Lepin: Resulta que hace algún tiempo, mientras tomaba un mojito en una reunión de gerentes en Panamá, oí a un *chato* acerca de **LRMFP**, que es un modelo que permite personificar a los clientes a través de la farbicación de distintos atributos que describen a los clientes. Lo encontré es-tu-pendo ñatito. \n",
    "    - Usted: Ehh bueno. Investigaremos acerca de este modelo y veremos lo que podemos hacer.\n",
    "\n",
    "Por ende, su siguiente tarea es calcular **LRMFP** sobre cada cliente y luego hacer un análisis de las características generadas. Para esto, el área de ventas les entrega un nuevo archivo llamado `online_retail_II_cleaned.pickle`, quien posee los datos del DataFrame original limpios y listos para obtener las características solicitadas por Mr. Lepin."
   ]
  },
  {
   "cell_type": "code",
   "execution_count": 4,
   "metadata": {
    "cell_id": "00015-9f304f85-cc91-43d5-b9e0-e16decca6cd0",
    "colab": {
     "base_uri": "https://localhost:8080/",
     "height": 204
    },
    "deepnote_cell_type": "code",
    "deepnote_to_be_reexecuted": false,
    "executionInfo": {
     "elapsed": 77353,
     "status": "ok",
     "timestamp": 1619717831933,
     "user": {
      "displayName": "IGNACIO ALEJANDRO MEZA",
      "photoUrl": "",
      "userId": "17011121633069169364"
     },
     "user_tz": 240
    },
    "execution_millis": 466,
    "execution_start": 1635469797118,
    "id": "7FNOu-CvjV5m",
    "outputId": "90b4f92c-71df-44d4-8084-4dd06a6179e4",
    "source_hash": "d52b246c"
   },
   "outputs": [
    {
     "data": {
      "text/html": [
       "<div>\n",
       "<style scoped>\n",
       "    .dataframe tbody tr th:only-of-type {\n",
       "        vertical-align: middle;\n",
       "    }\n",
       "\n",
       "    .dataframe tbody tr th {\n",
       "        vertical-align: top;\n",
       "    }\n",
       "\n",
       "    .dataframe thead th {\n",
       "        text-align: right;\n",
       "    }\n",
       "</style>\n",
       "<table border=\"1\" class=\"dataframe\">\n",
       "  <thead>\n",
       "    <tr style=\"text-align: right;\">\n",
       "      <th></th>\n",
       "      <th>Invoice</th>\n",
       "      <th>StockCode</th>\n",
       "      <th>Description</th>\n",
       "      <th>Quantity</th>\n",
       "      <th>InvoiceDate</th>\n",
       "      <th>Price</th>\n",
       "      <th>Customer ID</th>\n",
       "      <th>Country</th>\n",
       "    </tr>\n",
       "  </thead>\n",
       "  <tbody>\n",
       "    <tr>\n",
       "      <th>0</th>\n",
       "      <td>489434</td>\n",
       "      <td>85048</td>\n",
       "      <td>15CM CHRISTMAS GLASS BALL 20 LIGHTS</td>\n",
       "      <td>12</td>\n",
       "      <td>2009-12-01 07:45:00</td>\n",
       "      <td>6.95</td>\n",
       "      <td>13085.0</td>\n",
       "      <td>United Kingdom</td>\n",
       "    </tr>\n",
       "    <tr>\n",
       "      <th>1</th>\n",
       "      <td>489434</td>\n",
       "      <td>79323P</td>\n",
       "      <td>PINK CHERRY LIGHTS</td>\n",
       "      <td>12</td>\n",
       "      <td>2009-12-01 07:45:00</td>\n",
       "      <td>6.75</td>\n",
       "      <td>13085.0</td>\n",
       "      <td>United Kingdom</td>\n",
       "    </tr>\n",
       "    <tr>\n",
       "      <th>2</th>\n",
       "      <td>489434</td>\n",
       "      <td>79323W</td>\n",
       "      <td>WHITE CHERRY LIGHTS</td>\n",
       "      <td>12</td>\n",
       "      <td>2009-12-01 07:45:00</td>\n",
       "      <td>6.75</td>\n",
       "      <td>13085.0</td>\n",
       "      <td>United Kingdom</td>\n",
       "    </tr>\n",
       "    <tr>\n",
       "      <th>3</th>\n",
       "      <td>489434</td>\n",
       "      <td>22041</td>\n",
       "      <td>RECORD FRAME 7\" SINGLE SIZE</td>\n",
       "      <td>48</td>\n",
       "      <td>2009-12-01 07:45:00</td>\n",
       "      <td>2.10</td>\n",
       "      <td>13085.0</td>\n",
       "      <td>United Kingdom</td>\n",
       "    </tr>\n",
       "    <tr>\n",
       "      <th>4</th>\n",
       "      <td>489434</td>\n",
       "      <td>21232</td>\n",
       "      <td>STRAWBERRY CERAMIC TRINKET BOX</td>\n",
       "      <td>24</td>\n",
       "      <td>2009-12-01 07:45:00</td>\n",
       "      <td>1.25</td>\n",
       "      <td>13085.0</td>\n",
       "      <td>United Kingdom</td>\n",
       "    </tr>\n",
       "  </tbody>\n",
       "</table>\n",
       "</div>"
      ],
      "text/plain": [
       "  Invoice StockCode                          Description  Quantity  \\\n",
       "0  489434     85048  15CM CHRISTMAS GLASS BALL 20 LIGHTS        12   \n",
       "1  489434    79323P                   PINK CHERRY LIGHTS        12   \n",
       "2  489434    79323W                  WHITE CHERRY LIGHTS        12   \n",
       "3  489434     22041         RECORD FRAME 7\" SINGLE SIZE         48   \n",
       "4  489434     21232       STRAWBERRY CERAMIC TRINKET BOX        24   \n",
       "\n",
       "          InvoiceDate  Price Customer ID         Country  \n",
       "0 2009-12-01 07:45:00   6.95     13085.0  United Kingdom  \n",
       "1 2009-12-01 07:45:00   6.75     13085.0  United Kingdom  \n",
       "2 2009-12-01 07:45:00   6.75     13085.0  United Kingdom  \n",
       "3 2009-12-01 07:45:00   2.10     13085.0  United Kingdom  \n",
       "4 2009-12-01 07:45:00   1.25     13085.0  United Kingdom  "
      ]
     },
     "execution_count": 4,
     "metadata": {},
     "output_type": "execute_result"
    }
   ],
   "source": [
    "df_retail = pd.read_pickle(\"online_retail_II_cleaned.pickle\")\n",
    "df_retail = df_retail.astype(\n",
    "    {\n",
    "        \"Invoice\": \"category\",\n",
    "        \"StockCode\": \"category\",\n",
    "        \"Description\": \"category\",\n",
    "        \"Description\": str,\n",
    "        \"Customer ID\": \"category\",\n",
    "        \"Country\": \"category\"\n",
    "    }\n",
    ")\n",
    "df_retail.head()\n"
   ]
  },
  {
   "cell_type": "markdown",
   "metadata": {
    "cell_id": "00016-245c3eeb-d33d-4da1-b738-a91d4e055fa1",
    "deepnote_cell_type": "markdown",
    "tags": []
   },
   "source": [
    "## 1.2 Creación de nuevas Caracteristicas [2 Puntos] "
   ]
  },
  {
   "cell_type": "markdown",
   "metadata": {
    "cell_id": "00017-011b89ed-d830-4f8e-9e4d-2c8d156651c3",
    "deepnote_cell_type": "markdown",
    "tags": []
   },
   "source": [
    "Como ya se les comento, Mr. Lepin esta interesado en obtener las características **LRMFP**, para esto les señala que estas características se construyen en base a las siguientes definiciones:\n",
    "\n",
    "- **Length (L)**: Intervalo de tiempo, en días, entre la primera y la última visita del cliente. Mientras mas grande sea el valor, mas fiel es el cliente.\n",
    "- **Recency (R)**: Indica la actualidad de la interacción de un cliente con la empresa, y da información sobre la tendencia a repetir la compra. Se define como: \n",
    "$$Recency(n)=\\dfrac{1}{n} \\sum^n_{i=1} date\\_diff(t_{fecha final}, t_{m-i+1})$$\n",
    "\n",
    " Donde $date\\_diff$ representa la diferencia en días entre la fecha de finalización del periodo de observación ($t_{fecha final}$), y la fecha de una visita del cliente cercana a $t_{fecha final}$, $t_{m-i+1}; t_{m}$ es la última visita del cliente; y n es el número de visitas recientes del cliente consideradas.\n",
    "\n",
    "- **Monetary (M)**: El término \"monetario\" se refiere a la cantidad media de dinero gastada por cada visita del cliente durante el período de observación y refleja la contribución del cliente a los ingresos de la empresa.\n",
    "\n",
    "- **Frequency (F)**: Se refiere al número total de visitas del cliente durante el periodo de observación. Cuanto mayor sea la frecuencia, mayor será la fidelidad del cliente. \n",
    "\n",
    "- **Periodicity (P)**: Representa si los clientes visitan las tiendas con regularidad.\n",
    "\n",
    "$$Periodicity(n)=std(IVT_1, ..., IVT_n)$$\n",
    "\n",
    "&nbsp;&nbsp; &nbsp;&nbsp;&nbsp;&nbsp;&nbsp;&nbsp;Donde $IVT$ denota el tiempo entre visitas y n representa el número de valores de tiempo entre visitas de un cliente.\n",
    " \n",
    "\n",
    "$$IVT_i=date\\_diff(t_{i+1},t)$$\n",
    "\n",
    "En base a las definiciones señaladas, diseñe una función que permita obtener las características **LRMFP** recibiendo un DataFrame como entrada. Para esto, no estará permitido el uso de iteradores, utilice todas las herramientas que les ofrece `pandas` para realizar esto.\n",
    "\n",
    "Una referencia que le puede ser útil es el [documento original](https://www.researchgate.net/publication/315979555_LRFMP_model_for_customer_segmentation_in_the_grocery_retail_industry_a_case_study) en donde se propone este método.\n",
    "\n",
    "**Nota:** Para la $fechafinal$ utilice la fecha máxima del dataset más 1 día."
   ]
  },
  {
   "cell_type": "markdown",
   "metadata": {
    "cell_id": "00018-24bac8c8-bd63-41ac-8e0f-de55e02c56f0",
    "deepnote_cell_type": "markdown",
    "tags": []
   },
   "source": [
    "**Ejemplo de Resultado Esperado:**\n",
    "\n",
    "| Customer ID | Length | Recency | Frequency | Monetary | Periodicity |\n",
    "|------------:|-------:|--------:|----------:|---------:|------------:|\n",
    "|   12346.0   |    294 |      67 |        46 |   -64.68 |        37.0 |\n",
    "|   12347.0   |     37 |       3 |        71 |  1323.32 |         0.0 |\n",
    "|   12349.0   |    327 |      43 |       107 |  2646.99 |        78.0 |\n",
    "|   12352.0   |     16 |      11 |        18 |   343.80 |         0.0 |\n",
    "|   12356.0   |     44 |      16 |        84 |  3562.25 |        12.0 |"
   ]
  },
  {
   "cell_type": "markdown",
   "metadata": {
    "cell_id": "00019-0bbd888f-87e7-49f7-a5d5-81564c13fe16",
    "deepnote_cell_type": "markdown",
    "tags": []
   },
   "source": [
    "**Respuesta:**"
   ]
  },
  {
   "cell_type": "code",
   "execution_count": 45,
   "metadata": {
    "cell_id": "00020-1a24ff7c-fd2f-416e-8275-2107b7dc2a78",
    "deepnote_cell_type": "code",
    "tags": []
   },
   "outputs": [],
   "source": [
    "def date_diff(dmax, dmin):\n",
    "    \"\"\"\n",
    "    Calcula la diferencia entre dos fechas\n",
    "    \"\"\"\n",
    "    return (dmax - dmin).days\n",
    "\n",
    "def date_diff_s(dmax_s, dmin_s):\n",
    "    \"\"\"\n",
    "    Calcula la diferencia en dias entre dos series de fechas\n",
    "    \"\"\"\n",
    "    return (dmax_s - dmin_s).dt.days\n",
    "\n",
    "def compute_length(df: pd.DataFrame) -> pd.Series:\n",
    "    \"\"\"\n",
    "    Intervalo de tiempo, en dias, entre la primera y la ultima visita del cliente\n",
    "    \"\"\"\n",
    "    groupped_df = df.groupby(by=\"Customer ID\") # sorts by id\n",
    "    last_date_s = groupped_df[\"InvoiceDate\"].max()\n",
    "    first_date_s = groupped_df[\"InvoiceDate\"].min()\n",
    "    \n",
    "    interval = date_diff_s(last_date_s, first_date_s)\n",
    "    return interval\n",
    "    \n",
    "def compute_recency(df: pd.DataFrame) -> pd.Series:\n",
    "    \"\"\"\n",
    "    Actualidad de interaccion e informa tendencia a repetir la compra.\n",
    "    \n",
    "    Se calcula de acuerdo a:\n",
    "    $Recency(n)=\\dfrac{1}{n} \\sum^n_{i=1} date\\_diff(t_{fecha final}, t_{m-i+1})$\n",
    "    \"\"\"\n",
    "    last_date = df[\"InvoiceDate\"].max() + timedelta(1)\n",
    "    groupped_df = df.groupby(by=\"Customer ID\") # sorts by id\n",
    "    \n",
    "    last_interaction_s = groupped_df[\"InvoiceDate\"].max()\n",
    "    recency = date_diff_s(last_date, last_interaction)\n",
    "    return recency\n",
    "    \n",
    "    \n",
    "def compute_monetary(df: pd.DataFrame) -> pd.Series:\n",
    "    \"\"\"\n",
    "    Cantidad media de dinero gastada por cada visita\n",
    "    \"\"\"\n",
    "    \n",
    "def compute_frequency(df: pd.DataFrame) -> pd.Series:\n",
    "    \"\"\"\n",
    "    Numero total de visitas del cliente durante el periodo de observacion\n",
    "    \"\"\"\n",
    "    \n",
    "def compute_periodicity(df: pd.DataFrame) -> pd.Series:\n",
    "    \"\"\"\n",
    "    Si los clientes visitan las tiendas con regularidad.\n",
    "    \n",
    "    Se calcula de acuerdo a:\n",
    "    $$Periodicity(n)=std(IVT_1, ..., IVT_n)$$\n",
    "    \n",
    "    $$IVT_i=date\\_diff(t_{i+1},t)$$\n",
    "    \"\"\"\n",
    "    \n",
    "\n",
    "def custom_features(dataframe_in: pd.DataFrame) -> pd.DataFrame::\n",
    "    \"\"\"\n",
    "    Computa y agrega las caracteristicas Length, Recency,\n",
    "    Frequency, Monetary, Periodicity al dataframe.\n",
    "    \n",
    "    Parameters:\n",
    "    ----------\n",
    "        datarame_in: pd.DataFrame\n",
    "            dataframe con las columnas Quantity, InvoiceDate, Price\n",
    "    \n",
    "    Returns:\n",
    "    -------\n",
    "        dataframe_out: pd.DataFrame\n",
    "            dataframe con las caracteristicas LRMFP\n",
    "    \"\"\"\n",
    "    dataframe_out = pd.DataFrame()\n",
    "    dataframe_out[\"Customer ID\"] = dataframe_in[\"Customer ID\"].nunique().sort_values(by=\"Customer ID\")\n",
    "    \n",
    "    # compute Length\n",
    "    dataframe_out[\"Length\"] = compute_length(df_retail)\n",
    "    # compute Recency\n",
    "    dataframe_out[\"Recency\"] = compute_recency(df_retail)\n",
    "    # compute Monetary\n",
    "    # compute Frequency\n",
    "    # compute Periodicity"
   ]
  },
  {
   "cell_type": "code",
   "execution_count": 30,
   "metadata": {
    "scrolled": false
   },
   "outputs": [
    {
     "data": {
      "text/plain": [
       "<pandas.core.indexes.accessors.TimedeltaProperties object at 0x7fc8fcdbb5b0>"
      ]
     },
     "execution_count": 30,
     "metadata": {},
     "output_type": "execute_result"
    }
   ],
   "source": [
    "groupped_df = df_retail.groupby(by=\"Customer ID\")\n",
    "\n",
    "\n",
    "\n",
    "( - groupped_df[\"InvoiceDate\"].min())."
   ]
  },
  {
   "cell_type": "markdown",
   "metadata": {
    "cell_id": "00021-7a165a57-848e-4404-870f-cdaba339a9d8",
    "deepnote_cell_type": "markdown",
    "tags": []
   },
   "source": [
    "**Resúesta de Pauta:**"
   ]
  },
  {
   "cell_type": "markdown",
   "metadata": {
    "cell_id": "00024-d2150b7a-431a-4480-a6b3-801f31c9e464",
    "deepnote_cell_type": "markdown",
    "tags": []
   },
   "source": [
    "## 1.3 Pipelines 👷"
   ]
  },
  {
   "cell_type": "markdown",
   "metadata": {
    "cell_id": "00025-34c61ca0-c2da-4708-90a6-d8a6919da07b",
    "deepnote_cell_type": "markdown",
    "tags": []
   },
   "source": [
    "Finalmente *Don Mora* le pregunta si seria posible realizar un pipeline para realizar una segmentación de los clientes con los nuevos datos generados, a lo que usted responde que **sí** y propone la utilización de k-means para la segmentación.\n",
    "\n",
    "A continuación siga los pasos requeridos para obtener la segmentación de clientes."
   ]
  },
  {
   "cell_type": "markdown",
   "metadata": {
    "cell_id": "00026-f8effaef-07fa-40a9-a9cc-1b2f7f4bc137",
    "deepnote_cell_type": "markdown",
    "tags": []
   },
   "source": [
    "### 1.3.1 Estandarizar Caracteristicas [0.5 puntos]"
   ]
  },
  {
   "cell_type": "markdown",
   "metadata": {
    "cell_id": "00027-278c72d0-3d92-448e-85a2-af5dab7d6d77",
    "deepnote_cell_type": "markdown",
    "tags": []
   },
   "source": [
    "Construya una clase llamada ``MinMax()`` utilizando ``BaseEstimator`` y ``TransformerMixin`` para realizar una transformación de cada una de las columnas de un DataFrame utilizando ``ColumnTransformer()`` más tarde (tome como referencia el siguiente [enlace](https://sklearn-template.readthedocs.io/en/latest/user_guide.html#transformer)).\n",
    "\n",
    "\n",
    " Para esto considere que Min-Max escaler queda dada por la ecuación:\n",
    "\n",
    "$$MinMax = \\dfrac{x-min(x)}{max(x) - min(x)}$$\n",
    "\n",
    "Con esto buscamos que los valores que componen a las columnas se muevan en el rango de valores $[0, 1]$."
   ]
  },
  {
   "cell_type": "markdown",
   "metadata": {
    "cell_id": "00028-db77257b-6ecc-4dee-9f70-4f105e6aba42",
    "deepnote_cell_type": "markdown",
    "tags": []
   },
   "source": [
    "**Respuesta:**"
   ]
  },
  {
   "cell_type": "code",
   "execution_count": null,
   "metadata": {
    "cell_id": "00029-b78cc7d2-05a8-4f86-a882-02e13ae67762",
    "deepnote_cell_type": "code",
    "tags": []
   },
   "outputs": [],
   "source": [
    "class MinMax(BaseEstimator, TransformerMixin):\n",
    "    pass"
   ]
  },
  {
   "cell_type": "markdown",
   "metadata": {
    "cell_id": "00032-0ca1a5f5-1aab-4290-a8d4-b19be46f81ff",
    "deepnote_cell_type": "markdown",
    "tags": []
   },
   "source": [
    "### 1.3.2 `T-SNA` Pipeline [1.0 puntos]"
   ]
  },
  {
   "cell_type": "markdown",
   "metadata": {
    "cell_id": "00033-5056169a-b068-46d2-ad1b-8b7659ab956c",
    "deepnote_cell_type": "markdown",
    "tags": []
   },
   "source": [
    "Para comenzar introduciéndose en el uso de pipeline, decide probar realizando un pipeline enfocado en la reducción de dimensionalidad y así hacer no decepcionar a Mr. Lepin con la clusterización del modelo. \n",
    "\n",
    "Configure un pipeline utilizando el algoritmo `T-SNE` sobre los datos **LRMFP**, donde, para la realización del pipeline considera los siguientes pasos:\n",
    "\n",
    "1. Como primer paso obtenga las características **LRMFP** desde el DataFrame ``df_retail_II_cleaned.pickle`` utilizando la función ``custom_features`` creada anteriormente, junto a ``FunctionTransformer()``. Considere esto como el primer paso de su pipeline.\n",
    "2. En segundo lugar usando ``ColumnTransformer()`` aplique el MinxMax scaler creado por usted sobre todas las columnas generadas en el paso anterior. \n",
    "3. Finalmente, aplique un último paso donde obtiene las 2 componentes más relevantes utilizando el algoritmo T-sne de sckit-learn.\n",
    "\n",
    "Tras aplicar las transformaciones sobre el dataset **LRMFP**, gráfique las componentes obtenidas en la reducción de dimensionalidad."
   ]
  },
  {
   "cell_type": "markdown",
   "metadata": {
    "cell_id": "00034-eb18fbe8-72dd-496b-9f30-16cfb3ab5558",
    "deepnote_cell_type": "markdown",
    "tags": []
   },
   "source": [
    "**Respuesta:**"
   ]
  },
  {
   "cell_type": "code",
   "execution_count": null,
   "metadata": {
    "cell_id": "00035-8231e7d2-13c6-45ec-9b9d-e9ecc8c27d94",
    "deepnote_cell_type": "code",
    "tags": []
   },
   "outputs": [],
   "source": []
  },
  {
   "cell_type": "markdown",
   "metadata": {
    "cell_id": "00040-719e872a-f25c-422d-ac77-28a5cd88d28c",
    "deepnote_cell_type": "markdown",
    "tags": []
   },
   "source": [
    "### 1.3.3 Clustering"
   ]
  },
  {
   "cell_type": "markdown",
   "metadata": {
    "cell_id": "00041-8ddce401-e8d1-498d-bd79-e6d3f11d9174",
    "deepnote_cell_type": "markdown",
    "tags": []
   },
   "source": [
    "#### 1.3.3.1 Método del Codo [1 puntos]"
   ]
  },
  {
   "cell_type": "markdown",
   "metadata": {
    "cell_id": "00042-b4254feb-88f4-4a6c-8556-e11b1b5911d0",
    "deepnote_cell_type": "markdown",
    "tags": []
   },
   "source": [
    "Utilizando la clase creada para escalamiento, aplique el método del codo para visualizar cual es el número de clusters que mejor se ajustan a los datos. Realice esto utilizando el algoritmo K-means dentro de un pipeline para un $k \\in [1,20]$, donde k representa el número de clusters del k-means. Para la realización de esta sección y la próxima (1.3.3.2), considere los mismos pasos utilizados para el t-sne, pero permutando el algoritmo de reducción de dimensionalidad por k-means.\n",
    "\n",
    "A través del grafico obtenido, comente y justifique que valor de k escogería para realizar el k-means."
   ]
  },
  {
   "cell_type": "markdown",
   "metadata": {
    "cell_id": "00035-bbbef3bf-d15b-48e5-a4bb-cd9234b57e0f",
    "deepnote_cell_type": "markdown",
    "tags": []
   },
   "source": [
    "**Respuesta:**"
   ]
  },
  {
   "cell_type": "code",
   "execution_count": null,
   "metadata": {
    "cell_id": "00035-f3c2ae6a-fc69-41da-b714-076734e1845e",
    "deepnote_cell_type": "code",
    "tags": []
   },
   "outputs": [],
   "source": []
  },
  {
   "cell_type": "markdown",
   "metadata": {
    "cell_id": "00044-df589bc4-557f-423c-9487-748b15b95e60",
    "deepnote_cell_type": "markdown",
    "tags": []
   },
   "source": [
    "#### 1.3.3.2 Segmentación de Clientes con K-Means 🎁 [1 punto]"
   ]
  },
  {
   "cell_type": "markdown",
   "metadata": {
    "cell_id": "00045-eb892d43-2d7d-49a0-8002-164dcb56e1e1",
    "deepnote_cell_type": "markdown",
    "tags": []
   },
   "source": [
    "En base a la elección de k realizada en la sección anterior, utilice este valor escogido y entrene un modelo de K-means utilizando el mismo pipeline de scikit-learn utilizado anteriormente.\n",
    "\n",
    "Una vez ajustado los datos, genere una tabla con los promedios (o medianas) para cada uno de los atributos, agrupando estos por el clúster que pertenecen. ¿Es posible observar agrupaciones coherentes?, ¿Qué tipo de clientes posee el retail?, Justifique su respuesta y no decepcione a Mr. Lepin.\n"
   ]
  },
  {
   "cell_type": "markdown",
   "metadata": {
    "cell_id": "00046-e66d7746-b52e-4c05-b1b4-b89934c4c92c",
    "deepnote_cell_type": "markdown",
    "tags": []
   },
   "source": [
    "**Respuesta:**"
   ]
  },
  {
   "cell_type": "code",
   "execution_count": null,
   "metadata": {
    "cell_id": "00047-48846aeb-9c0c-454e-b45c-dac210f5a007",
    "deepnote_cell_type": "code",
    "tags": []
   },
   "outputs": [],
   "source": []
  },
  {
   "cell_type": "markdown",
   "metadata": {
    "cell_id": "00053-4802e3b0-f4e2-4235-909a-43e607f46997",
    "deepnote_cell_type": "markdown",
    "tags": []
   },
   "source": [
    "**Respuesta Esperada:**\n",
    "\n",
    "|         | Length  | Recency   | Frequency | Monetary | Periodicity |       |\n",
    "|---------|---------|-----------|----------|-------------|-------|-------|\n",
    "| Cluster |         |           |          |             |       |       |\n",
    "|    0    |   258.8 |      45.2 |     76.1 |      1107.7 | 107.6 |   449 |\n",
    "|    1    |    76.1 |     217.6 |     45.5 |       791.7 |  14.1 |   466 |\n",
    "|    2    |   368.5 |       4.8 |   2715.0 |    226621.6 |   4.2 |     4 |\n",
    "|    3    |    85.3 |      45.7 |     65.8 |      1047.0 |  10.5 |   987 |\n",
    "|    4    |   347.2 |      15.9 |   1658.0 |     35829.3 |   8.0 |    25 |\n",
    "|    5    |   298.0 |      29.8 |    183.8 |      3639.9 |  32.0 |  1188 |"
   ]
  },
  {
   "cell_type": "markdown",
   "metadata": {
    "cell_id": "00042-95fcbe7f-ad2e-4116-92da-49ae755a4311",
    "deepnote_cell_type": "markdown",
    "tags": []
   },
   "source": [
    "#### 1.3.3.3 Plot de K-Means 📈 [0.5 puntos]\n",
    "\n"
   ]
  },
  {
   "cell_type": "markdown",
   "metadata": {
    "cell_id": "00043-33a035f7-7aaf-4aad-98a2-0c4295fa136f",
    "deepnote_cell_type": "markdown",
    "tags": []
   },
   "source": [
    "Por último, Mr. Lepin, impaciente de no entender lo que usted intenta explicarle, le solicita que por favor muestre algún resultado \"visual\" de los grupos encontrados.\n",
    "\n",
    "Para esto, grafique nuevamente las características encontradas usando `T-SNE` (no calcule de nuevo, simplemente utilice las proyecciones encontradas) y agregue las labels calculadas con kmeans como el argumento `color`.   \n",
    "\n",
    "Comente: ¿Se separan bien los distintos clusters en la visualización?\n"
   ]
  },
  {
   "cell_type": "markdown",
   "metadata": {
    "cell_id": "00044-d04e1a07-81ac-4440-9cf0-65f9f8dd6a8c",
    "deepnote_cell_type": "markdown",
    "tags": []
   },
   "source": [
    "**Respuesta:**"
   ]
  },
  {
   "cell_type": "code",
   "execution_count": null,
   "metadata": {
    "cell_id": "00043-f95cb727-b787-474b-845d-b3d85199bea9",
    "deepnote_cell_type": "code",
    "tags": []
   },
   "outputs": [],
   "source": []
  },
  {
   "cell_type": "markdown",
   "metadata": {
    "cell_id": "00054-62f72afd-24c1-45b9-b80c-8b252273717c",
    "deepnote_cell_type": "markdown",
    "id": "Rg4ZMq8ezAH6"
   },
   "source": [
    "# Conclusión\n",
    "Eso ha sido todo para el lab de hoy, recuerden que el laboratorio tiene un plazo de entrega de una semana y que **los días de atraso no se pueden utilizar para entregas de lab** solo para tareas. Cualquier duda del laboratorio, no duden en contactarnos por mail o U-cursos.\n",
    "\n",
    "![Gracias Totales!](https://i.pinimg.com/originals/65/ae/27/65ae270df87c3c4adcea997e48f60852.gif \"bruno\")\n"
   ]
  },
  {
   "cell_type": "markdown",
   "metadata": {
    "cell_id": "00055-fea25dcb-f3c3-4a66-9ca6-5d64924d7396",
    "deepnote_cell_type": "markdown",
    "id": "wCL1lACBzAH7"
   },
   "source": [
    "<br>\n",
    "<center>\n",
    "<img src=\"https://i.kym-cdn.com/photos/images/original/001/194/195/b18.png\" width=100 height=50 />\n",
    "</center>\n",
    "<br>"
   ]
  },
  {
   "cell_type": "markdown",
   "metadata": {
    "created_in_deepnote_cell": true,
    "deepnote_cell_type": "markdown",
    "tags": []
   },
   "source": [
    "<a style='text-decoration:none;line-height:16px;display:flex;color:#5B5B62;padding:10px;justify-content:end;' href='https://deepnote.com?utm_source=created-in-deepnote-cell&projectId=87110296-876e-426f-b91d-aaf681223468' target=\"_blank\">\n",
    "<img alt='Created in deepnote.com' style='display:inline;max-height:16px;margin:0px;margin-right:7.5px;' src='data:image/svg+xml;base64,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' > </img>\n",
    "Created in <span style='font-weight:600;margin-left:4px;'>Deepnote</span></a>"
   ]
  }
 ],
 "metadata": {
  "colab": {
   "collapsed_sections": [
    "Rcjs-dd1V-1u",
    "dkyp81nkBghF",
    "THmFfYs1AhAW"
   ],
   "name": "Copia de Tarea1.ipynb",
   "provenance": [],
   "toc_visible": true
  },
  "deepnote": {},
  "deepnote_execution_queue": [],
  "deepnote_notebook_id": "6bca2ca1-e14e-4a2d-8402-3bcc01d1af35",
  "kernelspec": {
   "display_name": "Python 3 (ipykernel)",
   "language": "python",
   "name": "python3"
  },
  "language_info": {
   "codemirror_mode": {
    "name": "ipython",
    "version": 3
   },
   "file_extension": ".py",
   "mimetype": "text/x-python",
   "name": "python",
   "nbconvert_exporter": "python",
   "pygments_lexer": "ipython3",
   "version": "3.9.9"
  },
  "toc": {
   "base_numbering": 1,
   "nav_menu": {},
   "number_sections": true,
   "sideBar": true,
   "skip_h1_title": true,
   "title_cell": "Tabla de Contenidos",
   "title_sidebar": "Contenidos",
   "toc_cell": false,
   "toc_position": {
    "height": "calc(100% - 180px)",
    "left": "10px",
    "top": "150px",
    "width": "241.867px"
   },
   "toc_section_display": true,
   "toc_window_display": true
  },
  "varInspector": {
   "cols": {
    "lenName": 16,
    "lenType": 16,
    "lenVar": 40
   },
   "kernels_config": {
    "python": {
     "delete_cmd_postfix": "",
     "delete_cmd_prefix": "del ",
     "library": "var_list.py",
     "varRefreshCmd": "print(var_dic_list())"
    },
    "r": {
     "delete_cmd_postfix": ") ",
     "delete_cmd_prefix": "rm(",
     "library": "var_list.r",
     "varRefreshCmd": "cat(var_dic_list()) "
    }
   },
   "types_to_exclude": [
    "module",
    "function",
    "builtin_function_or_method",
    "instance",
    "_Feature"
   ],
   "window_display": false
  }
 },
 "nbformat": 4,
 "nbformat_minor": 1
}
