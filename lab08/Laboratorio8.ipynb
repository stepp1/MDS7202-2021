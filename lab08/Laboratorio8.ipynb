{
 "cells": [
  {
   "cell_type": "markdown",
   "metadata": {
    "cell_id": "00000-7111e3ae-b60e-4569-b774-a13ef1b95f77",
    "deepnote_cell_type": "markdown",
    "id": "XUZ1dFPHzAHl"
   },
   "source": [
    "<h1><center>Laboratorio 8: ¿Superhéroe o Villano? 🦸</center></h1>\n",
    "\n",
    "<center><strong>MDS7202: Laboratorio de Programación Científica para Ciencia de Datos</strong></center>"
   ]
  },
  {
   "cell_type": "markdown",
   "metadata": {
    "cell_id": "00001-988ebcea-7685-4ad4-968d-5530ff0099a7",
    "deepnote_cell_type": "markdown",
    "id": "UD8X1uhGzAHq"
   },
   "source": [
    "### Cuerpo Docente:\n",
    "\n",
    "- Profesor: Pablo Badilla\n",
    "- Auxiliar: Ignacio Meza D.\n",
    "- Ayudante: Constanza Peña"
   ]
  },
  {
   "cell_type": "markdown",
   "metadata": {
    "cell_id": "00002-038ebafa-6641-4c2a-b2e8-62ad2018b88e",
    "deepnote_cell_type": "markdown",
    "id": "tXflExjqzAHr"
   },
   "source": [
    "### Equipo: SUPER IMPORTANTE - notebooks sin nombre no serán revisados\n",
    "\n",
    "- Nombre de alumno 1: Victor Faraggi V."
   ]
  },
  {
   "cell_type": "markdown",
   "metadata": {
    "cell_id": "00003-913d0cc4-e146-4ff9-a0e3-26a20c808d7c",
    "deepnote_cell_type": "markdown",
    "id": "AD-V0bbZzAHr"
   },
   "source": [
    "### **Link de repositorio de GitHub:** `https://github.com/stepp1/MDS7202-2021`"
   ]
  },
  {
   "cell_type": "markdown",
   "metadata": {
    "cell_id": "00004-e5841000-37dc-494f-a9b8-3c30765c243a",
    "deepnote_cell_type": "markdown",
    "id": "EcnsiQMkzAHr"
   },
   "source": [
    "### Indice \n",
    "\n",
    "1. [Temas a tratar](#Temas-a-tratar:)\n",
    "3. [Descripcción del laboratorio](#Descripción-del-laboratorio.)\n",
    "4. [Desarrollo](#Desarrollo)"
   ]
  },
  {
   "cell_type": "markdown",
   "metadata": {
    "cell_id": "00005-64f7c2d0-4287-4f3a-9b4b-2c5b829f606c",
    "deepnote_cell_type": "markdown",
    "id": "6uBLPj1PzAHs"
   },
   "source": [
    "# Temas a tratar\n",
    "\n",
    "- Exploración del dataset y los resultados a través de visualizaciones interactivas usando `plotly`.\n",
    "- Introducción a procesamiento del lenguaje natural.\n",
    "- Clasificación en `scikit-learn`\n",
    "- Uso de pipelines.\n",
    "\n",
    "## Reglas:\n",
    "\n",
    "- Fecha de entrega: 26/11/2021\n",
    "- **Grupos de 2 personas**\n",
    "- **Ausentes** deberán realizar la actividad solos. \n",
    "- Cualquier duda fuera del horario de clases al foro. Mensajes al equipo docente serán respondidos por este medio.\n",
    "- Prohibidas las copias. \n",
    "- Pueden usar cualquer matrial del curso que estimen conveniente.\n",
    "\n",
    "### Objetivos principales del laboratorio\n",
    "\n",
    "- Aplicar las ventajas que nos ofrece crear un pipeline.\n",
    "- Obtener caracteristicas desde texto.\n",
    "- Visualizar el funcionamiento de clasificadores.\n",
    "- Realizar una GridSearch sobre un conjunto de clasificadores.\n",
    "\n",
    "El laboratorio deberá ser desarrollado sin el uso indiscriminado de iteradores nativos de python (aka \"for\", \"while\"). La idea es que aprendan a exprimir al máximo las funciones optimizadas que nos entrega `pandas`, las cuales vale mencionar, son bastante más eficientes que los iteradores nativos sobre DataFrames."
   ]
  },
  {
   "cell_type": "markdown",
   "metadata": {
    "cell_id": "00006-b8353b3b-8f85-4aa6-9379-96902d3d0bf3",
    "deepnote_cell_type": "markdown",
    "id": "MhISwri4zAHy"
   },
   "source": [
    "#Importamos librerias utiles 😸"
   ]
  },
  {
   "cell_type": "code",
   "execution_count": 1,
   "metadata": {
    "ExecuteTime": {
     "end_time": "2021-03-29T00:08:16.884674Z",
     "start_time": "2021-03-29T00:08:16.349846Z"
    },
    "cell_id": "00007-e696189c-3187-4899-bf04-8034b0e8a595",
    "colab": {
     "base_uri": "https://localhost:8080/"
    },
    "deepnote_cell_type": "code",
    "deepnote_output_heights": [
     null,
     21.199996948242188
    ],
    "deepnote_to_be_reexecuted": false,
    "executionInfo": {
     "elapsed": 9106,
     "status": "ok",
     "timestamp": 1625497725070,
     "user": {
      "displayName": "IGNACIO ALEJANDRO MEZA",
      "photoUrl": "",
      "userId": "17011121633069169364"
     },
     "user_tz": 240
    },
    "execution_millis": 36497,
    "execution_start": 1637348694866,
    "id": "uyc33dKdzAHy",
    "outputId": "14d5da48-5dae-4ce4-a8ba-b826ea91a126",
    "source_hash": "7ce9748b"
   },
   "outputs": [
    {
     "name": "stderr",
     "output_type": "stream",
     "text": [
      "[nltk_data] Error loading stopwords: <urlopen error [Errno -3]\n",
      "[nltk_data]     Temporary failure in name resolution>\n"
     ]
    },
    {
     "data": {
      "text/plain": [
       "False"
      ]
     },
     "execution_count": 1,
     "metadata": {},
     "output_type": "execute_result"
    }
   ],
   "source": [
    "# Librería Core del lab.\n",
    "import numpy as np\n",
    "import pandas as pd\n",
    "from sklearn.pipeline import Pipeline\n",
    "\n",
    "from sklearn.model_selection import train_test_split \n",
    "\n",
    "# Pre-procesamiento\n",
    "from sklearn.feature_selection import SelectPercentile, f_classif\n",
    "from sklearn.compose import ColumnTransformer\n",
    "from sklearn.preprocessing import MinMaxScaler, StandardScaler\n",
    "from sklearn.feature_extraction.text import CountVectorizer\n",
    "\n",
    "# Clasifación\n",
    "from sklearn.svm import SVC\n",
    "from sklearn.naive_bayes import MultinomialNB\n",
    "from sklearn.tree import DecisionTreeClassifier\n",
    "from sklearn.model_selection import GridSearchCV\n",
    "from sklearn.ensemble import RandomForestClassifier\n",
    "from sklearn.linear_model import LogisticRegression\n",
    "\n",
    "# Metricas de evaluación\n",
    "from sklearn.metrics import classification_report\n",
    "from sklearn.metrics import accuracy_score\n",
    "from sklearn.metrics import f1_score\n",
    "from sklearn.metrics import cohen_kappa_score\n",
    "\n",
    "# Librería para plotear\n",
    "# !pip install --upgrade plotly\n",
    "import plotly.express as px\n",
    "from plotly.subplots import make_subplots\n",
    "import plotly.graph_objects as go\n",
    "\n",
    "# Proyecciones en baja dimensionalidad: UMAP\n",
    "# !pip install umap-learn\n",
    "\n",
    "# Librería para NLP\n",
    "# %conda install nltk\n",
    "import nltk\n",
    "from nltk.corpus import stopwords\n",
    "from nltk import word_tokenize  \n",
    "from nltk.stem import PorterStemmer\n",
    "nltk.download('stopwords')"
   ]
  },
  {
   "cell_type": "markdown",
   "metadata": {
    "cell_id": "00008-9c535dd9-01e0-4804-a325-7b5d36a20a32",
    "deepnote_cell_type": "markdown",
    "id": "xpOTbQcxbSiy"
   },
   "source": [
    "# 1. ¿Quien es Bat Cow?"
   ]
  },
  {
   "cell_type": "markdown",
   "metadata": {
    "cell_id": "00009-43ac5618-611f-4712-aec7-faaa53d72d08",
    "deepnote_cell_type": "markdown",
    "id": "3Q93vbNS25bM"
   },
   "source": [
    "<p align=\"center\">\n",
    "  <img src=\"https://i.imgur.com/D9f1RHy.jpg\" width=\"350\">\n",
    "</p>"
   ]
  },
  {
   "cell_type": "markdown",
   "metadata": {
    "cell_id": "00010-632e9494-ce9c-4d54-8e57-e700baed4302",
    "deepnote_cell_type": "markdown",
    "id": "jnmZfFpxTTYX"
   },
   "source": [
    "En vez de estar desarrollando las evaluaciones correspondientes a su curso, su profesor de catedra y su auxiliar discuten acerca la alineación (héroe o villano) del personaje de ficción Bat-Cow. \n",
    "\n",
    "El cuerpo docente, no logra ponerse de acuerdo si el personaje es bueno, neutral o malo: el auxiliar plantea que Bat-cow posee una siniestra mirada, intrigante pero común característica de los personajes malvados. \n",
    "Por otra parte, extendiendo las ideas de Rousseau, el profesor plantea que tal como los humanos no nacen malos, no existe motivo por el cual una vaca con superpoderes deba serlo.\n",
    "\n",
    "Sin embargo, ambos concuerdan que es difícil estimar la alineación solo usando los atributos físicos, por lo que creen el análisis debe ser complementado aún más antes de comunicarle los resultados a su estudiantado. Buscando más información, ambos sujetos se percatan de la existencia de un excelente antecedente para estimar la alineación: la historia personal de cada superhéroe o villano.\n",
    "\n",
    "Es por esto le solicitan que construya y optimice un clasificador basado en texto el cual analice la alineación de cada personaje basado en su historia personal.\n",
    "\n",
    "Para este laboratorio deben trabajar con los datos `df_comics.csv` y `comics_no_label.csv` subidos a u-cursos. El primero es un conjunto de datos que les servirá para entrenar un modelo de clasificación, mientras que el segundo es un dataset con personajes de ficción no etiquetados a predecir (sí, aquí está la misteriosa Batcow).\n",
    "\n",
    "Para comenzar cargue los dataset señalados y visualice a través de un head los atributos que poseen cada uno de los dataset.\n"
   ]
  },
  {
   "cell_type": "code",
   "execution_count": 2,
   "metadata": {
    "cell_id": "00011-9a36781e-c26a-46de-b4bf-a5448a347cab",
    "colab": {
     "base_uri": "https://localhost:8080/"
    },
    "deepnote_cell_type": "code",
    "deepnote_to_be_reexecuted": false,
    "executionInfo": {
     "elapsed": 5,
     "status": "ok",
     "timestamp": 1625497735673,
     "user": {
      "displayName": "IGNACIO ALEJANDRO MEZA",
      "photoUrl": "",
      "userId": "17011121633069169364"
     },
     "user_tz": 240
    },
    "execution_millis": 27,
    "execution_start": 1637348657022,
    "id": "Jqq-s010Iwl1",
    "outputId": "bc29f770-d066-4443-8cee-00e3db46c629",
    "source_hash": "c60dc4a7"
   },
   "outputs": [
    {
     "name": "stdout",
     "output_type": "stream",
     "text": [
      "Ignorando conexión drive-colab\n"
     ]
    }
   ],
   "source": [
    "# Si usted está utilizando Colabolatory le puede ser útil este código para cargar los archivos.\n",
    "try:\n",
    "    from google.colab import drive\n",
    "    drive.mount(\"/content/drive\")\n",
    "    path = 'Dirección donde tiene los archivos en el Drive'\n",
    "except: \n",
    "    print('Ignorando conexión drive-colab')"
   ]
  },
  {
   "cell_type": "code",
   "execution_count": 3,
   "metadata": {
    "cell_id": "00012-8b0c36c2-aeaa-4ba1-9611-45f0599aa584",
    "deepnote_cell_type": "code",
    "deepnote_to_be_reexecuted": false,
    "executionInfo": {
     "elapsed": 289,
     "status": "ok",
     "timestamp": 1625499009249,
     "user": {
      "displayName": "IGNACIO ALEJANDRO MEZA",
      "photoUrl": "",
      "userId": "17011121633069169364"
     },
     "user_tz": 240
    },
    "execution_millis": 325,
    "execution_start": 1637348732856,
    "id": "bED3w3tDbSCf",
    "source_hash": "443d6e8"
   },
   "outputs": [],
   "source": [
    "df_comics = pd.read_csv('df_comics.csv', index_col=0)\n",
    "df_comics_no_label = pd.read_csv('comics_no_label.csv', index_col=0)\n",
    "df_comics = df_comics.dropna(subset=['history_text']) # eliminar ejemplos sin historia"
   ]
  },
  {
   "cell_type": "code",
   "execution_count": 4,
   "metadata": {
    "cell_id": "00013-2cd3a433-4f43-4a9e-92f5-caf54a662db2",
    "deepnote_cell_type": "code",
    "deepnote_to_be_reexecuted": false,
    "execution_millis": 654,
    "execution_start": 1637348731943,
    "source_hash": "b986316d",
    "tags": []
   },
   "outputs": [
    {
     "data": {
      "text/html": [
       "<div>\n",
       "<style scoped>\n",
       "    .dataframe tbody tr th:only-of-type {\n",
       "        vertical-align: middle;\n",
       "    }\n",
       "\n",
       "    .dataframe tbody tr th {\n",
       "        vertical-align: top;\n",
       "    }\n",
       "\n",
       "    .dataframe thead th {\n",
       "        text-align: right;\n",
       "    }\n",
       "</style>\n",
       "<table border=\"1\" class=\"dataframe\">\n",
       "  <thead>\n",
       "    <tr style=\"text-align: right;\">\n",
       "      <th></th>\n",
       "      <th>name</th>\n",
       "      <th>real_name</th>\n",
       "      <th>full_name</th>\n",
       "      <th>overall_score</th>\n",
       "      <th>history_text</th>\n",
       "      <th>powers_text</th>\n",
       "      <th>intelligence_score</th>\n",
       "      <th>strength_score</th>\n",
       "      <th>speed_score</th>\n",
       "      <th>durability_score</th>\n",
       "      <th>...</th>\n",
       "      <th>has_flight</th>\n",
       "      <th>has_accelerated_healing</th>\n",
       "      <th>has_weapons_master</th>\n",
       "      <th>has_intelligence</th>\n",
       "      <th>has_reflexes</th>\n",
       "      <th>has_super_speed</th>\n",
       "      <th>has_durability</th>\n",
       "      <th>has_stamina</th>\n",
       "      <th>has_agility</th>\n",
       "      <th>has_super_strength</th>\n",
       "    </tr>\n",
       "  </thead>\n",
       "  <tbody>\n",
       "    <tr>\n",
       "      <th>0</th>\n",
       "      <td>3-D Man</td>\n",
       "      <td>Delroy Garrett, Jr.</td>\n",
       "      <td>Delroy Garrett, Jr.</td>\n",
       "      <td>6</td>\n",
       "      <td>Delroy Garrett, Jr. grew up to become a track ...</td>\n",
       "      <td>NaN</td>\n",
       "      <td>85</td>\n",
       "      <td>30</td>\n",
       "      <td>60</td>\n",
       "      <td>60</td>\n",
       "      <td>...</td>\n",
       "      <td>0.0</td>\n",
       "      <td>0.0</td>\n",
       "      <td>0.0</td>\n",
       "      <td>0.0</td>\n",
       "      <td>0.0</td>\n",
       "      <td>1.0</td>\n",
       "      <td>0.0</td>\n",
       "      <td>0.0</td>\n",
       "      <td>0.0</td>\n",
       "      <td>1.0</td>\n",
       "    </tr>\n",
       "    <tr>\n",
       "      <th>2</th>\n",
       "      <td>A-Bomb</td>\n",
       "      <td>Richard Milhouse Jones</td>\n",
       "      <td>Richard Milhouse Jones</td>\n",
       "      <td>20</td>\n",
       "      <td>Richard \"Rick\" Jones was orphaned at a young ...</td>\n",
       "      <td>On rare occasions, and through unusual circu...</td>\n",
       "      <td>80</td>\n",
       "      <td>100</td>\n",
       "      <td>80</td>\n",
       "      <td>100</td>\n",
       "      <td>...</td>\n",
       "      <td>0.0</td>\n",
       "      <td>1.0</td>\n",
       "      <td>0.0</td>\n",
       "      <td>0.0</td>\n",
       "      <td>1.0</td>\n",
       "      <td>1.0</td>\n",
       "      <td>1.0</td>\n",
       "      <td>1.0</td>\n",
       "      <td>1.0</td>\n",
       "      <td>1.0</td>\n",
       "    </tr>\n",
       "    <tr>\n",
       "      <th>3</th>\n",
       "      <td>Aa</td>\n",
       "      <td>Aa</td>\n",
       "      <td>NaN</td>\n",
       "      <td>12</td>\n",
       "      <td>Aa is one of the more passive members of the P...</td>\n",
       "      <td>NaN</td>\n",
       "      <td>80</td>\n",
       "      <td>50</td>\n",
       "      <td>55</td>\n",
       "      <td>45</td>\n",
       "      <td>...</td>\n",
       "      <td>0.0</td>\n",
       "      <td>0.0</td>\n",
       "      <td>0.0</td>\n",
       "      <td>0.0</td>\n",
       "      <td>0.0</td>\n",
       "      <td>0.0</td>\n",
       "      <td>0.0</td>\n",
       "      <td>0.0</td>\n",
       "      <td>0.0</td>\n",
       "      <td>0.0</td>\n",
       "    </tr>\n",
       "    <tr>\n",
       "      <th>4</th>\n",
       "      <td>Aaron Cash</td>\n",
       "      <td>Aaron Cash</td>\n",
       "      <td>Aaron Cash</td>\n",
       "      <td>5</td>\n",
       "      <td>Aaron Cash is the head of security at Arkham A...</td>\n",
       "      <td>NaN</td>\n",
       "      <td>80</td>\n",
       "      <td>10</td>\n",
       "      <td>25</td>\n",
       "      <td>40</td>\n",
       "      <td>...</td>\n",
       "      <td>0.0</td>\n",
       "      <td>0.0</td>\n",
       "      <td>1.0</td>\n",
       "      <td>0.0</td>\n",
       "      <td>0.0</td>\n",
       "      <td>0.0</td>\n",
       "      <td>0.0</td>\n",
       "      <td>0.0</td>\n",
       "      <td>0.0</td>\n",
       "      <td>0.0</td>\n",
       "    </tr>\n",
       "    <tr>\n",
       "      <th>5</th>\n",
       "      <td>Aayla Secura</td>\n",
       "      <td>Aayla Secura</td>\n",
       "      <td>NaN</td>\n",
       "      <td>8</td>\n",
       "      <td>ayla Secura was a Rutian Twi'lek Jedi Knight (...</td>\n",
       "      <td>NaN</td>\n",
       "      <td>90</td>\n",
       "      <td>40</td>\n",
       "      <td>45</td>\n",
       "      <td>55</td>\n",
       "      <td>...</td>\n",
       "      <td>0.0</td>\n",
       "      <td>1.0</td>\n",
       "      <td>0.0</td>\n",
       "      <td>0.0</td>\n",
       "      <td>0.0</td>\n",
       "      <td>0.0</td>\n",
       "      <td>0.0</td>\n",
       "      <td>0.0</td>\n",
       "      <td>1.0</td>\n",
       "      <td>0.0</td>\n",
       "    </tr>\n",
       "  </tbody>\n",
       "</table>\n",
       "<p>5 rows × 81 columns</p>\n",
       "</div>"
      ],
      "text/plain": [
       "           name               real_name               full_name overall_score  \\\n",
       "0       3-D Man     Delroy Garrett, Jr.     Delroy Garrett, Jr.             6   \n",
       "2        A-Bomb  Richard Milhouse Jones  Richard Milhouse Jones            20   \n",
       "3            Aa                      Aa                     NaN            12   \n",
       "4    Aaron Cash              Aaron Cash              Aaron Cash             5   \n",
       "5  Aayla Secura            Aayla Secura                     NaN             8   \n",
       "\n",
       "                                        history_text  \\\n",
       "0  Delroy Garrett, Jr. grew up to become a track ...   \n",
       "2   Richard \"Rick\" Jones was orphaned at a young ...   \n",
       "3  Aa is one of the more passive members of the P...   \n",
       "4  Aaron Cash is the head of security at Arkham A...   \n",
       "5  ayla Secura was a Rutian Twi'lek Jedi Knight (...   \n",
       "\n",
       "                                         powers_text  intelligence_score  \\\n",
       "0                                                NaN                  85   \n",
       "2    On rare occasions, and through unusual circu...                  80   \n",
       "3                                                NaN                  80   \n",
       "4                                                NaN                  80   \n",
       "5                                                NaN                  90   \n",
       "\n",
       "   strength_score  speed_score  durability_score  ...  has_flight  \\\n",
       "0              30           60                60  ...         0.0   \n",
       "2             100           80               100  ...         0.0   \n",
       "3              50           55                45  ...         0.0   \n",
       "4              10           25                40  ...         0.0   \n",
       "5              40           45                55  ...         0.0   \n",
       "\n",
       "   has_accelerated_healing has_weapons_master has_intelligence has_reflexes  \\\n",
       "0                      0.0                0.0              0.0          0.0   \n",
       "2                      1.0                0.0              0.0          1.0   \n",
       "3                      0.0                0.0              0.0          0.0   \n",
       "4                      0.0                1.0              0.0          0.0   \n",
       "5                      1.0                0.0              0.0          0.0   \n",
       "\n",
       "  has_super_speed has_durability has_stamina has_agility has_super_strength  \n",
       "0             1.0            0.0         0.0         0.0                1.0  \n",
       "2             1.0            1.0         1.0         1.0                1.0  \n",
       "3             0.0            0.0         0.0         0.0                0.0  \n",
       "4             0.0            0.0         0.0         0.0                0.0  \n",
       "5             0.0            0.0         0.0         1.0                0.0  \n",
       "\n",
       "[5 rows x 81 columns]"
      ]
     },
     "execution_count": 4,
     "metadata": {},
     "output_type": "execute_result"
    }
   ],
   "source": [
    "# queda a labor de su equipo hacer el análisis exploratorio\n",
    "df_comics.head()"
   ]
  },
  {
   "cell_type": "code",
   "execution_count": 5,
   "metadata": {},
   "outputs": [
    {
     "data": {
      "text/html": [
       "<div>\n",
       "<style scoped>\n",
       "    .dataframe tbody tr th:only-of-type {\n",
       "        vertical-align: middle;\n",
       "    }\n",
       "\n",
       "    .dataframe tbody tr th {\n",
       "        vertical-align: top;\n",
       "    }\n",
       "\n",
       "    .dataframe thead th {\n",
       "        text-align: right;\n",
       "    }\n",
       "</style>\n",
       "<table border=\"1\" class=\"dataframe\">\n",
       "  <thead>\n",
       "    <tr style=\"text-align: right;\">\n",
       "      <th></th>\n",
       "      <th>name</th>\n",
       "      <th>real_name</th>\n",
       "      <th>full_name</th>\n",
       "      <th>overall_score</th>\n",
       "      <th>history_text</th>\n",
       "      <th>powers_text</th>\n",
       "      <th>intelligence_score</th>\n",
       "      <th>strength_score</th>\n",
       "      <th>speed_score</th>\n",
       "      <th>durability_score</th>\n",
       "      <th>...</th>\n",
       "      <th>has_flight</th>\n",
       "      <th>has_accelerated_healing</th>\n",
       "      <th>has_weapons_master</th>\n",
       "      <th>has_intelligence</th>\n",
       "      <th>has_reflexes</th>\n",
       "      <th>has_super_speed</th>\n",
       "      <th>has_durability</th>\n",
       "      <th>has_stamina</th>\n",
       "      <th>has_agility</th>\n",
       "      <th>has_super_strength</th>\n",
       "    </tr>\n",
       "  </thead>\n",
       "  <tbody>\n",
       "    <tr>\n",
       "      <th>1</th>\n",
       "      <td>514A (Gotham)</td>\n",
       "      <td>Bruce Wayne</td>\n",
       "      <td>NaN</td>\n",
       "      <td>10</td>\n",
       "      <td>He was one of the many prisoners of Indian Hil...</td>\n",
       "      <td>NaN</td>\n",
       "      <td>100</td>\n",
       "      <td>20</td>\n",
       "      <td>30</td>\n",
       "      <td>50</td>\n",
       "      <td>...</td>\n",
       "      <td>0.0</td>\n",
       "      <td>0.0</td>\n",
       "      <td>0.0</td>\n",
       "      <td>0.0</td>\n",
       "      <td>1.0</td>\n",
       "      <td>0.0</td>\n",
       "      <td>1.0</td>\n",
       "      <td>0.0</td>\n",
       "      <td>0.0</td>\n",
       "      <td>1.0</td>\n",
       "    </tr>\n",
       "    <tr>\n",
       "      <th>14</th>\n",
       "      <td>Ace Morgan</td>\n",
       "      <td>Kyle Morgan</td>\n",
       "      <td>NaN</td>\n",
       "      <td>7</td>\n",
       "      <td>NaN</td>\n",
       "      <td>Aviation:  Ace is an extremely skilled pilot, ...</td>\n",
       "      <td>85</td>\n",
       "      <td>20</td>\n",
       "      <td>65</td>\n",
       "      <td>55</td>\n",
       "      <td>...</td>\n",
       "      <td>0.0</td>\n",
       "      <td>0.0</td>\n",
       "      <td>1.0</td>\n",
       "      <td>1.0</td>\n",
       "      <td>1.0</td>\n",
       "      <td>0.0</td>\n",
       "      <td>0.0</td>\n",
       "      <td>1.0</td>\n",
       "      <td>1.0</td>\n",
       "      <td>0.0</td>\n",
       "    </tr>\n",
       "    <tr>\n",
       "      <th>17</th>\n",
       "      <td>A'dal</td>\n",
       "      <td>NaN</td>\n",
       "      <td>NaN</td>\n",
       "      <td>7</td>\n",
       "      <td>As with most of the naaru, little is known of ...</td>\n",
       "      <td>NaN</td>\n",
       "      <td>85</td>\n",
       "      <td>30</td>\n",
       "      <td>70</td>\n",
       "      <td>55</td>\n",
       "      <td>...</td>\n",
       "      <td>0.0</td>\n",
       "      <td>0.0</td>\n",
       "      <td>0.0</td>\n",
       "      <td>0.0</td>\n",
       "      <td>0.0</td>\n",
       "      <td>0.0</td>\n",
       "      <td>0.0</td>\n",
       "      <td>0.0</td>\n",
       "      <td>0.0</td>\n",
       "      <td>0.0</td>\n",
       "    </tr>\n",
       "    <tr>\n",
       "      <th>27</th>\n",
       "      <td>Agent Zero (FOX)</td>\n",
       "      <td>David North</td>\n",
       "      <td>NaN</td>\n",
       "      <td>6</td>\n",
       "      <td>During mid-late 1973, Zero was a member of Tea...</td>\n",
       "      <td>Zero can absorb kinetic energy to further incr...</td>\n",
       "      <td>90</td>\n",
       "      <td>10</td>\n",
       "      <td>25</td>\n",
       "      <td>25</td>\n",
       "      <td>...</td>\n",
       "      <td>0.0</td>\n",
       "      <td>0.0</td>\n",
       "      <td>0.0</td>\n",
       "      <td>0.0</td>\n",
       "      <td>1.0</td>\n",
       "      <td>0.0</td>\n",
       "      <td>0.0</td>\n",
       "      <td>0.0</td>\n",
       "      <td>1.0</td>\n",
       "      <td>0.0</td>\n",
       "    </tr>\n",
       "    <tr>\n",
       "      <th>31</th>\n",
       "      <td>Ajax (FOX)</td>\n",
       "      <td>Francis</td>\n",
       "      <td>Francis Freeman</td>\n",
       "      <td>7</td>\n",
       "      <td>Ajax (born Francis Freeman) was a human who ga...</td>\n",
       "      <td>Ajax has claimed that the procedure to obtain ...</td>\n",
       "      <td>85</td>\n",
       "      <td>25</td>\n",
       "      <td>45</td>\n",
       "      <td>75</td>\n",
       "      <td>...</td>\n",
       "      <td>0.0</td>\n",
       "      <td>0.0</td>\n",
       "      <td>1.0</td>\n",
       "      <td>1.0</td>\n",
       "      <td>1.0</td>\n",
       "      <td>0.0</td>\n",
       "      <td>1.0</td>\n",
       "      <td>0.0</td>\n",
       "      <td>0.0</td>\n",
       "      <td>1.0</td>\n",
       "    </tr>\n",
       "  </tbody>\n",
       "</table>\n",
       "<p>5 rows × 81 columns</p>\n",
       "</div>"
      ],
      "text/plain": [
       "                name    real_name        full_name overall_score  \\\n",
       "1      514A (Gotham)  Bruce Wayne              NaN            10   \n",
       "14        Ace Morgan  Kyle Morgan              NaN             7   \n",
       "17             A'dal          NaN              NaN             7   \n",
       "27  Agent Zero (FOX)  David North              NaN             6   \n",
       "31        Ajax (FOX)      Francis  Francis Freeman             7   \n",
       "\n",
       "                                         history_text  \\\n",
       "1   He was one of the many prisoners of Indian Hil...   \n",
       "14                                                NaN   \n",
       "17  As with most of the naaru, little is known of ...   \n",
       "27  During mid-late 1973, Zero was a member of Tea...   \n",
       "31  Ajax (born Francis Freeman) was a human who ga...   \n",
       "\n",
       "                                          powers_text  intelligence_score  \\\n",
       "1                                                 NaN                 100   \n",
       "14  Aviation:  Ace is an extremely skilled pilot, ...                  85   \n",
       "17                                                NaN                  85   \n",
       "27  Zero can absorb kinetic energy to further incr...                  90   \n",
       "31  Ajax has claimed that the procedure to obtain ...                  85   \n",
       "\n",
       "    strength_score  speed_score  durability_score  ...  has_flight  \\\n",
       "1               20           30                50  ...         0.0   \n",
       "14              20           65                55  ...         0.0   \n",
       "17              30           70                55  ...         0.0   \n",
       "27              10           25                25  ...         0.0   \n",
       "31              25           45                75  ...         0.0   \n",
       "\n",
       "    has_accelerated_healing has_weapons_master has_intelligence has_reflexes  \\\n",
       "1                       0.0                0.0              0.0          1.0   \n",
       "14                      0.0                1.0              1.0          1.0   \n",
       "17                      0.0                0.0              0.0          0.0   \n",
       "27                      0.0                0.0              0.0          1.0   \n",
       "31                      0.0                1.0              1.0          1.0   \n",
       "\n",
       "   has_super_speed has_durability has_stamina  has_agility has_super_strength  \n",
       "1              0.0            1.0         0.0          0.0                1.0  \n",
       "14             0.0            0.0         1.0          1.0                0.0  \n",
       "17             0.0            0.0         0.0          0.0                0.0  \n",
       "27             0.0            0.0         0.0          1.0                0.0  \n",
       "31             0.0            1.0         0.0          0.0                1.0  \n",
       "\n",
       "[5 rows x 81 columns]"
      ]
     },
     "execution_count": 5,
     "metadata": {},
     "output_type": "execute_result"
    }
   ],
   "source": [
    "df_comics_no_label.head()"
   ]
  },
  {
   "cell_type": "code",
   "execution_count": 6,
   "metadata": {},
   "outputs": [
    {
     "name": "stdout",
     "output_type": "stream",
     "text": [
      "name                    0\n",
      "real_name             121\n",
      "full_name             390\n",
      "overall_score           0\n",
      "history_text            0\n",
      "                     ... \n",
      "has_super_speed        57\n",
      "has_durability         57\n",
      "has_stamina            57\n",
      "has_agility            57\n",
      "has_super_strength     57\n",
      "Length: 81, dtype: int64 \n",
      "\n",
      "===\n",
      "\n",
      " name                   2\n",
      "real_name             18\n",
      "full_name             71\n",
      "overall_score          0\n",
      "history_text           8\n",
      "                      ..\n",
      "has_super_speed        6\n",
      "has_durability         6\n",
      "has_stamina            6\n",
      "has_agility            6\n",
      "has_super_strength     6\n",
      "Length: 81, dtype: int64\n"
     ]
    }
   ],
   "source": [
    "print(df_comics.isna().sum(), \"\\n\\n===\\n\\n\", df_comics_no_label.isna().sum())"
   ]
  },
  {
   "cell_type": "markdown",
   "metadata": {
    "cell_id": "00013-00e51eac-6169-4978-9714-ee8c7a8f55b8",
    "deepnote_cell_type": "markdown",
    "id": "i4tFPrFA4_O5"
   },
   "source": [
    "## 1.1 Obtención de Features y Bag of Words\n",
    "\n",
    "<p align=\"center\">\n",
    "  <img src=\"https://media0.giphy.com/media/eIUpSyzwGp0YhAMTKr/200.gif\" width=\"300\">\n",
    "</p>"
   ]
  },
  {
   "cell_type": "markdown",
   "metadata": {
    "cell_id": "00014-528c8f39-a27a-40e0-8de0-0cc7f362b4ae",
    "deepnote_cell_type": "markdown",
    "id": "f_4NF0_V5XZ-"
   },
   "source": [
    "Primero que todo, deben obtener un vector de características del atributo `history_text`, utilizando `bag of words`. En este atributo se presenta una breve descripción de la historia de cada uno de los personajes de ficción presentes en el dataset. \n",
    "\n",
    "Pero... antes de empezar, ¿Que es `bag of words`?...\n",
    "\n",
    "`bag of words` es un modelo de conteo utilizado en Procesamiento de Lenguaje Natural (NLP) que tiene como objetivo generar una representación vectorial (vector de características en nuestro cas) para cada documento a través del conteo de las palabras que contienen. \n",
    "\n",
    "La siguiente figura muestra un ejemplo de `bag of words` en acción:\n",
    "\n",
    "<p align=\"center\">\n",
    "  <img src=\"https://user.oc-static.com/upload/2020/10/23/16034397439042_surfin%20bird%20bow.png\" width=\"500\">\n",
    "</p>\n",
    "\n",
    "Como pueden ver, el modelo de `bag of words` no resulta tan complicado, ¿pero cómo lo aplicamos en python?. \n",
    "\n",
    "Como podrán darse cuenta del ejemplo anterior, para facilitar el conteo será necesario transformar cada uno de los documentos en vectores, donde cada una de las posiciones posee un carácter. Este proceso es conocido como **tokenización** y lo podemos realizar de la siguiente forma:"
   ]
  },
  {
   "cell_type": "code",
   "execution_count": 7,
   "metadata": {
    "cell_id": "00015-5924cc55-1587-4776-8c5e-cb400ddacaa3",
    "deepnote_cell_type": "code",
    "deepnote_output_heights": [
     40.399993896484375
    ],
    "deepnote_to_be_reexecuted": false,
    "execution_millis": 8,
    "execution_start": 1637346921830,
    "source_hash": "57e4888a",
    "tags": []
   },
   "outputs": [
    {
     "data": {
      "text/plain": [
       "[['The', 'teacher', 'rocks', 'like', 'a', 'good', 'rock', '&', 'roll'],\n",
       " ['the', 'rock', 'is', 'the', 'best', 'actor', 'in', 'the', 'world']]"
      ]
     },
     "execution_count": 7,
     "metadata": {},
     "output_type": "execute_result"
    }
   ],
   "source": [
    "docs = ['The teacher rocks like a good rock & roll', 'the rock is the best actor in the world']\n",
    "\n",
    "\n",
    "docs_tokenizados = [word_tokenize(doc)  for doc in docs]\n",
    "docs_tokenizados"
   ]
  },
  {
   "cell_type": "markdown",
   "metadata": {
    "cell_id": "00016-649b0384-cac3-4b79-93ff-75aac3b8c5df",
    "deepnote_cell_type": "markdown",
    "tags": []
   },
   "source": [
    "Podemos mejorar un poco más el proceso de tokenización agregando \n",
    "\n",
    "- Stemming:  Definimos Stemming como un algoritmo basado en reglas que transforma las palabras a una forma general. Un ejemplo de stemming, es el siguiente:\n",
    "- Eliminación de Stopwords: Eliminación de palabras muy frecuentes que entorpecen la clasificación (por ejemplo, el, la los, la, etc...)\n",
    "\n",
    "<p align=\"center\">\n",
    "  <img src=\"https://devopedia.org/images/article/218/8583.1569386710.png\" width=\"300\">\n",
    "</p>\n"
   ]
  },
  {
   "cell_type": "code",
   "execution_count": 8,
   "metadata": {
    "cell_id": "00017-52acaa25-55d2-49ee-a6c8-49437b8d4523",
    "deepnote_cell_type": "code",
    "deepnote_output_heights": [
     null,
     59.600006103515625
    ],
    "deepnote_to_be_reexecuted": false,
    "execution_millis": 36,
    "execution_start": 1637346924545,
    "source_hash": "d7f59237",
    "tags": []
   },
   "outputs": [
    {
     "name": "stderr",
     "output_type": "stream",
     "text": [
      "[nltk_data] Error loading stopwords: <urlopen error [Errno -3]\n",
      "[nltk_data]     Temporary failure in name resolution>\n"
     ]
    },
    {
     "data": {
      "text/plain": [
       "[['the', 'teacher', 'rock', 'like', 'good', 'rock', '&', 'roll'],\n",
       " ['rock', 'best', 'actor', 'world'],\n",
       " ['new', 'york', 'beauti', 'citi']]"
      ]
     },
     "execution_count": 8,
     "metadata": {},
     "output_type": "execute_result"
    }
   ],
   "source": [
    "# Definimos algunas stopword que queremos que sean eliminadas\n",
    "import nltk\n",
    "nltk.download('stopwords')\n",
    "\n",
    "from nltk.corpus import stopwords\n",
    "\n",
    "stop_words = stopwords.words('english')\n",
    "\n",
    "# Definimos un tokenizador con Stemming\n",
    "class StemmerTokenizer:\n",
    "    def __init__(self):\n",
    "        self.ps = PorterStemmer()\n",
    "    def __call__(self, doc):\n",
    "        doc_tok = word_tokenize(doc)\n",
    "        doc_tok = [t for t in doc_tok if t not in stop_words]\n",
    "        return [self.ps.stem(t) for t in doc_tok]\n",
    "\n",
    "# Inicializamos tokenizador\n",
    "tokenizador = StemmerTokenizer()\n",
    "\n",
    "# Creamos algunos documentos\n",
    "docs = ['The teacher rocks like a good rock & roll',\n",
    "        'the rock is the best actor in the world',\n",
    "        'New York is a beautiful city']\n",
    "\n",
    "# Obtenemos el token del primer documento\n",
    "[tokenizador(doc) for doc in docs]"
   ]
  },
  {
   "cell_type": "code",
   "execution_count": 9,
   "metadata": {
    "cell_id": "00018-03a0f079-19df-42cb-b3b9-863a9e2ecb7a",
    "deepnote_cell_type": "code",
    "deepnote_output_heights": [
     59.600006103515625
    ],
    "deepnote_to_be_reexecuted": false,
    "execution_millis": 13,
    "execution_start": 1637346927213,
    "source_hash": "2503a9b4",
    "tags": []
   },
   "outputs": [
    {
     "data": {
      "text/plain": [
       "[['The', 'teacher', 'rocks', 'like', 'a', 'good', 'rock', '&', 'roll'],\n",
       " ['the', 'rock', 'is', 'the', 'best', 'actor', 'in', 'the', 'world'],\n",
       " ['New', 'York', 'is', 'a', 'beautiful', 'city']]"
      ]
     },
     "execution_count": 9,
     "metadata": {},
     "output_type": "execute_result"
    }
   ],
   "source": [
    "# Comparación con el caso anterior\n",
    "docs_tokenizados = [word_tokenize(doc) for doc in docs]\n",
    "docs_tokenizados"
   ]
  },
  {
   "cell_type": "markdown",
   "metadata": {
    "cell_id": "00019-3f862033-7b4e-4623-b17f-545b988af69b",
    "deepnote_cell_type": "markdown",
    "tags": []
   },
   "source": [
    "#### Al Estilo Scikit\n",
    "\n",
    "Scikit implementa `bag of words` a través de la clase `CountVectorizer()` la cual contiene muchas opciones para mejorar la tokenización."
   ]
  },
  {
   "cell_type": "code",
   "execution_count": 10,
   "metadata": {
    "cell_id": "00020-721a6ba0-0990-4436-9de5-4b4b53c5ff79",
    "deepnote_cell_type": "code",
    "deepnote_output_heights": [
     98,
     40.390625
    ],
    "deepnote_to_be_reexecuted": false,
    "execution_millis": 152,
    "execution_start": 1637346927803,
    "source_hash": "2bc7124d",
    "tags": []
   },
   "outputs": [
    {
     "data": {
      "text/html": [
       "<div>\n",
       "<style scoped>\n",
       "    .dataframe tbody tr th:only-of-type {\n",
       "        vertical-align: middle;\n",
       "    }\n",
       "\n",
       "    .dataframe tbody tr th {\n",
       "        vertical-align: top;\n",
       "    }\n",
       "\n",
       "    .dataframe thead th {\n",
       "        text-align: right;\n",
       "    }\n",
       "</style>\n",
       "<table border=\"1\" class=\"dataframe\">\n",
       "  <thead>\n",
       "    <tr style=\"text-align: right;\">\n",
       "      <th></th>\n",
       "      <th>&amp;</th>\n",
       "      <th>actor</th>\n",
       "      <th>beauti</th>\n",
       "      <th>best</th>\n",
       "      <th>citi</th>\n",
       "      <th>good</th>\n",
       "      <th>like</th>\n",
       "      <th>new</th>\n",
       "      <th>rock</th>\n",
       "      <th>roll</th>\n",
       "      <th>teacher</th>\n",
       "      <th>world</th>\n",
       "      <th>york</th>\n",
       "    </tr>\n",
       "  </thead>\n",
       "  <tbody>\n",
       "    <tr>\n",
       "      <th>0</th>\n",
       "      <td>1</td>\n",
       "      <td>0</td>\n",
       "      <td>0</td>\n",
       "      <td>0</td>\n",
       "      <td>0</td>\n",
       "      <td>1</td>\n",
       "      <td>1</td>\n",
       "      <td>0</td>\n",
       "      <td>2</td>\n",
       "      <td>1</td>\n",
       "      <td>1</td>\n",
       "      <td>0</td>\n",
       "      <td>0</td>\n",
       "    </tr>\n",
       "    <tr>\n",
       "      <th>1</th>\n",
       "      <td>0</td>\n",
       "      <td>1</td>\n",
       "      <td>0</td>\n",
       "      <td>1</td>\n",
       "      <td>0</td>\n",
       "      <td>0</td>\n",
       "      <td>0</td>\n",
       "      <td>0</td>\n",
       "      <td>1</td>\n",
       "      <td>0</td>\n",
       "      <td>0</td>\n",
       "      <td>1</td>\n",
       "      <td>0</td>\n",
       "    </tr>\n",
       "    <tr>\n",
       "      <th>2</th>\n",
       "      <td>0</td>\n",
       "      <td>0</td>\n",
       "      <td>1</td>\n",
       "      <td>0</td>\n",
       "      <td>1</td>\n",
       "      <td>0</td>\n",
       "      <td>0</td>\n",
       "      <td>1</td>\n",
       "      <td>0</td>\n",
       "      <td>0</td>\n",
       "      <td>0</td>\n",
       "      <td>0</td>\n",
       "      <td>1</td>\n",
       "    </tr>\n",
       "  </tbody>\n",
       "</table>\n",
       "</div>"
      ],
      "text/plain": [
       "   &  actor  beauti  best  citi  good  like  new  rock  roll  teacher  world  \\\n",
       "0  1      0       0     0     0     1     1    0     2     1        1      0   \n",
       "1  0      1       0     1     0     0     0    0     1     0        0      1   \n",
       "2  0      0       1     0     1     0     0    1     0     0        0      0   \n",
       "\n",
       "   york  \n",
       "0     0  \n",
       "1     0  \n",
       "2     1  "
      ]
     },
     "execution_count": 10,
     "metadata": {},
     "output_type": "execute_result"
    }
   ],
   "source": [
    "bow = CountVectorizer(tokenizer= StemmerTokenizer())\n",
    "df = bow.fit_transform(docs)\n",
    "\n",
    "pd.DataFrame(df.toarray(), columns=bow.get_feature_names_out())"
   ]
  },
  {
   "cell_type": "markdown",
   "metadata": {
    "cell_id": "00021-b3e721d0-6b1f-4f91-aef8-7b04028286fe",
    "deepnote_cell_type": "markdown",
    "tags": []
   },
   "source": [
    "Una de las cosas más interesantes que provee son el use de n-gramas, los cuales, en palabras simples, son conjuntos de n-palabras que se concatenan entre si y que se consideran como tokens separados. \n",
    "\n",
    "Pensemos en `Nueva York`. Cuando se tokeniza Nueva York, se generan dos tokens independientes que a simple vista no tienen relación: `Nueva` `York`.\n",
    "Al usar n-gramas (en un rango min=1,max=2) , generamos tanto `Nueva` y `York` como también `Nueva York` como un token independiente."
   ]
  },
  {
   "cell_type": "code",
   "execution_count": 11,
   "metadata": {
    "cell_id": "00022-a7abf0fb-cbf2-4745-a96a-dcad9d4bc00f",
    "deepnote_cell_type": "code",
    "deepnote_to_be_reexecuted": false,
    "execution_millis": 241,
    "execution_start": 1637346930092,
    "source_hash": "6af25c7e",
    "tags": []
   },
   "outputs": [
    {
     "data": {
      "text/html": [
       "<div>\n",
       "<style scoped>\n",
       "    .dataframe tbody tr th:only-of-type {\n",
       "        vertical-align: middle;\n",
       "    }\n",
       "\n",
       "    .dataframe tbody tr th {\n",
       "        vertical-align: top;\n",
       "    }\n",
       "\n",
       "    .dataframe thead th {\n",
       "        text-align: right;\n",
       "    }\n",
       "</style>\n",
       "<table border=\"1\" class=\"dataframe\">\n",
       "  <thead>\n",
       "    <tr style=\"text-align: right;\">\n",
       "      <th></th>\n",
       "      <th>&amp;</th>\n",
       "      <th>&amp; roll</th>\n",
       "      <th>actor</th>\n",
       "      <th>actor world</th>\n",
       "      <th>beauti</th>\n",
       "      <th>beauti citi</th>\n",
       "      <th>best</th>\n",
       "      <th>best actor</th>\n",
       "      <th>citi</th>\n",
       "      <th>good</th>\n",
       "      <th>...</th>\n",
       "      <th>rock</th>\n",
       "      <th>rock &amp;</th>\n",
       "      <th>rock best</th>\n",
       "      <th>rock like</th>\n",
       "      <th>roll</th>\n",
       "      <th>teacher</th>\n",
       "      <th>teacher rock</th>\n",
       "      <th>world</th>\n",
       "      <th>york</th>\n",
       "      <th>york beauti</th>\n",
       "    </tr>\n",
       "  </thead>\n",
       "  <tbody>\n",
       "    <tr>\n",
       "      <th>0</th>\n",
       "      <td>1</td>\n",
       "      <td>1</td>\n",
       "      <td>0</td>\n",
       "      <td>0</td>\n",
       "      <td>0</td>\n",
       "      <td>0</td>\n",
       "      <td>0</td>\n",
       "      <td>0</td>\n",
       "      <td>0</td>\n",
       "      <td>1</td>\n",
       "      <td>...</td>\n",
       "      <td>2</td>\n",
       "      <td>1</td>\n",
       "      <td>0</td>\n",
       "      <td>1</td>\n",
       "      <td>1</td>\n",
       "      <td>1</td>\n",
       "      <td>1</td>\n",
       "      <td>0</td>\n",
       "      <td>0</td>\n",
       "      <td>0</td>\n",
       "    </tr>\n",
       "    <tr>\n",
       "      <th>1</th>\n",
       "      <td>0</td>\n",
       "      <td>0</td>\n",
       "      <td>1</td>\n",
       "      <td>1</td>\n",
       "      <td>0</td>\n",
       "      <td>0</td>\n",
       "      <td>1</td>\n",
       "      <td>1</td>\n",
       "      <td>0</td>\n",
       "      <td>0</td>\n",
       "      <td>...</td>\n",
       "      <td>1</td>\n",
       "      <td>0</td>\n",
       "      <td>1</td>\n",
       "      <td>0</td>\n",
       "      <td>0</td>\n",
       "      <td>0</td>\n",
       "      <td>0</td>\n",
       "      <td>1</td>\n",
       "      <td>0</td>\n",
       "      <td>0</td>\n",
       "    </tr>\n",
       "    <tr>\n",
       "      <th>2</th>\n",
       "      <td>0</td>\n",
       "      <td>0</td>\n",
       "      <td>0</td>\n",
       "      <td>0</td>\n",
       "      <td>1</td>\n",
       "      <td>1</td>\n",
       "      <td>0</td>\n",
       "      <td>0</td>\n",
       "      <td>1</td>\n",
       "      <td>0</td>\n",
       "      <td>...</td>\n",
       "      <td>0</td>\n",
       "      <td>0</td>\n",
       "      <td>0</td>\n",
       "      <td>0</td>\n",
       "      <td>0</td>\n",
       "      <td>0</td>\n",
       "      <td>0</td>\n",
       "      <td>0</td>\n",
       "      <td>1</td>\n",
       "      <td>1</td>\n",
       "    </tr>\n",
       "  </tbody>\n",
       "</table>\n",
       "<p>3 rows × 25 columns</p>\n",
       "</div>"
      ],
      "text/plain": [
       "   &  & roll  actor  actor world  beauti  beauti citi  best  best actor  citi  \\\n",
       "0  1       1      0            0       0            0     0           0     0   \n",
       "1  0       0      1            1       0            0     1           1     0   \n",
       "2  0       0      0            0       1            1     0           0     1   \n",
       "\n",
       "   good  ...  rock  rock &  rock best  rock like  roll  teacher  teacher rock  \\\n",
       "0     1  ...     2       1          0          1     1        1             1   \n",
       "1     0  ...     1       0          1          0     0        0             0   \n",
       "2     0  ...     0       0          0          0     0        0             0   \n",
       "\n",
       "   world  york  york beauti  \n",
       "0      0     0            0  \n",
       "1      1     0            0  \n",
       "2      0     1            1  \n",
       "\n",
       "[3 rows x 25 columns]"
      ]
     },
     "execution_count": 11,
     "metadata": {},
     "output_type": "execute_result"
    }
   ],
   "source": [
    "bow = CountVectorizer(tokenizer= StemmerTokenizer(), ngram_range=(1,2))\n",
    "df = bow.fit_transform(docs)\n",
    "\n",
    "pd.DataFrame(df.toarray(), columns=bow.get_feature_names_out())"
   ]
  },
  {
   "cell_type": "markdown",
   "metadata": {
    "cell_id": "00023-55bca23d-f3d4-4f39-ae9d-e8810b522c79",
    "deepnote_cell_type": "markdown",
    "tags": []
   },
   "source": [
    "De los resultados, podemos ver que generamos vectores de conteo para cada una de las palabras que conforman el corpus.  Un punto extra que se agrega en esta obtención de frecuencias son los bigramas, que básicamente son el conjunto de palabras de tamaño de aparecen juntas en el texto."
   ]
  },
  {
   "cell_type": "markdown",
   "metadata": {
    "cell_id": "00024-231f49a8-163f-457d-b933-9e5dad0e1e29",
    "deepnote_cell_type": "markdown",
    "tags": []
   },
   "source": [
    "## Codificando los Super{heroes, villanos}  [0.5 Puntos]\n",
    "\n",
    "<p align=\"center\">\n",
    "  <img src=\"https://c.tenor.com/LkQzw7k5DV4AAAAd/anime-hacking.gif\" width=\"300\">\n",
    "</p>\n",
    "\n",
    "Conociendo ahora que es el proceso de `bag of words`, aplique este modelo de obtención de caracteristicas de la siguiente forma en un pipeline:\n",
    "\n",
    "- Utilice el tokenizador entregado.\n",
    "- Obtenga caracteristicas de los unigramas y bigramas del texto (tal como el ejemplo).\n",
    "\n",
    "```python\n",
    "bog = CountVectorizer(tokenizer= StemmerTokenizer(),`\n",
    "                      ngram_range=(1,2) # Este punto es opcional y es para generar bigramas\n",
    "                      )\n",
    "```"
   ]
  },
  {
   "cell_type": "markdown",
   "metadata": {
    "cell_id": "00025-145bb273-d73c-4ad1-8b84-46327add3a2e",
    "deepnote_cell_type": "markdown",
    "tags": []
   },
   "source": [
    "Finalmente, aplique `MinMaxScaler()` sobre `atributos_de_interes` y concatene el valor obtenido con el matriz de caracteristicas obtenidas con bag of words.\n",
    "\n",
    "```python\n",
    "atributos_de_interes = ['intelligence_score', 'strength_score', 'speed_score', 'durability_score', 'power_score', 'combat_score']\n",
    "```\n",
    "\n",
    "No es necesario que obtenga un dataframe en concreto con las características solicitadas. Se le recomienda generar un `ColumnTransformer()` para aplicar las transformaciones solicitadas en un pipeline.\n",
    "\n",
    "**To-Do:**\n",
    "- [ ] Obtener a traves de bag of words caracteristicas del resumen de historia de cada personaje.\n",
    "- [ ] Aplicar MinMaxScaler sobre los atributos de interes."
   ]
  },
  {
   "cell_type": "markdown",
   "metadata": {
    "cell_id": "00026-b13521a0-adf9-4c19-893e-ba6ed644ca12",
    "deepnote_cell_type": "markdown",
    "tags": []
   },
   "source": [
    "**Respuesta:**"
   ]
  },
  {
   "cell_type": "code",
   "execution_count": 15,
   "metadata": {
    "cell_id": "00026-898e0ee0-748d-4dac-bfc5-d72f4fe21827",
    "deepnote_cell_type": "code",
    "id": "ay080DunHcOS"
   },
   "outputs": [
    {
     "data": {
      "text/plain": [
       "(1285, 333926)"
      ]
     },
     "execution_count": 15,
     "metadata": {},
     "output_type": "execute_result"
    }
   ],
   "source": [
    "#### Código aquí ####\n",
    "atributos_de_interes = ['intelligence_score', 'strength_score', 'speed_score', 'durability_score', 'power_score', 'combat_score']\n",
    "\n",
    "pipe_preproc = Pipeline([\n",
    "    (\"preprocess\", ColumnTransformer(transformers=[\n",
    "        (\"bow\", CountVectorizer(tokenizer=StemmerTokenizer(), ngram_range=(1,2)), \"history_text\"),\n",
    "        (\"minmax\", MinMaxScaler(), atributos_de_interes),\n",
    "    ]))\n",
    "])\n",
    "\n",
    "processed =  pipe_preproc.fit_transform(df_comics)\n",
    "processed.shape"
   ]
  },
  {
   "cell_type": "markdown",
   "metadata": {
    "cell_id": "00029-0baf6cdb-9550-4717-87db-9f9900d5b276",
    "deepnote_cell_type": "markdown",
    "id": "stHncQ-A-j4I"
   },
   "source": [
    "## 1.2 Diseño de Baseline y  Primer Entrenamiento  [1 Puntos]\n",
    "\n",
    "\n",
    "<p align=\"center\">\n",
    "  <img src=\"https://pa1.narvii.com/6374/9eaec1b7bf9157334151452a669516f9a78b954c_hq.gif\" width=\"300\">\n",
    "</p>\n"
   ]
  },
  {
   "cell_type": "markdown",
   "metadata": {
    "cell_id": "00030-1452da19-1559-4b8b-8b73-a134157c0656",
    "deepnote_cell_type": "markdown",
    "id": "NeMiptpQ_EWb"
   },
   "source": [
    "Genere un Pipeline con las caracteristicas solicitadas en la sección 1.1, un selector de mejores features `SelectPercentile` con métrica `f_classif` y percentile=90 y un clasificador `MultinomialNB()` por defecto.\n",
    "\n",
    "Luego, separe el conjunto de datos en un conjunto de entrenamiento y prueba, donde las etiquetas estará dado por el atributo `alignment`. \n",
    "\n",
    "Finalmente entrene el modelo y reporte el desempeño con un `classification_report`. ¿ Nos recomendaría predecir la alineación de BatCow con este clasificador?.\n",
    "\n",
    "**To-DO:**\n",
    "- [ ] Realizar un pipeline con las caracteristicas solicitadas en 1.1 y aplicar un clasificador  `MultinomialNB()`.\n",
    "- [ ] Entrenar el pipeline y comentar los resultados."
   ]
  },
  {
   "cell_type": "markdown",
   "metadata": {
    "cell_id": "00029-34f1be30-f2df-45ac-aa14-8e05dc678be9",
    "deepnote_cell_type": "markdown",
    "tags": []
   },
   "source": [
    "**Respuesta:**"
   ]
  },
  {
   "cell_type": "code",
   "execution_count": 16,
   "metadata": {
    "cell_id": "00031-92f07569-b6ee-48af-be9e-70cd05cb9e5e",
    "deepnote_cell_type": "code",
    "id": "_hHpPDooPafy"
   },
   "outputs": [],
   "source": [
    "#### Código aquí ####\n",
    "\n",
    "pipe_nb = Pipeline([\n",
    "    (\"preprocess\", pipe_preproc),\n",
    "    (\"feat-selector\", SelectPercentile(score_func=f_classif, percentile=90)),\n",
    "    (\"clf\", MultinomialNB())\n",
    "    \n",
    "])\n",
    "\n",
    "seed = 84\n",
    "\n",
    "X, y = df_comics[[col for col in df_comics.columns if col != \"alignment\"]], df_comics[\"alignment\"].to_numpy().ravel()\n",
    "X_train, X_test, y_train, y_test = train_test_split(X, y, test_size=0.3, random_state=seed)\n",
    "\n",
    "fitted_nb = pipe_nb.fit(X_train, y_train)"
   ]
  },
  {
   "cell_type": "code",
   "execution_count": 17,
   "metadata": {},
   "outputs": [
    {
     "name": "stdout",
     "output_type": "stream",
     "text": [
      "              precision    recall  f1-score   support\n",
      "\n",
      "         Bad       0.73      0.06      0.12       124\n",
      "        Good       0.61      0.99      0.75       229\n",
      "     Neutral       1.00      0.03      0.06        33\n",
      "\n",
      "    accuracy                           0.61       386\n",
      "   macro avg       0.78      0.36      0.31       386\n",
      "weighted avg       0.68      0.61      0.49       386\n",
      "\n"
     ]
    }
   ],
   "source": [
    "y_pred = fitted_nb.predict(X_test)\n",
    "\n",
    "print(classification_report(y_test, y_pred))"
   ]
  },
  {
   "cell_type": "markdown",
   "metadata": {
    "cell_id": "00035-35040b90-b6b9-4e43-8eff-15b7fa897575",
    "deepnote_cell_type": "markdown",
    "id": "pfm7I2B7_rfB"
   },
   "source": [
    "## 1.3 Busqueda del Mejor Modelo con Grid Search [4 Puntos]\n",
    "\n",
    "<p align=\"center\">\n",
    "  <img src=\"https://media1.tenor.com/images/70fdfeea52a8e2e4505498c230a0d2f9/tenor.gif?itemid=5134219\" width=\"250\">\n",
    "</p>"
   ]
  },
  {
   "cell_type": "markdown",
   "metadata": {
    "cell_id": "00036-c58166cc-71f7-4fa3-94c8-c67d1145ccf1",
    "deepnote_cell_type": "markdown",
    "id": "14siiavzK67p"
   },
   "source": [
    "No conformes con el rendimiento obtenido en la sección 1.2, el cuerpo docente les pide que realicen un **`HalvingGridSearchCV`** con diferentes parámetros para mejorar el rendimiento de la clasificación. Para esto, se le solicita que defina:\n",
    "\n",
    "- Dos clasificadores distintos en donde varie sus parámetros. Se le recomienda utilizar `LogisticRegression()` y `RandomForestClassifier()`.\n",
    "- Modificar `n-gram` range del `CountVectorizer` probando `(1,1), (1,2) y (1,3)`. \n",
    "- Selección de las mejores columnas para la clasificación con `SelectPercentile` en los percentiles `[20, 40, 60, 80]` (puede usar la métrica que usted quiera).\n",
    "\n",
    "A continuación, un ejemplo de parametros para GridSearch para una búsqueda de 3 clasificadores distintos:\n",
    "\n",
    "```python\n",
    "params = [\n",
    "       # clasificador 1 + hiperparámetros\n",
    "       {'clf': classificator1(),\n",
    "        'clf__penalty': ['ovr'],\n",
    "        'clf__multi_class': ['liblinear']},\n",
    "       # clasificador 1 + hiperparámetros    \n",
    "       {'clf': classificator2(),\n",
    "        'clf__n_estimators': [200]},\n",
    "       # clasificador 1 + hiperparámetros\n",
    "       {'clf': classificator3(),\n",
    "        ...\n",
    "       }\n",
    "       ]\n",
    "```\n",
    "\n",
    "**Nota 1**: Puede ver los parámetros modificables aplicando el método get_params() sobre su pipeline.\n",
    "\n",
    "**Nota 2**: Recuerde inicializar los clasificadores con un random state definido.\n",
    "\n",
    "**Nota 3**: Puede usar en `HalvingGridSearchCV` el parámetro `verbose=10` para ver que GridSearch le indique el estado de su ejecución.\n",
    "\n",
    "**Nota 3:** El GridSearch puede tomar tiempos de búsqueda exorbitantes, por lo que se le recomienda no agrandar mucho el espacio de búsqueda, dejar corriendo el código y tomarse un tecito."
   ]
  },
  {
   "cell_type": "markdown",
   "metadata": {
    "cell_id": "00032-3fea06e0-a390-4ae0-8036-f5fedb6d6baf",
    "deepnote_cell_type": "markdown",
    "tags": []
   },
   "source": [
    "**Respuesta:**"
   ]
  },
  {
   "cell_type": "code",
   "execution_count": 38,
   "metadata": {
    "cell_id": "00037-8b06a200-cb7a-485a-b11b-31a3d0ee57f3",
    "deepnote_cell_type": "code",
    "id": "oNvHOHELUoIv"
   },
   "outputs": [],
   "source": [
    "#### Código aquí ####\n",
    "pipe_rf = Pipeline([\n",
    "    (\"preproc\", pipe_preproc),\n",
    "    (\"feat-selector\", SelectPercentile(score_func=f_classif)),\n",
    "    (\"clf\", RandomForestClassifier(max_depth=100, random_state=seed))\n",
    "    \n",
    "])\n",
    "\n",
    "pipe_logreg = Pipeline([\n",
    "    (\"preproc\", pipe_preproc),\n",
    "    (\"feat-selector\", SelectPercentile(score_func=f_classif)),\n",
    "    (\"clf\", LogisticRegression(l1_ratio=0.5, max_iter=1000, random_state=seed))\n",
    "    \n",
    "])\n",
    "\n",
    "\n",
    "logreg_params = {\n",
    "    \"preproc__preprocess__bow__ngram_range\": [(1,1), (1,2), (1,3)],\n",
    "    \"feat-selector__percentile\": [30, 60, 80],\n",
    "    \"clf__C\": [0.5, 1.0, 5.],\n",
    "    \"clf__penalty\": [\"l2\", \"elasticnet\"],\n",
    "    \"clf__solver\": [\"saga\"]\n",
    "}\n",
    "\n",
    "rf_params = {\n",
    "    \"preproc__preprocess__bow__ngram_range\": [(1,1), (1,2), (1,3)],\n",
    "    \"feat-selector__percentile\": [30, 60, 80],\n",
    "    \"clf__n_estimators\": [50, 100, 250],\n",
    "    \"clf__criterion\": [\"gini\", \"entropy\"],\n",
    "    \"clf__max_features\": [\"sqrt\", \"log2\"]\n",
    "}"
   ]
  },
  {
   "cell_type": "code",
   "execution_count": 39,
   "metadata": {},
   "outputs": [],
   "source": [
    "from sklearn.experimental import enable_halving_search_cv\n",
    "from sklearn.model_selection import HalvingGridSearchCV\n",
    "\n",
    "search_logreg = HalvingGridSearchCV(pipe_logreg, logreg_params, cv=3, verbose=10)\n",
    "search_rf = HalvingGridSearchCV(pipe_rf, rf_params, cv=3, verbose=10)"
   ]
  },
  {
   "cell_type": "code",
   "execution_count": 40,
   "metadata": {},
   "outputs": [
    {
     "name": "stdout",
     "output_type": "stream",
     "text": [
      "n_iterations: 4\n",
      "n_required_iterations: 4\n",
      "n_possible_iterations: 4\n",
      "min_resources_: 33\n",
      "max_resources_: 899\n",
      "aggressive_elimination: False\n",
      "factor: 3\n",
      "----------\n",
      "iter: 0\n",
      "n_candidates: 54\n",
      "n_resources: 33\n",
      "Fitting 3 folds for each of 54 candidates, totalling 162 fits\n",
      "[CV 1/3; 1/54] START clf__C=0.5, clf__penalty=l2, clf__solver=saga, feat-selector__percentile=30, preproc__preprocess__bow__ngram_range=(1, 1)\n"
     ]
    },
    {
     "name": "stderr",
     "output_type": "stream",
     "text": [
      "/home/step/miniconda3/envs/ml/lib/python3.9/site-packages/sklearn/feature_selection/_univariate_selection.py:113: RuntimeWarning: divide by zero encountered in true_divide\n",
      "  f = msb / msw\n",
      "/home/step/miniconda3/envs/ml/lib/python3.9/site-packages/sklearn/linear_model/_logistic.py:1476: UserWarning: l1_ratio parameter is only used when penalty is 'elasticnet'. Got (penalty=l2)\n",
      "  warnings.warn(\n",
      "/home/step/miniconda3/envs/ml/lib/python3.9/site-packages/sklearn/linear_model/_sag.py:352: ConvergenceWarning: The max_iter was reached which means the coef_ did not converge\n",
      "  warnings.warn(\n"
     ]
    },
    {
     "name": "stdout",
     "output_type": "stream",
     "text": [
      "[CV 1/3; 1/54] END clf__C=0.5, clf__penalty=l2, clf__solver=saga, feat-selector__percentile=30, preproc__preprocess__bow__ngram_range=(1, 1);, score=(train=1.000, test=0.636) total time=   0.6s\n",
      "[CV 2/3; 1/54] START clf__C=0.5, clf__penalty=l2, clf__solver=saga, feat-selector__percentile=30, preproc__preprocess__bow__ngram_range=(1, 1)\n"
     ]
    },
    {
     "name": "stderr",
     "output_type": "stream",
     "text": [
      "/home/step/miniconda3/envs/ml/lib/python3.9/site-packages/sklearn/linear_model/_logistic.py:1476: UserWarning: l1_ratio parameter is only used when penalty is 'elasticnet'. Got (penalty=l2)\n",
      "  warnings.warn(\n",
      "/home/step/miniconda3/envs/ml/lib/python3.9/site-packages/sklearn/linear_model/_sag.py:352: ConvergenceWarning: The max_iter was reached which means the coef_ did not converge\n",
      "  warnings.warn(\n"
     ]
    },
    {
     "name": "stdout",
     "output_type": "stream",
     "text": [
      "[CV 2/3; 1/54] END clf__C=0.5, clf__penalty=l2, clf__solver=saga, feat-selector__percentile=30, preproc__preprocess__bow__ngram_range=(1, 1);, score=(train=1.000, test=0.364) total time=   0.6s\n",
      "[CV 3/3; 1/54] START clf__C=0.5, clf__penalty=l2, clf__solver=saga, feat-selector__percentile=30, preproc__preprocess__bow__ngram_range=(1, 1)\n"
     ]
    },
    {
     "name": "stderr",
     "output_type": "stream",
     "text": [
      "/home/step/miniconda3/envs/ml/lib/python3.9/site-packages/sklearn/feature_selection/_univariate_selection.py:113: RuntimeWarning: divide by zero encountered in true_divide\n",
      "  f = msb / msw\n",
      "/home/step/miniconda3/envs/ml/lib/python3.9/site-packages/sklearn/linear_model/_logistic.py:1476: UserWarning: l1_ratio parameter is only used when penalty is 'elasticnet'. Got (penalty=l2)\n",
      "  warnings.warn(\n",
      "/home/step/miniconda3/envs/ml/lib/python3.9/site-packages/sklearn/linear_model/_sag.py:352: ConvergenceWarning: The max_iter was reached which means the coef_ did not converge\n",
      "  warnings.warn(\n"
     ]
    },
    {
     "name": "stdout",
     "output_type": "stream",
     "text": [
      "[CV 3/3; 1/54] END clf__C=0.5, clf__penalty=l2, clf__solver=saga, feat-selector__percentile=30, preproc__preprocess__bow__ngram_range=(1, 1);, score=(train=1.000, test=0.400) total time=   0.5s\n",
      "[CV 1/3; 2/54] START clf__C=0.5, clf__penalty=l2, clf__solver=saga, feat-selector__percentile=30, preproc__preprocess__bow__ngram_range=(1, 2)\n"
     ]
    },
    {
     "name": "stderr",
     "output_type": "stream",
     "text": [
      "/home/step/miniconda3/envs/ml/lib/python3.9/site-packages/sklearn/feature_selection/_univariate_selection.py:113: RuntimeWarning: divide by zero encountered in true_divide\n",
      "  f = msb / msw\n",
      "/home/step/miniconda3/envs/ml/lib/python3.9/site-packages/sklearn/linear_model/_logistic.py:1476: UserWarning: l1_ratio parameter is only used when penalty is 'elasticnet'. Got (penalty=l2)\n",
      "  warnings.warn(\n",
      "/home/step/miniconda3/envs/ml/lib/python3.9/site-packages/sklearn/linear_model/_sag.py:352: ConvergenceWarning: The max_iter was reached which means the coef_ did not converge\n",
      "  warnings.warn(\n"
     ]
    },
    {
     "name": "stdout",
     "output_type": "stream",
     "text": [
      "[CV 1/3; 2/54] END clf__C=0.5, clf__penalty=l2, clf__solver=saga, feat-selector__percentile=30, preproc__preprocess__bow__ngram_range=(1, 2);, score=(train=1.000, test=0.636) total time=   1.0s\n",
      "[CV 2/3; 2/54] START clf__C=0.5, clf__penalty=l2, clf__solver=saga, feat-selector__percentile=30, preproc__preprocess__bow__ngram_range=(1, 2)\n"
     ]
    },
    {
     "name": "stderr",
     "output_type": "stream",
     "text": [
      "/home/step/miniconda3/envs/ml/lib/python3.9/site-packages/sklearn/linear_model/_logistic.py:1476: UserWarning: l1_ratio parameter is only used when penalty is 'elasticnet'. Got (penalty=l2)\n",
      "  warnings.warn(\n",
      "/home/step/miniconda3/envs/ml/lib/python3.9/site-packages/sklearn/linear_model/_sag.py:352: ConvergenceWarning: The max_iter was reached which means the coef_ did not converge\n",
      "  warnings.warn(\n"
     ]
    },
    {
     "name": "stdout",
     "output_type": "stream",
     "text": [
      "[CV 2/3; 2/54] END clf__C=0.5, clf__penalty=l2, clf__solver=saga, feat-selector__percentile=30, preproc__preprocess__bow__ngram_range=(1, 2);, score=(train=1.000, test=0.455) total time=   0.6s\n",
      "[CV 3/3; 2/54] START clf__C=0.5, clf__penalty=l2, clf__solver=saga, feat-selector__percentile=30, preproc__preprocess__bow__ngram_range=(1, 2)\n"
     ]
    },
    {
     "name": "stderr",
     "output_type": "stream",
     "text": [
      "/home/step/miniconda3/envs/ml/lib/python3.9/site-packages/sklearn/feature_selection/_univariate_selection.py:113: RuntimeWarning: divide by zero encountered in true_divide\n",
      "  f = msb / msw\n",
      "/home/step/miniconda3/envs/ml/lib/python3.9/site-packages/sklearn/linear_model/_logistic.py:1476: UserWarning: l1_ratio parameter is only used when penalty is 'elasticnet'. Got (penalty=l2)\n",
      "  warnings.warn(\n",
      "/home/step/miniconda3/envs/ml/lib/python3.9/site-packages/sklearn/linear_model/_sag.py:352: ConvergenceWarning: The max_iter was reached which means the coef_ did not converge\n",
      "  warnings.warn(\n"
     ]
    },
    {
     "name": "stdout",
     "output_type": "stream",
     "text": [
      "[CV 3/3; 2/54] END clf__C=0.5, clf__penalty=l2, clf__solver=saga, feat-selector__percentile=30, preproc__preprocess__bow__ngram_range=(1, 2);, score=(train=1.000, test=0.500) total time=   0.7s\n",
      "[CV 1/3; 3/54] START clf__C=0.5, clf__penalty=l2, clf__solver=saga, feat-selector__percentile=30, preproc__preprocess__bow__ngram_range=(1, 3)\n"
     ]
    },
    {
     "name": "stderr",
     "output_type": "stream",
     "text": [
      "/home/step/miniconda3/envs/ml/lib/python3.9/site-packages/sklearn/feature_selection/_univariate_selection.py:113: RuntimeWarning: divide by zero encountered in true_divide\n",
      "  f = msb / msw\n",
      "/home/step/miniconda3/envs/ml/lib/python3.9/site-packages/sklearn/linear_model/_logistic.py:1476: UserWarning: l1_ratio parameter is only used when penalty is 'elasticnet'. Got (penalty=l2)\n",
      "  warnings.warn(\n",
      "/home/step/miniconda3/envs/ml/lib/python3.9/site-packages/sklearn/linear_model/_sag.py:352: ConvergenceWarning: The max_iter was reached which means the coef_ did not converge\n",
      "  warnings.warn(\n"
     ]
    },
    {
     "name": "stdout",
     "output_type": "stream",
     "text": [
      "[CV 1/3; 3/54] END clf__C=0.5, clf__penalty=l2, clf__solver=saga, feat-selector__percentile=30, preproc__preprocess__bow__ngram_range=(1, 3);, score=(train=1.000, test=0.636) total time=   1.1s\n",
      "[CV 2/3; 3/54] START clf__C=0.5, clf__penalty=l2, clf__solver=saga, feat-selector__percentile=30, preproc__preprocess__bow__ngram_range=(1, 3)\n"
     ]
    },
    {
     "name": "stderr",
     "output_type": "stream",
     "text": [
      "/home/step/miniconda3/envs/ml/lib/python3.9/site-packages/sklearn/linear_model/_logistic.py:1476: UserWarning: l1_ratio parameter is only used when penalty is 'elasticnet'. Got (penalty=l2)\n",
      "  warnings.warn(\n",
      "/home/step/miniconda3/envs/ml/lib/python3.9/site-packages/sklearn/linear_model/_sag.py:352: ConvergenceWarning: The max_iter was reached which means the coef_ did not converge\n",
      "  warnings.warn(\n"
     ]
    },
    {
     "name": "stdout",
     "output_type": "stream",
     "text": [
      "[CV 2/3; 3/54] END clf__C=0.5, clf__penalty=l2, clf__solver=saga, feat-selector__percentile=30, preproc__preprocess__bow__ngram_range=(1, 3);, score=(train=1.000, test=0.455) total time=   0.7s\n",
      "[CV 3/3; 3/54] START clf__C=0.5, clf__penalty=l2, clf__solver=saga, feat-selector__percentile=30, preproc__preprocess__bow__ngram_range=(1, 3)\n"
     ]
    },
    {
     "name": "stderr",
     "output_type": "stream",
     "text": [
      "/home/step/miniconda3/envs/ml/lib/python3.9/site-packages/sklearn/feature_selection/_univariate_selection.py:113: RuntimeWarning: divide by zero encountered in true_divide\n",
      "  f = msb / msw\n",
      "/home/step/miniconda3/envs/ml/lib/python3.9/site-packages/sklearn/linear_model/_logistic.py:1476: UserWarning: l1_ratio parameter is only used when penalty is 'elasticnet'. Got (penalty=l2)\n",
      "  warnings.warn(\n",
      "/home/step/miniconda3/envs/ml/lib/python3.9/site-packages/sklearn/linear_model/_sag.py:352: ConvergenceWarning: The max_iter was reached which means the coef_ did not converge\n",
      "  warnings.warn(\n"
     ]
    },
    {
     "name": "stdout",
     "output_type": "stream",
     "text": [
      "[CV 3/3; 3/54] END clf__C=0.5, clf__penalty=l2, clf__solver=saga, feat-selector__percentile=30, preproc__preprocess__bow__ngram_range=(1, 3);, score=(train=1.000, test=0.500) total time=   0.8s\n",
      "[CV 1/3; 4/54] START clf__C=0.5, clf__penalty=l2, clf__solver=saga, feat-selector__percentile=60, preproc__preprocess__bow__ngram_range=(1, 1)\n"
     ]
    },
    {
     "name": "stderr",
     "output_type": "stream",
     "text": [
      "/home/step/miniconda3/envs/ml/lib/python3.9/site-packages/sklearn/feature_selection/_univariate_selection.py:113: RuntimeWarning: divide by zero encountered in true_divide\n",
      "  f = msb / msw\n",
      "/home/step/miniconda3/envs/ml/lib/python3.9/site-packages/sklearn/linear_model/_logistic.py:1476: UserWarning: l1_ratio parameter is only used when penalty is 'elasticnet'. Got (penalty=l2)\n",
      "  warnings.warn(\n",
      "/home/step/miniconda3/envs/ml/lib/python3.9/site-packages/sklearn/linear_model/_sag.py:352: ConvergenceWarning: The max_iter was reached which means the coef_ did not converge\n",
      "  warnings.warn(\n"
     ]
    },
    {
     "name": "stdout",
     "output_type": "stream",
     "text": [
      "[CV 1/3; 4/54] END clf__C=0.5, clf__penalty=l2, clf__solver=saga, feat-selector__percentile=60, preproc__preprocess__bow__ngram_range=(1, 1);, score=(train=1.000, test=0.545) total time=   0.7s\n",
      "[CV 2/3; 4/54] START clf__C=0.5, clf__penalty=l2, clf__solver=saga, feat-selector__percentile=60, preproc__preprocess__bow__ngram_range=(1, 1)\n"
     ]
    },
    {
     "name": "stderr",
     "output_type": "stream",
     "text": [
      "/home/step/miniconda3/envs/ml/lib/python3.9/site-packages/sklearn/linear_model/_logistic.py:1476: UserWarning: l1_ratio parameter is only used when penalty is 'elasticnet'. Got (penalty=l2)\n",
      "  warnings.warn(\n",
      "/home/step/miniconda3/envs/ml/lib/python3.9/site-packages/sklearn/linear_model/_sag.py:352: ConvergenceWarning: The max_iter was reached which means the coef_ did not converge\n",
      "  warnings.warn(\n"
     ]
    },
    {
     "name": "stdout",
     "output_type": "stream",
     "text": [
      "[CV 2/3; 4/54] END clf__C=0.5, clf__penalty=l2, clf__solver=saga, feat-selector__percentile=60, preproc__preprocess__bow__ngram_range=(1, 1);, score=(train=1.000, test=0.364) total time=   0.5s\n",
      "[CV 3/3; 4/54] START clf__C=0.5, clf__penalty=l2, clf__solver=saga, feat-selector__percentile=60, preproc__preprocess__bow__ngram_range=(1, 1)\n"
     ]
    },
    {
     "name": "stderr",
     "output_type": "stream",
     "text": [
      "/home/step/miniconda3/envs/ml/lib/python3.9/site-packages/sklearn/feature_selection/_univariate_selection.py:113: RuntimeWarning: divide by zero encountered in true_divide\n",
      "  f = msb / msw\n",
      "/home/step/miniconda3/envs/ml/lib/python3.9/site-packages/sklearn/linear_model/_logistic.py:1476: UserWarning: l1_ratio parameter is only used when penalty is 'elasticnet'. Got (penalty=l2)\n",
      "  warnings.warn(\n",
      "/home/step/miniconda3/envs/ml/lib/python3.9/site-packages/sklearn/linear_model/_sag.py:352: ConvergenceWarning: The max_iter was reached which means the coef_ did not converge\n",
      "  warnings.warn(\n"
     ]
    },
    {
     "name": "stdout",
     "output_type": "stream",
     "text": [
      "[CV 3/3; 4/54] END clf__C=0.5, clf__penalty=l2, clf__solver=saga, feat-selector__percentile=60, preproc__preprocess__bow__ngram_range=(1, 1);, score=(train=1.000, test=0.500) total time=   0.5s\n",
      "[CV 1/3; 5/54] START clf__C=0.5, clf__penalty=l2, clf__solver=saga, feat-selector__percentile=60, preproc__preprocess__bow__ngram_range=(1, 2)\n"
     ]
    },
    {
     "name": "stderr",
     "output_type": "stream",
     "text": [
      "/home/step/miniconda3/envs/ml/lib/python3.9/site-packages/sklearn/feature_selection/_univariate_selection.py:113: RuntimeWarning: divide by zero encountered in true_divide\n",
      "  f = msb / msw\n",
      "/home/step/miniconda3/envs/ml/lib/python3.9/site-packages/sklearn/linear_model/_logistic.py:1476: UserWarning: l1_ratio parameter is only used when penalty is 'elasticnet'. Got (penalty=l2)\n",
      "  warnings.warn(\n",
      "/home/step/miniconda3/envs/ml/lib/python3.9/site-packages/sklearn/linear_model/_sag.py:352: ConvergenceWarning: The max_iter was reached which means the coef_ did not converge\n",
      "  warnings.warn(\n"
     ]
    },
    {
     "name": "stdout",
     "output_type": "stream",
     "text": [
      "[CV 1/3; 5/54] END clf__C=0.5, clf__penalty=l2, clf__solver=saga, feat-selector__percentile=60, preproc__preprocess__bow__ngram_range=(1, 2);, score=(train=1.000, test=0.545) total time=   0.9s\n",
      "[CV 2/3; 5/54] START clf__C=0.5, clf__penalty=l2, clf__solver=saga, feat-selector__percentile=60, preproc__preprocess__bow__ngram_range=(1, 2)\n"
     ]
    },
    {
     "name": "stderr",
     "output_type": "stream",
     "text": [
      "/home/step/miniconda3/envs/ml/lib/python3.9/site-packages/sklearn/linear_model/_logistic.py:1476: UserWarning: l1_ratio parameter is only used when penalty is 'elasticnet'. Got (penalty=l2)\n",
      "  warnings.warn(\n",
      "/home/step/miniconda3/envs/ml/lib/python3.9/site-packages/sklearn/linear_model/_sag.py:352: ConvergenceWarning: The max_iter was reached which means the coef_ did not converge\n",
      "  warnings.warn(\n"
     ]
    },
    {
     "name": "stdout",
     "output_type": "stream",
     "text": [
      "[CV 2/3; 5/54] END clf__C=0.5, clf__penalty=l2, clf__solver=saga, feat-selector__percentile=60, preproc__preprocess__bow__ngram_range=(1, 2);, score=(train=1.000, test=0.364) total time=   0.7s\n",
      "[CV 3/3; 5/54] START clf__C=0.5, clf__penalty=l2, clf__solver=saga, feat-selector__percentile=60, preproc__preprocess__bow__ngram_range=(1, 2)\n"
     ]
    },
    {
     "name": "stderr",
     "output_type": "stream",
     "text": [
      "/home/step/miniconda3/envs/ml/lib/python3.9/site-packages/sklearn/feature_selection/_univariate_selection.py:113: RuntimeWarning: divide by zero encountered in true_divide\n",
      "  f = msb / msw\n",
      "/home/step/miniconda3/envs/ml/lib/python3.9/site-packages/sklearn/linear_model/_logistic.py:1476: UserWarning: l1_ratio parameter is only used when penalty is 'elasticnet'. Got (penalty=l2)\n",
      "  warnings.warn(\n",
      "/home/step/miniconda3/envs/ml/lib/python3.9/site-packages/sklearn/linear_model/_sag.py:352: ConvergenceWarning: The max_iter was reached which means the coef_ did not converge\n",
      "  warnings.warn(\n"
     ]
    },
    {
     "name": "stdout",
     "output_type": "stream",
     "text": [
      "[CV 3/3; 5/54] END clf__C=0.5, clf__penalty=l2, clf__solver=saga, feat-selector__percentile=60, preproc__preprocess__bow__ngram_range=(1, 2);, score=(train=1.000, test=0.500) total time=   0.7s\n",
      "[CV 1/3; 6/54] START clf__C=0.5, clf__penalty=l2, clf__solver=saga, feat-selector__percentile=60, preproc__preprocess__bow__ngram_range=(1, 3)\n"
     ]
    },
    {
     "name": "stderr",
     "output_type": "stream",
     "text": [
      "/home/step/miniconda3/envs/ml/lib/python3.9/site-packages/sklearn/feature_selection/_univariate_selection.py:113: RuntimeWarning: divide by zero encountered in true_divide\n",
      "  f = msb / msw\n",
      "/home/step/miniconda3/envs/ml/lib/python3.9/site-packages/sklearn/linear_model/_logistic.py:1476: UserWarning: l1_ratio parameter is only used when penalty is 'elasticnet'. Got (penalty=l2)\n",
      "  warnings.warn(\n",
      "/home/step/miniconda3/envs/ml/lib/python3.9/site-packages/sklearn/linear_model/_sag.py:352: ConvergenceWarning: The max_iter was reached which means the coef_ did not converge\n",
      "  warnings.warn(\n"
     ]
    },
    {
     "name": "stdout",
     "output_type": "stream",
     "text": [
      "[CV 1/3; 6/54] END clf__C=0.5, clf__penalty=l2, clf__solver=saga, feat-selector__percentile=60, preproc__preprocess__bow__ngram_range=(1, 3);, score=(train=1.000, test=0.636) total time=   1.2s\n",
      "[CV 2/3; 6/54] START clf__C=0.5, clf__penalty=l2, clf__solver=saga, feat-selector__percentile=60, preproc__preprocess__bow__ngram_range=(1, 3)\n"
     ]
    },
    {
     "name": "stderr",
     "output_type": "stream",
     "text": [
      "/home/step/miniconda3/envs/ml/lib/python3.9/site-packages/sklearn/linear_model/_logistic.py:1476: UserWarning: l1_ratio parameter is only used when penalty is 'elasticnet'. Got (penalty=l2)\n",
      "  warnings.warn(\n",
      "/home/step/miniconda3/envs/ml/lib/python3.9/site-packages/sklearn/linear_model/_sag.py:352: ConvergenceWarning: The max_iter was reached which means the coef_ did not converge\n",
      "  warnings.warn(\n"
     ]
    },
    {
     "name": "stdout",
     "output_type": "stream",
     "text": [
      "[CV 2/3; 6/54] END clf__C=0.5, clf__penalty=l2, clf__solver=saga, feat-selector__percentile=60, preproc__preprocess__bow__ngram_range=(1, 3);, score=(train=1.000, test=0.455) total time=   0.9s\n",
      "[CV 3/3; 6/54] START clf__C=0.5, clf__penalty=l2, clf__solver=saga, feat-selector__percentile=60, preproc__preprocess__bow__ngram_range=(1, 3)\n"
     ]
    },
    {
     "name": "stderr",
     "output_type": "stream",
     "text": [
      "/home/step/miniconda3/envs/ml/lib/python3.9/site-packages/sklearn/feature_selection/_univariate_selection.py:113: RuntimeWarning: divide by zero encountered in true_divide\n",
      "  f = msb / msw\n",
      "/home/step/miniconda3/envs/ml/lib/python3.9/site-packages/sklearn/linear_model/_logistic.py:1476: UserWarning: l1_ratio parameter is only used when penalty is 'elasticnet'. Got (penalty=l2)\n",
      "  warnings.warn(\n",
      "/home/step/miniconda3/envs/ml/lib/python3.9/site-packages/sklearn/linear_model/_sag.py:352: ConvergenceWarning: The max_iter was reached which means the coef_ did not converge\n",
      "  warnings.warn(\n"
     ]
    },
    {
     "name": "stdout",
     "output_type": "stream",
     "text": [
      "[CV 3/3; 6/54] END clf__C=0.5, clf__penalty=l2, clf__solver=saga, feat-selector__percentile=60, preproc__preprocess__bow__ngram_range=(1, 3);, score=(train=1.000, test=0.500) total time=   0.9s\n",
      "[CV 1/3; 7/54] START clf__C=0.5, clf__penalty=l2, clf__solver=saga, feat-selector__percentile=80, preproc__preprocess__bow__ngram_range=(1, 1)\n"
     ]
    },
    {
     "name": "stderr",
     "output_type": "stream",
     "text": [
      "/home/step/miniconda3/envs/ml/lib/python3.9/site-packages/sklearn/feature_selection/_univariate_selection.py:113: RuntimeWarning: divide by zero encountered in true_divide\n",
      "  f = msb / msw\n",
      "/home/step/miniconda3/envs/ml/lib/python3.9/site-packages/sklearn/linear_model/_logistic.py:1476: UserWarning: l1_ratio parameter is only used when penalty is 'elasticnet'. Got (penalty=l2)\n",
      "  warnings.warn(\n",
      "/home/step/miniconda3/envs/ml/lib/python3.9/site-packages/sklearn/linear_model/_sag.py:352: ConvergenceWarning: The max_iter was reached which means the coef_ did not converge\n",
      "  warnings.warn(\n"
     ]
    },
    {
     "name": "stdout",
     "output_type": "stream",
     "text": [
      "[CV 1/3; 7/54] END clf__C=0.5, clf__penalty=l2, clf__solver=saga, feat-selector__percentile=80, preproc__preprocess__bow__ngram_range=(1, 1);, score=(train=1.000, test=0.545) total time=   0.6s\n",
      "[CV 2/3; 7/54] START clf__C=0.5, clf__penalty=l2, clf__solver=saga, feat-selector__percentile=80, preproc__preprocess__bow__ngram_range=(1, 1)\n"
     ]
    },
    {
     "name": "stderr",
     "output_type": "stream",
     "text": [
      "/home/step/miniconda3/envs/ml/lib/python3.9/site-packages/sklearn/linear_model/_logistic.py:1476: UserWarning: l1_ratio parameter is only used when penalty is 'elasticnet'. Got (penalty=l2)\n",
      "  warnings.warn(\n",
      "/home/step/miniconda3/envs/ml/lib/python3.9/site-packages/sklearn/linear_model/_sag.py:352: ConvergenceWarning: The max_iter was reached which means the coef_ did not converge\n",
      "  warnings.warn(\n"
     ]
    },
    {
     "name": "stdout",
     "output_type": "stream",
     "text": [
      "[CV 2/3; 7/54] END clf__C=0.5, clf__penalty=l2, clf__solver=saga, feat-selector__percentile=80, preproc__preprocess__bow__ngram_range=(1, 1);, score=(train=1.000, test=0.364) total time=   0.5s\n",
      "[CV 3/3; 7/54] START clf__C=0.5, clf__penalty=l2, clf__solver=saga, feat-selector__percentile=80, preproc__preprocess__bow__ngram_range=(1, 1)\n"
     ]
    },
    {
     "name": "stderr",
     "output_type": "stream",
     "text": [
      "/home/step/miniconda3/envs/ml/lib/python3.9/site-packages/sklearn/feature_selection/_univariate_selection.py:113: RuntimeWarning: divide by zero encountered in true_divide\n",
      "  f = msb / msw\n",
      "/home/step/miniconda3/envs/ml/lib/python3.9/site-packages/sklearn/linear_model/_logistic.py:1476: UserWarning: l1_ratio parameter is only used when penalty is 'elasticnet'. Got (penalty=l2)\n",
      "  warnings.warn(\n",
      "/home/step/miniconda3/envs/ml/lib/python3.9/site-packages/sklearn/linear_model/_sag.py:352: ConvergenceWarning: The max_iter was reached which means the coef_ did not converge\n",
      "  warnings.warn(\n"
     ]
    },
    {
     "name": "stdout",
     "output_type": "stream",
     "text": [
      "[CV 3/3; 7/54] END clf__C=0.5, clf__penalty=l2, clf__solver=saga, feat-selector__percentile=80, preproc__preprocess__bow__ngram_range=(1, 1);, score=(train=1.000, test=0.700) total time=   0.5s\n",
      "[CV 1/3; 8/54] START clf__C=0.5, clf__penalty=l2, clf__solver=saga, feat-selector__percentile=80, preproc__preprocess__bow__ngram_range=(1, 2)\n"
     ]
    },
    {
     "name": "stderr",
     "output_type": "stream",
     "text": [
      "/home/step/miniconda3/envs/ml/lib/python3.9/site-packages/sklearn/feature_selection/_univariate_selection.py:113: RuntimeWarning: divide by zero encountered in true_divide\n",
      "  f = msb / msw\n",
      "/home/step/miniconda3/envs/ml/lib/python3.9/site-packages/sklearn/linear_model/_logistic.py:1476: UserWarning: l1_ratio parameter is only used when penalty is 'elasticnet'. Got (penalty=l2)\n",
      "  warnings.warn(\n",
      "/home/step/miniconda3/envs/ml/lib/python3.9/site-packages/sklearn/linear_model/_sag.py:352: ConvergenceWarning: The max_iter was reached which means the coef_ did not converge\n",
      "  warnings.warn(\n"
     ]
    },
    {
     "name": "stdout",
     "output_type": "stream",
     "text": [
      "[CV 1/3; 8/54] END clf__C=0.5, clf__penalty=l2, clf__solver=saga, feat-selector__percentile=80, preproc__preprocess__bow__ngram_range=(1, 2);, score=(train=1.000, test=0.545) total time=   1.0s\n",
      "[CV 2/3; 8/54] START clf__C=0.5, clf__penalty=l2, clf__solver=saga, feat-selector__percentile=80, preproc__preprocess__bow__ngram_range=(1, 2)\n"
     ]
    },
    {
     "name": "stderr",
     "output_type": "stream",
     "text": [
      "/home/step/miniconda3/envs/ml/lib/python3.9/site-packages/sklearn/linear_model/_logistic.py:1476: UserWarning: l1_ratio parameter is only used when penalty is 'elasticnet'. Got (penalty=l2)\n",
      "  warnings.warn(\n",
      "/home/step/miniconda3/envs/ml/lib/python3.9/site-packages/sklearn/linear_model/_sag.py:352: ConvergenceWarning: The max_iter was reached which means the coef_ did not converge\n",
      "  warnings.warn(\n"
     ]
    },
    {
     "name": "stdout",
     "output_type": "stream",
     "text": [
      "[CV 2/3; 8/54] END clf__C=0.5, clf__penalty=l2, clf__solver=saga, feat-selector__percentile=80, preproc__preprocess__bow__ngram_range=(1, 2);, score=(train=1.000, test=0.364) total time=   0.8s\n",
      "[CV 3/3; 8/54] START clf__C=0.5, clf__penalty=l2, clf__solver=saga, feat-selector__percentile=80, preproc__preprocess__bow__ngram_range=(1, 2)\n"
     ]
    },
    {
     "name": "stderr",
     "output_type": "stream",
     "text": [
      "/home/step/miniconda3/envs/ml/lib/python3.9/site-packages/sklearn/feature_selection/_univariate_selection.py:113: RuntimeWarning: divide by zero encountered in true_divide\n",
      "  f = msb / msw\n",
      "/home/step/miniconda3/envs/ml/lib/python3.9/site-packages/sklearn/linear_model/_logistic.py:1476: UserWarning: l1_ratio parameter is only used when penalty is 'elasticnet'. Got (penalty=l2)\n",
      "  warnings.warn(\n",
      "/home/step/miniconda3/envs/ml/lib/python3.9/site-packages/sklearn/linear_model/_sag.py:352: ConvergenceWarning: The max_iter was reached which means the coef_ did not converge\n",
      "  warnings.warn(\n"
     ]
    },
    {
     "name": "stdout",
     "output_type": "stream",
     "text": [
      "[CV 3/3; 8/54] END clf__C=0.5, clf__penalty=l2, clf__solver=saga, feat-selector__percentile=80, preproc__preprocess__bow__ngram_range=(1, 2);, score=(train=1.000, test=0.700) total time=   0.8s\n",
      "[CV 1/3; 9/54] START clf__C=0.5, clf__penalty=l2, clf__solver=saga, feat-selector__percentile=80, preproc__preprocess__bow__ngram_range=(1, 3)\n"
     ]
    },
    {
     "name": "stderr",
     "output_type": "stream",
     "text": [
      "/home/step/miniconda3/envs/ml/lib/python3.9/site-packages/sklearn/feature_selection/_univariate_selection.py:113: RuntimeWarning: divide by zero encountered in true_divide\n",
      "  f = msb / msw\n",
      "/home/step/miniconda3/envs/ml/lib/python3.9/site-packages/sklearn/linear_model/_logistic.py:1476: UserWarning: l1_ratio parameter is only used when penalty is 'elasticnet'. Got (penalty=l2)\n",
      "  warnings.warn(\n",
      "/home/step/miniconda3/envs/ml/lib/python3.9/site-packages/sklearn/linear_model/_sag.py:352: ConvergenceWarning: The max_iter was reached which means the coef_ did not converge\n",
      "  warnings.warn(\n"
     ]
    },
    {
     "name": "stdout",
     "output_type": "stream",
     "text": [
      "[CV 1/3; 9/54] END clf__C=0.5, clf__penalty=l2, clf__solver=saga, feat-selector__percentile=80, preproc__preprocess__bow__ngram_range=(1, 3);, score=(train=1.000, test=0.545) total time=   1.3s\n",
      "[CV 2/3; 9/54] START clf__C=0.5, clf__penalty=l2, clf__solver=saga, feat-selector__percentile=80, preproc__preprocess__bow__ngram_range=(1, 3)\n"
     ]
    },
    {
     "name": "stderr",
     "output_type": "stream",
     "text": [
      "/home/step/miniconda3/envs/ml/lib/python3.9/site-packages/sklearn/linear_model/_logistic.py:1476: UserWarning: l1_ratio parameter is only used when penalty is 'elasticnet'. Got (penalty=l2)\n",
      "  warnings.warn(\n",
      "/home/step/miniconda3/envs/ml/lib/python3.9/site-packages/sklearn/linear_model/_sag.py:352: ConvergenceWarning: The max_iter was reached which means the coef_ did not converge\n",
      "  warnings.warn(\n"
     ]
    },
    {
     "name": "stdout",
     "output_type": "stream",
     "text": [
      "[CV 2/3; 9/54] END clf__C=0.5, clf__penalty=l2, clf__solver=saga, feat-selector__percentile=80, preproc__preprocess__bow__ngram_range=(1, 3);, score=(train=1.000, test=0.455) total time=   1.1s\n",
      "[CV 3/3; 9/54] START clf__C=0.5, clf__penalty=l2, clf__solver=saga, feat-selector__percentile=80, preproc__preprocess__bow__ngram_range=(1, 3)\n"
     ]
    },
    {
     "name": "stderr",
     "output_type": "stream",
     "text": [
      "/home/step/miniconda3/envs/ml/lib/python3.9/site-packages/sklearn/feature_selection/_univariate_selection.py:113: RuntimeWarning: divide by zero encountered in true_divide\n",
      "  f = msb / msw\n",
      "/home/step/miniconda3/envs/ml/lib/python3.9/site-packages/sklearn/linear_model/_logistic.py:1476: UserWarning: l1_ratio parameter is only used when penalty is 'elasticnet'. Got (penalty=l2)\n",
      "  warnings.warn(\n",
      "/home/step/miniconda3/envs/ml/lib/python3.9/site-packages/sklearn/linear_model/_sag.py:352: ConvergenceWarning: The max_iter was reached which means the coef_ did not converge\n",
      "  warnings.warn(\n"
     ]
    },
    {
     "name": "stdout",
     "output_type": "stream",
     "text": [
      "[CV 3/3; 9/54] END clf__C=0.5, clf__penalty=l2, clf__solver=saga, feat-selector__percentile=80, preproc__preprocess__bow__ngram_range=(1, 3);, score=(train=1.000, test=0.500) total time=   1.1s\n",
      "[CV 1/3; 10/54] START clf__C=0.5, clf__penalty=elasticnet, clf__solver=saga, feat-selector__percentile=30, preproc__preprocess__bow__ngram_range=(1, 1)\n"
     ]
    },
    {
     "name": "stderr",
     "output_type": "stream",
     "text": [
      "/home/step/miniconda3/envs/ml/lib/python3.9/site-packages/sklearn/feature_selection/_univariate_selection.py:113: RuntimeWarning: divide by zero encountered in true_divide\n",
      "  f = msb / msw\n",
      "/home/step/miniconda3/envs/ml/lib/python3.9/site-packages/sklearn/linear_model/_sag.py:352: ConvergenceWarning: The max_iter was reached which means the coef_ did not converge\n",
      "  warnings.warn(\n"
     ]
    },
    {
     "name": "stdout",
     "output_type": "stream",
     "text": [
      "[CV 1/3; 10/54] END clf__C=0.5, clf__penalty=elasticnet, clf__solver=saga, feat-selector__percentile=30, preproc__preprocess__bow__ngram_range=(1, 1);, score=(train=0.952, test=0.636) total time=   0.7s\n",
      "[CV 2/3; 10/54] START clf__C=0.5, clf__penalty=elasticnet, clf__solver=saga, feat-selector__percentile=30, preproc__preprocess__bow__ngram_range=(1, 1)\n"
     ]
    },
    {
     "name": "stderr",
     "output_type": "stream",
     "text": [
      "/home/step/miniconda3/envs/ml/lib/python3.9/site-packages/sklearn/linear_model/_sag.py:352: ConvergenceWarning: The max_iter was reached which means the coef_ did not converge\n",
      "  warnings.warn(\n"
     ]
    },
    {
     "name": "stdout",
     "output_type": "stream",
     "text": [
      "[CV 2/3; 10/54] END clf__C=0.5, clf__penalty=elasticnet, clf__solver=saga, feat-selector__percentile=30, preproc__preprocess__bow__ngram_range=(1, 1);, score=(train=1.000, test=0.364) total time=   0.5s\n",
      "[CV 3/3; 10/54] START clf__C=0.5, clf__penalty=elasticnet, clf__solver=saga, feat-selector__percentile=30, preproc__preprocess__bow__ngram_range=(1, 1)\n"
     ]
    },
    {
     "name": "stderr",
     "output_type": "stream",
     "text": [
      "/home/step/miniconda3/envs/ml/lib/python3.9/site-packages/sklearn/feature_selection/_univariate_selection.py:113: RuntimeWarning: divide by zero encountered in true_divide\n",
      "  f = msb / msw\n",
      "/home/step/miniconda3/envs/ml/lib/python3.9/site-packages/sklearn/linear_model/_sag.py:352: ConvergenceWarning: The max_iter was reached which means the coef_ did not converge\n",
      "  warnings.warn(\n"
     ]
    },
    {
     "name": "stdout",
     "output_type": "stream",
     "text": [
      "[CV 3/3; 10/54] END clf__C=0.5, clf__penalty=elasticnet, clf__solver=saga, feat-selector__percentile=30, preproc__preprocess__bow__ngram_range=(1, 1);, score=(train=1.000, test=0.400) total time=   0.7s\n",
      "[CV 1/3; 11/54] START clf__C=0.5, clf__penalty=elasticnet, clf__solver=saga, feat-selector__percentile=30, preproc__preprocess__bow__ngram_range=(1, 2)\n"
     ]
    },
    {
     "name": "stderr",
     "output_type": "stream",
     "text": [
      "/home/step/miniconda3/envs/ml/lib/python3.9/site-packages/sklearn/feature_selection/_univariate_selection.py:113: RuntimeWarning: divide by zero encountered in true_divide\n",
      "  f = msb / msw\n",
      "/home/step/miniconda3/envs/ml/lib/python3.9/site-packages/sklearn/linear_model/_sag.py:352: ConvergenceWarning: The max_iter was reached which means the coef_ did not converge\n",
      "  warnings.warn(\n"
     ]
    },
    {
     "name": "stdout",
     "output_type": "stream",
     "text": [
      "[CV 1/3; 11/54] END clf__C=0.5, clf__penalty=elasticnet, clf__solver=saga, feat-selector__percentile=30, preproc__preprocess__bow__ngram_range=(1, 2);, score=(train=1.000, test=0.636) total time=   0.9s\n",
      "[CV 2/3; 11/54] START clf__C=0.5, clf__penalty=elasticnet, clf__solver=saga, feat-selector__percentile=30, preproc__preprocess__bow__ngram_range=(1, 2)\n"
     ]
    },
    {
     "name": "stderr",
     "output_type": "stream",
     "text": [
      "/home/step/miniconda3/envs/ml/lib/python3.9/site-packages/sklearn/linear_model/_sag.py:352: ConvergenceWarning: The max_iter was reached which means the coef_ did not converge\n",
      "  warnings.warn(\n"
     ]
    },
    {
     "name": "stdout",
     "output_type": "stream",
     "text": [
      "[CV 2/3; 11/54] END clf__C=0.5, clf__penalty=elasticnet, clf__solver=saga, feat-selector__percentile=30, preproc__preprocess__bow__ngram_range=(1, 2);, score=(train=1.000, test=0.364) total time=   0.7s\n",
      "[CV 3/3; 11/54] START clf__C=0.5, clf__penalty=elasticnet, clf__solver=saga, feat-selector__percentile=30, preproc__preprocess__bow__ngram_range=(1, 2)\n"
     ]
    },
    {
     "name": "stderr",
     "output_type": "stream",
     "text": [
      "/home/step/miniconda3/envs/ml/lib/python3.9/site-packages/sklearn/feature_selection/_univariate_selection.py:113: RuntimeWarning: divide by zero encountered in true_divide\n",
      "  f = msb / msw\n",
      "/home/step/miniconda3/envs/ml/lib/python3.9/site-packages/sklearn/linear_model/_sag.py:352: ConvergenceWarning: The max_iter was reached which means the coef_ did not converge\n",
      "  warnings.warn(\n"
     ]
    },
    {
     "name": "stdout",
     "output_type": "stream",
     "text": [
      "[CV 3/3; 11/54] END clf__C=0.5, clf__penalty=elasticnet, clf__solver=saga, feat-selector__percentile=30, preproc__preprocess__bow__ngram_range=(1, 2);, score=(train=1.000, test=0.400) total time=   0.8s\n",
      "[CV 1/3; 12/54] START clf__C=0.5, clf__penalty=elasticnet, clf__solver=saga, feat-selector__percentile=30, preproc__preprocess__bow__ngram_range=(1, 3)\n"
     ]
    },
    {
     "name": "stderr",
     "output_type": "stream",
     "text": [
      "/home/step/miniconda3/envs/ml/lib/python3.9/site-packages/sklearn/feature_selection/_univariate_selection.py:113: RuntimeWarning: divide by zero encountered in true_divide\n",
      "  f = msb / msw\n",
      "/home/step/miniconda3/envs/ml/lib/python3.9/site-packages/sklearn/linear_model/_sag.py:352: ConvergenceWarning: The max_iter was reached which means the coef_ did not converge\n",
      "  warnings.warn(\n"
     ]
    },
    {
     "name": "stdout",
     "output_type": "stream",
     "text": [
      "[CV 1/3; 12/54] END clf__C=0.5, clf__penalty=elasticnet, clf__solver=saga, feat-selector__percentile=30, preproc__preprocess__bow__ngram_range=(1, 3);, score=(train=0.905, test=0.545) total time=   1.3s\n",
      "[CV 2/3; 12/54] START clf__C=0.5, clf__penalty=elasticnet, clf__solver=saga, feat-selector__percentile=30, preproc__preprocess__bow__ngram_range=(1, 3)\n"
     ]
    },
    {
     "name": "stderr",
     "output_type": "stream",
     "text": [
      "/home/step/miniconda3/envs/ml/lib/python3.9/site-packages/sklearn/linear_model/_sag.py:352: ConvergenceWarning: The max_iter was reached which means the coef_ did not converge\n",
      "  warnings.warn(\n"
     ]
    },
    {
     "name": "stdout",
     "output_type": "stream",
     "text": [
      "[CV 2/3; 12/54] END clf__C=0.5, clf__penalty=elasticnet, clf__solver=saga, feat-selector__percentile=30, preproc__preprocess__bow__ngram_range=(1, 3);, score=(train=1.000, test=0.364) total time=   1.1s\n",
      "[CV 3/3; 12/54] START clf__C=0.5, clf__penalty=elasticnet, clf__solver=saga, feat-selector__percentile=30, preproc__preprocess__bow__ngram_range=(1, 3)\n"
     ]
    },
    {
     "name": "stderr",
     "output_type": "stream",
     "text": [
      "/home/step/miniconda3/envs/ml/lib/python3.9/site-packages/sklearn/feature_selection/_univariate_selection.py:113: RuntimeWarning: divide by zero encountered in true_divide\n",
      "  f = msb / msw\n",
      "/home/step/miniconda3/envs/ml/lib/python3.9/site-packages/sklearn/linear_model/_sag.py:352: ConvergenceWarning: The max_iter was reached which means the coef_ did not converge\n",
      "  warnings.warn(\n"
     ]
    },
    {
     "name": "stdout",
     "output_type": "stream",
     "text": [
      "[CV 3/3; 12/54] END clf__C=0.5, clf__penalty=elasticnet, clf__solver=saga, feat-selector__percentile=30, preproc__preprocess__bow__ngram_range=(1, 3);, score=(train=1.000, test=0.400) total time=   1.1s\n",
      "[CV 1/3; 13/54] START clf__C=0.5, clf__penalty=elasticnet, clf__solver=saga, feat-selector__percentile=60, preproc__preprocess__bow__ngram_range=(1, 1)\n"
     ]
    },
    {
     "name": "stderr",
     "output_type": "stream",
     "text": [
      "/home/step/miniconda3/envs/ml/lib/python3.9/site-packages/sklearn/feature_selection/_univariate_selection.py:113: RuntimeWarning: divide by zero encountered in true_divide\n",
      "  f = msb / msw\n",
      "/home/step/miniconda3/envs/ml/lib/python3.9/site-packages/sklearn/linear_model/_sag.py:352: ConvergenceWarning: The max_iter was reached which means the coef_ did not converge\n",
      "  warnings.warn(\n"
     ]
    },
    {
     "name": "stdout",
     "output_type": "stream",
     "text": [
      "[CV 1/3; 13/54] END clf__C=0.5, clf__penalty=elasticnet, clf__solver=saga, feat-selector__percentile=60, preproc__preprocess__bow__ngram_range=(1, 1);, score=(train=0.905, test=0.545) total time=   1.1s\n",
      "[CV 2/3; 13/54] START clf__C=0.5, clf__penalty=elasticnet, clf__solver=saga, feat-selector__percentile=60, preproc__preprocess__bow__ngram_range=(1, 1)\n"
     ]
    },
    {
     "name": "stderr",
     "output_type": "stream",
     "text": [
      "/home/step/miniconda3/envs/ml/lib/python3.9/site-packages/sklearn/linear_model/_sag.py:352: ConvergenceWarning: The max_iter was reached which means the coef_ did not converge\n",
      "  warnings.warn(\n"
     ]
    },
    {
     "name": "stdout",
     "output_type": "stream",
     "text": [
      "[CV 2/3; 13/54] END clf__C=0.5, clf__penalty=elasticnet, clf__solver=saga, feat-selector__percentile=60, preproc__preprocess__bow__ngram_range=(1, 1);, score=(train=1.000, test=0.364) total time=   0.6s\n",
      "[CV 3/3; 13/54] START clf__C=0.5, clf__penalty=elasticnet, clf__solver=saga, feat-selector__percentile=60, preproc__preprocess__bow__ngram_range=(1, 1)\n"
     ]
    },
    {
     "name": "stderr",
     "output_type": "stream",
     "text": [
      "/home/step/miniconda3/envs/ml/lib/python3.9/site-packages/sklearn/feature_selection/_univariate_selection.py:113: RuntimeWarning: divide by zero encountered in true_divide\n",
      "  f = msb / msw\n",
      "/home/step/miniconda3/envs/ml/lib/python3.9/site-packages/sklearn/linear_model/_sag.py:352: ConvergenceWarning: The max_iter was reached which means the coef_ did not converge\n",
      "  warnings.warn(\n"
     ]
    },
    {
     "name": "stdout",
     "output_type": "stream",
     "text": [
      "[CV 3/3; 13/54] END clf__C=0.5, clf__penalty=elasticnet, clf__solver=saga, feat-selector__percentile=60, preproc__preprocess__bow__ngram_range=(1, 1);, score=(train=0.955, test=0.600) total time=   0.6s\n",
      "[CV 1/3; 14/54] START clf__C=0.5, clf__penalty=elasticnet, clf__solver=saga, feat-selector__percentile=60, preproc__preprocess__bow__ngram_range=(1, 2)\n"
     ]
    },
    {
     "name": "stderr",
     "output_type": "stream",
     "text": [
      "/home/step/miniconda3/envs/ml/lib/python3.9/site-packages/sklearn/feature_selection/_univariate_selection.py:113: RuntimeWarning: divide by zero encountered in true_divide\n",
      "  f = msb / msw\n",
      "/home/step/miniconda3/envs/ml/lib/python3.9/site-packages/sklearn/linear_model/_sag.py:352: ConvergenceWarning: The max_iter was reached which means the coef_ did not converge\n",
      "  warnings.warn(\n"
     ]
    },
    {
     "name": "stdout",
     "output_type": "stream",
     "text": [
      "[CV 1/3; 14/54] END clf__C=0.5, clf__penalty=elasticnet, clf__solver=saga, feat-selector__percentile=60, preproc__preprocess__bow__ngram_range=(1, 2);, score=(train=0.952, test=0.545) total time=   1.5s\n",
      "[CV 2/3; 14/54] START clf__C=0.5, clf__penalty=elasticnet, clf__solver=saga, feat-selector__percentile=60, preproc__preprocess__bow__ngram_range=(1, 2)\n"
     ]
    },
    {
     "name": "stderr",
     "output_type": "stream",
     "text": [
      "/home/step/miniconda3/envs/ml/lib/python3.9/site-packages/sklearn/linear_model/_sag.py:352: ConvergenceWarning: The max_iter was reached which means the coef_ did not converge\n",
      "  warnings.warn(\n"
     ]
    },
    {
     "name": "stdout",
     "output_type": "stream",
     "text": [
      "[CV 2/3; 14/54] END clf__C=0.5, clf__penalty=elasticnet, clf__solver=saga, feat-selector__percentile=60, preproc__preprocess__bow__ngram_range=(1, 2);, score=(train=1.000, test=0.364) total time=   0.9s\n",
      "[CV 3/3; 14/54] START clf__C=0.5, clf__penalty=elasticnet, clf__solver=saga, feat-selector__percentile=60, preproc__preprocess__bow__ngram_range=(1, 2)\n"
     ]
    },
    {
     "name": "stderr",
     "output_type": "stream",
     "text": [
      "/home/step/miniconda3/envs/ml/lib/python3.9/site-packages/sklearn/feature_selection/_univariate_selection.py:113: RuntimeWarning: divide by zero encountered in true_divide\n",
      "  f = msb / msw\n",
      "/home/step/miniconda3/envs/ml/lib/python3.9/site-packages/sklearn/linear_model/_sag.py:352: ConvergenceWarning: The max_iter was reached which means the coef_ did not converge\n",
      "  warnings.warn(\n"
     ]
    },
    {
     "name": "stdout",
     "output_type": "stream",
     "text": [
      "[CV 3/3; 14/54] END clf__C=0.5, clf__penalty=elasticnet, clf__solver=saga, feat-selector__percentile=60, preproc__preprocess__bow__ngram_range=(1, 2);, score=(train=1.000, test=0.500) total time=   0.9s\n",
      "[CV 1/3; 15/54] START clf__C=0.5, clf__penalty=elasticnet, clf__solver=saga, feat-selector__percentile=60, preproc__preprocess__bow__ngram_range=(1, 3)\n"
     ]
    },
    {
     "name": "stderr",
     "output_type": "stream",
     "text": [
      "/home/step/miniconda3/envs/ml/lib/python3.9/site-packages/sklearn/feature_selection/_univariate_selection.py:113: RuntimeWarning: divide by zero encountered in true_divide\n",
      "  f = msb / msw\n",
      "/home/step/miniconda3/envs/ml/lib/python3.9/site-packages/sklearn/linear_model/_sag.py:352: ConvergenceWarning: The max_iter was reached which means the coef_ did not converge\n",
      "  warnings.warn(\n"
     ]
    },
    {
     "name": "stdout",
     "output_type": "stream",
     "text": [
      "[CV 1/3; 15/54] END clf__C=0.5, clf__penalty=elasticnet, clf__solver=saga, feat-selector__percentile=60, preproc__preprocess__bow__ngram_range=(1, 3);, score=(train=0.952, test=0.545) total time=   1.4s\n",
      "[CV 2/3; 15/54] START clf__C=0.5, clf__penalty=elasticnet, clf__solver=saga, feat-selector__percentile=60, preproc__preprocess__bow__ngram_range=(1, 3)\n"
     ]
    },
    {
     "name": "stderr",
     "output_type": "stream",
     "text": [
      "/home/step/miniconda3/envs/ml/lib/python3.9/site-packages/sklearn/linear_model/_sag.py:352: ConvergenceWarning: The max_iter was reached which means the coef_ did not converge\n",
      "  warnings.warn(\n"
     ]
    },
    {
     "name": "stdout",
     "output_type": "stream",
     "text": [
      "[CV 2/3; 15/54] END clf__C=0.5, clf__penalty=elasticnet, clf__solver=saga, feat-selector__percentile=60, preproc__preprocess__bow__ngram_range=(1, 3);, score=(train=1.000, test=0.364) total time=   1.2s\n",
      "[CV 3/3; 15/54] START clf__C=0.5, clf__penalty=elasticnet, clf__solver=saga, feat-selector__percentile=60, preproc__preprocess__bow__ngram_range=(1, 3)\n"
     ]
    },
    {
     "name": "stderr",
     "output_type": "stream",
     "text": [
      "/home/step/miniconda3/envs/ml/lib/python3.9/site-packages/sklearn/feature_selection/_univariate_selection.py:113: RuntimeWarning: divide by zero encountered in true_divide\n",
      "  f = msb / msw\n",
      "/home/step/miniconda3/envs/ml/lib/python3.9/site-packages/sklearn/linear_model/_sag.py:352: ConvergenceWarning: The max_iter was reached which means the coef_ did not converge\n",
      "  warnings.warn(\n"
     ]
    },
    {
     "name": "stdout",
     "output_type": "stream",
     "text": [
      "[CV 3/3; 15/54] END clf__C=0.5, clf__penalty=elasticnet, clf__solver=saga, feat-selector__percentile=60, preproc__preprocess__bow__ngram_range=(1, 3);, score=(train=1.000, test=0.500) total time=   1.3s\n",
      "[CV 1/3; 16/54] START clf__C=0.5, clf__penalty=elasticnet, clf__solver=saga, feat-selector__percentile=80, preproc__preprocess__bow__ngram_range=(1, 1)\n"
     ]
    },
    {
     "name": "stderr",
     "output_type": "stream",
     "text": [
      "/home/step/miniconda3/envs/ml/lib/python3.9/site-packages/sklearn/feature_selection/_univariate_selection.py:113: RuntimeWarning: divide by zero encountered in true_divide\n",
      "  f = msb / msw\n",
      "/home/step/miniconda3/envs/ml/lib/python3.9/site-packages/sklearn/linear_model/_sag.py:352: ConvergenceWarning: The max_iter was reached which means the coef_ did not converge\n",
      "  warnings.warn(\n"
     ]
    },
    {
     "name": "stdout",
     "output_type": "stream",
     "text": [
      "[CV 1/3; 16/54] END clf__C=0.5, clf__penalty=elasticnet, clf__solver=saga, feat-selector__percentile=80, preproc__preprocess__bow__ngram_range=(1, 1);, score=(train=0.905, test=0.545) total time=   0.9s\n",
      "[CV 2/3; 16/54] START clf__C=0.5, clf__penalty=elasticnet, clf__solver=saga, feat-selector__percentile=80, preproc__preprocess__bow__ngram_range=(1, 1)\n"
     ]
    },
    {
     "name": "stderr",
     "output_type": "stream",
     "text": [
      "/home/step/miniconda3/envs/ml/lib/python3.9/site-packages/sklearn/linear_model/_sag.py:352: ConvergenceWarning: The max_iter was reached which means the coef_ did not converge\n",
      "  warnings.warn(\n"
     ]
    },
    {
     "name": "stdout",
     "output_type": "stream",
     "text": [
      "[CV 2/3; 16/54] END clf__C=0.5, clf__penalty=elasticnet, clf__solver=saga, feat-selector__percentile=80, preproc__preprocess__bow__ngram_range=(1, 1);, score=(train=1.000, test=0.364) total time=   0.6s\n",
      "[CV 3/3; 16/54] START clf__C=0.5, clf__penalty=elasticnet, clf__solver=saga, feat-selector__percentile=80, preproc__preprocess__bow__ngram_range=(1, 1)\n"
     ]
    },
    {
     "name": "stderr",
     "output_type": "stream",
     "text": [
      "/home/step/miniconda3/envs/ml/lib/python3.9/site-packages/sklearn/feature_selection/_univariate_selection.py:113: RuntimeWarning: divide by zero encountered in true_divide\n",
      "  f = msb / msw\n",
      "/home/step/miniconda3/envs/ml/lib/python3.9/site-packages/sklearn/linear_model/_sag.py:352: ConvergenceWarning: The max_iter was reached which means the coef_ did not converge\n",
      "  warnings.warn(\n"
     ]
    },
    {
     "name": "stdout",
     "output_type": "stream",
     "text": [
      "[CV 3/3; 16/54] END clf__C=0.5, clf__penalty=elasticnet, clf__solver=saga, feat-selector__percentile=80, preproc__preprocess__bow__ngram_range=(1, 1);, score=(train=1.000, test=0.800) total time=   0.7s\n",
      "[CV 1/3; 17/54] START clf__C=0.5, clf__penalty=elasticnet, clf__solver=saga, feat-selector__percentile=80, preproc__preprocess__bow__ngram_range=(1, 2)\n"
     ]
    },
    {
     "name": "stderr",
     "output_type": "stream",
     "text": [
      "/home/step/miniconda3/envs/ml/lib/python3.9/site-packages/sklearn/feature_selection/_univariate_selection.py:113: RuntimeWarning: divide by zero encountered in true_divide\n",
      "  f = msb / msw\n",
      "/home/step/miniconda3/envs/ml/lib/python3.9/site-packages/sklearn/linear_model/_sag.py:352: ConvergenceWarning: The max_iter was reached which means the coef_ did not converge\n",
      "  warnings.warn(\n"
     ]
    },
    {
     "name": "stdout",
     "output_type": "stream",
     "text": [
      "[CV 1/3; 17/54] END clf__C=0.5, clf__penalty=elasticnet, clf__solver=saga, feat-selector__percentile=80, preproc__preprocess__bow__ngram_range=(1, 2);, score=(train=0.952, test=0.545) total time=   1.3s\n",
      "[CV 2/3; 17/54] START clf__C=0.5, clf__penalty=elasticnet, clf__solver=saga, feat-selector__percentile=80, preproc__preprocess__bow__ngram_range=(1, 2)\n"
     ]
    },
    {
     "name": "stderr",
     "output_type": "stream",
     "text": [
      "/home/step/miniconda3/envs/ml/lib/python3.9/site-packages/sklearn/linear_model/_sag.py:352: ConvergenceWarning: The max_iter was reached which means the coef_ did not converge\n",
      "  warnings.warn(\n"
     ]
    },
    {
     "name": "stdout",
     "output_type": "stream",
     "text": [
      "[CV 2/3; 17/54] END clf__C=0.5, clf__penalty=elasticnet, clf__solver=saga, feat-selector__percentile=80, preproc__preprocess__bow__ngram_range=(1, 2);, score=(train=1.000, test=0.364) total time=   1.1s\n",
      "[CV 3/3; 17/54] START clf__C=0.5, clf__penalty=elasticnet, clf__solver=saga, feat-selector__percentile=80, preproc__preprocess__bow__ngram_range=(1, 2)\n"
     ]
    },
    {
     "name": "stderr",
     "output_type": "stream",
     "text": [
      "/home/step/miniconda3/envs/ml/lib/python3.9/site-packages/sklearn/feature_selection/_univariate_selection.py:113: RuntimeWarning: divide by zero encountered in true_divide\n",
      "  f = msb / msw\n",
      "/home/step/miniconda3/envs/ml/lib/python3.9/site-packages/sklearn/linear_model/_sag.py:352: ConvergenceWarning: The max_iter was reached which means the coef_ did not converge\n",
      "  warnings.warn(\n"
     ]
    },
    {
     "name": "stdout",
     "output_type": "stream",
     "text": [
      "[CV 3/3; 17/54] END clf__C=0.5, clf__penalty=elasticnet, clf__solver=saga, feat-selector__percentile=80, preproc__preprocess__bow__ngram_range=(1, 2);, score=(train=1.000, test=0.800) total time=   1.1s\n",
      "[CV 1/3; 18/54] START clf__C=0.5, clf__penalty=elasticnet, clf__solver=saga, feat-selector__percentile=80, preproc__preprocess__bow__ngram_range=(1, 3)\n"
     ]
    },
    {
     "name": "stderr",
     "output_type": "stream",
     "text": [
      "/home/step/miniconda3/envs/ml/lib/python3.9/site-packages/sklearn/feature_selection/_univariate_selection.py:113: RuntimeWarning: divide by zero encountered in true_divide\n",
      "  f = msb / msw\n",
      "/home/step/miniconda3/envs/ml/lib/python3.9/site-packages/sklearn/linear_model/_sag.py:352: ConvergenceWarning: The max_iter was reached which means the coef_ did not converge\n",
      "  warnings.warn(\n"
     ]
    },
    {
     "name": "stdout",
     "output_type": "stream",
     "text": [
      "[CV 1/3; 18/54] END clf__C=0.5, clf__penalty=elasticnet, clf__solver=saga, feat-selector__percentile=80, preproc__preprocess__bow__ngram_range=(1, 3);, score=(train=0.952, test=0.545) total time=   2.0s\n",
      "[CV 2/3; 18/54] START clf__C=0.5, clf__penalty=elasticnet, clf__solver=saga, feat-selector__percentile=80, preproc__preprocess__bow__ngram_range=(1, 3)\n"
     ]
    },
    {
     "name": "stderr",
     "output_type": "stream",
     "text": [
      "/home/step/miniconda3/envs/ml/lib/python3.9/site-packages/sklearn/linear_model/_sag.py:352: ConvergenceWarning: The max_iter was reached which means the coef_ did not converge\n",
      "  warnings.warn(\n"
     ]
    },
    {
     "name": "stdout",
     "output_type": "stream",
     "text": [
      "[CV 2/3; 18/54] END clf__C=0.5, clf__penalty=elasticnet, clf__solver=saga, feat-selector__percentile=80, preproc__preprocess__bow__ngram_range=(1, 3);, score=(train=1.000, test=0.364) total time=   1.7s\n",
      "[CV 3/3; 18/54] START clf__C=0.5, clf__penalty=elasticnet, clf__solver=saga, feat-selector__percentile=80, preproc__preprocess__bow__ngram_range=(1, 3)\n"
     ]
    },
    {
     "name": "stderr",
     "output_type": "stream",
     "text": [
      "/home/step/miniconda3/envs/ml/lib/python3.9/site-packages/sklearn/feature_selection/_univariate_selection.py:113: RuntimeWarning: divide by zero encountered in true_divide\n",
      "  f = msb / msw\n",
      "/home/step/miniconda3/envs/ml/lib/python3.9/site-packages/sklearn/linear_model/_sag.py:352: ConvergenceWarning: The max_iter was reached which means the coef_ did not converge\n",
      "  warnings.warn(\n"
     ]
    },
    {
     "name": "stdout",
     "output_type": "stream",
     "text": [
      "[CV 3/3; 18/54] END clf__C=0.5, clf__penalty=elasticnet, clf__solver=saga, feat-selector__percentile=80, preproc__preprocess__bow__ngram_range=(1, 3);, score=(train=1.000, test=0.800) total time=   1.8s\n",
      "[CV 1/3; 19/54] START clf__C=1.0, clf__penalty=l2, clf__solver=saga, feat-selector__percentile=30, preproc__preprocess__bow__ngram_range=(1, 1)\n"
     ]
    },
    {
     "name": "stderr",
     "output_type": "stream",
     "text": [
      "/home/step/miniconda3/envs/ml/lib/python3.9/site-packages/sklearn/feature_selection/_univariate_selection.py:113: RuntimeWarning: divide by zero encountered in true_divide\n",
      "  f = msb / msw\n",
      "/home/step/miniconda3/envs/ml/lib/python3.9/site-packages/sklearn/linear_model/_logistic.py:1476: UserWarning: l1_ratio parameter is only used when penalty is 'elasticnet'. Got (penalty=l2)\n",
      "  warnings.warn(\n",
      "/home/step/miniconda3/envs/ml/lib/python3.9/site-packages/sklearn/linear_model/_sag.py:352: ConvergenceWarning: The max_iter was reached which means the coef_ did not converge\n",
      "  warnings.warn(\n"
     ]
    },
    {
     "name": "stdout",
     "output_type": "stream",
     "text": [
      "[CV 1/3; 19/54] END clf__C=1.0, clf__penalty=l2, clf__solver=saga, feat-selector__percentile=30, preproc__preprocess__bow__ngram_range=(1, 1);, score=(train=1.000, test=0.636) total time=   0.7s\n",
      "[CV 2/3; 19/54] START clf__C=1.0, clf__penalty=l2, clf__solver=saga, feat-selector__percentile=30, preproc__preprocess__bow__ngram_range=(1, 1)\n"
     ]
    },
    {
     "name": "stderr",
     "output_type": "stream",
     "text": [
      "/home/step/miniconda3/envs/ml/lib/python3.9/site-packages/sklearn/linear_model/_logistic.py:1476: UserWarning: l1_ratio parameter is only used when penalty is 'elasticnet'. Got (penalty=l2)\n",
      "  warnings.warn(\n",
      "/home/step/miniconda3/envs/ml/lib/python3.9/site-packages/sklearn/linear_model/_sag.py:352: ConvergenceWarning: The max_iter was reached which means the coef_ did not converge\n",
      "  warnings.warn(\n"
     ]
    },
    {
     "name": "stdout",
     "output_type": "stream",
     "text": [
      "[CV 2/3; 19/54] END clf__C=1.0, clf__penalty=l2, clf__solver=saga, feat-selector__percentile=30, preproc__preprocess__bow__ngram_range=(1, 1);, score=(train=1.000, test=0.364) total time=   0.5s\n",
      "[CV 3/3; 19/54] START clf__C=1.0, clf__penalty=l2, clf__solver=saga, feat-selector__percentile=30, preproc__preprocess__bow__ngram_range=(1, 1)\n"
     ]
    },
    {
     "name": "stderr",
     "output_type": "stream",
     "text": [
      "/home/step/miniconda3/envs/ml/lib/python3.9/site-packages/sklearn/feature_selection/_univariate_selection.py:113: RuntimeWarning: divide by zero encountered in true_divide\n",
      "  f = msb / msw\n",
      "/home/step/miniconda3/envs/ml/lib/python3.9/site-packages/sklearn/linear_model/_logistic.py:1476: UserWarning: l1_ratio parameter is only used when penalty is 'elasticnet'. Got (penalty=l2)\n",
      "  warnings.warn(\n",
      "/home/step/miniconda3/envs/ml/lib/python3.9/site-packages/sklearn/linear_model/_sag.py:352: ConvergenceWarning: The max_iter was reached which means the coef_ did not converge\n",
      "  warnings.warn(\n"
     ]
    },
    {
     "name": "stdout",
     "output_type": "stream",
     "text": [
      "[CV 3/3; 19/54] END clf__C=1.0, clf__penalty=l2, clf__solver=saga, feat-selector__percentile=30, preproc__preprocess__bow__ngram_range=(1, 1);, score=(train=1.000, test=0.400) total time=   0.5s\n",
      "[CV 1/3; 20/54] START clf__C=1.0, clf__penalty=l2, clf__solver=saga, feat-selector__percentile=30, preproc__preprocess__bow__ngram_range=(1, 2)\n"
     ]
    },
    {
     "name": "stderr",
     "output_type": "stream",
     "text": [
      "/home/step/miniconda3/envs/ml/lib/python3.9/site-packages/sklearn/feature_selection/_univariate_selection.py:113: RuntimeWarning: divide by zero encountered in true_divide\n",
      "  f = msb / msw\n",
      "/home/step/miniconda3/envs/ml/lib/python3.9/site-packages/sklearn/linear_model/_logistic.py:1476: UserWarning: l1_ratio parameter is only used when penalty is 'elasticnet'. Got (penalty=l2)\n",
      "  warnings.warn(\n",
      "/home/step/miniconda3/envs/ml/lib/python3.9/site-packages/sklearn/linear_model/_sag.py:352: ConvergenceWarning: The max_iter was reached which means the coef_ did not converge\n",
      "  warnings.warn(\n"
     ]
    },
    {
     "name": "stdout",
     "output_type": "stream",
     "text": [
      "[CV 1/3; 20/54] END clf__C=1.0, clf__penalty=l2, clf__solver=saga, feat-selector__percentile=30, preproc__preprocess__bow__ngram_range=(1, 2);, score=(train=1.000, test=0.636) total time=   0.8s\n",
      "[CV 2/3; 20/54] START clf__C=1.0, clf__penalty=l2, clf__solver=saga, feat-selector__percentile=30, preproc__preprocess__bow__ngram_range=(1, 2)\n"
     ]
    },
    {
     "name": "stderr",
     "output_type": "stream",
     "text": [
      "/home/step/miniconda3/envs/ml/lib/python3.9/site-packages/sklearn/linear_model/_logistic.py:1476: UserWarning: l1_ratio parameter is only used when penalty is 'elasticnet'. Got (penalty=l2)\n",
      "  warnings.warn(\n",
      "/home/step/miniconda3/envs/ml/lib/python3.9/site-packages/sklearn/linear_model/_sag.py:352: ConvergenceWarning: The max_iter was reached which means the coef_ did not converge\n",
      "  warnings.warn(\n"
     ]
    },
    {
     "name": "stdout",
     "output_type": "stream",
     "text": [
      "[CV 2/3; 20/54] END clf__C=1.0, clf__penalty=l2, clf__solver=saga, feat-selector__percentile=30, preproc__preprocess__bow__ngram_range=(1, 2);, score=(train=1.000, test=0.455) total time=   0.6s\n",
      "[CV 3/3; 20/54] START clf__C=1.0, clf__penalty=l2, clf__solver=saga, feat-selector__percentile=30, preproc__preprocess__bow__ngram_range=(1, 2)\n"
     ]
    },
    {
     "name": "stderr",
     "output_type": "stream",
     "text": [
      "/home/step/miniconda3/envs/ml/lib/python3.9/site-packages/sklearn/feature_selection/_univariate_selection.py:113: RuntimeWarning: divide by zero encountered in true_divide\n",
      "  f = msb / msw\n",
      "/home/step/miniconda3/envs/ml/lib/python3.9/site-packages/sklearn/linear_model/_logistic.py:1476: UserWarning: l1_ratio parameter is only used when penalty is 'elasticnet'. Got (penalty=l2)\n",
      "  warnings.warn(\n",
      "/home/step/miniconda3/envs/ml/lib/python3.9/site-packages/sklearn/linear_model/_sag.py:352: ConvergenceWarning: The max_iter was reached which means the coef_ did not converge\n",
      "  warnings.warn(\n"
     ]
    },
    {
     "name": "stdout",
     "output_type": "stream",
     "text": [
      "[CV 3/3; 20/54] END clf__C=1.0, clf__penalty=l2, clf__solver=saga, feat-selector__percentile=30, preproc__preprocess__bow__ngram_range=(1, 2);, score=(train=1.000, test=0.500) total time=   0.6s\n",
      "[CV 1/3; 21/54] START clf__C=1.0, clf__penalty=l2, clf__solver=saga, feat-selector__percentile=30, preproc__preprocess__bow__ngram_range=(1, 3)\n"
     ]
    },
    {
     "name": "stderr",
     "output_type": "stream",
     "text": [
      "/home/step/miniconda3/envs/ml/lib/python3.9/site-packages/sklearn/feature_selection/_univariate_selection.py:113: RuntimeWarning: divide by zero encountered in true_divide\n",
      "  f = msb / msw\n",
      "/home/step/miniconda3/envs/ml/lib/python3.9/site-packages/sklearn/linear_model/_logistic.py:1476: UserWarning: l1_ratio parameter is only used when penalty is 'elasticnet'. Got (penalty=l2)\n",
      "  warnings.warn(\n",
      "/home/step/miniconda3/envs/ml/lib/python3.9/site-packages/sklearn/linear_model/_sag.py:352: ConvergenceWarning: The max_iter was reached which means the coef_ did not converge\n",
      "  warnings.warn(\n"
     ]
    },
    {
     "name": "stdout",
     "output_type": "stream",
     "text": [
      "[CV 1/3; 21/54] END clf__C=1.0, clf__penalty=l2, clf__solver=saga, feat-selector__percentile=30, preproc__preprocess__bow__ngram_range=(1, 3);, score=(train=1.000, test=0.636) total time=   1.0s\n",
      "[CV 2/3; 21/54] START clf__C=1.0, clf__penalty=l2, clf__solver=saga, feat-selector__percentile=30, preproc__preprocess__bow__ngram_range=(1, 3)\n"
     ]
    },
    {
     "name": "stderr",
     "output_type": "stream",
     "text": [
      "/home/step/miniconda3/envs/ml/lib/python3.9/site-packages/sklearn/linear_model/_logistic.py:1476: UserWarning: l1_ratio parameter is only used when penalty is 'elasticnet'. Got (penalty=l2)\n",
      "  warnings.warn(\n",
      "/home/step/miniconda3/envs/ml/lib/python3.9/site-packages/sklearn/linear_model/_sag.py:352: ConvergenceWarning: The max_iter was reached which means the coef_ did not converge\n",
      "  warnings.warn(\n"
     ]
    },
    {
     "name": "stdout",
     "output_type": "stream",
     "text": [
      "[CV 2/3; 21/54] END clf__C=1.0, clf__penalty=l2, clf__solver=saga, feat-selector__percentile=30, preproc__preprocess__bow__ngram_range=(1, 3);, score=(train=1.000, test=0.455) total time=   1.0s\n",
      "[CV 3/3; 21/54] START clf__C=1.0, clf__penalty=l2, clf__solver=saga, feat-selector__percentile=30, preproc__preprocess__bow__ngram_range=(1, 3)\n"
     ]
    },
    {
     "name": "stderr",
     "output_type": "stream",
     "text": [
      "/home/step/miniconda3/envs/ml/lib/python3.9/site-packages/sklearn/feature_selection/_univariate_selection.py:113: RuntimeWarning: divide by zero encountered in true_divide\n",
      "  f = msb / msw\n",
      "/home/step/miniconda3/envs/ml/lib/python3.9/site-packages/sklearn/linear_model/_logistic.py:1476: UserWarning: l1_ratio parameter is only used when penalty is 'elasticnet'. Got (penalty=l2)\n",
      "  warnings.warn(\n",
      "/home/step/miniconda3/envs/ml/lib/python3.9/site-packages/sklearn/linear_model/_sag.py:352: ConvergenceWarning: The max_iter was reached which means the coef_ did not converge\n",
      "  warnings.warn(\n"
     ]
    },
    {
     "name": "stdout",
     "output_type": "stream",
     "text": [
      "[CV 3/3; 21/54] END clf__C=1.0, clf__penalty=l2, clf__solver=saga, feat-selector__percentile=30, preproc__preprocess__bow__ngram_range=(1, 3);, score=(train=1.000, test=0.500) total time=   1.0s\n",
      "[CV 1/3; 22/54] START clf__C=1.0, clf__penalty=l2, clf__solver=saga, feat-selector__percentile=60, preproc__preprocess__bow__ngram_range=(1, 1)\n"
     ]
    },
    {
     "name": "stderr",
     "output_type": "stream",
     "text": [
      "/home/step/miniconda3/envs/ml/lib/python3.9/site-packages/sklearn/feature_selection/_univariate_selection.py:113: RuntimeWarning: divide by zero encountered in true_divide\n",
      "  f = msb / msw\n",
      "/home/step/miniconda3/envs/ml/lib/python3.9/site-packages/sklearn/linear_model/_logistic.py:1476: UserWarning: l1_ratio parameter is only used when penalty is 'elasticnet'. Got (penalty=l2)\n",
      "  warnings.warn(\n",
      "/home/step/miniconda3/envs/ml/lib/python3.9/site-packages/sklearn/linear_model/_sag.py:352: ConvergenceWarning: The max_iter was reached which means the coef_ did not converge\n",
      "  warnings.warn(\n"
     ]
    },
    {
     "name": "stdout",
     "output_type": "stream",
     "text": [
      "[CV 1/3; 22/54] END clf__C=1.0, clf__penalty=l2, clf__solver=saga, feat-selector__percentile=60, preproc__preprocess__bow__ngram_range=(1, 1);, score=(train=1.000, test=0.545) total time=   0.7s\n",
      "[CV 2/3; 22/54] START clf__C=1.0, clf__penalty=l2, clf__solver=saga, feat-selector__percentile=60, preproc__preprocess__bow__ngram_range=(1, 1)\n"
     ]
    },
    {
     "name": "stderr",
     "output_type": "stream",
     "text": [
      "/home/step/miniconda3/envs/ml/lib/python3.9/site-packages/sklearn/linear_model/_logistic.py:1476: UserWarning: l1_ratio parameter is only used when penalty is 'elasticnet'. Got (penalty=l2)\n",
      "  warnings.warn(\n",
      "/home/step/miniconda3/envs/ml/lib/python3.9/site-packages/sklearn/linear_model/_sag.py:352: ConvergenceWarning: The max_iter was reached which means the coef_ did not converge\n",
      "  warnings.warn(\n"
     ]
    },
    {
     "name": "stdout",
     "output_type": "stream",
     "text": [
      "[CV 2/3; 22/54] END clf__C=1.0, clf__penalty=l2, clf__solver=saga, feat-selector__percentile=60, preproc__preprocess__bow__ngram_range=(1, 1);, score=(train=1.000, test=0.364) total time=   0.5s\n",
      "[CV 3/3; 22/54] START clf__C=1.0, clf__penalty=l2, clf__solver=saga, feat-selector__percentile=60, preproc__preprocess__bow__ngram_range=(1, 1)\n"
     ]
    },
    {
     "name": "stderr",
     "output_type": "stream",
     "text": [
      "/home/step/miniconda3/envs/ml/lib/python3.9/site-packages/sklearn/feature_selection/_univariate_selection.py:113: RuntimeWarning: divide by zero encountered in true_divide\n",
      "  f = msb / msw\n",
      "/home/step/miniconda3/envs/ml/lib/python3.9/site-packages/sklearn/linear_model/_logistic.py:1476: UserWarning: l1_ratio parameter is only used when penalty is 'elasticnet'. Got (penalty=l2)\n",
      "  warnings.warn(\n",
      "/home/step/miniconda3/envs/ml/lib/python3.9/site-packages/sklearn/linear_model/_sag.py:352: ConvergenceWarning: The max_iter was reached which means the coef_ did not converge\n",
      "  warnings.warn(\n"
     ]
    },
    {
     "name": "stdout",
     "output_type": "stream",
     "text": [
      "[CV 3/3; 22/54] END clf__C=1.0, clf__penalty=l2, clf__solver=saga, feat-selector__percentile=60, preproc__preprocess__bow__ngram_range=(1, 1);, score=(train=1.000, test=0.500) total time=   0.6s\n",
      "[CV 1/3; 23/54] START clf__C=1.0, clf__penalty=l2, clf__solver=saga, feat-selector__percentile=60, preproc__preprocess__bow__ngram_range=(1, 2)\n"
     ]
    },
    {
     "name": "stderr",
     "output_type": "stream",
     "text": [
      "/home/step/miniconda3/envs/ml/lib/python3.9/site-packages/sklearn/feature_selection/_univariate_selection.py:113: RuntimeWarning: divide by zero encountered in true_divide\n",
      "  f = msb / msw\n",
      "/home/step/miniconda3/envs/ml/lib/python3.9/site-packages/sklearn/linear_model/_logistic.py:1476: UserWarning: l1_ratio parameter is only used when penalty is 'elasticnet'. Got (penalty=l2)\n",
      "  warnings.warn(\n",
      "/home/step/miniconda3/envs/ml/lib/python3.9/site-packages/sklearn/linear_model/_sag.py:352: ConvergenceWarning: The max_iter was reached which means the coef_ did not converge\n",
      "  warnings.warn(\n"
     ]
    },
    {
     "name": "stdout",
     "output_type": "stream",
     "text": [
      "[CV 1/3; 23/54] END clf__C=1.0, clf__penalty=l2, clf__solver=saga, feat-selector__percentile=60, preproc__preprocess__bow__ngram_range=(1, 2);, score=(train=1.000, test=0.545) total time=   1.0s\n",
      "[CV 2/3; 23/54] START clf__C=1.0, clf__penalty=l2, clf__solver=saga, feat-selector__percentile=60, preproc__preprocess__bow__ngram_range=(1, 2)\n"
     ]
    },
    {
     "name": "stderr",
     "output_type": "stream",
     "text": [
      "/home/step/miniconda3/envs/ml/lib/python3.9/site-packages/sklearn/linear_model/_logistic.py:1476: UserWarning: l1_ratio parameter is only used when penalty is 'elasticnet'. Got (penalty=l2)\n",
      "  warnings.warn(\n",
      "/home/step/miniconda3/envs/ml/lib/python3.9/site-packages/sklearn/linear_model/_sag.py:352: ConvergenceWarning: The max_iter was reached which means the coef_ did not converge\n",
      "  warnings.warn(\n"
     ]
    },
    {
     "name": "stdout",
     "output_type": "stream",
     "text": [
      "[CV 2/3; 23/54] END clf__C=1.0, clf__penalty=l2, clf__solver=saga, feat-selector__percentile=60, preproc__preprocess__bow__ngram_range=(1, 2);, score=(train=1.000, test=0.364) total time=   0.8s\n",
      "[CV 3/3; 23/54] START clf__C=1.0, clf__penalty=l2, clf__solver=saga, feat-selector__percentile=60, preproc__preprocess__bow__ngram_range=(1, 2)\n"
     ]
    },
    {
     "name": "stderr",
     "output_type": "stream",
     "text": [
      "/home/step/miniconda3/envs/ml/lib/python3.9/site-packages/sklearn/feature_selection/_univariate_selection.py:113: RuntimeWarning: divide by zero encountered in true_divide\n",
      "  f = msb / msw\n",
      "/home/step/miniconda3/envs/ml/lib/python3.9/site-packages/sklearn/linear_model/_logistic.py:1476: UserWarning: l1_ratio parameter is only used when penalty is 'elasticnet'. Got (penalty=l2)\n",
      "  warnings.warn(\n",
      "/home/step/miniconda3/envs/ml/lib/python3.9/site-packages/sklearn/linear_model/_sag.py:352: ConvergenceWarning: The max_iter was reached which means the coef_ did not converge\n",
      "  warnings.warn(\n"
     ]
    },
    {
     "name": "stdout",
     "output_type": "stream",
     "text": [
      "[CV 3/3; 23/54] END clf__C=1.0, clf__penalty=l2, clf__solver=saga, feat-selector__percentile=60, preproc__preprocess__bow__ngram_range=(1, 2);, score=(train=1.000, test=0.500) total time=   0.7s\n",
      "[CV 1/3; 24/54] START clf__C=1.0, clf__penalty=l2, clf__solver=saga, feat-selector__percentile=60, preproc__preprocess__bow__ngram_range=(1, 3)\n"
     ]
    },
    {
     "name": "stderr",
     "output_type": "stream",
     "text": [
      "/home/step/miniconda3/envs/ml/lib/python3.9/site-packages/sklearn/feature_selection/_univariate_selection.py:113: RuntimeWarning: divide by zero encountered in true_divide\n",
      "  f = msb / msw\n",
      "/home/step/miniconda3/envs/ml/lib/python3.9/site-packages/sklearn/linear_model/_logistic.py:1476: UserWarning: l1_ratio parameter is only used when penalty is 'elasticnet'. Got (penalty=l2)\n",
      "  warnings.warn(\n",
      "/home/step/miniconda3/envs/ml/lib/python3.9/site-packages/sklearn/linear_model/_sag.py:352: ConvergenceWarning: The max_iter was reached which means the coef_ did not converge\n",
      "  warnings.warn(\n"
     ]
    },
    {
     "name": "stdout",
     "output_type": "stream",
     "text": [
      "[CV 1/3; 24/54] END clf__C=1.0, clf__penalty=l2, clf__solver=saga, feat-selector__percentile=60, preproc__preprocess__bow__ngram_range=(1, 3);, score=(train=1.000, test=0.636) total time=   1.2s\n",
      "[CV 2/3; 24/54] START clf__C=1.0, clf__penalty=l2, clf__solver=saga, feat-selector__percentile=60, preproc__preprocess__bow__ngram_range=(1, 3)\n"
     ]
    },
    {
     "name": "stderr",
     "output_type": "stream",
     "text": [
      "/home/step/miniconda3/envs/ml/lib/python3.9/site-packages/sklearn/linear_model/_logistic.py:1476: UserWarning: l1_ratio parameter is only used when penalty is 'elasticnet'. Got (penalty=l2)\n",
      "  warnings.warn(\n",
      "/home/step/miniconda3/envs/ml/lib/python3.9/site-packages/sklearn/linear_model/_sag.py:352: ConvergenceWarning: The max_iter was reached which means the coef_ did not converge\n",
      "  warnings.warn(\n"
     ]
    },
    {
     "name": "stdout",
     "output_type": "stream",
     "text": [
      "[CV 2/3; 24/54] END clf__C=1.0, clf__penalty=l2, clf__solver=saga, feat-selector__percentile=60, preproc__preprocess__bow__ngram_range=(1, 3);, score=(train=1.000, test=0.455) total time=   1.1s\n",
      "[CV 3/3; 24/54] START clf__C=1.0, clf__penalty=l2, clf__solver=saga, feat-selector__percentile=60, preproc__preprocess__bow__ngram_range=(1, 3)\n"
     ]
    },
    {
     "name": "stderr",
     "output_type": "stream",
     "text": [
      "/home/step/miniconda3/envs/ml/lib/python3.9/site-packages/sklearn/feature_selection/_univariate_selection.py:113: RuntimeWarning: divide by zero encountered in true_divide\n",
      "  f = msb / msw\n",
      "/home/step/miniconda3/envs/ml/lib/python3.9/site-packages/sklearn/linear_model/_logistic.py:1476: UserWarning: l1_ratio parameter is only used when penalty is 'elasticnet'. Got (penalty=l2)\n",
      "  warnings.warn(\n",
      "/home/step/miniconda3/envs/ml/lib/python3.9/site-packages/sklearn/linear_model/_sag.py:352: ConvergenceWarning: The max_iter was reached which means the coef_ did not converge\n",
      "  warnings.warn(\n"
     ]
    },
    {
     "name": "stdout",
     "output_type": "stream",
     "text": [
      "[CV 3/3; 24/54] END clf__C=1.0, clf__penalty=l2, clf__solver=saga, feat-selector__percentile=60, preproc__preprocess__bow__ngram_range=(1, 3);, score=(train=1.000, test=0.500) total time=   1.2s\n",
      "[CV 1/3; 25/54] START clf__C=1.0, clf__penalty=l2, clf__solver=saga, feat-selector__percentile=80, preproc__preprocess__bow__ngram_range=(1, 1)\n"
     ]
    },
    {
     "name": "stderr",
     "output_type": "stream",
     "text": [
      "/home/step/miniconda3/envs/ml/lib/python3.9/site-packages/sklearn/feature_selection/_univariate_selection.py:113: RuntimeWarning: divide by zero encountered in true_divide\n",
      "  f = msb / msw\n",
      "/home/step/miniconda3/envs/ml/lib/python3.9/site-packages/sklearn/linear_model/_logistic.py:1476: UserWarning: l1_ratio parameter is only used when penalty is 'elasticnet'. Got (penalty=l2)\n",
      "  warnings.warn(\n",
      "/home/step/miniconda3/envs/ml/lib/python3.9/site-packages/sklearn/linear_model/_sag.py:352: ConvergenceWarning: The max_iter was reached which means the coef_ did not converge\n",
      "  warnings.warn(\n"
     ]
    },
    {
     "name": "stdout",
     "output_type": "stream",
     "text": [
      "[CV 1/3; 25/54] END clf__C=1.0, clf__penalty=l2, clf__solver=saga, feat-selector__percentile=80, preproc__preprocess__bow__ngram_range=(1, 1);, score=(train=1.000, test=0.545) total time=   0.9s\n",
      "[CV 2/3; 25/54] START clf__C=1.0, clf__penalty=l2, clf__solver=saga, feat-selector__percentile=80, preproc__preprocess__bow__ngram_range=(1, 1)\n"
     ]
    },
    {
     "name": "stderr",
     "output_type": "stream",
     "text": [
      "/home/step/miniconda3/envs/ml/lib/python3.9/site-packages/sklearn/linear_model/_logistic.py:1476: UserWarning: l1_ratio parameter is only used when penalty is 'elasticnet'. Got (penalty=l2)\n",
      "  warnings.warn(\n",
      "/home/step/miniconda3/envs/ml/lib/python3.9/site-packages/sklearn/linear_model/_sag.py:352: ConvergenceWarning: The max_iter was reached which means the coef_ did not converge\n",
      "  warnings.warn(\n"
     ]
    },
    {
     "name": "stdout",
     "output_type": "stream",
     "text": [
      "[CV 2/3; 25/54] END clf__C=1.0, clf__penalty=l2, clf__solver=saga, feat-selector__percentile=80, preproc__preprocess__bow__ngram_range=(1, 1);, score=(train=1.000, test=0.364) total time=   0.6s\n",
      "[CV 3/3; 25/54] START clf__C=1.0, clf__penalty=l2, clf__solver=saga, feat-selector__percentile=80, preproc__preprocess__bow__ngram_range=(1, 1)\n"
     ]
    },
    {
     "name": "stderr",
     "output_type": "stream",
     "text": [
      "/home/step/miniconda3/envs/ml/lib/python3.9/site-packages/sklearn/feature_selection/_univariate_selection.py:113: RuntimeWarning: divide by zero encountered in true_divide\n",
      "  f = msb / msw\n",
      "/home/step/miniconda3/envs/ml/lib/python3.9/site-packages/sklearn/linear_model/_logistic.py:1476: UserWarning: l1_ratio parameter is only used when penalty is 'elasticnet'. Got (penalty=l2)\n",
      "  warnings.warn(\n",
      "/home/step/miniconda3/envs/ml/lib/python3.9/site-packages/sklearn/linear_model/_sag.py:352: ConvergenceWarning: The max_iter was reached which means the coef_ did not converge\n",
      "  warnings.warn(\n"
     ]
    },
    {
     "name": "stdout",
     "output_type": "stream",
     "text": [
      "[CV 3/3; 25/54] END clf__C=1.0, clf__penalty=l2, clf__solver=saga, feat-selector__percentile=80, preproc__preprocess__bow__ngram_range=(1, 1);, score=(train=1.000, test=0.700) total time=   0.6s\n",
      "[CV 1/3; 26/54] START clf__C=1.0, clf__penalty=l2, clf__solver=saga, feat-selector__percentile=80, preproc__preprocess__bow__ngram_range=(1, 2)\n"
     ]
    },
    {
     "name": "stderr",
     "output_type": "stream",
     "text": [
      "/home/step/miniconda3/envs/ml/lib/python3.9/site-packages/sklearn/feature_selection/_univariate_selection.py:113: RuntimeWarning: divide by zero encountered in true_divide\n",
      "  f = msb / msw\n",
      "/home/step/miniconda3/envs/ml/lib/python3.9/site-packages/sklearn/linear_model/_logistic.py:1476: UserWarning: l1_ratio parameter is only used when penalty is 'elasticnet'. Got (penalty=l2)\n",
      "  warnings.warn(\n",
      "/home/step/miniconda3/envs/ml/lib/python3.9/site-packages/sklearn/linear_model/_sag.py:352: ConvergenceWarning: The max_iter was reached which means the coef_ did not converge\n",
      "  warnings.warn(\n"
     ]
    },
    {
     "name": "stdout",
     "output_type": "stream",
     "text": [
      "[CV 1/3; 26/54] END clf__C=1.0, clf__penalty=l2, clf__solver=saga, feat-selector__percentile=80, preproc__preprocess__bow__ngram_range=(1, 2);, score=(train=1.000, test=0.545) total time=   1.3s\n",
      "[CV 2/3; 26/54] START clf__C=1.0, clf__penalty=l2, clf__solver=saga, feat-selector__percentile=80, preproc__preprocess__bow__ngram_range=(1, 2)\n"
     ]
    },
    {
     "name": "stderr",
     "output_type": "stream",
     "text": [
      "/home/step/miniconda3/envs/ml/lib/python3.9/site-packages/sklearn/linear_model/_logistic.py:1476: UserWarning: l1_ratio parameter is only used when penalty is 'elasticnet'. Got (penalty=l2)\n",
      "  warnings.warn(\n",
      "/home/step/miniconda3/envs/ml/lib/python3.9/site-packages/sklearn/linear_model/_sag.py:352: ConvergenceWarning: The max_iter was reached which means the coef_ did not converge\n",
      "  warnings.warn(\n"
     ]
    },
    {
     "name": "stdout",
     "output_type": "stream",
     "text": [
      "[CV 2/3; 26/54] END clf__C=1.0, clf__penalty=l2, clf__solver=saga, feat-selector__percentile=80, preproc__preprocess__bow__ngram_range=(1, 2);, score=(train=1.000, test=0.364) total time=   0.8s\n",
      "[CV 3/3; 26/54] START clf__C=1.0, clf__penalty=l2, clf__solver=saga, feat-selector__percentile=80, preproc__preprocess__bow__ngram_range=(1, 2)\n"
     ]
    },
    {
     "name": "stderr",
     "output_type": "stream",
     "text": [
      "/home/step/miniconda3/envs/ml/lib/python3.9/site-packages/sklearn/feature_selection/_univariate_selection.py:113: RuntimeWarning: divide by zero encountered in true_divide\n",
      "  f = msb / msw\n",
      "/home/step/miniconda3/envs/ml/lib/python3.9/site-packages/sklearn/linear_model/_logistic.py:1476: UserWarning: l1_ratio parameter is only used when penalty is 'elasticnet'. Got (penalty=l2)\n",
      "  warnings.warn(\n",
      "/home/step/miniconda3/envs/ml/lib/python3.9/site-packages/sklearn/linear_model/_sag.py:352: ConvergenceWarning: The max_iter was reached which means the coef_ did not converge\n",
      "  warnings.warn(\n"
     ]
    },
    {
     "name": "stdout",
     "output_type": "stream",
     "text": [
      "[CV 3/3; 26/54] END clf__C=1.0, clf__penalty=l2, clf__solver=saga, feat-selector__percentile=80, preproc__preprocess__bow__ngram_range=(1, 2);, score=(train=1.000, test=0.700) total time=   0.8s\n",
      "[CV 1/3; 27/54] START clf__C=1.0, clf__penalty=l2, clf__solver=saga, feat-selector__percentile=80, preproc__preprocess__bow__ngram_range=(1, 3)\n"
     ]
    },
    {
     "name": "stderr",
     "output_type": "stream",
     "text": [
      "/home/step/miniconda3/envs/ml/lib/python3.9/site-packages/sklearn/feature_selection/_univariate_selection.py:113: RuntimeWarning: divide by zero encountered in true_divide\n",
      "  f = msb / msw\n",
      "/home/step/miniconda3/envs/ml/lib/python3.9/site-packages/sklearn/linear_model/_logistic.py:1476: UserWarning: l1_ratio parameter is only used when penalty is 'elasticnet'. Got (penalty=l2)\n",
      "  warnings.warn(\n",
      "/home/step/miniconda3/envs/ml/lib/python3.9/site-packages/sklearn/linear_model/_sag.py:352: ConvergenceWarning: The max_iter was reached which means the coef_ did not converge\n",
      "  warnings.warn(\n"
     ]
    },
    {
     "name": "stdout",
     "output_type": "stream",
     "text": [
      "[CV 1/3; 27/54] END clf__C=1.0, clf__penalty=l2, clf__solver=saga, feat-selector__percentile=80, preproc__preprocess__bow__ngram_range=(1, 3);, score=(train=1.000, test=0.545) total time=   1.4s\n",
      "[CV 2/3; 27/54] START clf__C=1.0, clf__penalty=l2, clf__solver=saga, feat-selector__percentile=80, preproc__preprocess__bow__ngram_range=(1, 3)\n"
     ]
    },
    {
     "name": "stderr",
     "output_type": "stream",
     "text": [
      "/home/step/miniconda3/envs/ml/lib/python3.9/site-packages/sklearn/linear_model/_logistic.py:1476: UserWarning: l1_ratio parameter is only used when penalty is 'elasticnet'. Got (penalty=l2)\n",
      "  warnings.warn(\n",
      "/home/step/miniconda3/envs/ml/lib/python3.9/site-packages/sklearn/linear_model/_sag.py:352: ConvergenceWarning: The max_iter was reached which means the coef_ did not converge\n",
      "  warnings.warn(\n"
     ]
    },
    {
     "name": "stdout",
     "output_type": "stream",
     "text": [
      "[CV 2/3; 27/54] END clf__C=1.0, clf__penalty=l2, clf__solver=saga, feat-selector__percentile=80, preproc__preprocess__bow__ngram_range=(1, 3);, score=(train=1.000, test=0.455) total time=   1.1s\n",
      "[CV 3/3; 27/54] START clf__C=1.0, clf__penalty=l2, clf__solver=saga, feat-selector__percentile=80, preproc__preprocess__bow__ngram_range=(1, 3)\n"
     ]
    },
    {
     "name": "stderr",
     "output_type": "stream",
     "text": [
      "/home/step/miniconda3/envs/ml/lib/python3.9/site-packages/sklearn/feature_selection/_univariate_selection.py:113: RuntimeWarning: divide by zero encountered in true_divide\n",
      "  f = msb / msw\n",
      "/home/step/miniconda3/envs/ml/lib/python3.9/site-packages/sklearn/linear_model/_logistic.py:1476: UserWarning: l1_ratio parameter is only used when penalty is 'elasticnet'. Got (penalty=l2)\n",
      "  warnings.warn(\n",
      "/home/step/miniconda3/envs/ml/lib/python3.9/site-packages/sklearn/linear_model/_sag.py:352: ConvergenceWarning: The max_iter was reached which means the coef_ did not converge\n",
      "  warnings.warn(\n"
     ]
    },
    {
     "name": "stdout",
     "output_type": "stream",
     "text": [
      "[CV 3/3; 27/54] END clf__C=1.0, clf__penalty=l2, clf__solver=saga, feat-selector__percentile=80, preproc__preprocess__bow__ngram_range=(1, 3);, score=(train=1.000, test=0.500) total time=   1.1s\n",
      "[CV 1/3; 28/54] START clf__C=1.0, clf__penalty=elasticnet, clf__solver=saga, feat-selector__percentile=30, preproc__preprocess__bow__ngram_range=(1, 1)\n"
     ]
    },
    {
     "name": "stderr",
     "output_type": "stream",
     "text": [
      "/home/step/miniconda3/envs/ml/lib/python3.9/site-packages/sklearn/feature_selection/_univariate_selection.py:113: RuntimeWarning: divide by zero encountered in true_divide\n",
      "  f = msb / msw\n",
      "/home/step/miniconda3/envs/ml/lib/python3.9/site-packages/sklearn/linear_model/_sag.py:352: ConvergenceWarning: The max_iter was reached which means the coef_ did not converge\n",
      "  warnings.warn(\n"
     ]
    },
    {
     "name": "stdout",
     "output_type": "stream",
     "text": [
      "[CV 1/3; 28/54] END clf__C=1.0, clf__penalty=elasticnet, clf__solver=saga, feat-selector__percentile=30, preproc__preprocess__bow__ngram_range=(1, 1);, score=(train=1.000, test=0.636) total time=   0.6s\n",
      "[CV 2/3; 28/54] START clf__C=1.0, clf__penalty=elasticnet, clf__solver=saga, feat-selector__percentile=30, preproc__preprocess__bow__ngram_range=(1, 1)\n"
     ]
    },
    {
     "name": "stderr",
     "output_type": "stream",
     "text": [
      "/home/step/miniconda3/envs/ml/lib/python3.9/site-packages/sklearn/linear_model/_sag.py:352: ConvergenceWarning: The max_iter was reached which means the coef_ did not converge\n",
      "  warnings.warn(\n"
     ]
    },
    {
     "name": "stdout",
     "output_type": "stream",
     "text": [
      "[CV 2/3; 28/54] END clf__C=1.0, clf__penalty=elasticnet, clf__solver=saga, feat-selector__percentile=30, preproc__preprocess__bow__ngram_range=(1, 1);, score=(train=1.000, test=0.364) total time=   0.6s\n",
      "[CV 3/3; 28/54] START clf__C=1.0, clf__penalty=elasticnet, clf__solver=saga, feat-selector__percentile=30, preproc__preprocess__bow__ngram_range=(1, 1)\n"
     ]
    },
    {
     "name": "stderr",
     "output_type": "stream",
     "text": [
      "/home/step/miniconda3/envs/ml/lib/python3.9/site-packages/sklearn/feature_selection/_univariate_selection.py:113: RuntimeWarning: divide by zero encountered in true_divide\n",
      "  f = msb / msw\n",
      "/home/step/miniconda3/envs/ml/lib/python3.9/site-packages/sklearn/linear_model/_sag.py:352: ConvergenceWarning: The max_iter was reached which means the coef_ did not converge\n",
      "  warnings.warn(\n"
     ]
    },
    {
     "name": "stdout",
     "output_type": "stream",
     "text": [
      "[CV 3/3; 28/54] END clf__C=1.0, clf__penalty=elasticnet, clf__solver=saga, feat-selector__percentile=30, preproc__preprocess__bow__ngram_range=(1, 1);, score=(train=1.000, test=0.400) total time=   0.7s\n",
      "[CV 1/3; 29/54] START clf__C=1.0, clf__penalty=elasticnet, clf__solver=saga, feat-selector__percentile=30, preproc__preprocess__bow__ngram_range=(1, 2)\n"
     ]
    },
    {
     "name": "stderr",
     "output_type": "stream",
     "text": [
      "/home/step/miniconda3/envs/ml/lib/python3.9/site-packages/sklearn/feature_selection/_univariate_selection.py:113: RuntimeWarning: divide by zero encountered in true_divide\n",
      "  f = msb / msw\n",
      "/home/step/miniconda3/envs/ml/lib/python3.9/site-packages/sklearn/linear_model/_sag.py:352: ConvergenceWarning: The max_iter was reached which means the coef_ did not converge\n",
      "  warnings.warn(\n"
     ]
    },
    {
     "name": "stdout",
     "output_type": "stream",
     "text": [
      "[CV 1/3; 29/54] END clf__C=1.0, clf__penalty=elasticnet, clf__solver=saga, feat-selector__percentile=30, preproc__preprocess__bow__ngram_range=(1, 2);, score=(train=1.000, test=0.545) total time=   0.9s\n",
      "[CV 2/3; 29/54] START clf__C=1.0, clf__penalty=elasticnet, clf__solver=saga, feat-selector__percentile=30, preproc__preprocess__bow__ngram_range=(1, 2)\n"
     ]
    },
    {
     "name": "stderr",
     "output_type": "stream",
     "text": [
      "/home/step/miniconda3/envs/ml/lib/python3.9/site-packages/sklearn/linear_model/_sag.py:352: ConvergenceWarning: The max_iter was reached which means the coef_ did not converge\n",
      "  warnings.warn(\n"
     ]
    },
    {
     "name": "stdout",
     "output_type": "stream",
     "text": [
      "[CV 2/3; 29/54] END clf__C=1.0, clf__penalty=elasticnet, clf__solver=saga, feat-selector__percentile=30, preproc__preprocess__bow__ngram_range=(1, 2);, score=(train=1.000, test=0.364) total time=   0.8s\n",
      "[CV 3/3; 29/54] START clf__C=1.0, clf__penalty=elasticnet, clf__solver=saga, feat-selector__percentile=30, preproc__preprocess__bow__ngram_range=(1, 2)\n"
     ]
    },
    {
     "name": "stderr",
     "output_type": "stream",
     "text": [
      "/home/step/miniconda3/envs/ml/lib/python3.9/site-packages/sklearn/feature_selection/_univariate_selection.py:113: RuntimeWarning: divide by zero encountered in true_divide\n",
      "  f = msb / msw\n",
      "/home/step/miniconda3/envs/ml/lib/python3.9/site-packages/sklearn/linear_model/_sag.py:352: ConvergenceWarning: The max_iter was reached which means the coef_ did not converge\n",
      "  warnings.warn(\n"
     ]
    },
    {
     "name": "stdout",
     "output_type": "stream",
     "text": [
      "[CV 3/3; 29/54] END clf__C=1.0, clf__penalty=elasticnet, clf__solver=saga, feat-selector__percentile=30, preproc__preprocess__bow__ngram_range=(1, 2);, score=(train=1.000, test=0.400) total time=   0.8s\n",
      "[CV 1/3; 30/54] START clf__C=1.0, clf__penalty=elasticnet, clf__solver=saga, feat-selector__percentile=30, preproc__preprocess__bow__ngram_range=(1, 3)\n"
     ]
    },
    {
     "name": "stderr",
     "output_type": "stream",
     "text": [
      "/home/step/miniconda3/envs/ml/lib/python3.9/site-packages/sklearn/feature_selection/_univariate_selection.py:113: RuntimeWarning: divide by zero encountered in true_divide\n",
      "  f = msb / msw\n",
      "/home/step/miniconda3/envs/ml/lib/python3.9/site-packages/sklearn/linear_model/_sag.py:352: ConvergenceWarning: The max_iter was reached which means the coef_ did not converge\n",
      "  warnings.warn(\n"
     ]
    },
    {
     "name": "stdout",
     "output_type": "stream",
     "text": [
      "[CV 1/3; 30/54] END clf__C=1.0, clf__penalty=elasticnet, clf__solver=saga, feat-selector__percentile=30, preproc__preprocess__bow__ngram_range=(1, 3);, score=(train=1.000, test=0.545) total time=   1.4s\n",
      "[CV 2/3; 30/54] START clf__C=1.0, clf__penalty=elasticnet, clf__solver=saga, feat-selector__percentile=30, preproc__preprocess__bow__ngram_range=(1, 3)\n"
     ]
    },
    {
     "name": "stderr",
     "output_type": "stream",
     "text": [
      "/home/step/miniconda3/envs/ml/lib/python3.9/site-packages/sklearn/linear_model/_sag.py:352: ConvergenceWarning: The max_iter was reached which means the coef_ did not converge\n",
      "  warnings.warn(\n"
     ]
    },
    {
     "name": "stdout",
     "output_type": "stream",
     "text": [
      "[CV 2/3; 30/54] END clf__C=1.0, clf__penalty=elasticnet, clf__solver=saga, feat-selector__percentile=30, preproc__preprocess__bow__ngram_range=(1, 3);, score=(train=1.000, test=0.364) total time=   1.1s\n",
      "[CV 3/3; 30/54] START clf__C=1.0, clf__penalty=elasticnet, clf__solver=saga, feat-selector__percentile=30, preproc__preprocess__bow__ngram_range=(1, 3)\n"
     ]
    },
    {
     "name": "stderr",
     "output_type": "stream",
     "text": [
      "/home/step/miniconda3/envs/ml/lib/python3.9/site-packages/sklearn/feature_selection/_univariate_selection.py:113: RuntimeWarning: divide by zero encountered in true_divide\n",
      "  f = msb / msw\n",
      "/home/step/miniconda3/envs/ml/lib/python3.9/site-packages/sklearn/linear_model/_sag.py:352: ConvergenceWarning: The max_iter was reached which means the coef_ did not converge\n",
      "  warnings.warn(\n"
     ]
    },
    {
     "name": "stdout",
     "output_type": "stream",
     "text": [
      "[CV 3/3; 30/54] END clf__C=1.0, clf__penalty=elasticnet, clf__solver=saga, feat-selector__percentile=30, preproc__preprocess__bow__ngram_range=(1, 3);, score=(train=1.000, test=0.400) total time=   1.0s\n",
      "[CV 1/3; 31/54] START clf__C=1.0, clf__penalty=elasticnet, clf__solver=saga, feat-selector__percentile=60, preproc__preprocess__bow__ngram_range=(1, 1)\n"
     ]
    },
    {
     "name": "stderr",
     "output_type": "stream",
     "text": [
      "/home/step/miniconda3/envs/ml/lib/python3.9/site-packages/sklearn/feature_selection/_univariate_selection.py:113: RuntimeWarning: divide by zero encountered in true_divide\n",
      "  f = msb / msw\n",
      "/home/step/miniconda3/envs/ml/lib/python3.9/site-packages/sklearn/linear_model/_sag.py:352: ConvergenceWarning: The max_iter was reached which means the coef_ did not converge\n",
      "  warnings.warn(\n"
     ]
    },
    {
     "name": "stdout",
     "output_type": "stream",
     "text": [
      "[CV 1/3; 31/54] END clf__C=1.0, clf__penalty=elasticnet, clf__solver=saga, feat-selector__percentile=60, preproc__preprocess__bow__ngram_range=(1, 1);, score=(train=0.952, test=0.545) total time=   0.8s\n",
      "[CV 2/3; 31/54] START clf__C=1.0, clf__penalty=elasticnet, clf__solver=saga, feat-selector__percentile=60, preproc__preprocess__bow__ngram_range=(1, 1)\n"
     ]
    },
    {
     "name": "stderr",
     "output_type": "stream",
     "text": [
      "/home/step/miniconda3/envs/ml/lib/python3.9/site-packages/sklearn/linear_model/_sag.py:352: ConvergenceWarning: The max_iter was reached which means the coef_ did not converge\n",
      "  warnings.warn(\n"
     ]
    },
    {
     "name": "stdout",
     "output_type": "stream",
     "text": [
      "[CV 2/3; 31/54] END clf__C=1.0, clf__penalty=elasticnet, clf__solver=saga, feat-selector__percentile=60, preproc__preprocess__bow__ngram_range=(1, 1);, score=(train=1.000, test=0.364) total time=   0.6s\n",
      "[CV 3/3; 31/54] START clf__C=1.0, clf__penalty=elasticnet, clf__solver=saga, feat-selector__percentile=60, preproc__preprocess__bow__ngram_range=(1, 1)\n"
     ]
    },
    {
     "name": "stderr",
     "output_type": "stream",
     "text": [
      "/home/step/miniconda3/envs/ml/lib/python3.9/site-packages/sklearn/feature_selection/_univariate_selection.py:113: RuntimeWarning: divide by zero encountered in true_divide\n",
      "  f = msb / msw\n",
      "/home/step/miniconda3/envs/ml/lib/python3.9/site-packages/sklearn/linear_model/_sag.py:352: ConvergenceWarning: The max_iter was reached which means the coef_ did not converge\n",
      "  warnings.warn(\n"
     ]
    },
    {
     "name": "stdout",
     "output_type": "stream",
     "text": [
      "[CV 3/3; 31/54] END clf__C=1.0, clf__penalty=elasticnet, clf__solver=saga, feat-selector__percentile=60, preproc__preprocess__bow__ngram_range=(1, 1);, score=(train=1.000, test=0.500) total time=   0.6s\n",
      "[CV 1/3; 32/54] START clf__C=1.0, clf__penalty=elasticnet, clf__solver=saga, feat-selector__percentile=60, preproc__preprocess__bow__ngram_range=(1, 2)\n"
     ]
    },
    {
     "name": "stderr",
     "output_type": "stream",
     "text": [
      "/home/step/miniconda3/envs/ml/lib/python3.9/site-packages/sklearn/feature_selection/_univariate_selection.py:113: RuntimeWarning: divide by zero encountered in true_divide\n",
      "  f = msb / msw\n",
      "/home/step/miniconda3/envs/ml/lib/python3.9/site-packages/sklearn/linear_model/_sag.py:352: ConvergenceWarning: The max_iter was reached which means the coef_ did not converge\n",
      "  warnings.warn(\n"
     ]
    },
    {
     "name": "stdout",
     "output_type": "stream",
     "text": [
      "[CV 1/3; 32/54] END clf__C=1.0, clf__penalty=elasticnet, clf__solver=saga, feat-selector__percentile=60, preproc__preprocess__bow__ngram_range=(1, 2);, score=(train=1.000, test=0.545) total time=   1.3s\n",
      "[CV 2/3; 32/54] START clf__C=1.0, clf__penalty=elasticnet, clf__solver=saga, feat-selector__percentile=60, preproc__preprocess__bow__ngram_range=(1, 2)\n"
     ]
    },
    {
     "name": "stderr",
     "output_type": "stream",
     "text": [
      "/home/step/miniconda3/envs/ml/lib/python3.9/site-packages/sklearn/linear_model/_sag.py:352: ConvergenceWarning: The max_iter was reached which means the coef_ did not converge\n",
      "  warnings.warn(\n"
     ]
    },
    {
     "name": "stdout",
     "output_type": "stream",
     "text": [
      "[CV 2/3; 32/54] END clf__C=1.0, clf__penalty=elasticnet, clf__solver=saga, feat-selector__percentile=60, preproc__preprocess__bow__ngram_range=(1, 2);, score=(train=1.000, test=0.364) total time=   1.1s\n",
      "[CV 3/3; 32/54] START clf__C=1.0, clf__penalty=elasticnet, clf__solver=saga, feat-selector__percentile=60, preproc__preprocess__bow__ngram_range=(1, 2)\n"
     ]
    },
    {
     "name": "stderr",
     "output_type": "stream",
     "text": [
      "/home/step/miniconda3/envs/ml/lib/python3.9/site-packages/sklearn/feature_selection/_univariate_selection.py:113: RuntimeWarning: divide by zero encountered in true_divide\n",
      "  f = msb / msw\n",
      "/home/step/miniconda3/envs/ml/lib/python3.9/site-packages/sklearn/linear_model/_sag.py:352: ConvergenceWarning: The max_iter was reached which means the coef_ did not converge\n",
      "  warnings.warn(\n"
     ]
    },
    {
     "name": "stdout",
     "output_type": "stream",
     "text": [
      "[CV 3/3; 32/54] END clf__C=1.0, clf__penalty=elasticnet, clf__solver=saga, feat-selector__percentile=60, preproc__preprocess__bow__ngram_range=(1, 2);, score=(train=1.000, test=0.500) total time=   1.1s\n",
      "[CV 1/3; 33/54] START clf__C=1.0, clf__penalty=elasticnet, clf__solver=saga, feat-selector__percentile=60, preproc__preprocess__bow__ngram_range=(1, 3)\n"
     ]
    },
    {
     "name": "stderr",
     "output_type": "stream",
     "text": [
      "/home/step/miniconda3/envs/ml/lib/python3.9/site-packages/sklearn/feature_selection/_univariate_selection.py:113: RuntimeWarning: divide by zero encountered in true_divide\n",
      "  f = msb / msw\n",
      "/home/step/miniconda3/envs/ml/lib/python3.9/site-packages/sklearn/linear_model/_sag.py:352: ConvergenceWarning: The max_iter was reached which means the coef_ did not converge\n",
      "  warnings.warn(\n"
     ]
    },
    {
     "name": "stdout",
     "output_type": "stream",
     "text": [
      "[CV 1/3; 33/54] END clf__C=1.0, clf__penalty=elasticnet, clf__solver=saga, feat-selector__percentile=60, preproc__preprocess__bow__ngram_range=(1, 3);, score=(train=1.000, test=0.545) total time=   1.8s\n",
      "[CV 2/3; 33/54] START clf__C=1.0, clf__penalty=elasticnet, clf__solver=saga, feat-selector__percentile=60, preproc__preprocess__bow__ngram_range=(1, 3)\n"
     ]
    },
    {
     "name": "stderr",
     "output_type": "stream",
     "text": [
      "/home/step/miniconda3/envs/ml/lib/python3.9/site-packages/sklearn/linear_model/_sag.py:352: ConvergenceWarning: The max_iter was reached which means the coef_ did not converge\n",
      "  warnings.warn(\n"
     ]
    },
    {
     "name": "stdout",
     "output_type": "stream",
     "text": [
      "[CV 2/3; 33/54] END clf__C=1.0, clf__penalty=elasticnet, clf__solver=saga, feat-selector__percentile=60, preproc__preprocess__bow__ngram_range=(1, 3);, score=(train=1.000, test=0.364) total time=   1.5s\n",
      "[CV 3/3; 33/54] START clf__C=1.0, clf__penalty=elasticnet, clf__solver=saga, feat-selector__percentile=60, preproc__preprocess__bow__ngram_range=(1, 3)\n"
     ]
    },
    {
     "name": "stderr",
     "output_type": "stream",
     "text": [
      "/home/step/miniconda3/envs/ml/lib/python3.9/site-packages/sklearn/feature_selection/_univariate_selection.py:113: RuntimeWarning: divide by zero encountered in true_divide\n",
      "  f = msb / msw\n",
      "/home/step/miniconda3/envs/ml/lib/python3.9/site-packages/sklearn/linear_model/_sag.py:352: ConvergenceWarning: The max_iter was reached which means the coef_ did not converge\n",
      "  warnings.warn(\n"
     ]
    },
    {
     "name": "stdout",
     "output_type": "stream",
     "text": [
      "[CV 3/3; 33/54] END clf__C=1.0, clf__penalty=elasticnet, clf__solver=saga, feat-selector__percentile=60, preproc__preprocess__bow__ngram_range=(1, 3);, score=(train=1.000, test=0.500) total time=   1.5s\n",
      "[CV 1/3; 34/54] START clf__C=1.0, clf__penalty=elasticnet, clf__solver=saga, feat-selector__percentile=80, preproc__preprocess__bow__ngram_range=(1, 1)\n"
     ]
    },
    {
     "name": "stderr",
     "output_type": "stream",
     "text": [
      "/home/step/miniconda3/envs/ml/lib/python3.9/site-packages/sklearn/feature_selection/_univariate_selection.py:113: RuntimeWarning: divide by zero encountered in true_divide\n",
      "  f = msb / msw\n",
      "/home/step/miniconda3/envs/ml/lib/python3.9/site-packages/sklearn/linear_model/_sag.py:352: ConvergenceWarning: The max_iter was reached which means the coef_ did not converge\n",
      "  warnings.warn(\n"
     ]
    },
    {
     "name": "stdout",
     "output_type": "stream",
     "text": [
      "[CV 1/3; 34/54] END clf__C=1.0, clf__penalty=elasticnet, clf__solver=saga, feat-selector__percentile=80, preproc__preprocess__bow__ngram_range=(1, 1);, score=(train=0.952, test=0.545) total time=   0.9s\n",
      "[CV 2/3; 34/54] START clf__C=1.0, clf__penalty=elasticnet, clf__solver=saga, feat-selector__percentile=80, preproc__preprocess__bow__ngram_range=(1, 1)\n"
     ]
    },
    {
     "name": "stderr",
     "output_type": "stream",
     "text": [
      "/home/step/miniconda3/envs/ml/lib/python3.9/site-packages/sklearn/linear_model/_sag.py:352: ConvergenceWarning: The max_iter was reached which means the coef_ did not converge\n",
      "  warnings.warn(\n"
     ]
    },
    {
     "name": "stdout",
     "output_type": "stream",
     "text": [
      "[CV 2/3; 34/54] END clf__C=1.0, clf__penalty=elasticnet, clf__solver=saga, feat-selector__percentile=80, preproc__preprocess__bow__ngram_range=(1, 1);, score=(train=1.000, test=0.364) total time=   0.7s\n",
      "[CV 3/3; 34/54] START clf__C=1.0, clf__penalty=elasticnet, clf__solver=saga, feat-selector__percentile=80, preproc__preprocess__bow__ngram_range=(1, 1)\n"
     ]
    },
    {
     "name": "stderr",
     "output_type": "stream",
     "text": [
      "/home/step/miniconda3/envs/ml/lib/python3.9/site-packages/sklearn/feature_selection/_univariate_selection.py:113: RuntimeWarning: divide by zero encountered in true_divide\n",
      "  f = msb / msw\n",
      "/home/step/miniconda3/envs/ml/lib/python3.9/site-packages/sklearn/linear_model/_sag.py:352: ConvergenceWarning: The max_iter was reached which means the coef_ did not converge\n",
      "  warnings.warn(\n"
     ]
    },
    {
     "name": "stdout",
     "output_type": "stream",
     "text": [
      "[CV 3/3; 34/54] END clf__C=1.0, clf__penalty=elasticnet, clf__solver=saga, feat-selector__percentile=80, preproc__preprocess__bow__ngram_range=(1, 1);, score=(train=1.000, test=0.800) total time=   0.7s\n",
      "[CV 1/3; 35/54] START clf__C=1.0, clf__penalty=elasticnet, clf__solver=saga, feat-selector__percentile=80, preproc__preprocess__bow__ngram_range=(1, 2)\n"
     ]
    },
    {
     "name": "stderr",
     "output_type": "stream",
     "text": [
      "/home/step/miniconda3/envs/ml/lib/python3.9/site-packages/sklearn/feature_selection/_univariate_selection.py:113: RuntimeWarning: divide by zero encountered in true_divide\n",
      "  f = msb / msw\n",
      "/home/step/miniconda3/envs/ml/lib/python3.9/site-packages/sklearn/linear_model/_sag.py:352: ConvergenceWarning: The max_iter was reached which means the coef_ did not converge\n",
      "  warnings.warn(\n"
     ]
    },
    {
     "name": "stdout",
     "output_type": "stream",
     "text": [
      "[CV 1/3; 35/54] END clf__C=1.0, clf__penalty=elasticnet, clf__solver=saga, feat-selector__percentile=80, preproc__preprocess__bow__ngram_range=(1, 2);, score=(train=1.000, test=0.545) total time=   1.4s\n",
      "[CV 2/3; 35/54] START clf__C=1.0, clf__penalty=elasticnet, clf__solver=saga, feat-selector__percentile=80, preproc__preprocess__bow__ngram_range=(1, 2)\n"
     ]
    },
    {
     "name": "stderr",
     "output_type": "stream",
     "text": [
      "/home/step/miniconda3/envs/ml/lib/python3.9/site-packages/sklearn/linear_model/_sag.py:352: ConvergenceWarning: The max_iter was reached which means the coef_ did not converge\n",
      "  warnings.warn(\n"
     ]
    },
    {
     "name": "stdout",
     "output_type": "stream",
     "text": [
      "[CV 2/3; 35/54] END clf__C=1.0, clf__penalty=elasticnet, clf__solver=saga, feat-selector__percentile=80, preproc__preprocess__bow__ngram_range=(1, 2);, score=(train=1.000, test=0.364) total time=   1.3s\n",
      "[CV 3/3; 35/54] START clf__C=1.0, clf__penalty=elasticnet, clf__solver=saga, feat-selector__percentile=80, preproc__preprocess__bow__ngram_range=(1, 2)\n"
     ]
    },
    {
     "name": "stderr",
     "output_type": "stream",
     "text": [
      "/home/step/miniconda3/envs/ml/lib/python3.9/site-packages/sklearn/feature_selection/_univariate_selection.py:113: RuntimeWarning: divide by zero encountered in true_divide\n",
      "  f = msb / msw\n",
      "/home/step/miniconda3/envs/ml/lib/python3.9/site-packages/sklearn/linear_model/_sag.py:352: ConvergenceWarning: The max_iter was reached which means the coef_ did not converge\n",
      "  warnings.warn(\n"
     ]
    },
    {
     "name": "stdout",
     "output_type": "stream",
     "text": [
      "[CV 3/3; 35/54] END clf__C=1.0, clf__penalty=elasticnet, clf__solver=saga, feat-selector__percentile=80, preproc__preprocess__bow__ngram_range=(1, 2);, score=(train=1.000, test=0.800) total time=   1.3s\n",
      "[CV 1/3; 36/54] START clf__C=1.0, clf__penalty=elasticnet, clf__solver=saga, feat-selector__percentile=80, preproc__preprocess__bow__ngram_range=(1, 3)\n"
     ]
    },
    {
     "name": "stderr",
     "output_type": "stream",
     "text": [
      "/home/step/miniconda3/envs/ml/lib/python3.9/site-packages/sklearn/feature_selection/_univariate_selection.py:113: RuntimeWarning: divide by zero encountered in true_divide\n",
      "  f = msb / msw\n",
      "/home/step/miniconda3/envs/ml/lib/python3.9/site-packages/sklearn/linear_model/_sag.py:352: ConvergenceWarning: The max_iter was reached which means the coef_ did not converge\n",
      "  warnings.warn(\n"
     ]
    },
    {
     "name": "stdout",
     "output_type": "stream",
     "text": [
      "[CV 1/3; 36/54] END clf__C=1.0, clf__penalty=elasticnet, clf__solver=saga, feat-selector__percentile=80, preproc__preprocess__bow__ngram_range=(1, 3);, score=(train=1.000, test=0.545) total time=   2.1s\n",
      "[CV 2/3; 36/54] START clf__C=1.0, clf__penalty=elasticnet, clf__solver=saga, feat-selector__percentile=80, preproc__preprocess__bow__ngram_range=(1, 3)\n"
     ]
    },
    {
     "name": "stderr",
     "output_type": "stream",
     "text": [
      "/home/step/miniconda3/envs/ml/lib/python3.9/site-packages/sklearn/linear_model/_sag.py:352: ConvergenceWarning: The max_iter was reached which means the coef_ did not converge\n",
      "  warnings.warn(\n"
     ]
    },
    {
     "name": "stdout",
     "output_type": "stream",
     "text": [
      "[CV 2/3; 36/54] END clf__C=1.0, clf__penalty=elasticnet, clf__solver=saga, feat-selector__percentile=80, preproc__preprocess__bow__ngram_range=(1, 3);, score=(train=1.000, test=0.364) total time=   1.9s\n",
      "[CV 3/3; 36/54] START clf__C=1.0, clf__penalty=elasticnet, clf__solver=saga, feat-selector__percentile=80, preproc__preprocess__bow__ngram_range=(1, 3)\n"
     ]
    },
    {
     "name": "stderr",
     "output_type": "stream",
     "text": [
      "/home/step/miniconda3/envs/ml/lib/python3.9/site-packages/sklearn/feature_selection/_univariate_selection.py:113: RuntimeWarning: divide by zero encountered in true_divide\n",
      "  f = msb / msw\n",
      "/home/step/miniconda3/envs/ml/lib/python3.9/site-packages/sklearn/linear_model/_sag.py:352: ConvergenceWarning: The max_iter was reached which means the coef_ did not converge\n",
      "  warnings.warn(\n"
     ]
    },
    {
     "name": "stdout",
     "output_type": "stream",
     "text": [
      "[CV 3/3; 36/54] END clf__C=1.0, clf__penalty=elasticnet, clf__solver=saga, feat-selector__percentile=80, preproc__preprocess__bow__ngram_range=(1, 3);, score=(train=1.000, test=0.800) total time=   1.8s\n",
      "[CV 1/3; 37/54] START clf__C=5.0, clf__penalty=l2, clf__solver=saga, feat-selector__percentile=30, preproc__preprocess__bow__ngram_range=(1, 1)\n"
     ]
    },
    {
     "name": "stderr",
     "output_type": "stream",
     "text": [
      "/home/step/miniconda3/envs/ml/lib/python3.9/site-packages/sklearn/feature_selection/_univariate_selection.py:113: RuntimeWarning: divide by zero encountered in true_divide\n",
      "  f = msb / msw\n",
      "/home/step/miniconda3/envs/ml/lib/python3.9/site-packages/sklearn/linear_model/_logistic.py:1476: UserWarning: l1_ratio parameter is only used when penalty is 'elasticnet'. Got (penalty=l2)\n",
      "  warnings.warn(\n",
      "/home/step/miniconda3/envs/ml/lib/python3.9/site-packages/sklearn/linear_model/_sag.py:352: ConvergenceWarning: The max_iter was reached which means the coef_ did not converge\n",
      "  warnings.warn(\n"
     ]
    },
    {
     "name": "stdout",
     "output_type": "stream",
     "text": [
      "[CV 1/3; 37/54] END clf__C=5.0, clf__penalty=l2, clf__solver=saga, feat-selector__percentile=30, preproc__preprocess__bow__ngram_range=(1, 1);, score=(train=1.000, test=0.636) total time=   0.5s\n",
      "[CV 2/3; 37/54] START clf__C=5.0, clf__penalty=l2, clf__solver=saga, feat-selector__percentile=30, preproc__preprocess__bow__ngram_range=(1, 1)\n"
     ]
    },
    {
     "name": "stderr",
     "output_type": "stream",
     "text": [
      "/home/step/miniconda3/envs/ml/lib/python3.9/site-packages/sklearn/linear_model/_logistic.py:1476: UserWarning: l1_ratio parameter is only used when penalty is 'elasticnet'. Got (penalty=l2)\n",
      "  warnings.warn(\n",
      "/home/step/miniconda3/envs/ml/lib/python3.9/site-packages/sklearn/linear_model/_sag.py:352: ConvergenceWarning: The max_iter was reached which means the coef_ did not converge\n",
      "  warnings.warn(\n"
     ]
    },
    {
     "name": "stdout",
     "output_type": "stream",
     "text": [
      "[CV 2/3; 37/54] END clf__C=5.0, clf__penalty=l2, clf__solver=saga, feat-selector__percentile=30, preproc__preprocess__bow__ngram_range=(1, 1);, score=(train=1.000, test=0.364) total time=   0.4s\n",
      "[CV 3/3; 37/54] START clf__C=5.0, clf__penalty=l2, clf__solver=saga, feat-selector__percentile=30, preproc__preprocess__bow__ngram_range=(1, 1)\n"
     ]
    },
    {
     "name": "stderr",
     "output_type": "stream",
     "text": [
      "/home/step/miniconda3/envs/ml/lib/python3.9/site-packages/sklearn/feature_selection/_univariate_selection.py:113: RuntimeWarning: divide by zero encountered in true_divide\n",
      "  f = msb / msw\n",
      "/home/step/miniconda3/envs/ml/lib/python3.9/site-packages/sklearn/linear_model/_logistic.py:1476: UserWarning: l1_ratio parameter is only used when penalty is 'elasticnet'. Got (penalty=l2)\n",
      "  warnings.warn(\n",
      "/home/step/miniconda3/envs/ml/lib/python3.9/site-packages/sklearn/linear_model/_sag.py:352: ConvergenceWarning: The max_iter was reached which means the coef_ did not converge\n",
      "  warnings.warn(\n"
     ]
    },
    {
     "name": "stdout",
     "output_type": "stream",
     "text": [
      "[CV 3/3; 37/54] END clf__C=5.0, clf__penalty=l2, clf__solver=saga, feat-selector__percentile=30, preproc__preprocess__bow__ngram_range=(1, 1);, score=(train=1.000, test=0.400) total time=   0.4s\n",
      "[CV 1/3; 38/54] START clf__C=5.0, clf__penalty=l2, clf__solver=saga, feat-selector__percentile=30, preproc__preprocess__bow__ngram_range=(1, 2)\n"
     ]
    },
    {
     "name": "stderr",
     "output_type": "stream",
     "text": [
      "/home/step/miniconda3/envs/ml/lib/python3.9/site-packages/sklearn/feature_selection/_univariate_selection.py:113: RuntimeWarning: divide by zero encountered in true_divide\n",
      "  f = msb / msw\n",
      "/home/step/miniconda3/envs/ml/lib/python3.9/site-packages/sklearn/linear_model/_logistic.py:1476: UserWarning: l1_ratio parameter is only used when penalty is 'elasticnet'. Got (penalty=l2)\n",
      "  warnings.warn(\n",
      "/home/step/miniconda3/envs/ml/lib/python3.9/site-packages/sklearn/linear_model/_sag.py:352: ConvergenceWarning: The max_iter was reached which means the coef_ did not converge\n",
      "  warnings.warn(\n"
     ]
    },
    {
     "name": "stdout",
     "output_type": "stream",
     "text": [
      "[CV 1/3; 38/54] END clf__C=5.0, clf__penalty=l2, clf__solver=saga, feat-selector__percentile=30, preproc__preprocess__bow__ngram_range=(1, 2);, score=(train=1.000, test=0.636) total time=   0.7s\n",
      "[CV 2/3; 38/54] START clf__C=5.0, clf__penalty=l2, clf__solver=saga, feat-selector__percentile=30, preproc__preprocess__bow__ngram_range=(1, 2)\n"
     ]
    },
    {
     "name": "stderr",
     "output_type": "stream",
     "text": [
      "/home/step/miniconda3/envs/ml/lib/python3.9/site-packages/sklearn/linear_model/_logistic.py:1476: UserWarning: l1_ratio parameter is only used when penalty is 'elasticnet'. Got (penalty=l2)\n",
      "  warnings.warn(\n",
      "/home/step/miniconda3/envs/ml/lib/python3.9/site-packages/sklearn/linear_model/_sag.py:352: ConvergenceWarning: The max_iter was reached which means the coef_ did not converge\n",
      "  warnings.warn(\n"
     ]
    },
    {
     "name": "stdout",
     "output_type": "stream",
     "text": [
      "[CV 2/3; 38/54] END clf__C=5.0, clf__penalty=l2, clf__solver=saga, feat-selector__percentile=30, preproc__preprocess__bow__ngram_range=(1, 2);, score=(train=1.000, test=0.455) total time=   0.6s\n",
      "[CV 3/3; 38/54] START clf__C=5.0, clf__penalty=l2, clf__solver=saga, feat-selector__percentile=30, preproc__preprocess__bow__ngram_range=(1, 2)\n"
     ]
    },
    {
     "name": "stderr",
     "output_type": "stream",
     "text": [
      "/home/step/miniconda3/envs/ml/lib/python3.9/site-packages/sklearn/feature_selection/_univariate_selection.py:113: RuntimeWarning: divide by zero encountered in true_divide\n",
      "  f = msb / msw\n",
      "/home/step/miniconda3/envs/ml/lib/python3.9/site-packages/sklearn/linear_model/_logistic.py:1476: UserWarning: l1_ratio parameter is only used when penalty is 'elasticnet'. Got (penalty=l2)\n",
      "  warnings.warn(\n",
      "/home/step/miniconda3/envs/ml/lib/python3.9/site-packages/sklearn/linear_model/_sag.py:352: ConvergenceWarning: The max_iter was reached which means the coef_ did not converge\n",
      "  warnings.warn(\n"
     ]
    },
    {
     "name": "stdout",
     "output_type": "stream",
     "text": [
      "[CV 3/3; 38/54] END clf__C=5.0, clf__penalty=l2, clf__solver=saga, feat-selector__percentile=30, preproc__preprocess__bow__ngram_range=(1, 2);, score=(train=1.000, test=0.500) total time=   0.6s\n",
      "[CV 1/3; 39/54] START clf__C=5.0, clf__penalty=l2, clf__solver=saga, feat-selector__percentile=30, preproc__preprocess__bow__ngram_range=(1, 3)\n"
     ]
    },
    {
     "name": "stderr",
     "output_type": "stream",
     "text": [
      "/home/step/miniconda3/envs/ml/lib/python3.9/site-packages/sklearn/feature_selection/_univariate_selection.py:113: RuntimeWarning: divide by zero encountered in true_divide\n",
      "  f = msb / msw\n",
      "/home/step/miniconda3/envs/ml/lib/python3.9/site-packages/sklearn/linear_model/_logistic.py:1476: UserWarning: l1_ratio parameter is only used when penalty is 'elasticnet'. Got (penalty=l2)\n",
      "  warnings.warn(\n",
      "/home/step/miniconda3/envs/ml/lib/python3.9/site-packages/sklearn/linear_model/_sag.py:352: ConvergenceWarning: The max_iter was reached which means the coef_ did not converge\n",
      "  warnings.warn(\n"
     ]
    },
    {
     "name": "stdout",
     "output_type": "stream",
     "text": [
      "[CV 1/3; 39/54] END clf__C=5.0, clf__penalty=l2, clf__solver=saga, feat-selector__percentile=30, preproc__preprocess__bow__ngram_range=(1, 3);, score=(train=1.000, test=0.636) total time=   0.9s\n",
      "[CV 2/3; 39/54] START clf__C=5.0, clf__penalty=l2, clf__solver=saga, feat-selector__percentile=30, preproc__preprocess__bow__ngram_range=(1, 3)\n"
     ]
    },
    {
     "name": "stderr",
     "output_type": "stream",
     "text": [
      "/home/step/miniconda3/envs/ml/lib/python3.9/site-packages/sklearn/linear_model/_logistic.py:1476: UserWarning: l1_ratio parameter is only used when penalty is 'elasticnet'. Got (penalty=l2)\n",
      "  warnings.warn(\n",
      "/home/step/miniconda3/envs/ml/lib/python3.9/site-packages/sklearn/linear_model/_sag.py:352: ConvergenceWarning: The max_iter was reached which means the coef_ did not converge\n",
      "  warnings.warn(\n"
     ]
    },
    {
     "name": "stdout",
     "output_type": "stream",
     "text": [
      "[CV 2/3; 39/54] END clf__C=5.0, clf__penalty=l2, clf__solver=saga, feat-selector__percentile=30, preproc__preprocess__bow__ngram_range=(1, 3);, score=(train=1.000, test=0.455) total time=   0.7s\n",
      "[CV 3/3; 39/54] START clf__C=5.0, clf__penalty=l2, clf__solver=saga, feat-selector__percentile=30, preproc__preprocess__bow__ngram_range=(1, 3)\n"
     ]
    },
    {
     "name": "stderr",
     "output_type": "stream",
     "text": [
      "/home/step/miniconda3/envs/ml/lib/python3.9/site-packages/sklearn/feature_selection/_univariate_selection.py:113: RuntimeWarning: divide by zero encountered in true_divide\n",
      "  f = msb / msw\n",
      "/home/step/miniconda3/envs/ml/lib/python3.9/site-packages/sklearn/linear_model/_logistic.py:1476: UserWarning: l1_ratio parameter is only used when penalty is 'elasticnet'. Got (penalty=l2)\n",
      "  warnings.warn(\n",
      "/home/step/miniconda3/envs/ml/lib/python3.9/site-packages/sklearn/linear_model/_sag.py:352: ConvergenceWarning: The max_iter was reached which means the coef_ did not converge\n",
      "  warnings.warn(\n"
     ]
    },
    {
     "name": "stdout",
     "output_type": "stream",
     "text": [
      "[CV 3/3; 39/54] END clf__C=5.0, clf__penalty=l2, clf__solver=saga, feat-selector__percentile=30, preproc__preprocess__bow__ngram_range=(1, 3);, score=(train=1.000, test=0.500) total time=   0.7s\n",
      "[CV 1/3; 40/54] START clf__C=5.0, clf__penalty=l2, clf__solver=saga, feat-selector__percentile=60, preproc__preprocess__bow__ngram_range=(1, 1)\n"
     ]
    },
    {
     "name": "stderr",
     "output_type": "stream",
     "text": [
      "/home/step/miniconda3/envs/ml/lib/python3.9/site-packages/sklearn/feature_selection/_univariate_selection.py:113: RuntimeWarning: divide by zero encountered in true_divide\n",
      "  f = msb / msw\n",
      "/home/step/miniconda3/envs/ml/lib/python3.9/site-packages/sklearn/linear_model/_logistic.py:1476: UserWarning: l1_ratio parameter is only used when penalty is 'elasticnet'. Got (penalty=l2)\n",
      "  warnings.warn(\n",
      "/home/step/miniconda3/envs/ml/lib/python3.9/site-packages/sklearn/linear_model/_sag.py:352: ConvergenceWarning: The max_iter was reached which means the coef_ did not converge\n",
      "  warnings.warn(\n"
     ]
    },
    {
     "name": "stdout",
     "output_type": "stream",
     "text": [
      "[CV 1/3; 40/54] END clf__C=5.0, clf__penalty=l2, clf__solver=saga, feat-selector__percentile=60, preproc__preprocess__bow__ngram_range=(1, 1);, score=(train=1.000, test=0.545) total time=   0.6s\n",
      "[CV 2/3; 40/54] START clf__C=5.0, clf__penalty=l2, clf__solver=saga, feat-selector__percentile=60, preproc__preprocess__bow__ngram_range=(1, 1)\n"
     ]
    },
    {
     "name": "stderr",
     "output_type": "stream",
     "text": [
      "/home/step/miniconda3/envs/ml/lib/python3.9/site-packages/sklearn/linear_model/_logistic.py:1476: UserWarning: l1_ratio parameter is only used when penalty is 'elasticnet'. Got (penalty=l2)\n",
      "  warnings.warn(\n",
      "/home/step/miniconda3/envs/ml/lib/python3.9/site-packages/sklearn/linear_model/_sag.py:352: ConvergenceWarning: The max_iter was reached which means the coef_ did not converge\n",
      "  warnings.warn(\n"
     ]
    },
    {
     "name": "stdout",
     "output_type": "stream",
     "text": [
      "[CV 2/3; 40/54] END clf__C=5.0, clf__penalty=l2, clf__solver=saga, feat-selector__percentile=60, preproc__preprocess__bow__ngram_range=(1, 1);, score=(train=1.000, test=0.364) total time=   0.5s\n",
      "[CV 3/3; 40/54] START clf__C=5.0, clf__penalty=l2, clf__solver=saga, feat-selector__percentile=60, preproc__preprocess__bow__ngram_range=(1, 1)\n"
     ]
    },
    {
     "name": "stderr",
     "output_type": "stream",
     "text": [
      "/home/step/miniconda3/envs/ml/lib/python3.9/site-packages/sklearn/feature_selection/_univariate_selection.py:113: RuntimeWarning: divide by zero encountered in true_divide\n",
      "  f = msb / msw\n",
      "/home/step/miniconda3/envs/ml/lib/python3.9/site-packages/sklearn/linear_model/_logistic.py:1476: UserWarning: l1_ratio parameter is only used when penalty is 'elasticnet'. Got (penalty=l2)\n",
      "  warnings.warn(\n",
      "/home/step/miniconda3/envs/ml/lib/python3.9/site-packages/sklearn/linear_model/_sag.py:352: ConvergenceWarning: The max_iter was reached which means the coef_ did not converge\n",
      "  warnings.warn(\n"
     ]
    },
    {
     "name": "stdout",
     "output_type": "stream",
     "text": [
      "[CV 3/3; 40/54] END clf__C=5.0, clf__penalty=l2, clf__solver=saga, feat-selector__percentile=60, preproc__preprocess__bow__ngram_range=(1, 1);, score=(train=1.000, test=0.500) total time=   0.5s\n",
      "[CV 1/3; 41/54] START clf__C=5.0, clf__penalty=l2, clf__solver=saga, feat-selector__percentile=60, preproc__preprocess__bow__ngram_range=(1, 2)\n"
     ]
    },
    {
     "name": "stderr",
     "output_type": "stream",
     "text": [
      "/home/step/miniconda3/envs/ml/lib/python3.9/site-packages/sklearn/feature_selection/_univariate_selection.py:113: RuntimeWarning: divide by zero encountered in true_divide\n",
      "  f = msb / msw\n",
      "/home/step/miniconda3/envs/ml/lib/python3.9/site-packages/sklearn/linear_model/_logistic.py:1476: UserWarning: l1_ratio parameter is only used when penalty is 'elasticnet'. Got (penalty=l2)\n",
      "  warnings.warn(\n",
      "/home/step/miniconda3/envs/ml/lib/python3.9/site-packages/sklearn/linear_model/_sag.py:352: ConvergenceWarning: The max_iter was reached which means the coef_ did not converge\n",
      "  warnings.warn(\n"
     ]
    },
    {
     "name": "stdout",
     "output_type": "stream",
     "text": [
      "[CV 1/3; 41/54] END clf__C=5.0, clf__penalty=l2, clf__solver=saga, feat-selector__percentile=60, preproc__preprocess__bow__ngram_range=(1, 2);, score=(train=1.000, test=0.545) total time=   0.9s\n",
      "[CV 2/3; 41/54] START clf__C=5.0, clf__penalty=l2, clf__solver=saga, feat-selector__percentile=60, preproc__preprocess__bow__ngram_range=(1, 2)\n"
     ]
    },
    {
     "name": "stderr",
     "output_type": "stream",
     "text": [
      "/home/step/miniconda3/envs/ml/lib/python3.9/site-packages/sklearn/linear_model/_logistic.py:1476: UserWarning: l1_ratio parameter is only used when penalty is 'elasticnet'. Got (penalty=l2)\n",
      "  warnings.warn(\n",
      "/home/step/miniconda3/envs/ml/lib/python3.9/site-packages/sklearn/linear_model/_sag.py:352: ConvergenceWarning: The max_iter was reached which means the coef_ did not converge\n",
      "  warnings.warn(\n"
     ]
    },
    {
     "name": "stdout",
     "output_type": "stream",
     "text": [
      "[CV 2/3; 41/54] END clf__C=5.0, clf__penalty=l2, clf__solver=saga, feat-selector__percentile=60, preproc__preprocess__bow__ngram_range=(1, 2);, score=(train=1.000, test=0.364) total time=   0.9s\n",
      "[CV 3/3; 41/54] START clf__C=5.0, clf__penalty=l2, clf__solver=saga, feat-selector__percentile=60, preproc__preprocess__bow__ngram_range=(1, 2)\n"
     ]
    },
    {
     "name": "stderr",
     "output_type": "stream",
     "text": [
      "/home/step/miniconda3/envs/ml/lib/python3.9/site-packages/sklearn/feature_selection/_univariate_selection.py:113: RuntimeWarning: divide by zero encountered in true_divide\n",
      "  f = msb / msw\n",
      "/home/step/miniconda3/envs/ml/lib/python3.9/site-packages/sklearn/linear_model/_logistic.py:1476: UserWarning: l1_ratio parameter is only used when penalty is 'elasticnet'. Got (penalty=l2)\n",
      "  warnings.warn(\n",
      "/home/step/miniconda3/envs/ml/lib/python3.9/site-packages/sklearn/linear_model/_sag.py:352: ConvergenceWarning: The max_iter was reached which means the coef_ did not converge\n",
      "  warnings.warn(\n"
     ]
    },
    {
     "name": "stdout",
     "output_type": "stream",
     "text": [
      "[CV 3/3; 41/54] END clf__C=5.0, clf__penalty=l2, clf__solver=saga, feat-selector__percentile=60, preproc__preprocess__bow__ngram_range=(1, 2);, score=(train=1.000, test=0.500) total time=   0.8s\n",
      "[CV 1/3; 42/54] START clf__C=5.0, clf__penalty=l2, clf__solver=saga, feat-selector__percentile=60, preproc__preprocess__bow__ngram_range=(1, 3)\n"
     ]
    },
    {
     "name": "stderr",
     "output_type": "stream",
     "text": [
      "/home/step/miniconda3/envs/ml/lib/python3.9/site-packages/sklearn/feature_selection/_univariate_selection.py:113: RuntimeWarning: divide by zero encountered in true_divide\n",
      "  f = msb / msw\n",
      "/home/step/miniconda3/envs/ml/lib/python3.9/site-packages/sklearn/linear_model/_logistic.py:1476: UserWarning: l1_ratio parameter is only used when penalty is 'elasticnet'. Got (penalty=l2)\n",
      "  warnings.warn(\n",
      "/home/step/miniconda3/envs/ml/lib/python3.9/site-packages/sklearn/linear_model/_sag.py:352: ConvergenceWarning: The max_iter was reached which means the coef_ did not converge\n",
      "  warnings.warn(\n"
     ]
    },
    {
     "name": "stdout",
     "output_type": "stream",
     "text": [
      "[CV 1/3; 42/54] END clf__C=5.0, clf__penalty=l2, clf__solver=saga, feat-selector__percentile=60, preproc__preprocess__bow__ngram_range=(1, 3);, score=(train=1.000, test=0.636) total time=   1.5s\n",
      "[CV 2/3; 42/54] START clf__C=5.0, clf__penalty=l2, clf__solver=saga, feat-selector__percentile=60, preproc__preprocess__bow__ngram_range=(1, 3)\n"
     ]
    },
    {
     "name": "stderr",
     "output_type": "stream",
     "text": [
      "/home/step/miniconda3/envs/ml/lib/python3.9/site-packages/sklearn/linear_model/_logistic.py:1476: UserWarning: l1_ratio parameter is only used when penalty is 'elasticnet'. Got (penalty=l2)\n",
      "  warnings.warn(\n",
      "/home/step/miniconda3/envs/ml/lib/python3.9/site-packages/sklearn/linear_model/_sag.py:352: ConvergenceWarning: The max_iter was reached which means the coef_ did not converge\n",
      "  warnings.warn(\n"
     ]
    },
    {
     "name": "stdout",
     "output_type": "stream",
     "text": [
      "[CV 2/3; 42/54] END clf__C=5.0, clf__penalty=l2, clf__solver=saga, feat-selector__percentile=60, preproc__preprocess__bow__ngram_range=(1, 3);, score=(train=1.000, test=0.455) total time=   1.3s\n",
      "[CV 3/3; 42/54] START clf__C=5.0, clf__penalty=l2, clf__solver=saga, feat-selector__percentile=60, preproc__preprocess__bow__ngram_range=(1, 3)\n"
     ]
    },
    {
     "name": "stderr",
     "output_type": "stream",
     "text": [
      "/home/step/miniconda3/envs/ml/lib/python3.9/site-packages/sklearn/feature_selection/_univariate_selection.py:113: RuntimeWarning: divide by zero encountered in true_divide\n",
      "  f = msb / msw\n",
      "/home/step/miniconda3/envs/ml/lib/python3.9/site-packages/sklearn/linear_model/_logistic.py:1476: UserWarning: l1_ratio parameter is only used when penalty is 'elasticnet'. Got (penalty=l2)\n",
      "  warnings.warn(\n",
      "/home/step/miniconda3/envs/ml/lib/python3.9/site-packages/sklearn/linear_model/_sag.py:352: ConvergenceWarning: The max_iter was reached which means the coef_ did not converge\n",
      "  warnings.warn(\n"
     ]
    },
    {
     "name": "stdout",
     "output_type": "stream",
     "text": [
      "[CV 3/3; 42/54] END clf__C=5.0, clf__penalty=l2, clf__solver=saga, feat-selector__percentile=60, preproc__preprocess__bow__ngram_range=(1, 3);, score=(train=1.000, test=0.500) total time=   1.0s\n",
      "[CV 1/3; 43/54] START clf__C=5.0, clf__penalty=l2, clf__solver=saga, feat-selector__percentile=80, preproc__preprocess__bow__ngram_range=(1, 1)\n"
     ]
    },
    {
     "name": "stderr",
     "output_type": "stream",
     "text": [
      "/home/step/miniconda3/envs/ml/lib/python3.9/site-packages/sklearn/feature_selection/_univariate_selection.py:113: RuntimeWarning: divide by zero encountered in true_divide\n",
      "  f = msb / msw\n",
      "/home/step/miniconda3/envs/ml/lib/python3.9/site-packages/sklearn/linear_model/_logistic.py:1476: UserWarning: l1_ratio parameter is only used when penalty is 'elasticnet'. Got (penalty=l2)\n",
      "  warnings.warn(\n",
      "/home/step/miniconda3/envs/ml/lib/python3.9/site-packages/sklearn/linear_model/_sag.py:352: ConvergenceWarning: The max_iter was reached which means the coef_ did not converge\n",
      "  warnings.warn(\n"
     ]
    },
    {
     "name": "stdout",
     "output_type": "stream",
     "text": [
      "[CV 1/3; 43/54] END clf__C=5.0, clf__penalty=l2, clf__solver=saga, feat-selector__percentile=80, preproc__preprocess__bow__ngram_range=(1, 1);, score=(train=1.000, test=0.545) total time=   0.8s\n",
      "[CV 2/3; 43/54] START clf__C=5.0, clf__penalty=l2, clf__solver=saga, feat-selector__percentile=80, preproc__preprocess__bow__ngram_range=(1, 1)\n"
     ]
    },
    {
     "name": "stderr",
     "output_type": "stream",
     "text": [
      "/home/step/miniconda3/envs/ml/lib/python3.9/site-packages/sklearn/linear_model/_logistic.py:1476: UserWarning: l1_ratio parameter is only used when penalty is 'elasticnet'. Got (penalty=l2)\n",
      "  warnings.warn(\n",
      "/home/step/miniconda3/envs/ml/lib/python3.9/site-packages/sklearn/linear_model/_sag.py:352: ConvergenceWarning: The max_iter was reached which means the coef_ did not converge\n",
      "  warnings.warn(\n"
     ]
    },
    {
     "name": "stdout",
     "output_type": "stream",
     "text": [
      "[CV 2/3; 43/54] END clf__C=5.0, clf__penalty=l2, clf__solver=saga, feat-selector__percentile=80, preproc__preprocess__bow__ngram_range=(1, 1);, score=(train=1.000, test=0.364) total time=   0.5s\n",
      "[CV 3/3; 43/54] START clf__C=5.0, clf__penalty=l2, clf__solver=saga, feat-selector__percentile=80, preproc__preprocess__bow__ngram_range=(1, 1)\n"
     ]
    },
    {
     "name": "stderr",
     "output_type": "stream",
     "text": [
      "/home/step/miniconda3/envs/ml/lib/python3.9/site-packages/sklearn/feature_selection/_univariate_selection.py:113: RuntimeWarning: divide by zero encountered in true_divide\n",
      "  f = msb / msw\n",
      "/home/step/miniconda3/envs/ml/lib/python3.9/site-packages/sklearn/linear_model/_logistic.py:1476: UserWarning: l1_ratio parameter is only used when penalty is 'elasticnet'. Got (penalty=l2)\n",
      "  warnings.warn(\n",
      "/home/step/miniconda3/envs/ml/lib/python3.9/site-packages/sklearn/linear_model/_sag.py:352: ConvergenceWarning: The max_iter was reached which means the coef_ did not converge\n",
      "  warnings.warn(\n"
     ]
    },
    {
     "name": "stdout",
     "output_type": "stream",
     "text": [
      "[CV 3/3; 43/54] END clf__C=5.0, clf__penalty=l2, clf__solver=saga, feat-selector__percentile=80, preproc__preprocess__bow__ngram_range=(1, 1);, score=(train=1.000, test=0.700) total time=   0.5s\n",
      "[CV 1/3; 44/54] START clf__C=5.0, clf__penalty=l2, clf__solver=saga, feat-selector__percentile=80, preproc__preprocess__bow__ngram_range=(1, 2)\n"
     ]
    },
    {
     "name": "stderr",
     "output_type": "stream",
     "text": [
      "/home/step/miniconda3/envs/ml/lib/python3.9/site-packages/sklearn/feature_selection/_univariate_selection.py:113: RuntimeWarning: divide by zero encountered in true_divide\n",
      "  f = msb / msw\n",
      "/home/step/miniconda3/envs/ml/lib/python3.9/site-packages/sklearn/linear_model/_logistic.py:1476: UserWarning: l1_ratio parameter is only used when penalty is 'elasticnet'. Got (penalty=l2)\n",
      "  warnings.warn(\n",
      "/home/step/miniconda3/envs/ml/lib/python3.9/site-packages/sklearn/linear_model/_sag.py:352: ConvergenceWarning: The max_iter was reached which means the coef_ did not converge\n",
      "  warnings.warn(\n"
     ]
    },
    {
     "name": "stdout",
     "output_type": "stream",
     "text": [
      "[CV 1/3; 44/54] END clf__C=5.0, clf__penalty=l2, clf__solver=saga, feat-selector__percentile=80, preproc__preprocess__bow__ngram_range=(1, 2);, score=(train=1.000, test=0.545) total time=   1.1s\n",
      "[CV 2/3; 44/54] START clf__C=5.0, clf__penalty=l2, clf__solver=saga, feat-selector__percentile=80, preproc__preprocess__bow__ngram_range=(1, 2)\n"
     ]
    },
    {
     "name": "stderr",
     "output_type": "stream",
     "text": [
      "/home/step/miniconda3/envs/ml/lib/python3.9/site-packages/sklearn/linear_model/_logistic.py:1476: UserWarning: l1_ratio parameter is only used when penalty is 'elasticnet'. Got (penalty=l2)\n",
      "  warnings.warn(\n",
      "/home/step/miniconda3/envs/ml/lib/python3.9/site-packages/sklearn/linear_model/_sag.py:352: ConvergenceWarning: The max_iter was reached which means the coef_ did not converge\n",
      "  warnings.warn(\n"
     ]
    },
    {
     "name": "stdout",
     "output_type": "stream",
     "text": [
      "[CV 2/3; 44/54] END clf__C=5.0, clf__penalty=l2, clf__solver=saga, feat-selector__percentile=80, preproc__preprocess__bow__ngram_range=(1, 2);, score=(train=1.000, test=0.364) total time=   0.8s\n",
      "[CV 3/3; 44/54] START clf__C=5.0, clf__penalty=l2, clf__solver=saga, feat-selector__percentile=80, preproc__preprocess__bow__ngram_range=(1, 2)\n"
     ]
    },
    {
     "name": "stderr",
     "output_type": "stream",
     "text": [
      "/home/step/miniconda3/envs/ml/lib/python3.9/site-packages/sklearn/feature_selection/_univariate_selection.py:113: RuntimeWarning: divide by zero encountered in true_divide\n",
      "  f = msb / msw\n",
      "/home/step/miniconda3/envs/ml/lib/python3.9/site-packages/sklearn/linear_model/_logistic.py:1476: UserWarning: l1_ratio parameter is only used when penalty is 'elasticnet'. Got (penalty=l2)\n",
      "  warnings.warn(\n",
      "/home/step/miniconda3/envs/ml/lib/python3.9/site-packages/sklearn/linear_model/_sag.py:352: ConvergenceWarning: The max_iter was reached which means the coef_ did not converge\n",
      "  warnings.warn(\n"
     ]
    },
    {
     "name": "stdout",
     "output_type": "stream",
     "text": [
      "[CV 3/3; 44/54] END clf__C=5.0, clf__penalty=l2, clf__solver=saga, feat-selector__percentile=80, preproc__preprocess__bow__ngram_range=(1, 2);, score=(train=1.000, test=0.700) total time=   0.9s\n",
      "[CV 1/3; 45/54] START clf__C=5.0, clf__penalty=l2, clf__solver=saga, feat-selector__percentile=80, preproc__preprocess__bow__ngram_range=(1, 3)\n"
     ]
    },
    {
     "name": "stderr",
     "output_type": "stream",
     "text": [
      "/home/step/miniconda3/envs/ml/lib/python3.9/site-packages/sklearn/feature_selection/_univariate_selection.py:113: RuntimeWarning: divide by zero encountered in true_divide\n",
      "  f = msb / msw\n",
      "/home/step/miniconda3/envs/ml/lib/python3.9/site-packages/sklearn/linear_model/_logistic.py:1476: UserWarning: l1_ratio parameter is only used when penalty is 'elasticnet'. Got (penalty=l2)\n",
      "  warnings.warn(\n",
      "/home/step/miniconda3/envs/ml/lib/python3.9/site-packages/sklearn/linear_model/_sag.py:352: ConvergenceWarning: The max_iter was reached which means the coef_ did not converge\n",
      "  warnings.warn(\n"
     ]
    },
    {
     "name": "stdout",
     "output_type": "stream",
     "text": [
      "[CV 1/3; 45/54] END clf__C=5.0, clf__penalty=l2, clf__solver=saga, feat-selector__percentile=80, preproc__preprocess__bow__ngram_range=(1, 3);, score=(train=1.000, test=0.545) total time=   1.7s\n",
      "[CV 2/3; 45/54] START clf__C=5.0, clf__penalty=l2, clf__solver=saga, feat-selector__percentile=80, preproc__preprocess__bow__ngram_range=(1, 3)\n"
     ]
    },
    {
     "name": "stderr",
     "output_type": "stream",
     "text": [
      "/home/step/miniconda3/envs/ml/lib/python3.9/site-packages/sklearn/linear_model/_logistic.py:1476: UserWarning: l1_ratio parameter is only used when penalty is 'elasticnet'. Got (penalty=l2)\n",
      "  warnings.warn(\n",
      "/home/step/miniconda3/envs/ml/lib/python3.9/site-packages/sklearn/linear_model/_sag.py:352: ConvergenceWarning: The max_iter was reached which means the coef_ did not converge\n",
      "  warnings.warn(\n"
     ]
    },
    {
     "name": "stdout",
     "output_type": "stream",
     "text": [
      "[CV 2/3; 45/54] END clf__C=5.0, clf__penalty=l2, clf__solver=saga, feat-selector__percentile=80, preproc__preprocess__bow__ngram_range=(1, 3);, score=(train=1.000, test=0.455) total time=   1.2s\n",
      "[CV 3/3; 45/54] START clf__C=5.0, clf__penalty=l2, clf__solver=saga, feat-selector__percentile=80, preproc__preprocess__bow__ngram_range=(1, 3)\n"
     ]
    },
    {
     "name": "stderr",
     "output_type": "stream",
     "text": [
      "/home/step/miniconda3/envs/ml/lib/python3.9/site-packages/sklearn/feature_selection/_univariate_selection.py:113: RuntimeWarning: divide by zero encountered in true_divide\n",
      "  f = msb / msw\n",
      "/home/step/miniconda3/envs/ml/lib/python3.9/site-packages/sklearn/linear_model/_logistic.py:1476: UserWarning: l1_ratio parameter is only used when penalty is 'elasticnet'. Got (penalty=l2)\n",
      "  warnings.warn(\n",
      "/home/step/miniconda3/envs/ml/lib/python3.9/site-packages/sklearn/linear_model/_sag.py:352: ConvergenceWarning: The max_iter was reached which means the coef_ did not converge\n",
      "  warnings.warn(\n"
     ]
    },
    {
     "name": "stdout",
     "output_type": "stream",
     "text": [
      "[CV 3/3; 45/54] END clf__C=5.0, clf__penalty=l2, clf__solver=saga, feat-selector__percentile=80, preproc__preprocess__bow__ngram_range=(1, 3);, score=(train=1.000, test=0.500) total time=   1.1s\n",
      "[CV 1/3; 46/54] START clf__C=5.0, clf__penalty=elasticnet, clf__solver=saga, feat-selector__percentile=30, preproc__preprocess__bow__ngram_range=(1, 1)\n"
     ]
    },
    {
     "name": "stderr",
     "output_type": "stream",
     "text": [
      "/home/step/miniconda3/envs/ml/lib/python3.9/site-packages/sklearn/feature_selection/_univariate_selection.py:113: RuntimeWarning: divide by zero encountered in true_divide\n",
      "  f = msb / msw\n",
      "/home/step/miniconda3/envs/ml/lib/python3.9/site-packages/sklearn/linear_model/_sag.py:352: ConvergenceWarning: The max_iter was reached which means the coef_ did not converge\n",
      "  warnings.warn(\n"
     ]
    },
    {
     "name": "stdout",
     "output_type": "stream",
     "text": [
      "[CV 1/3; 46/54] END clf__C=5.0, clf__penalty=elasticnet, clf__solver=saga, feat-selector__percentile=30, preproc__preprocess__bow__ngram_range=(1, 1);, score=(train=1.000, test=0.636) total time=   0.6s\n",
      "[CV 2/3; 46/54] START clf__C=5.0, clf__penalty=elasticnet, clf__solver=saga, feat-selector__percentile=30, preproc__preprocess__bow__ngram_range=(1, 1)\n"
     ]
    },
    {
     "name": "stderr",
     "output_type": "stream",
     "text": [
      "/home/step/miniconda3/envs/ml/lib/python3.9/site-packages/sklearn/linear_model/_sag.py:352: ConvergenceWarning: The max_iter was reached which means the coef_ did not converge\n",
      "  warnings.warn(\n"
     ]
    },
    {
     "name": "stdout",
     "output_type": "stream",
     "text": [
      "[CV 2/3; 46/54] END clf__C=5.0, clf__penalty=elasticnet, clf__solver=saga, feat-selector__percentile=30, preproc__preprocess__bow__ngram_range=(1, 1);, score=(train=1.000, test=0.364) total time=   0.6s\n",
      "[CV 3/3; 46/54] START clf__C=5.0, clf__penalty=elasticnet, clf__solver=saga, feat-selector__percentile=30, preproc__preprocess__bow__ngram_range=(1, 1)\n"
     ]
    },
    {
     "name": "stderr",
     "output_type": "stream",
     "text": [
      "/home/step/miniconda3/envs/ml/lib/python3.9/site-packages/sklearn/feature_selection/_univariate_selection.py:113: RuntimeWarning: divide by zero encountered in true_divide\n",
      "  f = msb / msw\n",
      "/home/step/miniconda3/envs/ml/lib/python3.9/site-packages/sklearn/linear_model/_sag.py:352: ConvergenceWarning: The max_iter was reached which means the coef_ did not converge\n",
      "  warnings.warn(\n"
     ]
    },
    {
     "name": "stdout",
     "output_type": "stream",
     "text": [
      "[CV 3/3; 46/54] END clf__C=5.0, clf__penalty=elasticnet, clf__solver=saga, feat-selector__percentile=30, preproc__preprocess__bow__ngram_range=(1, 1);, score=(train=1.000, test=0.400) total time=   0.6s\n",
      "[CV 1/3; 47/54] START clf__C=5.0, clf__penalty=elasticnet, clf__solver=saga, feat-selector__percentile=30, preproc__preprocess__bow__ngram_range=(1, 2)\n"
     ]
    },
    {
     "name": "stderr",
     "output_type": "stream",
     "text": [
      "/home/step/miniconda3/envs/ml/lib/python3.9/site-packages/sklearn/feature_selection/_univariate_selection.py:113: RuntimeWarning: divide by zero encountered in true_divide\n",
      "  f = msb / msw\n",
      "/home/step/miniconda3/envs/ml/lib/python3.9/site-packages/sklearn/linear_model/_sag.py:352: ConvergenceWarning: The max_iter was reached which means the coef_ did not converge\n",
      "  warnings.warn(\n"
     ]
    },
    {
     "name": "stdout",
     "output_type": "stream",
     "text": [
      "[CV 1/3; 47/54] END clf__C=5.0, clf__penalty=elasticnet, clf__solver=saga, feat-selector__percentile=30, preproc__preprocess__bow__ngram_range=(1, 2);, score=(train=1.000, test=0.545) total time=   0.9s\n",
      "[CV 2/3; 47/54] START clf__C=5.0, clf__penalty=elasticnet, clf__solver=saga, feat-selector__percentile=30, preproc__preprocess__bow__ngram_range=(1, 2)\n"
     ]
    },
    {
     "name": "stderr",
     "output_type": "stream",
     "text": [
      "/home/step/miniconda3/envs/ml/lib/python3.9/site-packages/sklearn/linear_model/_sag.py:352: ConvergenceWarning: The max_iter was reached which means the coef_ did not converge\n",
      "  warnings.warn(\n"
     ]
    },
    {
     "name": "stdout",
     "output_type": "stream",
     "text": [
      "[CV 2/3; 47/54] END clf__C=5.0, clf__penalty=elasticnet, clf__solver=saga, feat-selector__percentile=30, preproc__preprocess__bow__ngram_range=(1, 2);, score=(train=1.000, test=0.455) total time=   1.1s\n",
      "[CV 3/3; 47/54] START clf__C=5.0, clf__penalty=elasticnet, clf__solver=saga, feat-selector__percentile=30, preproc__preprocess__bow__ngram_range=(1, 2)\n"
     ]
    },
    {
     "name": "stderr",
     "output_type": "stream",
     "text": [
      "/home/step/miniconda3/envs/ml/lib/python3.9/site-packages/sklearn/feature_selection/_univariate_selection.py:113: RuntimeWarning: divide by zero encountered in true_divide\n",
      "  f = msb / msw\n",
      "/home/step/miniconda3/envs/ml/lib/python3.9/site-packages/sklearn/linear_model/_sag.py:352: ConvergenceWarning: The max_iter was reached which means the coef_ did not converge\n",
      "  warnings.warn(\n"
     ]
    },
    {
     "name": "stdout",
     "output_type": "stream",
     "text": [
      "[CV 3/3; 47/54] END clf__C=5.0, clf__penalty=elasticnet, clf__solver=saga, feat-selector__percentile=30, preproc__preprocess__bow__ngram_range=(1, 2);, score=(train=1.000, test=0.500) total time=   0.9s\n",
      "[CV 1/3; 48/54] START clf__C=5.0, clf__penalty=elasticnet, clf__solver=saga, feat-selector__percentile=30, preproc__preprocess__bow__ngram_range=(1, 3)\n"
     ]
    },
    {
     "name": "stderr",
     "output_type": "stream",
     "text": [
      "/home/step/miniconda3/envs/ml/lib/python3.9/site-packages/sklearn/feature_selection/_univariate_selection.py:113: RuntimeWarning: divide by zero encountered in true_divide\n",
      "  f = msb / msw\n",
      "/home/step/miniconda3/envs/ml/lib/python3.9/site-packages/sklearn/linear_model/_sag.py:352: ConvergenceWarning: The max_iter was reached which means the coef_ did not converge\n",
      "  warnings.warn(\n"
     ]
    },
    {
     "name": "stdout",
     "output_type": "stream",
     "text": [
      "[CV 1/3; 48/54] END clf__C=5.0, clf__penalty=elasticnet, clf__solver=saga, feat-selector__percentile=30, preproc__preprocess__bow__ngram_range=(1, 3);, score=(train=1.000, test=0.545) total time=   1.6s\n",
      "[CV 2/3; 48/54] START clf__C=5.0, clf__penalty=elasticnet, clf__solver=saga, feat-selector__percentile=30, preproc__preprocess__bow__ngram_range=(1, 3)\n"
     ]
    },
    {
     "name": "stderr",
     "output_type": "stream",
     "text": [
      "/home/step/miniconda3/envs/ml/lib/python3.9/site-packages/sklearn/linear_model/_sag.py:352: ConvergenceWarning: The max_iter was reached which means the coef_ did not converge\n",
      "  warnings.warn(\n"
     ]
    },
    {
     "name": "stdout",
     "output_type": "stream",
     "text": [
      "[CV 2/3; 48/54] END clf__C=5.0, clf__penalty=elasticnet, clf__solver=saga, feat-selector__percentile=30, preproc__preprocess__bow__ngram_range=(1, 3);, score=(train=1.000, test=0.455) total time=   2.0s\n",
      "[CV 3/3; 48/54] START clf__C=5.0, clf__penalty=elasticnet, clf__solver=saga, feat-selector__percentile=30, preproc__preprocess__bow__ngram_range=(1, 3)\n"
     ]
    },
    {
     "name": "stderr",
     "output_type": "stream",
     "text": [
      "/home/step/miniconda3/envs/ml/lib/python3.9/site-packages/sklearn/feature_selection/_univariate_selection.py:113: RuntimeWarning: divide by zero encountered in true_divide\n",
      "  f = msb / msw\n",
      "/home/step/miniconda3/envs/ml/lib/python3.9/site-packages/sklearn/linear_model/_sag.py:352: ConvergenceWarning: The max_iter was reached which means the coef_ did not converge\n",
      "  warnings.warn(\n"
     ]
    },
    {
     "name": "stdout",
     "output_type": "stream",
     "text": [
      "[CV 3/3; 48/54] END clf__C=5.0, clf__penalty=elasticnet, clf__solver=saga, feat-selector__percentile=30, preproc__preprocess__bow__ngram_range=(1, 3);, score=(train=1.000, test=0.500) total time=   1.5s\n",
      "[CV 1/3; 49/54] START clf__C=5.0, clf__penalty=elasticnet, clf__solver=saga, feat-selector__percentile=60, preproc__preprocess__bow__ngram_range=(1, 1)\n"
     ]
    },
    {
     "name": "stderr",
     "output_type": "stream",
     "text": [
      "/home/step/miniconda3/envs/ml/lib/python3.9/site-packages/sklearn/feature_selection/_univariate_selection.py:113: RuntimeWarning: divide by zero encountered in true_divide\n",
      "  f = msb / msw\n",
      "/home/step/miniconda3/envs/ml/lib/python3.9/site-packages/sklearn/linear_model/_sag.py:352: ConvergenceWarning: The max_iter was reached which means the coef_ did not converge\n",
      "  warnings.warn(\n"
     ]
    },
    {
     "name": "stdout",
     "output_type": "stream",
     "text": [
      "[CV 1/3; 49/54] END clf__C=5.0, clf__penalty=elasticnet, clf__solver=saga, feat-selector__percentile=60, preproc__preprocess__bow__ngram_range=(1, 1);, score=(train=1.000, test=0.545) total time=   1.0s\n",
      "[CV 2/3; 49/54] START clf__C=5.0, clf__penalty=elasticnet, clf__solver=saga, feat-selector__percentile=60, preproc__preprocess__bow__ngram_range=(1, 1)\n"
     ]
    },
    {
     "name": "stderr",
     "output_type": "stream",
     "text": [
      "/home/step/miniconda3/envs/ml/lib/python3.9/site-packages/sklearn/linear_model/_sag.py:352: ConvergenceWarning: The max_iter was reached which means the coef_ did not converge\n",
      "  warnings.warn(\n"
     ]
    },
    {
     "name": "stdout",
     "output_type": "stream",
     "text": [
      "[CV 2/3; 49/54] END clf__C=5.0, clf__penalty=elasticnet, clf__solver=saga, feat-selector__percentile=60, preproc__preprocess__bow__ngram_range=(1, 1);, score=(train=1.000, test=0.364) total time=   0.8s\n",
      "[CV 3/3; 49/54] START clf__C=5.0, clf__penalty=elasticnet, clf__solver=saga, feat-selector__percentile=60, preproc__preprocess__bow__ngram_range=(1, 1)\n"
     ]
    },
    {
     "name": "stderr",
     "output_type": "stream",
     "text": [
      "/home/step/miniconda3/envs/ml/lib/python3.9/site-packages/sklearn/feature_selection/_univariate_selection.py:113: RuntimeWarning: divide by zero encountered in true_divide\n",
      "  f = msb / msw\n",
      "/home/step/miniconda3/envs/ml/lib/python3.9/site-packages/sklearn/linear_model/_sag.py:352: ConvergenceWarning: The max_iter was reached which means the coef_ did not converge\n",
      "  warnings.warn(\n"
     ]
    },
    {
     "name": "stdout",
     "output_type": "stream",
     "text": [
      "[CV 3/3; 49/54] END clf__C=5.0, clf__penalty=elasticnet, clf__solver=saga, feat-selector__percentile=60, preproc__preprocess__bow__ngram_range=(1, 1);, score=(train=1.000, test=0.500) total time=   0.8s\n",
      "[CV 1/3; 50/54] START clf__C=5.0, clf__penalty=elasticnet, clf__solver=saga, feat-selector__percentile=60, preproc__preprocess__bow__ngram_range=(1, 2)\n"
     ]
    },
    {
     "name": "stderr",
     "output_type": "stream",
     "text": [
      "/home/step/miniconda3/envs/ml/lib/python3.9/site-packages/sklearn/feature_selection/_univariate_selection.py:113: RuntimeWarning: divide by zero encountered in true_divide\n",
      "  f = msb / msw\n",
      "/home/step/miniconda3/envs/ml/lib/python3.9/site-packages/sklearn/linear_model/_sag.py:352: ConvergenceWarning: The max_iter was reached which means the coef_ did not converge\n",
      "  warnings.warn(\n"
     ]
    },
    {
     "name": "stdout",
     "output_type": "stream",
     "text": [
      "[CV 1/3; 50/54] END clf__C=5.0, clf__penalty=elasticnet, clf__solver=saga, feat-selector__percentile=60, preproc__preprocess__bow__ngram_range=(1, 2);, score=(train=1.000, test=0.545) total time=   1.6s\n",
      "[CV 2/3; 50/54] START clf__C=5.0, clf__penalty=elasticnet, clf__solver=saga, feat-selector__percentile=60, preproc__preprocess__bow__ngram_range=(1, 2)\n"
     ]
    },
    {
     "name": "stderr",
     "output_type": "stream",
     "text": [
      "/home/step/miniconda3/envs/ml/lib/python3.9/site-packages/sklearn/linear_model/_sag.py:352: ConvergenceWarning: The max_iter was reached which means the coef_ did not converge\n",
      "  warnings.warn(\n"
     ]
    },
    {
     "name": "stdout",
     "output_type": "stream",
     "text": [
      "[CV 2/3; 50/54] END clf__C=5.0, clf__penalty=elasticnet, clf__solver=saga, feat-selector__percentile=60, preproc__preprocess__bow__ngram_range=(1, 2);, score=(train=1.000, test=0.455) total time=   1.6s\n",
      "[CV 3/3; 50/54] START clf__C=5.0, clf__penalty=elasticnet, clf__solver=saga, feat-selector__percentile=60, preproc__preprocess__bow__ngram_range=(1, 2)\n"
     ]
    },
    {
     "name": "stderr",
     "output_type": "stream",
     "text": [
      "/home/step/miniconda3/envs/ml/lib/python3.9/site-packages/sklearn/feature_selection/_univariate_selection.py:113: RuntimeWarning: divide by zero encountered in true_divide\n",
      "  f = msb / msw\n",
      "/home/step/miniconda3/envs/ml/lib/python3.9/site-packages/sklearn/linear_model/_sag.py:352: ConvergenceWarning: The max_iter was reached which means the coef_ did not converge\n",
      "  warnings.warn(\n"
     ]
    },
    {
     "name": "stdout",
     "output_type": "stream",
     "text": [
      "[CV 3/3; 50/54] END clf__C=5.0, clf__penalty=elasticnet, clf__solver=saga, feat-selector__percentile=60, preproc__preprocess__bow__ngram_range=(1, 2);, score=(train=1.000, test=0.500) total time=   1.3s\n",
      "[CV 1/3; 51/54] START clf__C=5.0, clf__penalty=elasticnet, clf__solver=saga, feat-selector__percentile=60, preproc__preprocess__bow__ngram_range=(1, 3)\n"
     ]
    },
    {
     "name": "stderr",
     "output_type": "stream",
     "text": [
      "/home/step/miniconda3/envs/ml/lib/python3.9/site-packages/sklearn/feature_selection/_univariate_selection.py:113: RuntimeWarning: divide by zero encountered in true_divide\n",
      "  f = msb / msw\n",
      "/home/step/miniconda3/envs/ml/lib/python3.9/site-packages/sklearn/linear_model/_sag.py:352: ConvergenceWarning: The max_iter was reached which means the coef_ did not converge\n",
      "  warnings.warn(\n"
     ]
    },
    {
     "name": "stdout",
     "output_type": "stream",
     "text": [
      "[CV 1/3; 51/54] END clf__C=5.0, clf__penalty=elasticnet, clf__solver=saga, feat-selector__percentile=60, preproc__preprocess__bow__ngram_range=(1, 3);, score=(train=1.000, test=0.545) total time=   2.1s\n",
      "[CV 2/3; 51/54] START clf__C=5.0, clf__penalty=elasticnet, clf__solver=saga, feat-selector__percentile=60, preproc__preprocess__bow__ngram_range=(1, 3)\n"
     ]
    },
    {
     "name": "stderr",
     "output_type": "stream",
     "text": [
      "/home/step/miniconda3/envs/ml/lib/python3.9/site-packages/sklearn/linear_model/_sag.py:352: ConvergenceWarning: The max_iter was reached which means the coef_ did not converge\n",
      "  warnings.warn(\n"
     ]
    },
    {
     "name": "stdout",
     "output_type": "stream",
     "text": [
      "[CV 2/3; 51/54] END clf__C=5.0, clf__penalty=elasticnet, clf__solver=saga, feat-selector__percentile=60, preproc__preprocess__bow__ngram_range=(1, 3);, score=(train=1.000, test=0.455) total time=   2.2s\n",
      "[CV 3/3; 51/54] START clf__C=5.0, clf__penalty=elasticnet, clf__solver=saga, feat-selector__percentile=60, preproc__preprocess__bow__ngram_range=(1, 3)\n"
     ]
    },
    {
     "name": "stderr",
     "output_type": "stream",
     "text": [
      "/home/step/miniconda3/envs/ml/lib/python3.9/site-packages/sklearn/feature_selection/_univariate_selection.py:113: RuntimeWarning: divide by zero encountered in true_divide\n",
      "  f = msb / msw\n",
      "/home/step/miniconda3/envs/ml/lib/python3.9/site-packages/sklearn/linear_model/_sag.py:352: ConvergenceWarning: The max_iter was reached which means the coef_ did not converge\n",
      "  warnings.warn(\n"
     ]
    },
    {
     "name": "stdout",
     "output_type": "stream",
     "text": [
      "[CV 3/3; 51/54] END clf__C=5.0, clf__penalty=elasticnet, clf__solver=saga, feat-selector__percentile=60, preproc__preprocess__bow__ngram_range=(1, 3);, score=(train=1.000, test=0.500) total time=   1.9s\n",
      "[CV 1/3; 52/54] START clf__C=5.0, clf__penalty=elasticnet, clf__solver=saga, feat-selector__percentile=80, preproc__preprocess__bow__ngram_range=(1, 1)\n"
     ]
    },
    {
     "name": "stderr",
     "output_type": "stream",
     "text": [
      "/home/step/miniconda3/envs/ml/lib/python3.9/site-packages/sklearn/feature_selection/_univariate_selection.py:113: RuntimeWarning: divide by zero encountered in true_divide\n",
      "  f = msb / msw\n",
      "/home/step/miniconda3/envs/ml/lib/python3.9/site-packages/sklearn/linear_model/_sag.py:352: ConvergenceWarning: The max_iter was reached which means the coef_ did not converge\n",
      "  warnings.warn(\n"
     ]
    },
    {
     "name": "stdout",
     "output_type": "stream",
     "text": [
      "[CV 1/3; 52/54] END clf__C=5.0, clf__penalty=elasticnet, clf__solver=saga, feat-selector__percentile=80, preproc__preprocess__bow__ngram_range=(1, 1);, score=(train=1.000, test=0.545) total time=   0.9s\n",
      "[CV 2/3; 52/54] START clf__C=5.0, clf__penalty=elasticnet, clf__solver=saga, feat-selector__percentile=80, preproc__preprocess__bow__ngram_range=(1, 1)\n"
     ]
    },
    {
     "name": "stderr",
     "output_type": "stream",
     "text": [
      "/home/step/miniconda3/envs/ml/lib/python3.9/site-packages/sklearn/linear_model/_sag.py:352: ConvergenceWarning: The max_iter was reached which means the coef_ did not converge\n",
      "  warnings.warn(\n"
     ]
    },
    {
     "name": "stdout",
     "output_type": "stream",
     "text": [
      "[CV 2/3; 52/54] END clf__C=5.0, clf__penalty=elasticnet, clf__solver=saga, feat-selector__percentile=80, preproc__preprocess__bow__ngram_range=(1, 1);, score=(train=1.000, test=0.364) total time=   0.8s\n",
      "[CV 3/3; 52/54] START clf__C=5.0, clf__penalty=elasticnet, clf__solver=saga, feat-selector__percentile=80, preproc__preprocess__bow__ngram_range=(1, 1)\n"
     ]
    },
    {
     "name": "stderr",
     "output_type": "stream",
     "text": [
      "/home/step/miniconda3/envs/ml/lib/python3.9/site-packages/sklearn/feature_selection/_univariate_selection.py:113: RuntimeWarning: divide by zero encountered in true_divide\n",
      "  f = msb / msw\n",
      "/home/step/miniconda3/envs/ml/lib/python3.9/site-packages/sklearn/linear_model/_sag.py:352: ConvergenceWarning: The max_iter was reached which means the coef_ did not converge\n",
      "  warnings.warn(\n"
     ]
    },
    {
     "name": "stdout",
     "output_type": "stream",
     "text": [
      "[CV 3/3; 52/54] END clf__C=5.0, clf__penalty=elasticnet, clf__solver=saga, feat-selector__percentile=80, preproc__preprocess__bow__ngram_range=(1, 1);, score=(train=1.000, test=0.700) total time=   0.9s\n",
      "[CV 1/3; 53/54] START clf__C=5.0, clf__penalty=elasticnet, clf__solver=saga, feat-selector__percentile=80, preproc__preprocess__bow__ngram_range=(1, 2)\n"
     ]
    },
    {
     "name": "stderr",
     "output_type": "stream",
     "text": [
      "/home/step/miniconda3/envs/ml/lib/python3.9/site-packages/sklearn/feature_selection/_univariate_selection.py:113: RuntimeWarning: divide by zero encountered in true_divide\n",
      "  f = msb / msw\n",
      "/home/step/miniconda3/envs/ml/lib/python3.9/site-packages/sklearn/linear_model/_sag.py:352: ConvergenceWarning: The max_iter was reached which means the coef_ did not converge\n",
      "  warnings.warn(\n"
     ]
    },
    {
     "name": "stdout",
     "output_type": "stream",
     "text": [
      "[CV 1/3; 53/54] END clf__C=5.0, clf__penalty=elasticnet, clf__solver=saga, feat-selector__percentile=80, preproc__preprocess__bow__ngram_range=(1, 2);, score=(train=1.000, test=0.545) total time=   1.6s\n",
      "[CV 2/3; 53/54] START clf__C=5.0, clf__penalty=elasticnet, clf__solver=saga, feat-selector__percentile=80, preproc__preprocess__bow__ngram_range=(1, 2)\n"
     ]
    },
    {
     "name": "stderr",
     "output_type": "stream",
     "text": [
      "/home/step/miniconda3/envs/ml/lib/python3.9/site-packages/sklearn/linear_model/_sag.py:352: ConvergenceWarning: The max_iter was reached which means the coef_ did not converge\n",
      "  warnings.warn(\n"
     ]
    },
    {
     "name": "stdout",
     "output_type": "stream",
     "text": [
      "[CV 2/3; 53/54] END clf__C=5.0, clf__penalty=elasticnet, clf__solver=saga, feat-selector__percentile=80, preproc__preprocess__bow__ngram_range=(1, 2);, score=(train=1.000, test=0.364) total time=   1.7s\n",
      "[CV 3/3; 53/54] START clf__C=5.0, clf__penalty=elasticnet, clf__solver=saga, feat-selector__percentile=80, preproc__preprocess__bow__ngram_range=(1, 2)\n"
     ]
    },
    {
     "name": "stderr",
     "output_type": "stream",
     "text": [
      "/home/step/miniconda3/envs/ml/lib/python3.9/site-packages/sklearn/feature_selection/_univariate_selection.py:113: RuntimeWarning: divide by zero encountered in true_divide\n",
      "  f = msb / msw\n",
      "/home/step/miniconda3/envs/ml/lib/python3.9/site-packages/sklearn/linear_model/_sag.py:352: ConvergenceWarning: The max_iter was reached which means the coef_ did not converge\n",
      "  warnings.warn(\n"
     ]
    },
    {
     "name": "stdout",
     "output_type": "stream",
     "text": [
      "[CV 3/3; 53/54] END clf__C=5.0, clf__penalty=elasticnet, clf__solver=saga, feat-selector__percentile=80, preproc__preprocess__bow__ngram_range=(1, 2);, score=(train=1.000, test=0.700) total time=   1.7s\n",
      "[CV 1/3; 54/54] START clf__C=5.0, clf__penalty=elasticnet, clf__solver=saga, feat-selector__percentile=80, preproc__preprocess__bow__ngram_range=(1, 3)\n"
     ]
    },
    {
     "name": "stderr",
     "output_type": "stream",
     "text": [
      "/home/step/miniconda3/envs/ml/lib/python3.9/site-packages/sklearn/feature_selection/_univariate_selection.py:113: RuntimeWarning: divide by zero encountered in true_divide\n",
      "  f = msb / msw\n",
      "/home/step/miniconda3/envs/ml/lib/python3.9/site-packages/sklearn/linear_model/_sag.py:352: ConvergenceWarning: The max_iter was reached which means the coef_ did not converge\n",
      "  warnings.warn(\n"
     ]
    },
    {
     "name": "stdout",
     "output_type": "stream",
     "text": [
      "[CV 1/3; 54/54] END clf__C=5.0, clf__penalty=elasticnet, clf__solver=saga, feat-selector__percentile=80, preproc__preprocess__bow__ngram_range=(1, 3);, score=(train=1.000, test=0.545) total time=   2.3s\n",
      "[CV 2/3; 54/54] START clf__C=5.0, clf__penalty=elasticnet, clf__solver=saga, feat-selector__percentile=80, preproc__preprocess__bow__ngram_range=(1, 3)\n"
     ]
    },
    {
     "name": "stderr",
     "output_type": "stream",
     "text": [
      "/home/step/miniconda3/envs/ml/lib/python3.9/site-packages/sklearn/linear_model/_sag.py:352: ConvergenceWarning: The max_iter was reached which means the coef_ did not converge\n",
      "  warnings.warn(\n"
     ]
    },
    {
     "name": "stdout",
     "output_type": "stream",
     "text": [
      "[CV 2/3; 54/54] END clf__C=5.0, clf__penalty=elasticnet, clf__solver=saga, feat-selector__percentile=80, preproc__preprocess__bow__ngram_range=(1, 3);, score=(train=1.000, test=0.455) total time=   2.5s\n",
      "[CV 3/3; 54/54] START clf__C=5.0, clf__penalty=elasticnet, clf__solver=saga, feat-selector__percentile=80, preproc__preprocess__bow__ngram_range=(1, 3)\n"
     ]
    },
    {
     "name": "stderr",
     "output_type": "stream",
     "text": [
      "/home/step/miniconda3/envs/ml/lib/python3.9/site-packages/sklearn/feature_selection/_univariate_selection.py:113: RuntimeWarning: divide by zero encountered in true_divide\n",
      "  f = msb / msw\n",
      "/home/step/miniconda3/envs/ml/lib/python3.9/site-packages/sklearn/linear_model/_sag.py:352: ConvergenceWarning: The max_iter was reached which means the coef_ did not converge\n",
      "  warnings.warn(\n"
     ]
    },
    {
     "name": "stdout",
     "output_type": "stream",
     "text": [
      "[CV 3/3; 54/54] END clf__C=5.0, clf__penalty=elasticnet, clf__solver=saga, feat-selector__percentile=80, preproc__preprocess__bow__ngram_range=(1, 3);, score=(train=1.000, test=0.700) total time=   2.5s\n",
      "----------\n",
      "iter: 1\n",
      "n_candidates: 18\n",
      "n_resources: 99\n",
      "Fitting 3 folds for each of 18 candidates, totalling 54 fits\n",
      "[CV 1/3; 1/18] START clf__C=0.5, clf__penalty=l2, clf__solver=saga, feat-selector__percentile=60, preproc__preprocess__bow__ngram_range=(1, 3)\n"
     ]
    },
    {
     "name": "stderr",
     "output_type": "stream",
     "text": [
      "/home/step/miniconda3/envs/ml/lib/python3.9/site-packages/sklearn/linear_model/_logistic.py:1476: UserWarning: l1_ratio parameter is only used when penalty is 'elasticnet'. Got (penalty=l2)\n",
      "  warnings.warn(\n",
      "/home/step/miniconda3/envs/ml/lib/python3.9/site-packages/sklearn/linear_model/_sag.py:352: ConvergenceWarning: The max_iter was reached which means the coef_ did not converge\n",
      "  warnings.warn(\n"
     ]
    },
    {
     "name": "stdout",
     "output_type": "stream",
     "text": [
      "[CV 1/3; 1/18] END clf__C=0.5, clf__penalty=l2, clf__solver=saga, feat-selector__percentile=60, preproc__preprocess__bow__ngram_range=(1, 3);, score=(train=1.000, test=0.697) total time=   4.5s\n",
      "[CV 2/3; 1/18] START clf__C=0.5, clf__penalty=l2, clf__solver=saga, feat-selector__percentile=60, preproc__preprocess__bow__ngram_range=(1, 3)\n"
     ]
    },
    {
     "name": "stderr",
     "output_type": "stream",
     "text": [
      "/home/step/miniconda3/envs/ml/lib/python3.9/site-packages/sklearn/linear_model/_logistic.py:1476: UserWarning: l1_ratio parameter is only used when penalty is 'elasticnet'. Got (penalty=l2)\n",
      "  warnings.warn(\n",
      "/home/step/miniconda3/envs/ml/lib/python3.9/site-packages/sklearn/linear_model/_sag.py:352: ConvergenceWarning: The max_iter was reached which means the coef_ did not converge\n",
      "  warnings.warn(\n"
     ]
    },
    {
     "name": "stdout",
     "output_type": "stream",
     "text": [
      "[CV 2/3; 1/18] END clf__C=0.5, clf__penalty=l2, clf__solver=saga, feat-selector__percentile=60, preproc__preprocess__bow__ngram_range=(1, 3);, score=(train=0.985, test=0.576) total time=   3.7s\n",
      "[CV 3/3; 1/18] START clf__C=0.5, clf__penalty=l2, clf__solver=saga, feat-selector__percentile=60, preproc__preprocess__bow__ngram_range=(1, 3)\n"
     ]
    },
    {
     "name": "stderr",
     "output_type": "stream",
     "text": [
      "/home/step/miniconda3/envs/ml/lib/python3.9/site-packages/sklearn/linear_model/_logistic.py:1476: UserWarning: l1_ratio parameter is only used when penalty is 'elasticnet'. Got (penalty=l2)\n",
      "  warnings.warn(\n",
      "/home/step/miniconda3/envs/ml/lib/python3.9/site-packages/sklearn/linear_model/_sag.py:352: ConvergenceWarning: The max_iter was reached which means the coef_ did not converge\n",
      "  warnings.warn(\n"
     ]
    },
    {
     "name": "stdout",
     "output_type": "stream",
     "text": [
      "[CV 3/3; 1/18] END clf__C=0.5, clf__penalty=l2, clf__solver=saga, feat-selector__percentile=60, preproc__preprocess__bow__ngram_range=(1, 3);, score=(train=1.000, test=0.688) total time=   3.9s\n",
      "[CV 1/3; 2/18] START clf__C=5.0, clf__penalty=l2, clf__solver=saga, feat-selector__percentile=30, preproc__preprocess__bow__ngram_range=(1, 3)\n"
     ]
    },
    {
     "name": "stderr",
     "output_type": "stream",
     "text": [
      "/home/step/miniconda3/envs/ml/lib/python3.9/site-packages/sklearn/linear_model/_logistic.py:1476: UserWarning: l1_ratio parameter is only used when penalty is 'elasticnet'. Got (penalty=l2)\n",
      "  warnings.warn(\n",
      "/home/step/miniconda3/envs/ml/lib/python3.9/site-packages/sklearn/linear_model/_sag.py:352: ConvergenceWarning: The max_iter was reached which means the coef_ did not converge\n",
      "  warnings.warn(\n"
     ]
    },
    {
     "name": "stdout",
     "output_type": "stream",
     "text": [
      "[CV 1/3; 2/18] END clf__C=5.0, clf__penalty=l2, clf__solver=saga, feat-selector__percentile=30, preproc__preprocess__bow__ngram_range=(1, 3);, score=(train=1.000, test=0.697) total time=   3.0s\n",
      "[CV 2/3; 2/18] START clf__C=5.0, clf__penalty=l2, clf__solver=saga, feat-selector__percentile=30, preproc__preprocess__bow__ngram_range=(1, 3)\n"
     ]
    },
    {
     "name": "stderr",
     "output_type": "stream",
     "text": [
      "/home/step/miniconda3/envs/ml/lib/python3.9/site-packages/sklearn/linear_model/_logistic.py:1476: UserWarning: l1_ratio parameter is only used when penalty is 'elasticnet'. Got (penalty=l2)\n",
      "  warnings.warn(\n",
      "/home/step/miniconda3/envs/ml/lib/python3.9/site-packages/sklearn/linear_model/_sag.py:352: ConvergenceWarning: The max_iter was reached which means the coef_ did not converge\n",
      "  warnings.warn(\n"
     ]
    },
    {
     "name": "stdout",
     "output_type": "stream",
     "text": [
      "[CV 2/3; 2/18] END clf__C=5.0, clf__penalty=l2, clf__solver=saga, feat-selector__percentile=30, preproc__preprocess__bow__ngram_range=(1, 3);, score=(train=0.985, test=0.515) total time=   2.6s\n",
      "[CV 3/3; 2/18] START clf__C=5.0, clf__penalty=l2, clf__solver=saga, feat-selector__percentile=30, preproc__preprocess__bow__ngram_range=(1, 3)\n"
     ]
    },
    {
     "name": "stderr",
     "output_type": "stream",
     "text": [
      "/home/step/miniconda3/envs/ml/lib/python3.9/site-packages/sklearn/linear_model/_logistic.py:1476: UserWarning: l1_ratio parameter is only used when penalty is 'elasticnet'. Got (penalty=l2)\n",
      "  warnings.warn(\n",
      "/home/step/miniconda3/envs/ml/lib/python3.9/site-packages/sklearn/linear_model/_sag.py:352: ConvergenceWarning: The max_iter was reached which means the coef_ did not converge\n",
      "  warnings.warn(\n"
     ]
    },
    {
     "name": "stdout",
     "output_type": "stream",
     "text": [
      "[CV 3/3; 2/18] END clf__C=5.0, clf__penalty=l2, clf__solver=saga, feat-selector__percentile=30, preproc__preprocess__bow__ngram_range=(1, 3);, score=(train=1.000, test=0.750) total time=   3.0s\n",
      "[CV 1/3; 3/18] START clf__C=5.0, clf__penalty=l2, clf__solver=saga, feat-selector__percentile=60, preproc__preprocess__bow__ngram_range=(1, 3)\n"
     ]
    },
    {
     "name": "stderr",
     "output_type": "stream",
     "text": [
      "/home/step/miniconda3/envs/ml/lib/python3.9/site-packages/sklearn/linear_model/_logistic.py:1476: UserWarning: l1_ratio parameter is only used when penalty is 'elasticnet'. Got (penalty=l2)\n",
      "  warnings.warn(\n",
      "/home/step/miniconda3/envs/ml/lib/python3.9/site-packages/sklearn/linear_model/_sag.py:352: ConvergenceWarning: The max_iter was reached which means the coef_ did not converge\n",
      "  warnings.warn(\n"
     ]
    },
    {
     "name": "stdout",
     "output_type": "stream",
     "text": [
      "[CV 1/3; 3/18] END clf__C=5.0, clf__penalty=l2, clf__solver=saga, feat-selector__percentile=60, preproc__preprocess__bow__ngram_range=(1, 3);, score=(train=1.000, test=0.697) total time=   4.7s\n",
      "[CV 2/3; 3/18] START clf__C=5.0, clf__penalty=l2, clf__solver=saga, feat-selector__percentile=60, preproc__preprocess__bow__ngram_range=(1, 3)\n"
     ]
    },
    {
     "name": "stderr",
     "output_type": "stream",
     "text": [
      "/home/step/miniconda3/envs/ml/lib/python3.9/site-packages/sklearn/linear_model/_logistic.py:1476: UserWarning: l1_ratio parameter is only used when penalty is 'elasticnet'. Got (penalty=l2)\n",
      "  warnings.warn(\n",
      "/home/step/miniconda3/envs/ml/lib/python3.9/site-packages/sklearn/linear_model/_sag.py:352: ConvergenceWarning: The max_iter was reached which means the coef_ did not converge\n",
      "  warnings.warn(\n"
     ]
    },
    {
     "name": "stdout",
     "output_type": "stream",
     "text": [
      "[CV 2/3; 3/18] END clf__C=5.0, clf__penalty=l2, clf__solver=saga, feat-selector__percentile=60, preproc__preprocess__bow__ngram_range=(1, 3);, score=(train=0.985, test=0.576) total time=   3.7s\n",
      "[CV 3/3; 3/18] START clf__C=5.0, clf__penalty=l2, clf__solver=saga, feat-selector__percentile=60, preproc__preprocess__bow__ngram_range=(1, 3)\n"
     ]
    },
    {
     "name": "stderr",
     "output_type": "stream",
     "text": [
      "/home/step/miniconda3/envs/ml/lib/python3.9/site-packages/sklearn/linear_model/_logistic.py:1476: UserWarning: l1_ratio parameter is only used when penalty is 'elasticnet'. Got (penalty=l2)\n",
      "  warnings.warn(\n",
      "/home/step/miniconda3/envs/ml/lib/python3.9/site-packages/sklearn/linear_model/_sag.py:352: ConvergenceWarning: The max_iter was reached which means the coef_ did not converge\n",
      "  warnings.warn(\n"
     ]
    },
    {
     "name": "stdout",
     "output_type": "stream",
     "text": [
      "[CV 3/3; 3/18] END clf__C=5.0, clf__penalty=l2, clf__solver=saga, feat-selector__percentile=60, preproc__preprocess__bow__ngram_range=(1, 3);, score=(train=1.000, test=0.688) total time=   3.9s\n",
      "[CV 1/3; 4/18] START clf__C=5.0, clf__penalty=l2, clf__solver=saga, feat-selector__percentile=80, preproc__preprocess__bow__ngram_range=(1, 2)\n"
     ]
    },
    {
     "name": "stderr",
     "output_type": "stream",
     "text": [
      "/home/step/miniconda3/envs/ml/lib/python3.9/site-packages/sklearn/linear_model/_logistic.py:1476: UserWarning: l1_ratio parameter is only used when penalty is 'elasticnet'. Got (penalty=l2)\n",
      "  warnings.warn(\n",
      "/home/step/miniconda3/envs/ml/lib/python3.9/site-packages/sklearn/linear_model/_sag.py:352: ConvergenceWarning: The max_iter was reached which means the coef_ did not converge\n",
      "  warnings.warn(\n"
     ]
    },
    {
     "name": "stdout",
     "output_type": "stream",
     "text": [
      "[CV 1/3; 4/18] END clf__C=5.0, clf__penalty=l2, clf__solver=saga, feat-selector__percentile=80, preproc__preprocess__bow__ngram_range=(1, 2);, score=(train=1.000, test=0.697) total time=   3.5s\n",
      "[CV 2/3; 4/18] START clf__C=5.0, clf__penalty=l2, clf__solver=saga, feat-selector__percentile=80, preproc__preprocess__bow__ngram_range=(1, 2)\n"
     ]
    },
    {
     "name": "stderr",
     "output_type": "stream",
     "text": [
      "/home/step/miniconda3/envs/ml/lib/python3.9/site-packages/sklearn/linear_model/_logistic.py:1476: UserWarning: l1_ratio parameter is only used when penalty is 'elasticnet'. Got (penalty=l2)\n",
      "  warnings.warn(\n",
      "/home/step/miniconda3/envs/ml/lib/python3.9/site-packages/sklearn/linear_model/_sag.py:352: ConvergenceWarning: The max_iter was reached which means the coef_ did not converge\n",
      "  warnings.warn(\n"
     ]
    },
    {
     "name": "stdout",
     "output_type": "stream",
     "text": [
      "[CV 2/3; 4/18] END clf__C=5.0, clf__penalty=l2, clf__solver=saga, feat-selector__percentile=80, preproc__preprocess__bow__ngram_range=(1, 2);, score=(train=0.985, test=0.576) total time=   2.9s\n",
      "[CV 3/3; 4/18] START clf__C=5.0, clf__penalty=l2, clf__solver=saga, feat-selector__percentile=80, preproc__preprocess__bow__ngram_range=(1, 2)\n"
     ]
    },
    {
     "name": "stderr",
     "output_type": "stream",
     "text": [
      "/home/step/miniconda3/envs/ml/lib/python3.9/site-packages/sklearn/linear_model/_logistic.py:1476: UserWarning: l1_ratio parameter is only used when penalty is 'elasticnet'. Got (penalty=l2)\n",
      "  warnings.warn(\n",
      "/home/step/miniconda3/envs/ml/lib/python3.9/site-packages/sklearn/linear_model/_sag.py:352: ConvergenceWarning: The max_iter was reached which means the coef_ did not converge\n",
      "  warnings.warn(\n"
     ]
    },
    {
     "name": "stdout",
     "output_type": "stream",
     "text": [
      "[CV 3/3; 4/18] END clf__C=5.0, clf__penalty=l2, clf__solver=saga, feat-selector__percentile=80, preproc__preprocess__bow__ngram_range=(1, 2);, score=(train=1.000, test=0.625) total time=   3.1s\n",
      "[CV 1/3; 5/18] START clf__C=5.0, clf__penalty=l2, clf__solver=saga, feat-selector__percentile=80, preproc__preprocess__bow__ngram_range=(1, 1)\n"
     ]
    },
    {
     "name": "stderr",
     "output_type": "stream",
     "text": [
      "/home/step/miniconda3/envs/ml/lib/python3.9/site-packages/sklearn/linear_model/_logistic.py:1476: UserWarning: l1_ratio parameter is only used when penalty is 'elasticnet'. Got (penalty=l2)\n",
      "  warnings.warn(\n",
      "/home/step/miniconda3/envs/ml/lib/python3.9/site-packages/sklearn/linear_model/_sag.py:352: ConvergenceWarning: The max_iter was reached which means the coef_ did not converge\n",
      "  warnings.warn(\n"
     ]
    },
    {
     "name": "stdout",
     "output_type": "stream",
     "text": [
      "[CV 1/3; 5/18] END clf__C=5.0, clf__penalty=l2, clf__solver=saga, feat-selector__percentile=80, preproc__preprocess__bow__ngram_range=(1, 1);, score=(train=0.938, test=0.697) total time=   2.1s\n",
      "[CV 2/3; 5/18] START clf__C=5.0, clf__penalty=l2, clf__solver=saga, feat-selector__percentile=80, preproc__preprocess__bow__ngram_range=(1, 1)\n"
     ]
    },
    {
     "name": "stderr",
     "output_type": "stream",
     "text": [
      "/home/step/miniconda3/envs/ml/lib/python3.9/site-packages/sklearn/linear_model/_logistic.py:1476: UserWarning: l1_ratio parameter is only used when penalty is 'elasticnet'. Got (penalty=l2)\n",
      "  warnings.warn(\n",
      "/home/step/miniconda3/envs/ml/lib/python3.9/site-packages/sklearn/linear_model/_sag.py:352: ConvergenceWarning: The max_iter was reached which means the coef_ did not converge\n",
      "  warnings.warn(\n"
     ]
    },
    {
     "name": "stdout",
     "output_type": "stream",
     "text": [
      "[CV 2/3; 5/18] END clf__C=5.0, clf__penalty=l2, clf__solver=saga, feat-selector__percentile=80, preproc__preprocess__bow__ngram_range=(1, 1);, score=(train=0.908, test=0.576) total time=   1.9s\n",
      "[CV 3/3; 5/18] START clf__C=5.0, clf__penalty=l2, clf__solver=saga, feat-selector__percentile=80, preproc__preprocess__bow__ngram_range=(1, 1)\n"
     ]
    },
    {
     "name": "stderr",
     "output_type": "stream",
     "text": [
      "/home/step/miniconda3/envs/ml/lib/python3.9/site-packages/sklearn/linear_model/_logistic.py:1476: UserWarning: l1_ratio parameter is only used when penalty is 'elasticnet'. Got (penalty=l2)\n",
      "  warnings.warn(\n",
      "/home/step/miniconda3/envs/ml/lib/python3.9/site-packages/sklearn/linear_model/_sag.py:352: ConvergenceWarning: The max_iter was reached which means the coef_ did not converge\n",
      "  warnings.warn(\n"
     ]
    },
    {
     "name": "stdout",
     "output_type": "stream",
     "text": [
      "[CV 3/3; 5/18] END clf__C=5.0, clf__penalty=l2, clf__solver=saga, feat-selector__percentile=80, preproc__preprocess__bow__ngram_range=(1, 1);, score=(train=0.939, test=0.594) total time=   2.1s\n",
      "[CV 1/3; 6/18] START clf__C=1.0, clf__penalty=l2, clf__solver=saga, feat-selector__percentile=80, preproc__preprocess__bow__ngram_range=(1, 2)\n"
     ]
    },
    {
     "name": "stderr",
     "output_type": "stream",
     "text": [
      "/home/step/miniconda3/envs/ml/lib/python3.9/site-packages/sklearn/linear_model/_logistic.py:1476: UserWarning: l1_ratio parameter is only used when penalty is 'elasticnet'. Got (penalty=l2)\n",
      "  warnings.warn(\n",
      "/home/step/miniconda3/envs/ml/lib/python3.9/site-packages/sklearn/linear_model/_sag.py:352: ConvergenceWarning: The max_iter was reached which means the coef_ did not converge\n",
      "  warnings.warn(\n"
     ]
    },
    {
     "name": "stdout",
     "output_type": "stream",
     "text": [
      "[CV 1/3; 6/18] END clf__C=1.0, clf__penalty=l2, clf__solver=saga, feat-selector__percentile=80, preproc__preprocess__bow__ngram_range=(1, 2);, score=(train=1.000, test=0.697) total time=   3.5s\n",
      "[CV 2/3; 6/18] START clf__C=1.0, clf__penalty=l2, clf__solver=saga, feat-selector__percentile=80, preproc__preprocess__bow__ngram_range=(1, 2)\n"
     ]
    },
    {
     "name": "stderr",
     "output_type": "stream",
     "text": [
      "/home/step/miniconda3/envs/ml/lib/python3.9/site-packages/sklearn/linear_model/_logistic.py:1476: UserWarning: l1_ratio parameter is only used when penalty is 'elasticnet'. Got (penalty=l2)\n",
      "  warnings.warn(\n",
      "/home/step/miniconda3/envs/ml/lib/python3.9/site-packages/sklearn/linear_model/_sag.py:352: ConvergenceWarning: The max_iter was reached which means the coef_ did not converge\n",
      "  warnings.warn(\n"
     ]
    },
    {
     "name": "stdout",
     "output_type": "stream",
     "text": [
      "[CV 2/3; 6/18] END clf__C=1.0, clf__penalty=l2, clf__solver=saga, feat-selector__percentile=80, preproc__preprocess__bow__ngram_range=(1, 2);, score=(train=0.985, test=0.576) total time=   2.9s\n",
      "[CV 3/3; 6/18] START clf__C=1.0, clf__penalty=l2, clf__solver=saga, feat-selector__percentile=80, preproc__preprocess__bow__ngram_range=(1, 2)\n"
     ]
    },
    {
     "name": "stderr",
     "output_type": "stream",
     "text": [
      "/home/step/miniconda3/envs/ml/lib/python3.9/site-packages/sklearn/linear_model/_logistic.py:1476: UserWarning: l1_ratio parameter is only used when penalty is 'elasticnet'. Got (penalty=l2)\n",
      "  warnings.warn(\n",
      "/home/step/miniconda3/envs/ml/lib/python3.9/site-packages/sklearn/linear_model/_sag.py:352: ConvergenceWarning: The max_iter was reached which means the coef_ did not converge\n",
      "  warnings.warn(\n"
     ]
    },
    {
     "name": "stdout",
     "output_type": "stream",
     "text": [
      "[CV 3/3; 6/18] END clf__C=1.0, clf__penalty=l2, clf__solver=saga, feat-selector__percentile=80, preproc__preprocess__bow__ngram_range=(1, 2);, score=(train=1.000, test=0.625) total time=   3.1s\n",
      "[CV 1/3; 7/18] START clf__C=0.5, clf__penalty=l2, clf__solver=saga, feat-selector__percentile=80, preproc__preprocess__bow__ngram_range=(1, 1)\n"
     ]
    },
    {
     "name": "stderr",
     "output_type": "stream",
     "text": [
      "/home/step/miniconda3/envs/ml/lib/python3.9/site-packages/sklearn/linear_model/_logistic.py:1476: UserWarning: l1_ratio parameter is only used when penalty is 'elasticnet'. Got (penalty=l2)\n",
      "  warnings.warn(\n",
      "/home/step/miniconda3/envs/ml/lib/python3.9/site-packages/sklearn/linear_model/_sag.py:352: ConvergenceWarning: The max_iter was reached which means the coef_ did not converge\n",
      "  warnings.warn(\n"
     ]
    },
    {
     "name": "stdout",
     "output_type": "stream",
     "text": [
      "[CV 1/3; 7/18] END clf__C=0.5, clf__penalty=l2, clf__solver=saga, feat-selector__percentile=80, preproc__preprocess__bow__ngram_range=(1, 1);, score=(train=0.938, test=0.697) total time=   2.0s\n",
      "[CV 2/3; 7/18] START clf__C=0.5, clf__penalty=l2, clf__solver=saga, feat-selector__percentile=80, preproc__preprocess__bow__ngram_range=(1, 1)\n"
     ]
    },
    {
     "name": "stderr",
     "output_type": "stream",
     "text": [
      "/home/step/miniconda3/envs/ml/lib/python3.9/site-packages/sklearn/linear_model/_logistic.py:1476: UserWarning: l1_ratio parameter is only used when penalty is 'elasticnet'. Got (penalty=l2)\n",
      "  warnings.warn(\n",
      "/home/step/miniconda3/envs/ml/lib/python3.9/site-packages/sklearn/linear_model/_sag.py:352: ConvergenceWarning: The max_iter was reached which means the coef_ did not converge\n",
      "  warnings.warn(\n"
     ]
    },
    {
     "name": "stdout",
     "output_type": "stream",
     "text": [
      "[CV 2/3; 7/18] END clf__C=0.5, clf__penalty=l2, clf__solver=saga, feat-selector__percentile=80, preproc__preprocess__bow__ngram_range=(1, 1);, score=(train=0.908, test=0.576) total time=   1.8s\n",
      "[CV 3/3; 7/18] START clf__C=0.5, clf__penalty=l2, clf__solver=saga, feat-selector__percentile=80, preproc__preprocess__bow__ngram_range=(1, 1)\n"
     ]
    },
    {
     "name": "stderr",
     "output_type": "stream",
     "text": [
      "/home/step/miniconda3/envs/ml/lib/python3.9/site-packages/sklearn/linear_model/_logistic.py:1476: UserWarning: l1_ratio parameter is only used when penalty is 'elasticnet'. Got (penalty=l2)\n",
      "  warnings.warn(\n",
      "/home/step/miniconda3/envs/ml/lib/python3.9/site-packages/sklearn/linear_model/_sag.py:352: ConvergenceWarning: The max_iter was reached which means the coef_ did not converge\n",
      "  warnings.warn(\n"
     ]
    },
    {
     "name": "stdout",
     "output_type": "stream",
     "text": [
      "[CV 3/3; 7/18] END clf__C=0.5, clf__penalty=l2, clf__solver=saga, feat-selector__percentile=80, preproc__preprocess__bow__ngram_range=(1, 1);, score=(train=0.939, test=0.594) total time=   2.1s\n",
      "[CV 1/3; 8/18] START clf__C=5.0, clf__penalty=elasticnet, clf__solver=saga, feat-selector__percentile=80, preproc__preprocess__bow__ngram_range=(1, 1)\n"
     ]
    },
    {
     "name": "stderr",
     "output_type": "stream",
     "text": [
      "/home/step/miniconda3/envs/ml/lib/python3.9/site-packages/sklearn/linear_model/_sag.py:352: ConvergenceWarning: The max_iter was reached which means the coef_ did not converge\n",
      "  warnings.warn(\n"
     ]
    },
    {
     "name": "stdout",
     "output_type": "stream",
     "text": [
      "[CV 1/3; 8/18] END clf__C=5.0, clf__penalty=elasticnet, clf__solver=saga, feat-selector__percentile=80, preproc__preprocess__bow__ngram_range=(1, 1);, score=(train=0.938, test=0.697) total time=   5.8s\n",
      "[CV 2/3; 8/18] START clf__C=5.0, clf__penalty=elasticnet, clf__solver=saga, feat-selector__percentile=80, preproc__preprocess__bow__ngram_range=(1, 1)\n"
     ]
    },
    {
     "name": "stderr",
     "output_type": "stream",
     "text": [
      "/home/step/miniconda3/envs/ml/lib/python3.9/site-packages/sklearn/linear_model/_sag.py:352: ConvergenceWarning: The max_iter was reached which means the coef_ did not converge\n",
      "  warnings.warn(\n"
     ]
    },
    {
     "name": "stdout",
     "output_type": "stream",
     "text": [
      "[CV 2/3; 8/18] END clf__C=5.0, clf__penalty=elasticnet, clf__solver=saga, feat-selector__percentile=80, preproc__preprocess__bow__ngram_range=(1, 1);, score=(train=0.908, test=0.576) total time=   4.2s\n",
      "[CV 3/3; 8/18] START clf__C=5.0, clf__penalty=elasticnet, clf__solver=saga, feat-selector__percentile=80, preproc__preprocess__bow__ngram_range=(1, 1)\n"
     ]
    },
    {
     "name": "stderr",
     "output_type": "stream",
     "text": [
      "/home/step/miniconda3/envs/ml/lib/python3.9/site-packages/sklearn/linear_model/_sag.py:352: ConvergenceWarning: The max_iter was reached which means the coef_ did not converge\n",
      "  warnings.warn(\n"
     ]
    },
    {
     "name": "stdout",
     "output_type": "stream",
     "text": [
      "[CV 3/3; 8/18] END clf__C=5.0, clf__penalty=elasticnet, clf__solver=saga, feat-selector__percentile=80, preproc__preprocess__bow__ngram_range=(1, 1);, score=(train=0.939, test=0.594) total time=   4.8s\n",
      "[CV 1/3; 9/18] START clf__C=1.0, clf__penalty=l2, clf__solver=saga, feat-selector__percentile=80, preproc__preprocess__bow__ngram_range=(1, 1)\n"
     ]
    },
    {
     "name": "stderr",
     "output_type": "stream",
     "text": [
      "/home/step/miniconda3/envs/ml/lib/python3.9/site-packages/sklearn/linear_model/_logistic.py:1476: UserWarning: l1_ratio parameter is only used when penalty is 'elasticnet'. Got (penalty=l2)\n",
      "  warnings.warn(\n",
      "/home/step/miniconda3/envs/ml/lib/python3.9/site-packages/sklearn/linear_model/_sag.py:352: ConvergenceWarning: The max_iter was reached which means the coef_ did not converge\n",
      "  warnings.warn(\n"
     ]
    },
    {
     "name": "stdout",
     "output_type": "stream",
     "text": [
      "[CV 1/3; 9/18] END clf__C=1.0, clf__penalty=l2, clf__solver=saga, feat-selector__percentile=80, preproc__preprocess__bow__ngram_range=(1, 1);, score=(train=0.938, test=0.697) total time=   2.1s\n",
      "[CV 2/3; 9/18] START clf__C=1.0, clf__penalty=l2, clf__solver=saga, feat-selector__percentile=80, preproc__preprocess__bow__ngram_range=(1, 1)\n"
     ]
    },
    {
     "name": "stderr",
     "output_type": "stream",
     "text": [
      "/home/step/miniconda3/envs/ml/lib/python3.9/site-packages/sklearn/linear_model/_logistic.py:1476: UserWarning: l1_ratio parameter is only used when penalty is 'elasticnet'. Got (penalty=l2)\n",
      "  warnings.warn(\n",
      "/home/step/miniconda3/envs/ml/lib/python3.9/site-packages/sklearn/linear_model/_sag.py:352: ConvergenceWarning: The max_iter was reached which means the coef_ did not converge\n",
      "  warnings.warn(\n"
     ]
    },
    {
     "name": "stdout",
     "output_type": "stream",
     "text": [
      "[CV 2/3; 9/18] END clf__C=1.0, clf__penalty=l2, clf__solver=saga, feat-selector__percentile=80, preproc__preprocess__bow__ngram_range=(1, 1);, score=(train=0.908, test=0.576) total time=   1.9s\n",
      "[CV 3/3; 9/18] START clf__C=1.0, clf__penalty=l2, clf__solver=saga, feat-selector__percentile=80, preproc__preprocess__bow__ngram_range=(1, 1)\n"
     ]
    },
    {
     "name": "stderr",
     "output_type": "stream",
     "text": [
      "/home/step/miniconda3/envs/ml/lib/python3.9/site-packages/sklearn/linear_model/_logistic.py:1476: UserWarning: l1_ratio parameter is only used when penalty is 'elasticnet'. Got (penalty=l2)\n",
      "  warnings.warn(\n",
      "/home/step/miniconda3/envs/ml/lib/python3.9/site-packages/sklearn/linear_model/_sag.py:352: ConvergenceWarning: The max_iter was reached which means the coef_ did not converge\n",
      "  warnings.warn(\n"
     ]
    },
    {
     "name": "stdout",
     "output_type": "stream",
     "text": [
      "[CV 3/3; 9/18] END clf__C=1.0, clf__penalty=l2, clf__solver=saga, feat-selector__percentile=80, preproc__preprocess__bow__ngram_range=(1, 1);, score=(train=0.939, test=0.594) total time=   2.1s\n",
      "[CV 1/3; 10/18] START clf__C=5.0, clf__penalty=elasticnet, clf__solver=saga, feat-selector__percentile=80, preproc__preprocess__bow__ngram_range=(1, 2)\n"
     ]
    },
    {
     "name": "stderr",
     "output_type": "stream",
     "text": [
      "/home/step/miniconda3/envs/ml/lib/python3.9/site-packages/sklearn/linear_model/_sag.py:352: ConvergenceWarning: The max_iter was reached which means the coef_ did not converge\n",
      "  warnings.warn(\n"
     ]
    },
    {
     "name": "stdout",
     "output_type": "stream",
     "text": [
      "[CV 1/3; 10/18] END clf__C=5.0, clf__penalty=elasticnet, clf__solver=saga, feat-selector__percentile=80, preproc__preprocess__bow__ngram_range=(1, 2);, score=(train=1.000, test=0.697) total time=  17.4s\n",
      "[CV 2/3; 10/18] START clf__C=5.0, clf__penalty=elasticnet, clf__solver=saga, feat-selector__percentile=80, preproc__preprocess__bow__ngram_range=(1, 2)\n"
     ]
    },
    {
     "name": "stderr",
     "output_type": "stream",
     "text": [
      "/home/step/miniconda3/envs/ml/lib/python3.9/site-packages/sklearn/linear_model/_sag.py:352: ConvergenceWarning: The max_iter was reached which means the coef_ did not converge\n",
      "  warnings.warn(\n"
     ]
    },
    {
     "name": "stdout",
     "output_type": "stream",
     "text": [
      "[CV 2/3; 10/18] END clf__C=5.0, clf__penalty=elasticnet, clf__solver=saga, feat-selector__percentile=80, preproc__preprocess__bow__ngram_range=(1, 2);, score=(train=0.969, test=0.576) total time=  10.8s\n",
      "[CV 3/3; 10/18] START clf__C=5.0, clf__penalty=elasticnet, clf__solver=saga, feat-selector__percentile=80, preproc__preprocess__bow__ngram_range=(1, 2)\n"
     ]
    },
    {
     "name": "stderr",
     "output_type": "stream",
     "text": [
      "/home/step/miniconda3/envs/ml/lib/python3.9/site-packages/sklearn/linear_model/_sag.py:352: ConvergenceWarning: The max_iter was reached which means the coef_ did not converge\n",
      "  warnings.warn(\n"
     ]
    },
    {
     "name": "stdout",
     "output_type": "stream",
     "text": [
      "[CV 3/3; 10/18] END clf__C=5.0, clf__penalty=elasticnet, clf__solver=saga, feat-selector__percentile=80, preproc__preprocess__bow__ngram_range=(1, 2);, score=(train=0.970, test=0.625) total time=  12.2s\n",
      "[CV 1/3; 11/18] START clf__C=0.5, clf__penalty=l2, clf__solver=saga, feat-selector__percentile=80, preproc__preprocess__bow__ngram_range=(1, 2)\n"
     ]
    },
    {
     "name": "stderr",
     "output_type": "stream",
     "text": [
      "/home/step/miniconda3/envs/ml/lib/python3.9/site-packages/sklearn/linear_model/_logistic.py:1476: UserWarning: l1_ratio parameter is only used when penalty is 'elasticnet'. Got (penalty=l2)\n",
      "  warnings.warn(\n",
      "/home/step/miniconda3/envs/ml/lib/python3.9/site-packages/sklearn/linear_model/_sag.py:352: ConvergenceWarning: The max_iter was reached which means the coef_ did not converge\n",
      "  warnings.warn(\n"
     ]
    },
    {
     "name": "stdout",
     "output_type": "stream",
     "text": [
      "[CV 1/3; 11/18] END clf__C=0.5, clf__penalty=l2, clf__solver=saga, feat-selector__percentile=80, preproc__preprocess__bow__ngram_range=(1, 2);, score=(train=1.000, test=0.697) total time=   3.7s\n",
      "[CV 2/3; 11/18] START clf__C=0.5, clf__penalty=l2, clf__solver=saga, feat-selector__percentile=80, preproc__preprocess__bow__ngram_range=(1, 2)\n"
     ]
    },
    {
     "name": "stderr",
     "output_type": "stream",
     "text": [
      "/home/step/miniconda3/envs/ml/lib/python3.9/site-packages/sklearn/linear_model/_logistic.py:1476: UserWarning: l1_ratio parameter is only used when penalty is 'elasticnet'. Got (penalty=l2)\n",
      "  warnings.warn(\n",
      "/home/step/miniconda3/envs/ml/lib/python3.9/site-packages/sklearn/linear_model/_sag.py:352: ConvergenceWarning: The max_iter was reached which means the coef_ did not converge\n",
      "  warnings.warn(\n"
     ]
    },
    {
     "name": "stdout",
     "output_type": "stream",
     "text": [
      "[CV 2/3; 11/18] END clf__C=0.5, clf__penalty=l2, clf__solver=saga, feat-selector__percentile=80, preproc__preprocess__bow__ngram_range=(1, 2);, score=(train=0.985, test=0.576) total time=   2.9s\n",
      "[CV 3/3; 11/18] START clf__C=0.5, clf__penalty=l2, clf__solver=saga, feat-selector__percentile=80, preproc__preprocess__bow__ngram_range=(1, 2)\n"
     ]
    },
    {
     "name": "stderr",
     "output_type": "stream",
     "text": [
      "/home/step/miniconda3/envs/ml/lib/python3.9/site-packages/sklearn/linear_model/_logistic.py:1476: UserWarning: l1_ratio parameter is only used when penalty is 'elasticnet'. Got (penalty=l2)\n",
      "  warnings.warn(\n",
      "/home/step/miniconda3/envs/ml/lib/python3.9/site-packages/sklearn/linear_model/_sag.py:352: ConvergenceWarning: The max_iter was reached which means the coef_ did not converge\n",
      "  warnings.warn(\n"
     ]
    },
    {
     "name": "stdout",
     "output_type": "stream",
     "text": [
      "[CV 3/3; 11/18] END clf__C=0.5, clf__penalty=l2, clf__solver=saga, feat-selector__percentile=80, preproc__preprocess__bow__ngram_range=(1, 2);, score=(train=1.000, test=0.625) total time=   3.1s\n",
      "[CV 1/3; 12/18] START clf__C=5.0, clf__penalty=elasticnet, clf__solver=saga, feat-selector__percentile=80, preproc__preprocess__bow__ngram_range=(1, 3)\n"
     ]
    },
    {
     "name": "stderr",
     "output_type": "stream",
     "text": [
      "/home/step/miniconda3/envs/ml/lib/python3.9/site-packages/sklearn/linear_model/_sag.py:352: ConvergenceWarning: The max_iter was reached which means the coef_ did not converge\n",
      "  warnings.warn(\n"
     ]
    },
    {
     "name": "stdout",
     "output_type": "stream",
     "text": [
      "[CV 1/3; 12/18] END clf__C=5.0, clf__penalty=elasticnet, clf__solver=saga, feat-selector__percentile=80, preproc__preprocess__bow__ngram_range=(1, 3);, score=(train=1.000, test=0.697) total time=  30.8s\n",
      "[CV 2/3; 12/18] START clf__C=5.0, clf__penalty=elasticnet, clf__solver=saga, feat-selector__percentile=80, preproc__preprocess__bow__ngram_range=(1, 3)\n"
     ]
    },
    {
     "name": "stderr",
     "output_type": "stream",
     "text": [
      "/home/step/miniconda3/envs/ml/lib/python3.9/site-packages/sklearn/linear_model/_sag.py:352: ConvergenceWarning: The max_iter was reached which means the coef_ did not converge\n",
      "  warnings.warn(\n"
     ]
    },
    {
     "name": "stdout",
     "output_type": "stream",
     "text": [
      "[CV 2/3; 12/18] END clf__C=5.0, clf__penalty=elasticnet, clf__solver=saga, feat-selector__percentile=80, preproc__preprocess__bow__ngram_range=(1, 3);, score=(train=0.985, test=0.576) total time=  17.9s\n",
      "[CV 3/3; 12/18] START clf__C=5.0, clf__penalty=elasticnet, clf__solver=saga, feat-selector__percentile=80, preproc__preprocess__bow__ngram_range=(1, 3)\n"
     ]
    },
    {
     "name": "stderr",
     "output_type": "stream",
     "text": [
      "/home/step/miniconda3/envs/ml/lib/python3.9/site-packages/sklearn/linear_model/_sag.py:352: ConvergenceWarning: The max_iter was reached which means the coef_ did not converge\n",
      "  warnings.warn(\n"
     ]
    },
    {
     "name": "stdout",
     "output_type": "stream",
     "text": [
      "[CV 3/3; 12/18] END clf__C=5.0, clf__penalty=elasticnet, clf__solver=saga, feat-selector__percentile=80, preproc__preprocess__bow__ngram_range=(1, 3);, score=(train=1.000, test=0.625) total time=  20.6s\n",
      "[CV 1/3; 13/18] START clf__C=0.5, clf__penalty=elasticnet, clf__solver=saga, feat-selector__percentile=80, preproc__preprocess__bow__ngram_range=(1, 3)\n"
     ]
    },
    {
     "name": "stderr",
     "output_type": "stream",
     "text": [
      "/home/step/miniconda3/envs/ml/lib/python3.9/site-packages/sklearn/linear_model/_sag.py:352: ConvergenceWarning: The max_iter was reached which means the coef_ did not converge\n",
      "  warnings.warn(\n"
     ]
    },
    {
     "name": "stdout",
     "output_type": "stream",
     "text": [
      "[CV 1/3; 13/18] END clf__C=0.5, clf__penalty=elasticnet, clf__solver=saga, feat-selector__percentile=80, preproc__preprocess__bow__ngram_range=(1, 3);, score=(train=0.877, test=0.697) total time=   7.4s\n",
      "[CV 2/3; 13/18] START clf__C=0.5, clf__penalty=elasticnet, clf__solver=saga, feat-selector__percentile=80, preproc__preprocess__bow__ngram_range=(1, 3)\n"
     ]
    },
    {
     "name": "stderr",
     "output_type": "stream",
     "text": [
      "/home/step/miniconda3/envs/ml/lib/python3.9/site-packages/sklearn/linear_model/_sag.py:352: ConvergenceWarning: The max_iter was reached which means the coef_ did not converge\n",
      "  warnings.warn(\n"
     ]
    },
    {
     "name": "stdout",
     "output_type": "stream",
     "text": [
      "[CV 2/3; 13/18] END clf__C=0.5, clf__penalty=elasticnet, clf__solver=saga, feat-selector__percentile=80, preproc__preprocess__bow__ngram_range=(1, 3);, score=(train=0.877, test=0.576) total time=   5.5s\n",
      "[CV 3/3; 13/18] START clf__C=0.5, clf__penalty=elasticnet, clf__solver=saga, feat-selector__percentile=80, preproc__preprocess__bow__ngram_range=(1, 3)\n"
     ]
    },
    {
     "name": "stderr",
     "output_type": "stream",
     "text": [
      "/home/step/miniconda3/envs/ml/lib/python3.9/site-packages/sklearn/linear_model/_sag.py:352: ConvergenceWarning: The max_iter was reached which means the coef_ did not converge\n",
      "  warnings.warn(\n"
     ]
    },
    {
     "name": "stdout",
     "output_type": "stream",
     "text": [
      "[CV 3/3; 13/18] END clf__C=0.5, clf__penalty=elasticnet, clf__solver=saga, feat-selector__percentile=80, preproc__preprocess__bow__ngram_range=(1, 3);, score=(train=0.894, test=0.625) total time=   5.7s\n",
      "[CV 1/3; 14/18] START clf__C=1.0, clf__penalty=elasticnet, clf__solver=saga, feat-selector__percentile=80, preproc__preprocess__bow__ngram_range=(1, 3)\n"
     ]
    },
    {
     "name": "stderr",
     "output_type": "stream",
     "text": [
      "/home/step/miniconda3/envs/ml/lib/python3.9/site-packages/sklearn/linear_model/_sag.py:352: ConvergenceWarning: The max_iter was reached which means the coef_ did not converge\n",
      "  warnings.warn(\n"
     ]
    },
    {
     "name": "stdout",
     "output_type": "stream",
     "text": [
      "[CV 1/3; 14/18] END clf__C=1.0, clf__penalty=elasticnet, clf__solver=saga, feat-selector__percentile=80, preproc__preprocess__bow__ngram_range=(1, 3);, score=(train=0.938, test=0.697) total time=  11.4s\n",
      "[CV 2/3; 14/18] START clf__C=1.0, clf__penalty=elasticnet, clf__solver=saga, feat-selector__percentile=80, preproc__preprocess__bow__ngram_range=(1, 3)\n"
     ]
    },
    {
     "name": "stderr",
     "output_type": "stream",
     "text": [
      "/home/step/miniconda3/envs/ml/lib/python3.9/site-packages/sklearn/linear_model/_sag.py:352: ConvergenceWarning: The max_iter was reached which means the coef_ did not converge\n",
      "  warnings.warn(\n"
     ]
    },
    {
     "name": "stdout",
     "output_type": "stream",
     "text": [
      "[CV 2/3; 14/18] END clf__C=1.0, clf__penalty=elasticnet, clf__solver=saga, feat-selector__percentile=80, preproc__preprocess__bow__ngram_range=(1, 3);, score=(train=0.908, test=0.576) total time=   7.7s\n",
      "[CV 3/3; 14/18] START clf__C=1.0, clf__penalty=elasticnet, clf__solver=saga, feat-selector__percentile=80, preproc__preprocess__bow__ngram_range=(1, 3)\n"
     ]
    },
    {
     "name": "stderr",
     "output_type": "stream",
     "text": [
      "/home/step/miniconda3/envs/ml/lib/python3.9/site-packages/sklearn/linear_model/_sag.py:352: ConvergenceWarning: The max_iter was reached which means the coef_ did not converge\n",
      "  warnings.warn(\n"
     ]
    },
    {
     "name": "stdout",
     "output_type": "stream",
     "text": [
      "[CV 3/3; 14/18] END clf__C=1.0, clf__penalty=elasticnet, clf__solver=saga, feat-selector__percentile=80, preproc__preprocess__bow__ngram_range=(1, 3);, score=(train=0.955, test=0.625) total time=   7.9s\n",
      "[CV 1/3; 15/18] START clf__C=1.0, clf__penalty=elasticnet, clf__solver=saga, feat-selector__percentile=80, preproc__preprocess__bow__ngram_range=(1, 2)\n"
     ]
    },
    {
     "name": "stderr",
     "output_type": "stream",
     "text": [
      "/home/step/miniconda3/envs/ml/lib/python3.9/site-packages/sklearn/linear_model/_sag.py:352: ConvergenceWarning: The max_iter was reached which means the coef_ did not converge\n",
      "  warnings.warn(\n"
     ]
    },
    {
     "name": "stdout",
     "output_type": "stream",
     "text": [
      "[CV 1/3; 15/18] END clf__C=1.0, clf__penalty=elasticnet, clf__solver=saga, feat-selector__percentile=80, preproc__preprocess__bow__ngram_range=(1, 2);, score=(train=0.923, test=0.697) total time=   7.3s\n",
      "[CV 2/3; 15/18] START clf__C=1.0, clf__penalty=elasticnet, clf__solver=saga, feat-selector__percentile=80, preproc__preprocess__bow__ngram_range=(1, 2)\n"
     ]
    },
    {
     "name": "stderr",
     "output_type": "stream",
     "text": [
      "/home/step/miniconda3/envs/ml/lib/python3.9/site-packages/sklearn/linear_model/_sag.py:352: ConvergenceWarning: The max_iter was reached which means the coef_ did not converge\n",
      "  warnings.warn(\n"
     ]
    },
    {
     "name": "stdout",
     "output_type": "stream",
     "text": [
      "[CV 2/3; 15/18] END clf__C=1.0, clf__penalty=elasticnet, clf__solver=saga, feat-selector__percentile=80, preproc__preprocess__bow__ngram_range=(1, 2);, score=(train=0.908, test=0.576) total time=   5.0s\n",
      "[CV 3/3; 15/18] START clf__C=1.0, clf__penalty=elasticnet, clf__solver=saga, feat-selector__percentile=80, preproc__preprocess__bow__ngram_range=(1, 2)\n"
     ]
    },
    {
     "name": "stderr",
     "output_type": "stream",
     "text": [
      "/home/step/miniconda3/envs/ml/lib/python3.9/site-packages/sklearn/linear_model/_sag.py:352: ConvergenceWarning: The max_iter was reached which means the coef_ did not converge\n",
      "  warnings.warn(\n"
     ]
    },
    {
     "name": "stdout",
     "output_type": "stream",
     "text": [
      "[CV 3/3; 15/18] END clf__C=1.0, clf__penalty=elasticnet, clf__solver=saga, feat-selector__percentile=80, preproc__preprocess__bow__ngram_range=(1, 2);, score=(train=0.939, test=0.625) total time=   5.2s\n",
      "[CV 1/3; 16/18] START clf__C=1.0, clf__penalty=elasticnet, clf__solver=saga, feat-selector__percentile=80, preproc__preprocess__bow__ngram_range=(1, 1)\n"
     ]
    },
    {
     "name": "stderr",
     "output_type": "stream",
     "text": [
      "/home/step/miniconda3/envs/ml/lib/python3.9/site-packages/sklearn/linear_model/_sag.py:352: ConvergenceWarning: The max_iter was reached which means the coef_ did not converge\n",
      "  warnings.warn(\n"
     ]
    },
    {
     "name": "stdout",
     "output_type": "stream",
     "text": [
      "[CV 1/3; 16/18] END clf__C=1.0, clf__penalty=elasticnet, clf__solver=saga, feat-selector__percentile=80, preproc__preprocess__bow__ngram_range=(1, 1);, score=(train=0.908, test=0.697) total time=   3.5s\n",
      "[CV 2/3; 16/18] START clf__C=1.0, clf__penalty=elasticnet, clf__solver=saga, feat-selector__percentile=80, preproc__preprocess__bow__ngram_range=(1, 1)\n"
     ]
    },
    {
     "name": "stderr",
     "output_type": "stream",
     "text": [
      "/home/step/miniconda3/envs/ml/lib/python3.9/site-packages/sklearn/linear_model/_sag.py:352: ConvergenceWarning: The max_iter was reached which means the coef_ did not converge\n",
      "  warnings.warn(\n"
     ]
    },
    {
     "name": "stdout",
     "output_type": "stream",
     "text": [
      "[CV 2/3; 16/18] END clf__C=1.0, clf__penalty=elasticnet, clf__solver=saga, feat-selector__percentile=80, preproc__preprocess__bow__ngram_range=(1, 1);, score=(train=0.877, test=0.576) total time=   2.7s\n",
      "[CV 3/3; 16/18] START clf__C=1.0, clf__penalty=elasticnet, clf__solver=saga, feat-selector__percentile=80, preproc__preprocess__bow__ngram_range=(1, 1)\n"
     ]
    },
    {
     "name": "stderr",
     "output_type": "stream",
     "text": [
      "/home/step/miniconda3/envs/ml/lib/python3.9/site-packages/sklearn/linear_model/_sag.py:352: ConvergenceWarning: The max_iter was reached which means the coef_ did not converge\n",
      "  warnings.warn(\n"
     ]
    },
    {
     "name": "stdout",
     "output_type": "stream",
     "text": [
      "[CV 3/3; 16/18] END clf__C=1.0, clf__penalty=elasticnet, clf__solver=saga, feat-selector__percentile=80, preproc__preprocess__bow__ngram_range=(1, 1);, score=(train=0.939, test=0.625) total time=   3.1s\n",
      "[CV 1/3; 17/18] START clf__C=0.5, clf__penalty=elasticnet, clf__solver=saga, feat-selector__percentile=80, preproc__preprocess__bow__ngram_range=(1, 2)\n"
     ]
    },
    {
     "name": "stderr",
     "output_type": "stream",
     "text": [
      "/home/step/miniconda3/envs/ml/lib/python3.9/site-packages/sklearn/linear_model/_sag.py:352: ConvergenceWarning: The max_iter was reached which means the coef_ did not converge\n",
      "  warnings.warn(\n"
     ]
    },
    {
     "name": "stdout",
     "output_type": "stream",
     "text": [
      "[CV 1/3; 17/18] END clf__C=0.5, clf__penalty=elasticnet, clf__solver=saga, feat-selector__percentile=80, preproc__preprocess__bow__ngram_range=(1, 2);, score=(train=0.877, test=0.697) total time=   5.2s\n",
      "[CV 2/3; 17/18] START clf__C=0.5, clf__penalty=elasticnet, clf__solver=saga, feat-selector__percentile=80, preproc__preprocess__bow__ngram_range=(1, 2)\n"
     ]
    },
    {
     "name": "stderr",
     "output_type": "stream",
     "text": [
      "/home/step/miniconda3/envs/ml/lib/python3.9/site-packages/sklearn/linear_model/_sag.py:352: ConvergenceWarning: The max_iter was reached which means the coef_ did not converge\n",
      "  warnings.warn(\n"
     ]
    },
    {
     "name": "stdout",
     "output_type": "stream",
     "text": [
      "[CV 2/3; 17/18] END clf__C=0.5, clf__penalty=elasticnet, clf__solver=saga, feat-selector__percentile=80, preproc__preprocess__bow__ngram_range=(1, 2);, score=(train=0.877, test=0.576) total time=   3.7s\n",
      "[CV 3/3; 17/18] START clf__C=0.5, clf__penalty=elasticnet, clf__solver=saga, feat-selector__percentile=80, preproc__preprocess__bow__ngram_range=(1, 2)\n"
     ]
    },
    {
     "name": "stderr",
     "output_type": "stream",
     "text": [
      "/home/step/miniconda3/envs/ml/lib/python3.9/site-packages/sklearn/linear_model/_sag.py:352: ConvergenceWarning: The max_iter was reached which means the coef_ did not converge\n",
      "  warnings.warn(\n"
     ]
    },
    {
     "name": "stdout",
     "output_type": "stream",
     "text": [
      "[CV 3/3; 17/18] END clf__C=0.5, clf__penalty=elasticnet, clf__solver=saga, feat-selector__percentile=80, preproc__preprocess__bow__ngram_range=(1, 2);, score=(train=0.894, test=0.625) total time=   3.9s\n",
      "[CV 1/3; 18/18] START clf__C=0.5, clf__penalty=elasticnet, clf__solver=saga, feat-selector__percentile=80, preproc__preprocess__bow__ngram_range=(1, 1)\n"
     ]
    },
    {
     "name": "stderr",
     "output_type": "stream",
     "text": [
      "/home/step/miniconda3/envs/ml/lib/python3.9/site-packages/sklearn/linear_model/_sag.py:352: ConvergenceWarning: The max_iter was reached which means the coef_ did not converge\n",
      "  warnings.warn(\n"
     ]
    },
    {
     "name": "stdout",
     "output_type": "stream",
     "text": [
      "[CV 1/3; 18/18] END clf__C=0.5, clf__penalty=elasticnet, clf__solver=saga, feat-selector__percentile=80, preproc__preprocess__bow__ngram_range=(1, 1);, score=(train=0.846, test=0.697) total time=   2.8s\n",
      "[CV 2/3; 18/18] START clf__C=0.5, clf__penalty=elasticnet, clf__solver=saga, feat-selector__percentile=80, preproc__preprocess__bow__ngram_range=(1, 1)\n"
     ]
    },
    {
     "name": "stderr",
     "output_type": "stream",
     "text": [
      "/home/step/miniconda3/envs/ml/lib/python3.9/site-packages/sklearn/linear_model/_sag.py:352: ConvergenceWarning: The max_iter was reached which means the coef_ did not converge\n",
      "  warnings.warn(\n"
     ]
    },
    {
     "name": "stdout",
     "output_type": "stream",
     "text": [
      "[CV 2/3; 18/18] END clf__C=0.5, clf__penalty=elasticnet, clf__solver=saga, feat-selector__percentile=80, preproc__preprocess__bow__ngram_range=(1, 1);, score=(train=0.877, test=0.576) total time=   2.3s\n",
      "[CV 3/3; 18/18] START clf__C=0.5, clf__penalty=elasticnet, clf__solver=saga, feat-selector__percentile=80, preproc__preprocess__bow__ngram_range=(1, 1)\n"
     ]
    },
    {
     "name": "stderr",
     "output_type": "stream",
     "text": [
      "/home/step/miniconda3/envs/ml/lib/python3.9/site-packages/sklearn/linear_model/_sag.py:352: ConvergenceWarning: The max_iter was reached which means the coef_ did not converge\n",
      "  warnings.warn(\n"
     ]
    },
    {
     "name": "stdout",
     "output_type": "stream",
     "text": [
      "[CV 3/3; 18/18] END clf__C=0.5, clf__penalty=elasticnet, clf__solver=saga, feat-selector__percentile=80, preproc__preprocess__bow__ngram_range=(1, 1);, score=(train=0.909, test=0.688) total time=   2.6s\n",
      "----------\n",
      "iter: 2\n",
      "n_candidates: 6\n",
      "n_resources: 297\n",
      "Fitting 3 folds for each of 6 candidates, totalling 18 fits\n",
      "[CV 1/3; 1/6] START clf__C=0.5, clf__penalty=elasticnet, clf__solver=saga, feat-selector__percentile=80, preproc__preprocess__bow__ngram_range=(1, 3)\n"
     ]
    },
    {
     "name": "stderr",
     "output_type": "stream",
     "text": [
      "/home/step/miniconda3/envs/ml/lib/python3.9/site-packages/sklearn/linear_model/_sag.py:352: ConvergenceWarning: The max_iter was reached which means the coef_ did not converge\n",
      "  warnings.warn(\n"
     ]
    },
    {
     "name": "stdout",
     "output_type": "stream",
     "text": [
      "[CV 1/3; 1/6] END clf__C=0.5, clf__penalty=elasticnet, clf__solver=saga, feat-selector__percentile=80, preproc__preprocess__bow__ngram_range=(1, 3);, score=(train=0.853, test=0.626) total time=  29.4s\n",
      "[CV 2/3; 1/6] START clf__C=0.5, clf__penalty=elasticnet, clf__solver=saga, feat-selector__percentile=80, preproc__preprocess__bow__ngram_range=(1, 3)\n"
     ]
    },
    {
     "name": "stderr",
     "output_type": "stream",
     "text": [
      "/home/step/miniconda3/envs/ml/lib/python3.9/site-packages/sklearn/linear_model/_sag.py:352: ConvergenceWarning: The max_iter was reached which means the coef_ did not converge\n",
      "  warnings.warn(\n"
     ]
    },
    {
     "name": "stdout",
     "output_type": "stream",
     "text": [
      "[CV 2/3; 1/6] END clf__C=0.5, clf__penalty=elasticnet, clf__solver=saga, feat-selector__percentile=80, preproc__preprocess__bow__ngram_range=(1, 3);, score=(train=0.812, test=0.636) total time=  27.9s\n",
      "[CV 3/3; 1/6] START clf__C=0.5, clf__penalty=elasticnet, clf__solver=saga, feat-selector__percentile=80, preproc__preprocess__bow__ngram_range=(1, 3)\n"
     ]
    },
    {
     "name": "stderr",
     "output_type": "stream",
     "text": [
      "/home/step/miniconda3/envs/ml/lib/python3.9/site-packages/sklearn/linear_model/_sag.py:352: ConvergenceWarning: The max_iter was reached which means the coef_ did not converge\n",
      "  warnings.warn(\n"
     ]
    },
    {
     "name": "stdout",
     "output_type": "stream",
     "text": [
      "[CV 3/3; 1/6] END clf__C=0.5, clf__penalty=elasticnet, clf__solver=saga, feat-selector__percentile=80, preproc__preprocess__bow__ngram_range=(1, 3);, score=(train=0.798, test=0.592) total time=  34.7s\n",
      "[CV 1/3; 2/6] START clf__C=1.0, clf__penalty=elasticnet, clf__solver=saga, feat-selector__percentile=80, preproc__preprocess__bow__ngram_range=(1, 3)\n"
     ]
    },
    {
     "name": "stderr",
     "output_type": "stream",
     "text": [
      "/home/step/miniconda3/envs/ml/lib/python3.9/site-packages/sklearn/linear_model/_sag.py:352: ConvergenceWarning: The max_iter was reached which means the coef_ did not converge\n",
      "  warnings.warn(\n"
     ]
    },
    {
     "name": "stdout",
     "output_type": "stream",
     "text": [
      "[CV 1/3; 2/6] END clf__C=1.0, clf__penalty=elasticnet, clf__solver=saga, feat-selector__percentile=80, preproc__preprocess__bow__ngram_range=(1, 3);, score=(train=0.929, test=0.626) total time= 1.1min\n",
      "[CV 2/3; 2/6] START clf__C=1.0, clf__penalty=elasticnet, clf__solver=saga, feat-selector__percentile=80, preproc__preprocess__bow__ngram_range=(1, 3)\n"
     ]
    },
    {
     "name": "stderr",
     "output_type": "stream",
     "text": [
      "/home/step/miniconda3/envs/ml/lib/python3.9/site-packages/sklearn/linear_model/_sag.py:352: ConvergenceWarning: The max_iter was reached which means the coef_ did not converge\n",
      "  warnings.warn(\n"
     ]
    },
    {
     "name": "stdout",
     "output_type": "stream",
     "text": [
      "[CV 2/3; 2/6] END clf__C=1.0, clf__penalty=elasticnet, clf__solver=saga, feat-selector__percentile=80, preproc__preprocess__bow__ngram_range=(1, 3);, score=(train=0.843, test=0.636) total time= 1.0min\n",
      "[CV 3/3; 2/6] START clf__C=1.0, clf__penalty=elasticnet, clf__solver=saga, feat-selector__percentile=80, preproc__preprocess__bow__ngram_range=(1, 3)\n"
     ]
    },
    {
     "name": "stderr",
     "output_type": "stream",
     "text": [
      "/home/step/miniconda3/envs/ml/lib/python3.9/site-packages/sklearn/linear_model/_sag.py:352: ConvergenceWarning: The max_iter was reached which means the coef_ did not converge\n",
      "  warnings.warn(\n"
     ]
    },
    {
     "name": "stdout",
     "output_type": "stream",
     "text": [
      "[CV 3/3; 2/6] END clf__C=1.0, clf__penalty=elasticnet, clf__solver=saga, feat-selector__percentile=80, preproc__preprocess__bow__ngram_range=(1, 3);, score=(train=0.833, test=0.592) total time= 1.4min\n",
      "[CV 1/3; 3/6] START clf__C=0.5, clf__penalty=l2, clf__solver=saga, feat-selector__percentile=60, preproc__preprocess__bow__ngram_range=(1, 3)\n"
     ]
    },
    {
     "name": "stderr",
     "output_type": "stream",
     "text": [
      "/home/step/miniconda3/envs/ml/lib/python3.9/site-packages/sklearn/linear_model/_logistic.py:1476: UserWarning: l1_ratio parameter is only used when penalty is 'elasticnet'. Got (penalty=l2)\n",
      "  warnings.warn(\n",
      "/home/step/miniconda3/envs/ml/lib/python3.9/site-packages/sklearn/linear_model/_sag.py:352: ConvergenceWarning: The max_iter was reached which means the coef_ did not converge\n",
      "  warnings.warn(\n"
     ]
    },
    {
     "name": "stdout",
     "output_type": "stream",
     "text": [
      "[CV 1/3; 3/6] END clf__C=0.5, clf__penalty=l2, clf__solver=saga, feat-selector__percentile=60, preproc__preprocess__bow__ngram_range=(1, 3);, score=(train=0.975, test=0.657) total time=  16.9s\n",
      "[CV 2/3; 3/6] START clf__C=0.5, clf__penalty=l2, clf__solver=saga, feat-selector__percentile=60, preproc__preprocess__bow__ngram_range=(1, 3)\n"
     ]
    },
    {
     "name": "stderr",
     "output_type": "stream",
     "text": [
      "/home/step/miniconda3/envs/ml/lib/python3.9/site-packages/sklearn/linear_model/_logistic.py:1476: UserWarning: l1_ratio parameter is only used when penalty is 'elasticnet'. Got (penalty=l2)\n",
      "  warnings.warn(\n",
      "/home/step/miniconda3/envs/ml/lib/python3.9/site-packages/sklearn/linear_model/_sag.py:352: ConvergenceWarning: The max_iter was reached which means the coef_ did not converge\n",
      "  warnings.warn(\n"
     ]
    },
    {
     "name": "stdout",
     "output_type": "stream",
     "text": [
      "[CV 2/3; 3/6] END clf__C=0.5, clf__penalty=l2, clf__solver=saga, feat-selector__percentile=60, preproc__preprocess__bow__ngram_range=(1, 3);, score=(train=0.924, test=0.636) total time=  14.7s\n",
      "[CV 3/3; 3/6] START clf__C=0.5, clf__penalty=l2, clf__solver=saga, feat-selector__percentile=60, preproc__preprocess__bow__ngram_range=(1, 3)\n"
     ]
    },
    {
     "name": "stderr",
     "output_type": "stream",
     "text": [
      "/home/step/miniconda3/envs/ml/lib/python3.9/site-packages/sklearn/linear_model/_logistic.py:1476: UserWarning: l1_ratio parameter is only used when penalty is 'elasticnet'. Got (penalty=l2)\n",
      "  warnings.warn(\n",
      "/home/step/miniconda3/envs/ml/lib/python3.9/site-packages/sklearn/linear_model/_sag.py:352: ConvergenceWarning: The max_iter was reached which means the coef_ did not converge\n",
      "  warnings.warn(\n"
     ]
    },
    {
     "name": "stdout",
     "output_type": "stream",
     "text": [
      "[CV 3/3; 3/6] END clf__C=0.5, clf__penalty=l2, clf__solver=saga, feat-selector__percentile=60, preproc__preprocess__bow__ngram_range=(1, 3);, score=(train=0.929, test=0.582) total time=  16.6s\n",
      "[CV 1/3; 4/6] START clf__C=5.0, clf__penalty=l2, clf__solver=saga, feat-selector__percentile=60, preproc__preprocess__bow__ngram_range=(1, 3)\n"
     ]
    },
    {
     "name": "stderr",
     "output_type": "stream",
     "text": [
      "/home/step/miniconda3/envs/ml/lib/python3.9/site-packages/sklearn/linear_model/_logistic.py:1476: UserWarning: l1_ratio parameter is only used when penalty is 'elasticnet'. Got (penalty=l2)\n",
      "  warnings.warn(\n",
      "/home/step/miniconda3/envs/ml/lib/python3.9/site-packages/sklearn/linear_model/_sag.py:352: ConvergenceWarning: The max_iter was reached which means the coef_ did not converge\n",
      "  warnings.warn(\n"
     ]
    },
    {
     "name": "stdout",
     "output_type": "stream",
     "text": [
      "[CV 1/3; 4/6] END clf__C=5.0, clf__penalty=l2, clf__solver=saga, feat-selector__percentile=60, preproc__preprocess__bow__ngram_range=(1, 3);, score=(train=0.975, test=0.657) total time=  17.2s\n",
      "[CV 2/3; 4/6] START clf__C=5.0, clf__penalty=l2, clf__solver=saga, feat-selector__percentile=60, preproc__preprocess__bow__ngram_range=(1, 3)\n"
     ]
    },
    {
     "name": "stderr",
     "output_type": "stream",
     "text": [
      "/home/step/miniconda3/envs/ml/lib/python3.9/site-packages/sklearn/linear_model/_logistic.py:1476: UserWarning: l1_ratio parameter is only used when penalty is 'elasticnet'. Got (penalty=l2)\n",
      "  warnings.warn(\n",
      "/home/step/miniconda3/envs/ml/lib/python3.9/site-packages/sklearn/linear_model/_sag.py:352: ConvergenceWarning: The max_iter was reached which means the coef_ did not converge\n",
      "  warnings.warn(\n"
     ]
    },
    {
     "name": "stdout",
     "output_type": "stream",
     "text": [
      "[CV 2/3; 4/6] END clf__C=5.0, clf__penalty=l2, clf__solver=saga, feat-selector__percentile=60, preproc__preprocess__bow__ngram_range=(1, 3);, score=(train=0.924, test=0.636) total time=  15.4s\n",
      "[CV 3/3; 4/6] START clf__C=5.0, clf__penalty=l2, clf__solver=saga, feat-selector__percentile=60, preproc__preprocess__bow__ngram_range=(1, 3)\n"
     ]
    },
    {
     "name": "stderr",
     "output_type": "stream",
     "text": [
      "/home/step/miniconda3/envs/ml/lib/python3.9/site-packages/sklearn/linear_model/_logistic.py:1476: UserWarning: l1_ratio parameter is only used when penalty is 'elasticnet'. Got (penalty=l2)\n",
      "  warnings.warn(\n",
      "/home/step/miniconda3/envs/ml/lib/python3.9/site-packages/sklearn/linear_model/_sag.py:352: ConvergenceWarning: The max_iter was reached which means the coef_ did not converge\n",
      "  warnings.warn(\n"
     ]
    },
    {
     "name": "stdout",
     "output_type": "stream",
     "text": [
      "[CV 3/3; 4/6] END clf__C=5.0, clf__penalty=l2, clf__solver=saga, feat-selector__percentile=60, preproc__preprocess__bow__ngram_range=(1, 3);, score=(train=0.929, test=0.582) total time=  17.7s\n",
      "[CV 1/3; 5/6] START clf__C=0.5, clf__penalty=elasticnet, clf__solver=saga, feat-selector__percentile=80, preproc__preprocess__bow__ngram_range=(1, 1)\n"
     ]
    },
    {
     "name": "stderr",
     "output_type": "stream",
     "text": [
      "/home/step/miniconda3/envs/ml/lib/python3.9/site-packages/sklearn/linear_model/_sag.py:352: ConvergenceWarning: The max_iter was reached which means the coef_ did not converge\n",
      "  warnings.warn(\n"
     ]
    },
    {
     "name": "stdout",
     "output_type": "stream",
     "text": [
      "[CV 1/3; 5/6] END clf__C=0.5, clf__penalty=elasticnet, clf__solver=saga, feat-selector__percentile=80, preproc__preprocess__bow__ngram_range=(1, 1);, score=(train=0.853, test=0.657) total time=   9.3s\n",
      "[CV 2/3; 5/6] START clf__C=0.5, clf__penalty=elasticnet, clf__solver=saga, feat-selector__percentile=80, preproc__preprocess__bow__ngram_range=(1, 1)\n"
     ]
    },
    {
     "name": "stderr",
     "output_type": "stream",
     "text": [
      "/home/step/miniconda3/envs/ml/lib/python3.9/site-packages/sklearn/linear_model/_sag.py:352: ConvergenceWarning: The max_iter was reached which means the coef_ did not converge\n",
      "  warnings.warn(\n"
     ]
    },
    {
     "name": "stdout",
     "output_type": "stream",
     "text": [
      "[CV 2/3; 5/6] END clf__C=0.5, clf__penalty=elasticnet, clf__solver=saga, feat-selector__percentile=80, preproc__preprocess__bow__ngram_range=(1, 1);, score=(train=0.792, test=0.626) total time=   9.3s\n",
      "[CV 3/3; 5/6] START clf__C=0.5, clf__penalty=elasticnet, clf__solver=saga, feat-selector__percentile=80, preproc__preprocess__bow__ngram_range=(1, 1)\n"
     ]
    },
    {
     "name": "stderr",
     "output_type": "stream",
     "text": [
      "/home/step/miniconda3/envs/ml/lib/python3.9/site-packages/sklearn/linear_model/_sag.py:352: ConvergenceWarning: The max_iter was reached which means the coef_ did not converge\n",
      "  warnings.warn(\n"
     ]
    },
    {
     "name": "stdout",
     "output_type": "stream",
     "text": [
      "[CV 3/3; 5/6] END clf__C=0.5, clf__penalty=elasticnet, clf__solver=saga, feat-selector__percentile=80, preproc__preprocess__bow__ngram_range=(1, 1);, score=(train=0.783, test=0.592) total time=  10.6s\n",
      "[CV 1/3; 6/6] START clf__C=5.0, clf__penalty=l2, clf__solver=saga, feat-selector__percentile=30, preproc__preprocess__bow__ngram_range=(1, 3)\n"
     ]
    },
    {
     "name": "stderr",
     "output_type": "stream",
     "text": [
      "/home/step/miniconda3/envs/ml/lib/python3.9/site-packages/sklearn/linear_model/_logistic.py:1476: UserWarning: l1_ratio parameter is only used when penalty is 'elasticnet'. Got (penalty=l2)\n",
      "  warnings.warn(\n",
      "/home/step/miniconda3/envs/ml/lib/python3.9/site-packages/sklearn/linear_model/_sag.py:352: ConvergenceWarning: The max_iter was reached which means the coef_ did not converge\n",
      "  warnings.warn(\n"
     ]
    },
    {
     "name": "stdout",
     "output_type": "stream",
     "text": [
      "[CV 1/3; 6/6] END clf__C=5.0, clf__penalty=l2, clf__solver=saga, feat-selector__percentile=30, preproc__preprocess__bow__ngram_range=(1, 3);, score=(train=0.985, test=0.657) total time=   8.8s\n",
      "[CV 2/3; 6/6] START clf__C=5.0, clf__penalty=l2, clf__solver=saga, feat-selector__percentile=30, preproc__preprocess__bow__ngram_range=(1, 3)\n"
     ]
    },
    {
     "name": "stderr",
     "output_type": "stream",
     "text": [
      "/home/step/miniconda3/envs/ml/lib/python3.9/site-packages/sklearn/linear_model/_logistic.py:1476: UserWarning: l1_ratio parameter is only used when penalty is 'elasticnet'. Got (penalty=l2)\n",
      "  warnings.warn(\n",
      "/home/step/miniconda3/envs/ml/lib/python3.9/site-packages/sklearn/linear_model/_sag.py:352: ConvergenceWarning: The max_iter was reached which means the coef_ did not converge\n",
      "  warnings.warn(\n"
     ]
    },
    {
     "name": "stdout",
     "output_type": "stream",
     "text": [
      "[CV 2/3; 6/6] END clf__C=5.0, clf__penalty=l2, clf__solver=saga, feat-selector__percentile=30, preproc__preprocess__bow__ngram_range=(1, 3);, score=(train=0.919, test=0.626) total time=   8.7s\n",
      "[CV 3/3; 6/6] START clf__C=5.0, clf__penalty=l2, clf__solver=saga, feat-selector__percentile=30, preproc__preprocess__bow__ngram_range=(1, 3)\n"
     ]
    },
    {
     "name": "stderr",
     "output_type": "stream",
     "text": [
      "/home/step/miniconda3/envs/ml/lib/python3.9/site-packages/sklearn/linear_model/_logistic.py:1476: UserWarning: l1_ratio parameter is only used when penalty is 'elasticnet'. Got (penalty=l2)\n",
      "  warnings.warn(\n",
      "/home/step/miniconda3/envs/ml/lib/python3.9/site-packages/sklearn/linear_model/_sag.py:352: ConvergenceWarning: The max_iter was reached which means the coef_ did not converge\n",
      "  warnings.warn(\n"
     ]
    },
    {
     "name": "stdout",
     "output_type": "stream",
     "text": [
      "[CV 3/3; 6/6] END clf__C=5.0, clf__penalty=l2, clf__solver=saga, feat-selector__percentile=30, preproc__preprocess__bow__ngram_range=(1, 3);, score=(train=0.894, test=0.582) total time=  10.4s\n",
      "----------\n",
      "iter: 3\n",
      "n_candidates: 2\n",
      "n_resources: 891\n",
      "Fitting 3 folds for each of 2 candidates, totalling 6 fits\n",
      "[CV 1/3; 1/2] START clf__C=5.0, clf__penalty=l2, clf__solver=saga, feat-selector__percentile=60, preproc__preprocess__bow__ngram_range=(1, 3)\n"
     ]
    },
    {
     "name": "stderr",
     "output_type": "stream",
     "text": [
      "/home/step/miniconda3/envs/ml/lib/python3.9/site-packages/sklearn/linear_model/_logistic.py:1476: UserWarning: l1_ratio parameter is only used when penalty is 'elasticnet'. Got (penalty=l2)\n",
      "  warnings.warn(\n",
      "/home/step/miniconda3/envs/ml/lib/python3.9/site-packages/sklearn/linear_model/_sag.py:352: ConvergenceWarning: The max_iter was reached which means the coef_ did not converge\n",
      "  warnings.warn(\n"
     ]
    },
    {
     "name": "stdout",
     "output_type": "stream",
     "text": [
      "[CV 1/3; 1/2] END clf__C=5.0, clf__penalty=l2, clf__solver=saga, feat-selector__percentile=60, preproc__preprocess__bow__ngram_range=(1, 3);, score=(train=0.912, test=0.613) total time= 1.1min\n",
      "[CV 2/3; 1/2] START clf__C=5.0, clf__penalty=l2, clf__solver=saga, feat-selector__percentile=60, preproc__preprocess__bow__ngram_range=(1, 3)\n"
     ]
    },
    {
     "name": "stderr",
     "output_type": "stream",
     "text": [
      "/home/step/miniconda3/envs/ml/lib/python3.9/site-packages/sklearn/linear_model/_logistic.py:1476: UserWarning: l1_ratio parameter is only used when penalty is 'elasticnet'. Got (penalty=l2)\n",
      "  warnings.warn(\n",
      "/home/step/miniconda3/envs/ml/lib/python3.9/site-packages/sklearn/linear_model/_sag.py:352: ConvergenceWarning: The max_iter was reached which means the coef_ did not converge\n",
      "  warnings.warn(\n"
     ]
    },
    {
     "name": "stdout",
     "output_type": "stream",
     "text": [
      "[CV 2/3; 1/2] END clf__C=5.0, clf__penalty=l2, clf__solver=saga, feat-selector__percentile=60, preproc__preprocess__bow__ngram_range=(1, 3);, score=(train=0.906, test=0.640) total time=  59.1s\n",
      "[CV 3/3; 1/2] START clf__C=5.0, clf__penalty=l2, clf__solver=saga, feat-selector__percentile=60, preproc__preprocess__bow__ngram_range=(1, 3)\n"
     ]
    },
    {
     "name": "stderr",
     "output_type": "stream",
     "text": [
      "/home/step/miniconda3/envs/ml/lib/python3.9/site-packages/sklearn/linear_model/_logistic.py:1476: UserWarning: l1_ratio parameter is only used when penalty is 'elasticnet'. Got (penalty=l2)\n",
      "  warnings.warn(\n",
      "/home/step/miniconda3/envs/ml/lib/python3.9/site-packages/sklearn/linear_model/_sag.py:352: ConvergenceWarning: The max_iter was reached which means the coef_ did not converge\n",
      "  warnings.warn(\n"
     ]
    },
    {
     "name": "stdout",
     "output_type": "stream",
     "text": [
      "[CV 3/3; 1/2] END clf__C=5.0, clf__penalty=l2, clf__solver=saga, feat-selector__percentile=60, preproc__preprocess__bow__ngram_range=(1, 3);, score=(train=0.882, test=0.645) total time= 1.0min\n",
      "[CV 1/3; 2/2] START clf__C=0.5, clf__penalty=elasticnet, clf__solver=saga, feat-selector__percentile=80, preproc__preprocess__bow__ngram_range=(1, 1)\n"
     ]
    },
    {
     "name": "stderr",
     "output_type": "stream",
     "text": [
      "/home/step/miniconda3/envs/ml/lib/python3.9/site-packages/sklearn/linear_model/_sag.py:352: ConvergenceWarning: The max_iter was reached which means the coef_ did not converge\n",
      "  warnings.warn(\n"
     ]
    },
    {
     "name": "stdout",
     "output_type": "stream",
     "text": [
      "[CV 1/3; 2/2] END clf__C=0.5, clf__penalty=elasticnet, clf__solver=saga, feat-selector__percentile=80, preproc__preprocess__bow__ngram_range=(1, 1);, score=(train=0.801, test=0.633) total time=  53.7s\n",
      "[CV 2/3; 2/2] START clf__C=0.5, clf__penalty=elasticnet, clf__solver=saga, feat-selector__percentile=80, preproc__preprocess__bow__ngram_range=(1, 1)\n"
     ]
    },
    {
     "name": "stderr",
     "output_type": "stream",
     "text": [
      "/home/step/miniconda3/envs/ml/lib/python3.9/site-packages/sklearn/linear_model/_sag.py:352: ConvergenceWarning: The max_iter was reached which means the coef_ did not converge\n",
      "  warnings.warn(\n"
     ]
    },
    {
     "name": "stdout",
     "output_type": "stream",
     "text": [
      "[CV 2/3; 2/2] END clf__C=0.5, clf__penalty=elasticnet, clf__solver=saga, feat-selector__percentile=80, preproc__preprocess__bow__ngram_range=(1, 1);, score=(train=0.806, test=0.663) total time=  55.3s\n",
      "[CV 3/3; 2/2] START clf__C=0.5, clf__penalty=elasticnet, clf__solver=saga, feat-selector__percentile=80, preproc__preprocess__bow__ngram_range=(1, 1)\n"
     ]
    },
    {
     "name": "stderr",
     "output_type": "stream",
     "text": [
      "/home/step/miniconda3/envs/ml/lib/python3.9/site-packages/sklearn/linear_model/_sag.py:352: ConvergenceWarning: The max_iter was reached which means the coef_ did not converge\n",
      "  warnings.warn(\n"
     ]
    },
    {
     "name": "stdout",
     "output_type": "stream",
     "text": [
      "[CV 3/3; 2/2] END clf__C=0.5, clf__penalty=elasticnet, clf__solver=saga, feat-selector__percentile=80, preproc__preprocess__bow__ngram_range=(1, 1);, score=(train=0.773, test=0.659) total time=  55.4s\n"
     ]
    },
    {
     "name": "stderr",
     "output_type": "stream",
     "text": [
      "/home/step/miniconda3/envs/ml/lib/python3.9/site-packages/sklearn/linear_model/_sag.py:352: ConvergenceWarning: The max_iter was reached which means the coef_ did not converge\n",
      "  warnings.warn(\n"
     ]
    },
    {
     "data": {
      "text/plain": [
       "HalvingGridSearchCV(cv=3,\n",
       "                    estimator=Pipeline(steps=[('preproc',\n",
       "                                               Pipeline(steps=[('preprocess',\n",
       "                                                                ColumnTransformer(transformers=[('bow',\n",
       "                                                                                                 CountVectorizer(ngram_range=(1,\n",
       "                                                                                                                              2),\n",
       "                                                                                                                 tokenizer=<__main__.StemmerTokenizer object at 0x7f1acb92dca0>),\n",
       "                                                                                                 'history_text'),\n",
       "                                                                                                ('minmax',\n",
       "                                                                                                 MinMaxScaler(),\n",
       "                                                                                                 ['intelligence_score',\n",
       "                                                                                                  'strength_score',\n",
       "                                                                                                  'speed_score',\n",
       "                                                                                                  'durability_score',\n",
       "                                                                                                  'power_score',\n",
       "                                                                                                  'combat_score'])]))])),\n",
       "                                              ('feat-selector',\n",
       "                                               SelectPercentile()),\n",
       "                                              ('clf',\n",
       "                                               LogisticRegression(l1_ratio=0.5,\n",
       "                                                                  max_iter=1000,\n",
       "                                                                  random_state=84))]),\n",
       "                    param_grid={'clf__C': [0.5, 1.0, 5.0],\n",
       "                                'clf__penalty': ['l2', 'elasticnet'],\n",
       "                                'clf__solver': ['saga'],\n",
       "                                'feat-selector__percentile': [30, 60, 80],\n",
       "                                'preproc__preprocess__bow__ngram_range': [(1,\n",
       "                                                                           1),\n",
       "                                                                          (1,\n",
       "                                                                           2),\n",
       "                                                                          (1,\n",
       "                                                                           3)]},\n",
       "                    verbose=10)"
      ]
     },
     "execution_count": 40,
     "metadata": {},
     "output_type": "execute_result"
    }
   ],
   "source": [
    "search_logreg.fit(X_train, y_train)"
   ]
  },
  {
   "cell_type": "code",
   "execution_count": 41,
   "metadata": {},
   "outputs": [
    {
     "data": {
      "text/plain": [
       "Pipeline(steps=[('preproc',\n",
       "                 Pipeline(steps=[('preprocess',\n",
       "                                  ColumnTransformer(transformers=[('bow',\n",
       "                                                                   CountVectorizer(tokenizer=<__main__.StemmerTokenizer object at 0x7f1acb5d46a0>),\n",
       "                                                                   'history_text'),\n",
       "                                                                  ('minmax',\n",
       "                                                                   MinMaxScaler(),\n",
       "                                                                   ['intelligence_score',\n",
       "                                                                    'strength_score',\n",
       "                                                                    'speed_score',\n",
       "                                                                    'durability_score',\n",
       "                                                                    'power_score',\n",
       "                                                                    'combat_score'])]))])),\n",
       "                ('feat-selector', SelectPercentile(percentile=80)),\n",
       "                ('clf',\n",
       "                 LogisticRegression(C=0.5, l1_ratio=0.5, max_iter=1000,\n",
       "                                    penalty='elasticnet', random_state=84,\n",
       "                                    solver='saga'))])"
      ]
     },
     "execution_count": 41,
     "metadata": {},
     "output_type": "execute_result"
    }
   ],
   "source": [
    "search_logreg.best_estimator_"
   ]
  },
  {
   "cell_type": "code",
   "execution_count": 56,
   "metadata": {},
   "outputs": [
    {
     "data": {
      "text/plain": [
       "0.6632124352331606"
      ]
     },
     "execution_count": 56,
     "metadata": {},
     "output_type": "execute_result"
    }
   ],
   "source": [
    "search_logreg.score(X_test, y_test)"
   ]
  },
  {
   "cell_type": "code",
   "execution_count": 51,
   "metadata": {},
   "outputs": [
    {
     "name": "stdout",
     "output_type": "stream",
     "text": [
      "n_iterations: 4\n",
      "n_required_iterations: 5\n",
      "n_possible_iterations: 4\n",
      "min_resources_: 18\n",
      "max_resources_: 899\n",
      "aggressive_elimination: False\n",
      "factor: 3\n",
      "----------\n",
      "iter: 0\n",
      "n_candidates: 108\n",
      "n_resources: 18\n",
      "Fitting 3 folds for each of 108 candidates, totalling 324 fits\n",
      "[CV 1/3; 1/108] START clf__criterion=gini, clf__max_features=sqrt, clf__n_estimators=50, feat-selector__percentile=30, preproc__preprocess__bow__ngram_range=(1, 1)\n",
      "[CV 1/3; 1/108] END clf__criterion=gini, clf__max_features=sqrt, clf__n_estimators=50, feat-selector__percentile=30, preproc__preprocess__bow__ngram_range=(1, 1);, score=(train=1.000, test=0.667) total time=   0.5s\n",
      "[CV 2/3; 1/108] START clf__criterion=gini, clf__max_features=sqrt, clf__n_estimators=50, feat-selector__percentile=30, preproc__preprocess__bow__ngram_range=(1, 1)\n",
      "[CV 2/3; 1/108] END clf__criterion=gini, clf__max_features=sqrt, clf__n_estimators=50, feat-selector__percentile=30, preproc__preprocess__bow__ngram_range=(1, 1);, score=(train=1.000, test=0.333) total time=   0.4s\n",
      "[CV 3/3; 1/108] START clf__criterion=gini, clf__max_features=sqrt, clf__n_estimators=50, feat-selector__percentile=30, preproc__preprocess__bow__ngram_range=(1, 1)\n",
      "[CV 3/3; 1/108] END clf__criterion=gini, clf__max_features=sqrt, clf__n_estimators=50, feat-selector__percentile=30, preproc__preprocess__bow__ngram_range=(1, 1);, score=(train=1.000, test=0.200) total time=   0.5s\n",
      "[CV 1/3; 2/108] START clf__criterion=gini, clf__max_features=sqrt, clf__n_estimators=50, feat-selector__percentile=30, preproc__preprocess__bow__ngram_range=(1, 2)\n",
      "[CV 1/3; 2/108] END clf__criterion=gini, clf__max_features=sqrt, clf__n_estimators=50, feat-selector__percentile=30, preproc__preprocess__bow__ngram_range=(1, 2);, score=(train=1.000, test=0.667) total time=   0.5s\n",
      "[CV 2/3; 2/108] START clf__criterion=gini, clf__max_features=sqrt, clf__n_estimators=50, feat-selector__percentile=30, preproc__preprocess__bow__ngram_range=(1, 2)\n",
      "[CV 2/3; 2/108] END clf__criterion=gini, clf__max_features=sqrt, clf__n_estimators=50, feat-selector__percentile=30, preproc__preprocess__bow__ngram_range=(1, 2);, score=(train=1.000, test=0.333) total time=   0.4s\n",
      "[CV 3/3; 2/108] START clf__criterion=gini, clf__max_features=sqrt, clf__n_estimators=50, feat-selector__percentile=30, preproc__preprocess__bow__ngram_range=(1, 2)\n",
      "[CV 3/3; 2/108] END clf__criterion=gini, clf__max_features=sqrt, clf__n_estimators=50, feat-selector__percentile=30, preproc__preprocess__bow__ngram_range=(1, 2);, score=(train=1.000, test=0.200) total time=   0.4s\n",
      "[CV 1/3; 3/108] START clf__criterion=gini, clf__max_features=sqrt, clf__n_estimators=50, feat-selector__percentile=30, preproc__preprocess__bow__ngram_range=(1, 3)\n",
      "[CV 1/3; 3/108] END clf__criterion=gini, clf__max_features=sqrt, clf__n_estimators=50, feat-selector__percentile=30, preproc__preprocess__bow__ngram_range=(1, 3);, score=(train=1.000, test=0.667) total time=   0.5s\n",
      "[CV 2/3; 3/108] START clf__criterion=gini, clf__max_features=sqrt, clf__n_estimators=50, feat-selector__percentile=30, preproc__preprocess__bow__ngram_range=(1, 3)\n",
      "[CV 2/3; 3/108] END clf__criterion=gini, clf__max_features=sqrt, clf__n_estimators=50, feat-selector__percentile=30, preproc__preprocess__bow__ngram_range=(1, 3);, score=(train=1.000, test=0.333) total time=   0.4s\n",
      "[CV 3/3; 3/108] START clf__criterion=gini, clf__max_features=sqrt, clf__n_estimators=50, feat-selector__percentile=30, preproc__preprocess__bow__ngram_range=(1, 3)\n",
      "[CV 3/3; 3/108] END clf__criterion=gini, clf__max_features=sqrt, clf__n_estimators=50, feat-selector__percentile=30, preproc__preprocess__bow__ngram_range=(1, 3);, score=(train=1.000, test=0.200) total time=   0.5s\n",
      "[CV 1/3; 4/108] START clf__criterion=gini, clf__max_features=sqrt, clf__n_estimators=50, feat-selector__percentile=60, preproc__preprocess__bow__ngram_range=(1, 1)\n",
      "[CV 1/3; 4/108] END clf__criterion=gini, clf__max_features=sqrt, clf__n_estimators=50, feat-selector__percentile=60, preproc__preprocess__bow__ngram_range=(1, 1);, score=(train=1.000, test=0.500) total time=   0.4s\n",
      "[CV 2/3; 4/108] START clf__criterion=gini, clf__max_features=sqrt, clf__n_estimators=50, feat-selector__percentile=60, preproc__preprocess__bow__ngram_range=(1, 1)\n",
      "[CV 2/3; 4/108] END clf__criterion=gini, clf__max_features=sqrt, clf__n_estimators=50, feat-selector__percentile=60, preproc__preprocess__bow__ngram_range=(1, 1);, score=(train=1.000, test=0.333) total time=   0.4s\n",
      "[CV 3/3; 4/108] START clf__criterion=gini, clf__max_features=sqrt, clf__n_estimators=50, feat-selector__percentile=60, preproc__preprocess__bow__ngram_range=(1, 1)\n",
      "[CV 3/3; 4/108] END clf__criterion=gini, clf__max_features=sqrt, clf__n_estimators=50, feat-selector__percentile=60, preproc__preprocess__bow__ngram_range=(1, 1);, score=(train=1.000, test=0.200) total time=   0.4s\n",
      "[CV 1/3; 5/108] START clf__criterion=gini, clf__max_features=sqrt, clf__n_estimators=50, feat-selector__percentile=60, preproc__preprocess__bow__ngram_range=(1, 2)\n",
      "[CV 1/3; 5/108] END clf__criterion=gini, clf__max_features=sqrt, clf__n_estimators=50, feat-selector__percentile=60, preproc__preprocess__bow__ngram_range=(1, 2);, score=(train=1.000, test=0.333) total time=   0.4s\n",
      "[CV 2/3; 5/108] START clf__criterion=gini, clf__max_features=sqrt, clf__n_estimators=50, feat-selector__percentile=60, preproc__preprocess__bow__ngram_range=(1, 2)\n",
      "[CV 2/3; 5/108] END clf__criterion=gini, clf__max_features=sqrt, clf__n_estimators=50, feat-selector__percentile=60, preproc__preprocess__bow__ngram_range=(1, 2);, score=(train=1.000, test=0.167) total time=   0.4s\n",
      "[CV 3/3; 5/108] START clf__criterion=gini, clf__max_features=sqrt, clf__n_estimators=50, feat-selector__percentile=60, preproc__preprocess__bow__ngram_range=(1, 2)\n",
      "[CV 3/3; 5/108] END clf__criterion=gini, clf__max_features=sqrt, clf__n_estimators=50, feat-selector__percentile=60, preproc__preprocess__bow__ngram_range=(1, 2);, score=(train=1.000, test=0.200) total time=   0.4s\n",
      "[CV 1/3; 6/108] START clf__criterion=gini, clf__max_features=sqrt, clf__n_estimators=50, feat-selector__percentile=60, preproc__preprocess__bow__ngram_range=(1, 3)\n",
      "[CV 1/3; 6/108] END clf__criterion=gini, clf__max_features=sqrt, clf__n_estimators=50, feat-selector__percentile=60, preproc__preprocess__bow__ngram_range=(1, 3);, score=(train=1.000, test=0.667) total time=   0.4s\n",
      "[CV 2/3; 6/108] START clf__criterion=gini, clf__max_features=sqrt, clf__n_estimators=50, feat-selector__percentile=60, preproc__preprocess__bow__ngram_range=(1, 3)\n",
      "[CV 2/3; 6/108] END clf__criterion=gini, clf__max_features=sqrt, clf__n_estimators=50, feat-selector__percentile=60, preproc__preprocess__bow__ngram_range=(1, 3);, score=(train=1.000, test=0.333) total time=   0.4s\n",
      "[CV 3/3; 6/108] START clf__criterion=gini, clf__max_features=sqrt, clf__n_estimators=50, feat-selector__percentile=60, preproc__preprocess__bow__ngram_range=(1, 3)\n",
      "[CV 3/3; 6/108] END clf__criterion=gini, clf__max_features=sqrt, clf__n_estimators=50, feat-selector__percentile=60, preproc__preprocess__bow__ngram_range=(1, 3);, score=(train=1.000, test=0.200) total time=   0.5s\n",
      "[CV 1/3; 7/108] START clf__criterion=gini, clf__max_features=sqrt, clf__n_estimators=50, feat-selector__percentile=80, preproc__preprocess__bow__ngram_range=(1, 1)\n",
      "[CV 1/3; 7/108] END clf__criterion=gini, clf__max_features=sqrt, clf__n_estimators=50, feat-selector__percentile=80, preproc__preprocess__bow__ngram_range=(1, 1);, score=(train=1.000, test=0.333) total time=   0.4s\n",
      "[CV 2/3; 7/108] START clf__criterion=gini, clf__max_features=sqrt, clf__n_estimators=50, feat-selector__percentile=80, preproc__preprocess__bow__ngram_range=(1, 1)\n",
      "[CV 2/3; 7/108] END clf__criterion=gini, clf__max_features=sqrt, clf__n_estimators=50, feat-selector__percentile=80, preproc__preprocess__bow__ngram_range=(1, 1);, score=(train=1.000, test=0.000) total time=   0.4s\n",
      "[CV 3/3; 7/108] START clf__criterion=gini, clf__max_features=sqrt, clf__n_estimators=50, feat-selector__percentile=80, preproc__preprocess__bow__ngram_range=(1, 1)\n",
      "[CV 3/3; 7/108] END clf__criterion=gini, clf__max_features=sqrt, clf__n_estimators=50, feat-selector__percentile=80, preproc__preprocess__bow__ngram_range=(1, 1);, score=(train=1.000, test=0.200) total time=   0.4s\n",
      "[CV 1/3; 8/108] START clf__criterion=gini, clf__max_features=sqrt, clf__n_estimators=50, feat-selector__percentile=80, preproc__preprocess__bow__ngram_range=(1, 2)\n"
     ]
    },
    {
     "name": "stdout",
     "output_type": "stream",
     "text": [
      "[CV 1/3; 8/108] END clf__criterion=gini, clf__max_features=sqrt, clf__n_estimators=50, feat-selector__percentile=80, preproc__preprocess__bow__ngram_range=(1, 2);, score=(train=1.000, test=0.167) total time=   0.5s\n",
      "[CV 2/3; 8/108] START clf__criterion=gini, clf__max_features=sqrt, clf__n_estimators=50, feat-selector__percentile=80, preproc__preprocess__bow__ngram_range=(1, 2)\n",
      "[CV 2/3; 8/108] END clf__criterion=gini, clf__max_features=sqrt, clf__n_estimators=50, feat-selector__percentile=80, preproc__preprocess__bow__ngram_range=(1, 2);, score=(train=1.000, test=0.500) total time=   0.4s\n",
      "[CV 3/3; 8/108] START clf__criterion=gini, clf__max_features=sqrt, clf__n_estimators=50, feat-selector__percentile=80, preproc__preprocess__bow__ngram_range=(1, 2)\n",
      "[CV 3/3; 8/108] END clf__criterion=gini, clf__max_features=sqrt, clf__n_estimators=50, feat-selector__percentile=80, preproc__preprocess__bow__ngram_range=(1, 2);, score=(train=1.000, test=0.200) total time=   0.6s\n",
      "[CV 1/3; 9/108] START clf__criterion=gini, clf__max_features=sqrt, clf__n_estimators=50, feat-selector__percentile=80, preproc__preprocess__bow__ngram_range=(1, 3)\n",
      "[CV 1/3; 9/108] END clf__criterion=gini, clf__max_features=sqrt, clf__n_estimators=50, feat-selector__percentile=80, preproc__preprocess__bow__ngram_range=(1, 3);, score=(train=1.000, test=0.500) total time=   0.5s\n",
      "[CV 2/3; 9/108] START clf__criterion=gini, clf__max_features=sqrt, clf__n_estimators=50, feat-selector__percentile=80, preproc__preprocess__bow__ngram_range=(1, 3)\n",
      "[CV 2/3; 9/108] END clf__criterion=gini, clf__max_features=sqrt, clf__n_estimators=50, feat-selector__percentile=80, preproc__preprocess__bow__ngram_range=(1, 3);, score=(train=1.000, test=0.167) total time=   0.4s\n",
      "[CV 3/3; 9/108] START clf__criterion=gini, clf__max_features=sqrt, clf__n_estimators=50, feat-selector__percentile=80, preproc__preprocess__bow__ngram_range=(1, 3)\n",
      "[CV 3/3; 9/108] END clf__criterion=gini, clf__max_features=sqrt, clf__n_estimators=50, feat-selector__percentile=80, preproc__preprocess__bow__ngram_range=(1, 3);, score=(train=1.000, test=0.200) total time=   0.5s\n",
      "[CV 1/3; 10/108] START clf__criterion=gini, clf__max_features=sqrt, clf__n_estimators=100, feat-selector__percentile=30, preproc__preprocess__bow__ngram_range=(1, 1)\n",
      "[CV 1/3; 10/108] END clf__criterion=gini, clf__max_features=sqrt, clf__n_estimators=100, feat-selector__percentile=30, preproc__preprocess__bow__ngram_range=(1, 1);, score=(train=1.000, test=0.667) total time=   0.5s\n",
      "[CV 2/3; 10/108] START clf__criterion=gini, clf__max_features=sqrt, clf__n_estimators=100, feat-selector__percentile=30, preproc__preprocess__bow__ngram_range=(1, 1)\n",
      "[CV 2/3; 10/108] END clf__criterion=gini, clf__max_features=sqrt, clf__n_estimators=100, feat-selector__percentile=30, preproc__preprocess__bow__ngram_range=(1, 1);, score=(train=1.000, test=0.333) total time=   0.4s\n",
      "[CV 3/3; 10/108] START clf__criterion=gini, clf__max_features=sqrt, clf__n_estimators=100, feat-selector__percentile=30, preproc__preprocess__bow__ngram_range=(1, 1)\n",
      "[CV 3/3; 10/108] END clf__criterion=gini, clf__max_features=sqrt, clf__n_estimators=100, feat-selector__percentile=30, preproc__preprocess__bow__ngram_range=(1, 1);, score=(train=1.000, test=0.200) total time=   0.5s\n",
      "[CV 1/3; 11/108] START clf__criterion=gini, clf__max_features=sqrt, clf__n_estimators=100, feat-selector__percentile=30, preproc__preprocess__bow__ngram_range=(1, 2)\n",
      "[CV 1/3; 11/108] END clf__criterion=gini, clf__max_features=sqrt, clf__n_estimators=100, feat-selector__percentile=30, preproc__preprocess__bow__ngram_range=(1, 2);, score=(train=1.000, test=0.667) total time=   0.5s\n",
      "[CV 2/3; 11/108] START clf__criterion=gini, clf__max_features=sqrt, clf__n_estimators=100, feat-selector__percentile=30, preproc__preprocess__bow__ngram_range=(1, 2)\n",
      "[CV 2/3; 11/108] END clf__criterion=gini, clf__max_features=sqrt, clf__n_estimators=100, feat-selector__percentile=30, preproc__preprocess__bow__ngram_range=(1, 2);, score=(train=1.000, test=0.167) total time=   0.5s\n",
      "[CV 3/3; 11/108] START clf__criterion=gini, clf__max_features=sqrt, clf__n_estimators=100, feat-selector__percentile=30, preproc__preprocess__bow__ngram_range=(1, 2)\n",
      "[CV 3/3; 11/108] END clf__criterion=gini, clf__max_features=sqrt, clf__n_estimators=100, feat-selector__percentile=30, preproc__preprocess__bow__ngram_range=(1, 2);, score=(train=1.000, test=0.200) total time=   0.5s\n",
      "[CV 1/3; 12/108] START clf__criterion=gini, clf__max_features=sqrt, clf__n_estimators=100, feat-selector__percentile=30, preproc__preprocess__bow__ngram_range=(1, 3)\n",
      "[CV 1/3; 12/108] END clf__criterion=gini, clf__max_features=sqrt, clf__n_estimators=100, feat-selector__percentile=30, preproc__preprocess__bow__ngram_range=(1, 3);, score=(train=1.000, test=0.667) total time=   0.5s\n",
      "[CV 2/3; 12/108] START clf__criterion=gini, clf__max_features=sqrt, clf__n_estimators=100, feat-selector__percentile=30, preproc__preprocess__bow__ngram_range=(1, 3)\n",
      "[CV 2/3; 12/108] END clf__criterion=gini, clf__max_features=sqrt, clf__n_estimators=100, feat-selector__percentile=30, preproc__preprocess__bow__ngram_range=(1, 3);, score=(train=1.000, test=0.333) total time=   0.5s\n",
      "[CV 3/3; 12/108] START clf__criterion=gini, clf__max_features=sqrt, clf__n_estimators=100, feat-selector__percentile=30, preproc__preprocess__bow__ngram_range=(1, 3)\n",
      "[CV 3/3; 12/108] END clf__criterion=gini, clf__max_features=sqrt, clf__n_estimators=100, feat-selector__percentile=30, preproc__preprocess__bow__ngram_range=(1, 3);, score=(train=1.000, test=0.200) total time=   0.7s\n",
      "[CV 1/3; 13/108] START clf__criterion=gini, clf__max_features=sqrt, clf__n_estimators=100, feat-selector__percentile=60, preproc__preprocess__bow__ngram_range=(1, 1)\n",
      "[CV 1/3; 13/108] END clf__criterion=gini, clf__max_features=sqrt, clf__n_estimators=100, feat-selector__percentile=60, preproc__preprocess__bow__ngram_range=(1, 1);, score=(train=1.000, test=0.500) total time=   0.4s\n",
      "[CV 2/3; 13/108] START clf__criterion=gini, clf__max_features=sqrt, clf__n_estimators=100, feat-selector__percentile=60, preproc__preprocess__bow__ngram_range=(1, 1)\n",
      "[CV 2/3; 13/108] END clf__criterion=gini, clf__max_features=sqrt, clf__n_estimators=100, feat-selector__percentile=60, preproc__preprocess__bow__ngram_range=(1, 1);, score=(train=1.000, test=0.000) total time=   0.5s\n",
      "[CV 3/3; 13/108] START clf__criterion=gini, clf__max_features=sqrt, clf__n_estimators=100, feat-selector__percentile=60, preproc__preprocess__bow__ngram_range=(1, 1)\n",
      "[CV 3/3; 13/108] END clf__criterion=gini, clf__max_features=sqrt, clf__n_estimators=100, feat-selector__percentile=60, preproc__preprocess__bow__ngram_range=(1, 1);, score=(train=1.000, test=0.200) total time=   0.6s\n",
      "[CV 1/3; 14/108] START clf__criterion=gini, clf__max_features=sqrt, clf__n_estimators=100, feat-selector__percentile=60, preproc__preprocess__bow__ngram_range=(1, 2)\n",
      "[CV 1/3; 14/108] END clf__criterion=gini, clf__max_features=sqrt, clf__n_estimators=100, feat-selector__percentile=60, preproc__preprocess__bow__ngram_range=(1, 2);, score=(train=1.000, test=0.333) total time=   0.5s\n",
      "[CV 2/3; 14/108] START clf__criterion=gini, clf__max_features=sqrt, clf__n_estimators=100, feat-selector__percentile=60, preproc__preprocess__bow__ngram_range=(1, 2)\n",
      "[CV 2/3; 14/108] END clf__criterion=gini, clf__max_features=sqrt, clf__n_estimators=100, feat-selector__percentile=60, preproc__preprocess__bow__ngram_range=(1, 2);, score=(train=1.000, test=0.000) total time=   0.4s\n",
      "[CV 3/3; 14/108] START clf__criterion=gini, clf__max_features=sqrt, clf__n_estimators=100, feat-selector__percentile=60, preproc__preprocess__bow__ngram_range=(1, 2)\n",
      "[CV 3/3; 14/108] END clf__criterion=gini, clf__max_features=sqrt, clf__n_estimators=100, feat-selector__percentile=60, preproc__preprocess__bow__ngram_range=(1, 2);, score=(train=1.000, test=0.200) total time=   0.6s\n",
      "[CV 1/3; 15/108] START clf__criterion=gini, clf__max_features=sqrt, clf__n_estimators=100, feat-selector__percentile=60, preproc__preprocess__bow__ngram_range=(1, 3)\n",
      "[CV 1/3; 15/108] END clf__criterion=gini, clf__max_features=sqrt, clf__n_estimators=100, feat-selector__percentile=60, preproc__preprocess__bow__ngram_range=(1, 3);, score=(train=1.000, test=0.667) total time=   0.5s\n",
      "[CV 2/3; 15/108] START clf__criterion=gini, clf__max_features=sqrt, clf__n_estimators=100, feat-selector__percentile=60, preproc__preprocess__bow__ngram_range=(1, 3)\n"
     ]
    },
    {
     "name": "stdout",
     "output_type": "stream",
     "text": [
      "[CV 2/3; 15/108] END clf__criterion=gini, clf__max_features=sqrt, clf__n_estimators=100, feat-selector__percentile=60, preproc__preprocess__bow__ngram_range=(1, 3);, score=(train=1.000, test=0.333) total time=   0.5s\n",
      "[CV 3/3; 15/108] START clf__criterion=gini, clf__max_features=sqrt, clf__n_estimators=100, feat-selector__percentile=60, preproc__preprocess__bow__ngram_range=(1, 3)\n",
      "[CV 3/3; 15/108] END clf__criterion=gini, clf__max_features=sqrt, clf__n_estimators=100, feat-selector__percentile=60, preproc__preprocess__bow__ngram_range=(1, 3);, score=(train=1.000, test=0.200) total time=   0.6s\n",
      "[CV 1/3; 16/108] START clf__criterion=gini, clf__max_features=sqrt, clf__n_estimators=100, feat-selector__percentile=80, preproc__preprocess__bow__ngram_range=(1, 1)\n",
      "[CV 1/3; 16/108] END clf__criterion=gini, clf__max_features=sqrt, clf__n_estimators=100, feat-selector__percentile=80, preproc__preprocess__bow__ngram_range=(1, 1);, score=(train=1.000, test=0.333) total time=   0.5s\n",
      "[CV 2/3; 16/108] START clf__criterion=gini, clf__max_features=sqrt, clf__n_estimators=100, feat-selector__percentile=80, preproc__preprocess__bow__ngram_range=(1, 1)\n",
      "[CV 2/3; 16/108] END clf__criterion=gini, clf__max_features=sqrt, clf__n_estimators=100, feat-selector__percentile=80, preproc__preprocess__bow__ngram_range=(1, 1);, score=(train=1.000, test=0.167) total time=   0.5s\n",
      "[CV 3/3; 16/108] START clf__criterion=gini, clf__max_features=sqrt, clf__n_estimators=100, feat-selector__percentile=80, preproc__preprocess__bow__ngram_range=(1, 1)\n",
      "[CV 3/3; 16/108] END clf__criterion=gini, clf__max_features=sqrt, clf__n_estimators=100, feat-selector__percentile=80, preproc__preprocess__bow__ngram_range=(1, 1);, score=(train=1.000, test=0.200) total time=   0.5s\n",
      "[CV 1/3; 17/108] START clf__criterion=gini, clf__max_features=sqrt, clf__n_estimators=100, feat-selector__percentile=80, preproc__preprocess__bow__ngram_range=(1, 2)\n",
      "[CV 1/3; 17/108] END clf__criterion=gini, clf__max_features=sqrt, clf__n_estimators=100, feat-selector__percentile=80, preproc__preprocess__bow__ngram_range=(1, 2);, score=(train=1.000, test=0.333) total time=   0.5s\n",
      "[CV 2/3; 17/108] START clf__criterion=gini, clf__max_features=sqrt, clf__n_estimators=100, feat-selector__percentile=80, preproc__preprocess__bow__ngram_range=(1, 2)\n",
      "[CV 2/3; 17/108] END clf__criterion=gini, clf__max_features=sqrt, clf__n_estimators=100, feat-selector__percentile=80, preproc__preprocess__bow__ngram_range=(1, 2);, score=(train=1.000, test=0.167) total time=   0.5s\n",
      "[CV 3/3; 17/108] START clf__criterion=gini, clf__max_features=sqrt, clf__n_estimators=100, feat-selector__percentile=80, preproc__preprocess__bow__ngram_range=(1, 2)\n",
      "[CV 3/3; 17/108] END clf__criterion=gini, clf__max_features=sqrt, clf__n_estimators=100, feat-selector__percentile=80, preproc__preprocess__bow__ngram_range=(1, 2);, score=(train=1.000, test=0.200) total time=   0.5s\n",
      "[CV 1/3; 18/108] START clf__criterion=gini, clf__max_features=sqrt, clf__n_estimators=100, feat-selector__percentile=80, preproc__preprocess__bow__ngram_range=(1, 3)\n",
      "[CV 1/3; 18/108] END clf__criterion=gini, clf__max_features=sqrt, clf__n_estimators=100, feat-selector__percentile=80, preproc__preprocess__bow__ngram_range=(1, 3);, score=(train=1.000, test=0.667) total time=   0.5s\n",
      "[CV 2/3; 18/108] START clf__criterion=gini, clf__max_features=sqrt, clf__n_estimators=100, feat-selector__percentile=80, preproc__preprocess__bow__ngram_range=(1, 3)\n",
      "[CV 2/3; 18/108] END clf__criterion=gini, clf__max_features=sqrt, clf__n_estimators=100, feat-selector__percentile=80, preproc__preprocess__bow__ngram_range=(1, 3);, score=(train=1.000, test=0.000) total time=   0.5s\n",
      "[CV 3/3; 18/108] START clf__criterion=gini, clf__max_features=sqrt, clf__n_estimators=100, feat-selector__percentile=80, preproc__preprocess__bow__ngram_range=(1, 3)\n",
      "[CV 3/3; 18/108] END clf__criterion=gini, clf__max_features=sqrt, clf__n_estimators=100, feat-selector__percentile=80, preproc__preprocess__bow__ngram_range=(1, 3);, score=(train=1.000, test=0.200) total time=   0.5s\n",
      "[CV 1/3; 19/108] START clf__criterion=gini, clf__max_features=sqrt, clf__n_estimators=250, feat-selector__percentile=30, preproc__preprocess__bow__ngram_range=(1, 1)\n",
      "[CV 1/3; 19/108] END clf__criterion=gini, clf__max_features=sqrt, clf__n_estimators=250, feat-selector__percentile=30, preproc__preprocess__bow__ngram_range=(1, 1);, score=(train=1.000, test=0.500) total time=   0.7s\n",
      "[CV 2/3; 19/108] START clf__criterion=gini, clf__max_features=sqrt, clf__n_estimators=250, feat-selector__percentile=30, preproc__preprocess__bow__ngram_range=(1, 1)\n",
      "[CV 2/3; 19/108] END clf__criterion=gini, clf__max_features=sqrt, clf__n_estimators=250, feat-selector__percentile=30, preproc__preprocess__bow__ngram_range=(1, 1);, score=(train=1.000, test=0.333) total time=   0.7s\n",
      "[CV 3/3; 19/108] START clf__criterion=gini, clf__max_features=sqrt, clf__n_estimators=250, feat-selector__percentile=30, preproc__preprocess__bow__ngram_range=(1, 1)\n",
      "[CV 3/3; 19/108] END clf__criterion=gini, clf__max_features=sqrt, clf__n_estimators=250, feat-selector__percentile=30, preproc__preprocess__bow__ngram_range=(1, 1);, score=(train=1.000, test=0.200) total time=   0.7s\n",
      "[CV 1/3; 20/108] START clf__criterion=gini, clf__max_features=sqrt, clf__n_estimators=250, feat-selector__percentile=30, preproc__preprocess__bow__ngram_range=(1, 2)\n",
      "[CV 1/3; 20/108] END clf__criterion=gini, clf__max_features=sqrt, clf__n_estimators=250, feat-selector__percentile=30, preproc__preprocess__bow__ngram_range=(1, 2);, score=(train=1.000, test=0.667) total time=   0.7s\n",
      "[CV 2/3; 20/108] START clf__criterion=gini, clf__max_features=sqrt, clf__n_estimators=250, feat-selector__percentile=30, preproc__preprocess__bow__ngram_range=(1, 2)\n",
      "[CV 2/3; 20/108] END clf__criterion=gini, clf__max_features=sqrt, clf__n_estimators=250, feat-selector__percentile=30, preproc__preprocess__bow__ngram_range=(1, 2);, score=(train=1.000, test=0.167) total time=   0.7s\n",
      "[CV 3/3; 20/108] START clf__criterion=gini, clf__max_features=sqrt, clf__n_estimators=250, feat-selector__percentile=30, preproc__preprocess__bow__ngram_range=(1, 2)\n",
      "[CV 3/3; 20/108] END clf__criterion=gini, clf__max_features=sqrt, clf__n_estimators=250, feat-selector__percentile=30, preproc__preprocess__bow__ngram_range=(1, 2);, score=(train=1.000, test=0.200) total time=   0.7s\n",
      "[CV 1/3; 21/108] START clf__criterion=gini, clf__max_features=sqrt, clf__n_estimators=250, feat-selector__percentile=30, preproc__preprocess__bow__ngram_range=(1, 3)\n",
      "[CV 1/3; 21/108] END clf__criterion=gini, clf__max_features=sqrt, clf__n_estimators=250, feat-selector__percentile=30, preproc__preprocess__bow__ngram_range=(1, 3);, score=(train=1.000, test=0.667) total time=   0.8s\n",
      "[CV 2/3; 21/108] START clf__criterion=gini, clf__max_features=sqrt, clf__n_estimators=250, feat-selector__percentile=30, preproc__preprocess__bow__ngram_range=(1, 3)\n",
      "[CV 2/3; 21/108] END clf__criterion=gini, clf__max_features=sqrt, clf__n_estimators=250, feat-selector__percentile=30, preproc__preprocess__bow__ngram_range=(1, 3);, score=(train=1.000, test=0.333) total time=   0.7s\n",
      "[CV 3/3; 21/108] START clf__criterion=gini, clf__max_features=sqrt, clf__n_estimators=250, feat-selector__percentile=30, preproc__preprocess__bow__ngram_range=(1, 3)\n",
      "[CV 3/3; 21/108] END clf__criterion=gini, clf__max_features=sqrt, clf__n_estimators=250, feat-selector__percentile=30, preproc__preprocess__bow__ngram_range=(1, 3);, score=(train=1.000, test=0.200) total time=   0.7s\n",
      "[CV 1/3; 22/108] START clf__criterion=gini, clf__max_features=sqrt, clf__n_estimators=250, feat-selector__percentile=60, preproc__preprocess__bow__ngram_range=(1, 1)\n",
      "[CV 1/3; 22/108] END clf__criterion=gini, clf__max_features=sqrt, clf__n_estimators=250, feat-selector__percentile=60, preproc__preprocess__bow__ngram_range=(1, 1);, score=(train=1.000, test=0.667) total time=   0.7s\n",
      "[CV 2/3; 22/108] START clf__criterion=gini, clf__max_features=sqrt, clf__n_estimators=250, feat-selector__percentile=60, preproc__preprocess__bow__ngram_range=(1, 1)\n",
      "[CV 2/3; 22/108] END clf__criterion=gini, clf__max_features=sqrt, clf__n_estimators=250, feat-selector__percentile=60, preproc__preprocess__bow__ngram_range=(1, 1);, score=(train=1.000, test=0.000) total time=   0.6s\n",
      "[CV 3/3; 22/108] START clf__criterion=gini, clf__max_features=sqrt, clf__n_estimators=250, feat-selector__percentile=60, preproc__preprocess__bow__ngram_range=(1, 1)\n"
     ]
    },
    {
     "name": "stdout",
     "output_type": "stream",
     "text": [
      "[CV 3/3; 22/108] END clf__criterion=gini, clf__max_features=sqrt, clf__n_estimators=250, feat-selector__percentile=60, preproc__preprocess__bow__ngram_range=(1, 1);, score=(train=1.000, test=0.200) total time=   0.7s\n",
      "[CV 1/3; 23/108] START clf__criterion=gini, clf__max_features=sqrt, clf__n_estimators=250, feat-selector__percentile=60, preproc__preprocess__bow__ngram_range=(1, 2)\n",
      "[CV 1/3; 23/108] END clf__criterion=gini, clf__max_features=sqrt, clf__n_estimators=250, feat-selector__percentile=60, preproc__preprocess__bow__ngram_range=(1, 2);, score=(train=1.000, test=0.667) total time=   0.8s\n",
      "[CV 2/3; 23/108] START clf__criterion=gini, clf__max_features=sqrt, clf__n_estimators=250, feat-selector__percentile=60, preproc__preprocess__bow__ngram_range=(1, 2)\n",
      "[CV 2/3; 23/108] END clf__criterion=gini, clf__max_features=sqrt, clf__n_estimators=250, feat-selector__percentile=60, preproc__preprocess__bow__ngram_range=(1, 2);, score=(train=1.000, test=0.333) total time=   0.7s\n",
      "[CV 3/3; 23/108] START clf__criterion=gini, clf__max_features=sqrt, clf__n_estimators=250, feat-selector__percentile=60, preproc__preprocess__bow__ngram_range=(1, 2)\n",
      "[CV 3/3; 23/108] END clf__criterion=gini, clf__max_features=sqrt, clf__n_estimators=250, feat-selector__percentile=60, preproc__preprocess__bow__ngram_range=(1, 2);, score=(train=1.000, test=0.200) total time=   0.8s\n",
      "[CV 1/3; 24/108] START clf__criterion=gini, clf__max_features=sqrt, clf__n_estimators=250, feat-selector__percentile=60, preproc__preprocess__bow__ngram_range=(1, 3)\n",
      "[CV 1/3; 24/108] END clf__criterion=gini, clf__max_features=sqrt, clf__n_estimators=250, feat-selector__percentile=60, preproc__preprocess__bow__ngram_range=(1, 3);, score=(train=1.000, test=0.667) total time=   0.8s\n",
      "[CV 2/3; 24/108] START clf__criterion=gini, clf__max_features=sqrt, clf__n_estimators=250, feat-selector__percentile=60, preproc__preprocess__bow__ngram_range=(1, 3)\n",
      "[CV 2/3; 24/108] END clf__criterion=gini, clf__max_features=sqrt, clf__n_estimators=250, feat-selector__percentile=60, preproc__preprocess__bow__ngram_range=(1, 3);, score=(train=1.000, test=0.333) total time=   0.8s\n",
      "[CV 3/3; 24/108] START clf__criterion=gini, clf__max_features=sqrt, clf__n_estimators=250, feat-selector__percentile=60, preproc__preprocess__bow__ngram_range=(1, 3)\n",
      "[CV 3/3; 24/108] END clf__criterion=gini, clf__max_features=sqrt, clf__n_estimators=250, feat-selector__percentile=60, preproc__preprocess__bow__ngram_range=(1, 3);, score=(train=1.000, test=0.200) total time=   0.8s\n",
      "[CV 1/3; 25/108] START clf__criterion=gini, clf__max_features=sqrt, clf__n_estimators=250, feat-selector__percentile=80, preproc__preprocess__bow__ngram_range=(1, 1)\n",
      "[CV 1/3; 25/108] END clf__criterion=gini, clf__max_features=sqrt, clf__n_estimators=250, feat-selector__percentile=80, preproc__preprocess__bow__ngram_range=(1, 1);, score=(train=1.000, test=0.667) total time=   0.6s\n",
      "[CV 2/3; 25/108] START clf__criterion=gini, clf__max_features=sqrt, clf__n_estimators=250, feat-selector__percentile=80, preproc__preprocess__bow__ngram_range=(1, 1)\n",
      "[CV 2/3; 25/108] END clf__criterion=gini, clf__max_features=sqrt, clf__n_estimators=250, feat-selector__percentile=80, preproc__preprocess__bow__ngram_range=(1, 1);, score=(train=1.000, test=0.333) total time=   0.6s\n",
      "[CV 3/3; 25/108] START clf__criterion=gini, clf__max_features=sqrt, clf__n_estimators=250, feat-selector__percentile=80, preproc__preprocess__bow__ngram_range=(1, 1)\n",
      "[CV 3/3; 25/108] END clf__criterion=gini, clf__max_features=sqrt, clf__n_estimators=250, feat-selector__percentile=80, preproc__preprocess__bow__ngram_range=(1, 1);, score=(train=1.000, test=0.200) total time=   0.7s\n",
      "[CV 1/3; 26/108] START clf__criterion=gini, clf__max_features=sqrt, clf__n_estimators=250, feat-selector__percentile=80, preproc__preprocess__bow__ngram_range=(1, 2)\n",
      "[CV 1/3; 26/108] END clf__criterion=gini, clf__max_features=sqrt, clf__n_estimators=250, feat-selector__percentile=80, preproc__preprocess__bow__ngram_range=(1, 2);, score=(train=1.000, test=0.667) total time=   0.7s\n",
      "[CV 2/3; 26/108] START clf__criterion=gini, clf__max_features=sqrt, clf__n_estimators=250, feat-selector__percentile=80, preproc__preprocess__bow__ngram_range=(1, 2)\n",
      "[CV 2/3; 26/108] END clf__criterion=gini, clf__max_features=sqrt, clf__n_estimators=250, feat-selector__percentile=80, preproc__preprocess__bow__ngram_range=(1, 2);, score=(train=1.000, test=0.000) total time=   0.7s\n",
      "[CV 3/3; 26/108] START clf__criterion=gini, clf__max_features=sqrt, clf__n_estimators=250, feat-selector__percentile=80, preproc__preprocess__bow__ngram_range=(1, 2)\n",
      "[CV 3/3; 26/108] END clf__criterion=gini, clf__max_features=sqrt, clf__n_estimators=250, feat-selector__percentile=80, preproc__preprocess__bow__ngram_range=(1, 2);, score=(train=1.000, test=0.200) total time=   0.7s\n",
      "[CV 1/3; 27/108] START clf__criterion=gini, clf__max_features=sqrt, clf__n_estimators=250, feat-selector__percentile=80, preproc__preprocess__bow__ngram_range=(1, 3)\n",
      "[CV 1/3; 27/108] END clf__criterion=gini, clf__max_features=sqrt, clf__n_estimators=250, feat-selector__percentile=80, preproc__preprocess__bow__ngram_range=(1, 3);, score=(train=1.000, test=0.667) total time=   0.7s\n",
      "[CV 2/3; 27/108] START clf__criterion=gini, clf__max_features=sqrt, clf__n_estimators=250, feat-selector__percentile=80, preproc__preprocess__bow__ngram_range=(1, 3)\n",
      "[CV 2/3; 27/108] END clf__criterion=gini, clf__max_features=sqrt, clf__n_estimators=250, feat-selector__percentile=80, preproc__preprocess__bow__ngram_range=(1, 3);, score=(train=1.000, test=0.000) total time=   0.7s\n",
      "[CV 3/3; 27/108] START clf__criterion=gini, clf__max_features=sqrt, clf__n_estimators=250, feat-selector__percentile=80, preproc__preprocess__bow__ngram_range=(1, 3)\n",
      "[CV 3/3; 27/108] END clf__criterion=gini, clf__max_features=sqrt, clf__n_estimators=250, feat-selector__percentile=80, preproc__preprocess__bow__ngram_range=(1, 3);, score=(train=1.000, test=0.200) total time=   0.7s\n",
      "[CV 1/3; 28/108] START clf__criterion=gini, clf__max_features=log2, clf__n_estimators=50, feat-selector__percentile=30, preproc__preprocess__bow__ngram_range=(1, 1)\n",
      "[CV 1/3; 28/108] END clf__criterion=gini, clf__max_features=log2, clf__n_estimators=50, feat-selector__percentile=30, preproc__preprocess__bow__ngram_range=(1, 1);, score=(train=1.000, test=0.500) total time=   0.3s\n",
      "[CV 2/3; 28/108] START clf__criterion=gini, clf__max_features=log2, clf__n_estimators=50, feat-selector__percentile=30, preproc__preprocess__bow__ngram_range=(1, 1)\n",
      "[CV 2/3; 28/108] END clf__criterion=gini, clf__max_features=log2, clf__n_estimators=50, feat-selector__percentile=30, preproc__preprocess__bow__ngram_range=(1, 1);, score=(train=1.000, test=0.000) total time=   0.3s\n",
      "[CV 3/3; 28/108] START clf__criterion=gini, clf__max_features=log2, clf__n_estimators=50, feat-selector__percentile=30, preproc__preprocess__bow__ngram_range=(1, 1)\n",
      "[CV 3/3; 28/108] END clf__criterion=gini, clf__max_features=log2, clf__n_estimators=50, feat-selector__percentile=30, preproc__preprocess__bow__ngram_range=(1, 1);, score=(train=1.000, test=0.200) total time=   0.4s\n",
      "[CV 1/3; 29/108] START clf__criterion=gini, clf__max_features=log2, clf__n_estimators=50, feat-selector__percentile=30, preproc__preprocess__bow__ngram_range=(1, 2)\n",
      "[CV 1/3; 29/108] END clf__criterion=gini, clf__max_features=log2, clf__n_estimators=50, feat-selector__percentile=30, preproc__preprocess__bow__ngram_range=(1, 2);, score=(train=1.000, test=0.500) total time=   0.4s\n",
      "[CV 2/3; 29/108] START clf__criterion=gini, clf__max_features=log2, clf__n_estimators=50, feat-selector__percentile=30, preproc__preprocess__bow__ngram_range=(1, 2)\n",
      "[CV 2/3; 29/108] END clf__criterion=gini, clf__max_features=log2, clf__n_estimators=50, feat-selector__percentile=30, preproc__preprocess__bow__ngram_range=(1, 2);, score=(train=1.000, test=0.333) total time=   0.4s\n",
      "[CV 3/3; 29/108] START clf__criterion=gini, clf__max_features=log2, clf__n_estimators=50, feat-selector__percentile=30, preproc__preprocess__bow__ngram_range=(1, 2)\n",
      "[CV 3/3; 29/108] END clf__criterion=gini, clf__max_features=log2, clf__n_estimators=50, feat-selector__percentile=30, preproc__preprocess__bow__ngram_range=(1, 2);, score=(train=1.000, test=0.200) total time=   0.5s\n",
      "[CV 1/3; 30/108] START clf__criterion=gini, clf__max_features=log2, clf__n_estimators=50, feat-selector__percentile=30, preproc__preprocess__bow__ngram_range=(1, 3)\n"
     ]
    },
    {
     "name": "stdout",
     "output_type": "stream",
     "text": [
      "[CV 1/3; 30/108] END clf__criterion=gini, clf__max_features=log2, clf__n_estimators=50, feat-selector__percentile=30, preproc__preprocess__bow__ngram_range=(1, 3);, score=(train=1.000, test=0.667) total time=   0.6s\n",
      "[CV 2/3; 30/108] START clf__criterion=gini, clf__max_features=log2, clf__n_estimators=50, feat-selector__percentile=30, preproc__preprocess__bow__ngram_range=(1, 3)\n",
      "[CV 2/3; 30/108] END clf__criterion=gini, clf__max_features=log2, clf__n_estimators=50, feat-selector__percentile=30, preproc__preprocess__bow__ngram_range=(1, 3);, score=(train=1.000, test=0.333) total time=   0.5s\n",
      "[CV 3/3; 30/108] START clf__criterion=gini, clf__max_features=log2, clf__n_estimators=50, feat-selector__percentile=30, preproc__preprocess__bow__ngram_range=(1, 3)\n",
      "[CV 3/3; 30/108] END clf__criterion=gini, clf__max_features=log2, clf__n_estimators=50, feat-selector__percentile=30, preproc__preprocess__bow__ngram_range=(1, 3);, score=(train=1.000, test=0.200) total time=   0.5s\n",
      "[CV 1/3; 31/108] START clf__criterion=gini, clf__max_features=log2, clf__n_estimators=50, feat-selector__percentile=60, preproc__preprocess__bow__ngram_range=(1, 1)\n",
      "[CV 1/3; 31/108] END clf__criterion=gini, clf__max_features=log2, clf__n_estimators=50, feat-selector__percentile=60, preproc__preprocess__bow__ngram_range=(1, 1);, score=(train=1.000, test=0.167) total time=   0.4s\n",
      "[CV 2/3; 31/108] START clf__criterion=gini, clf__max_features=log2, clf__n_estimators=50, feat-selector__percentile=60, preproc__preprocess__bow__ngram_range=(1, 1)\n",
      "[CV 2/3; 31/108] END clf__criterion=gini, clf__max_features=log2, clf__n_estimators=50, feat-selector__percentile=60, preproc__preprocess__bow__ngram_range=(1, 1);, score=(train=1.000, test=0.000) total time=   0.4s\n",
      "[CV 3/3; 31/108] START clf__criterion=gini, clf__max_features=log2, clf__n_estimators=50, feat-selector__percentile=60, preproc__preprocess__bow__ngram_range=(1, 1)\n",
      "[CV 3/3; 31/108] END clf__criterion=gini, clf__max_features=log2, clf__n_estimators=50, feat-selector__percentile=60, preproc__preprocess__bow__ngram_range=(1, 1);, score=(train=1.000, test=0.200) total time=   0.6s\n",
      "[CV 1/3; 32/108] START clf__criterion=gini, clf__max_features=log2, clf__n_estimators=50, feat-selector__percentile=60, preproc__preprocess__bow__ngram_range=(1, 2)\n",
      "[CV 1/3; 32/108] END clf__criterion=gini, clf__max_features=log2, clf__n_estimators=50, feat-selector__percentile=60, preproc__preprocess__bow__ngram_range=(1, 2);, score=(train=1.000, test=0.667) total time=   0.4s\n",
      "[CV 2/3; 32/108] START clf__criterion=gini, clf__max_features=log2, clf__n_estimators=50, feat-selector__percentile=60, preproc__preprocess__bow__ngram_range=(1, 2)\n",
      "[CV 2/3; 32/108] END clf__criterion=gini, clf__max_features=log2, clf__n_estimators=50, feat-selector__percentile=60, preproc__preprocess__bow__ngram_range=(1, 2);, score=(train=1.000, test=0.000) total time=   0.4s\n",
      "[CV 3/3; 32/108] START clf__criterion=gini, clf__max_features=log2, clf__n_estimators=50, feat-selector__percentile=60, preproc__preprocess__bow__ngram_range=(1, 2)\n",
      "[CV 3/3; 32/108] END clf__criterion=gini, clf__max_features=log2, clf__n_estimators=50, feat-selector__percentile=60, preproc__preprocess__bow__ngram_range=(1, 2);, score=(train=1.000, test=0.200) total time=   0.4s\n",
      "[CV 1/3; 33/108] START clf__criterion=gini, clf__max_features=log2, clf__n_estimators=50, feat-selector__percentile=60, preproc__preprocess__bow__ngram_range=(1, 3)\n",
      "[CV 1/3; 33/108] END clf__criterion=gini, clf__max_features=log2, clf__n_estimators=50, feat-selector__percentile=60, preproc__preprocess__bow__ngram_range=(1, 3);, score=(train=1.000, test=0.500) total time=   0.4s\n",
      "[CV 2/3; 33/108] START clf__criterion=gini, clf__max_features=log2, clf__n_estimators=50, feat-selector__percentile=60, preproc__preprocess__bow__ngram_range=(1, 3)\n",
      "[CV 2/3; 33/108] END clf__criterion=gini, clf__max_features=log2, clf__n_estimators=50, feat-selector__percentile=60, preproc__preprocess__bow__ngram_range=(1, 3);, score=(train=1.000, test=0.167) total time=   0.5s\n",
      "[CV 3/3; 33/108] START clf__criterion=gini, clf__max_features=log2, clf__n_estimators=50, feat-selector__percentile=60, preproc__preprocess__bow__ngram_range=(1, 3)\n",
      "[CV 3/3; 33/108] END clf__criterion=gini, clf__max_features=log2, clf__n_estimators=50, feat-selector__percentile=60, preproc__preprocess__bow__ngram_range=(1, 3);, score=(train=1.000, test=0.200) total time=   0.6s\n",
      "[CV 1/3; 34/108] START clf__criterion=gini, clf__max_features=log2, clf__n_estimators=50, feat-selector__percentile=80, preproc__preprocess__bow__ngram_range=(1, 1)\n",
      "[CV 1/3; 34/108] END clf__criterion=gini, clf__max_features=log2, clf__n_estimators=50, feat-selector__percentile=80, preproc__preprocess__bow__ngram_range=(1, 1);, score=(train=1.000, test=0.167) total time=   0.4s\n",
      "[CV 2/3; 34/108] START clf__criterion=gini, clf__max_features=log2, clf__n_estimators=50, feat-selector__percentile=80, preproc__preprocess__bow__ngram_range=(1, 1)\n",
      "[CV 2/3; 34/108] END clf__criterion=gini, clf__max_features=log2, clf__n_estimators=50, feat-selector__percentile=80, preproc__preprocess__bow__ngram_range=(1, 1);, score=(train=1.000, test=0.000) total time=   0.4s\n",
      "[CV 3/3; 34/108] START clf__criterion=gini, clf__max_features=log2, clf__n_estimators=50, feat-selector__percentile=80, preproc__preprocess__bow__ngram_range=(1, 1)\n",
      "[CV 3/3; 34/108] END clf__criterion=gini, clf__max_features=log2, clf__n_estimators=50, feat-selector__percentile=80, preproc__preprocess__bow__ngram_range=(1, 1);, score=(train=1.000, test=0.200) total time=   0.4s\n",
      "[CV 1/3; 35/108] START clf__criterion=gini, clf__max_features=log2, clf__n_estimators=50, feat-selector__percentile=80, preproc__preprocess__bow__ngram_range=(1, 2)\n",
      "[CV 1/3; 35/108] END clf__criterion=gini, clf__max_features=log2, clf__n_estimators=50, feat-selector__percentile=80, preproc__preprocess__bow__ngram_range=(1, 2);, score=(train=1.000, test=0.167) total time=   0.4s\n",
      "[CV 2/3; 35/108] START clf__criterion=gini, clf__max_features=log2, clf__n_estimators=50, feat-selector__percentile=80, preproc__preprocess__bow__ngram_range=(1, 2)\n",
      "[CV 2/3; 35/108] END clf__criterion=gini, clf__max_features=log2, clf__n_estimators=50, feat-selector__percentile=80, preproc__preprocess__bow__ngram_range=(1, 2);, score=(train=1.000, test=0.000) total time=   0.4s\n",
      "[CV 3/3; 35/108] START clf__criterion=gini, clf__max_features=log2, clf__n_estimators=50, feat-selector__percentile=80, preproc__preprocess__bow__ngram_range=(1, 2)\n",
      "[CV 3/3; 35/108] END clf__criterion=gini, clf__max_features=log2, clf__n_estimators=50, feat-selector__percentile=80, preproc__preprocess__bow__ngram_range=(1, 2);, score=(train=1.000, test=0.200) total time=   0.4s\n",
      "[CV 1/3; 36/108] START clf__criterion=gini, clf__max_features=log2, clf__n_estimators=50, feat-selector__percentile=80, preproc__preprocess__bow__ngram_range=(1, 3)\n",
      "[CV 1/3; 36/108] END clf__criterion=gini, clf__max_features=log2, clf__n_estimators=50, feat-selector__percentile=80, preproc__preprocess__bow__ngram_range=(1, 3);, score=(train=1.000, test=0.333) total time=   0.4s\n",
      "[CV 2/3; 36/108] START clf__criterion=gini, clf__max_features=log2, clf__n_estimators=50, feat-selector__percentile=80, preproc__preprocess__bow__ngram_range=(1, 3)\n",
      "[CV 2/3; 36/108] END clf__criterion=gini, clf__max_features=log2, clf__n_estimators=50, feat-selector__percentile=80, preproc__preprocess__bow__ngram_range=(1, 3);, score=(train=1.000, test=0.167) total time=   0.4s\n",
      "[CV 3/3; 36/108] START clf__criterion=gini, clf__max_features=log2, clf__n_estimators=50, feat-selector__percentile=80, preproc__preprocess__bow__ngram_range=(1, 3)\n",
      "[CV 3/3; 36/108] END clf__criterion=gini, clf__max_features=log2, clf__n_estimators=50, feat-selector__percentile=80, preproc__preprocess__bow__ngram_range=(1, 3);, score=(train=1.000, test=0.200) total time=   0.5s\n",
      "[CV 1/3; 37/108] START clf__criterion=gini, clf__max_features=log2, clf__n_estimators=100, feat-selector__percentile=30, preproc__preprocess__bow__ngram_range=(1, 1)\n",
      "[CV 1/3; 37/108] END clf__criterion=gini, clf__max_features=log2, clf__n_estimators=100, feat-selector__percentile=30, preproc__preprocess__bow__ngram_range=(1, 1);, score=(train=1.000, test=0.500) total time=   0.5s\n",
      "[CV 2/3; 37/108] START clf__criterion=gini, clf__max_features=log2, clf__n_estimators=100, feat-selector__percentile=30, preproc__preprocess__bow__ngram_range=(1, 1)\n"
     ]
    },
    {
     "name": "stdout",
     "output_type": "stream",
     "text": [
      "[CV 2/3; 37/108] END clf__criterion=gini, clf__max_features=log2, clf__n_estimators=100, feat-selector__percentile=30, preproc__preprocess__bow__ngram_range=(1, 1);, score=(train=1.000, test=0.333) total time=   0.5s\n",
      "[CV 3/3; 37/108] START clf__criterion=gini, clf__max_features=log2, clf__n_estimators=100, feat-selector__percentile=30, preproc__preprocess__bow__ngram_range=(1, 1)\n",
      "[CV 3/3; 37/108] END clf__criterion=gini, clf__max_features=log2, clf__n_estimators=100, feat-selector__percentile=30, preproc__preprocess__bow__ngram_range=(1, 1);, score=(train=1.000, test=0.200) total time=   0.5s\n",
      "[CV 1/3; 38/108] START clf__criterion=gini, clf__max_features=log2, clf__n_estimators=100, feat-selector__percentile=30, preproc__preprocess__bow__ngram_range=(1, 2)\n",
      "[CV 1/3; 38/108] END clf__criterion=gini, clf__max_features=log2, clf__n_estimators=100, feat-selector__percentile=30, preproc__preprocess__bow__ngram_range=(1, 2);, score=(train=1.000, test=0.500) total time=   0.5s\n",
      "[CV 2/3; 38/108] START clf__criterion=gini, clf__max_features=log2, clf__n_estimators=100, feat-selector__percentile=30, preproc__preprocess__bow__ngram_range=(1, 2)\n",
      "[CV 2/3; 38/108] END clf__criterion=gini, clf__max_features=log2, clf__n_estimators=100, feat-selector__percentile=30, preproc__preprocess__bow__ngram_range=(1, 2);, score=(train=1.000, test=0.167) total time=   0.5s\n",
      "[CV 3/3; 38/108] START clf__criterion=gini, clf__max_features=log2, clf__n_estimators=100, feat-selector__percentile=30, preproc__preprocess__bow__ngram_range=(1, 2)\n",
      "[CV 3/3; 38/108] END clf__criterion=gini, clf__max_features=log2, clf__n_estimators=100, feat-selector__percentile=30, preproc__preprocess__bow__ngram_range=(1, 2);, score=(train=1.000, test=0.200) total time=   0.5s\n",
      "[CV 1/3; 39/108] START clf__criterion=gini, clf__max_features=log2, clf__n_estimators=100, feat-selector__percentile=30, preproc__preprocess__bow__ngram_range=(1, 3)\n",
      "[CV 1/3; 39/108] END clf__criterion=gini, clf__max_features=log2, clf__n_estimators=100, feat-selector__percentile=30, preproc__preprocess__bow__ngram_range=(1, 3);, score=(train=1.000, test=0.667) total time=   0.5s\n",
      "[CV 2/3; 39/108] START clf__criterion=gini, clf__max_features=log2, clf__n_estimators=100, feat-selector__percentile=30, preproc__preprocess__bow__ngram_range=(1, 3)\n",
      "[CV 2/3; 39/108] END clf__criterion=gini, clf__max_features=log2, clf__n_estimators=100, feat-selector__percentile=30, preproc__preprocess__bow__ngram_range=(1, 3);, score=(train=1.000, test=0.333) total time=   0.5s\n",
      "[CV 3/3; 39/108] START clf__criterion=gini, clf__max_features=log2, clf__n_estimators=100, feat-selector__percentile=30, preproc__preprocess__bow__ngram_range=(1, 3)\n",
      "[CV 3/3; 39/108] END clf__criterion=gini, clf__max_features=log2, clf__n_estimators=100, feat-selector__percentile=30, preproc__preprocess__bow__ngram_range=(1, 3);, score=(train=1.000, test=0.200) total time=   0.5s\n",
      "[CV 1/3; 40/108] START clf__criterion=gini, clf__max_features=log2, clf__n_estimators=100, feat-selector__percentile=60, preproc__preprocess__bow__ngram_range=(1, 1)\n",
      "[CV 1/3; 40/108] END clf__criterion=gini, clf__max_features=log2, clf__n_estimators=100, feat-selector__percentile=60, preproc__preprocess__bow__ngram_range=(1, 1);, score=(train=1.000, test=0.167) total time=   0.4s\n",
      "[CV 2/3; 40/108] START clf__criterion=gini, clf__max_features=log2, clf__n_estimators=100, feat-selector__percentile=60, preproc__preprocess__bow__ngram_range=(1, 1)\n",
      "[CV 2/3; 40/108] END clf__criterion=gini, clf__max_features=log2, clf__n_estimators=100, feat-selector__percentile=60, preproc__preprocess__bow__ngram_range=(1, 1);, score=(train=1.000, test=0.000) total time=   0.4s\n",
      "[CV 3/3; 40/108] START clf__criterion=gini, clf__max_features=log2, clf__n_estimators=100, feat-selector__percentile=60, preproc__preprocess__bow__ngram_range=(1, 1)\n",
      "[CV 3/3; 40/108] END clf__criterion=gini, clf__max_features=log2, clf__n_estimators=100, feat-selector__percentile=60, preproc__preprocess__bow__ngram_range=(1, 1);, score=(train=1.000, test=0.200) total time=   0.4s\n",
      "[CV 1/3; 41/108] START clf__criterion=gini, clf__max_features=log2, clf__n_estimators=100, feat-selector__percentile=60, preproc__preprocess__bow__ngram_range=(1, 2)\n",
      "[CV 1/3; 41/108] END clf__criterion=gini, clf__max_features=log2, clf__n_estimators=100, feat-selector__percentile=60, preproc__preprocess__bow__ngram_range=(1, 2);, score=(train=1.000, test=0.667) total time=   0.4s\n",
      "[CV 2/3; 41/108] START clf__criterion=gini, clf__max_features=log2, clf__n_estimators=100, feat-selector__percentile=60, preproc__preprocess__bow__ngram_range=(1, 2)\n",
      "[CV 2/3; 41/108] END clf__criterion=gini, clf__max_features=log2, clf__n_estimators=100, feat-selector__percentile=60, preproc__preprocess__bow__ngram_range=(1, 2);, score=(train=1.000, test=0.167) total time=   0.4s\n",
      "[CV 3/3; 41/108] START clf__criterion=gini, clf__max_features=log2, clf__n_estimators=100, feat-selector__percentile=60, preproc__preprocess__bow__ngram_range=(1, 2)\n",
      "[CV 3/3; 41/108] END clf__criterion=gini, clf__max_features=log2, clf__n_estimators=100, feat-selector__percentile=60, preproc__preprocess__bow__ngram_range=(1, 2);, score=(train=1.000, test=0.200) total time=   0.5s\n",
      "[CV 1/3; 42/108] START clf__criterion=gini, clf__max_features=log2, clf__n_estimators=100, feat-selector__percentile=60, preproc__preprocess__bow__ngram_range=(1, 3)\n",
      "[CV 1/3; 42/108] END clf__criterion=gini, clf__max_features=log2, clf__n_estimators=100, feat-selector__percentile=60, preproc__preprocess__bow__ngram_range=(1, 3);, score=(train=1.000, test=0.667) total time=   0.5s\n",
      "[CV 2/3; 42/108] START clf__criterion=gini, clf__max_features=log2, clf__n_estimators=100, feat-selector__percentile=60, preproc__preprocess__bow__ngram_range=(1, 3)\n",
      "[CV 2/3; 42/108] END clf__criterion=gini, clf__max_features=log2, clf__n_estimators=100, feat-selector__percentile=60, preproc__preprocess__bow__ngram_range=(1, 3);, score=(train=1.000, test=0.167) total time=   0.4s\n",
      "[CV 3/3; 42/108] START clf__criterion=gini, clf__max_features=log2, clf__n_estimators=100, feat-selector__percentile=60, preproc__preprocess__bow__ngram_range=(1, 3)\n",
      "[CV 3/3; 42/108] END clf__criterion=gini, clf__max_features=log2, clf__n_estimators=100, feat-selector__percentile=60, preproc__preprocess__bow__ngram_range=(1, 3);, score=(train=1.000, test=0.200) total time=   0.5s\n",
      "[CV 1/3; 43/108] START clf__criterion=gini, clf__max_features=log2, clf__n_estimators=100, feat-selector__percentile=80, preproc__preprocess__bow__ngram_range=(1, 1)\n",
      "[CV 1/3; 43/108] END clf__criterion=gini, clf__max_features=log2, clf__n_estimators=100, feat-selector__percentile=80, preproc__preprocess__bow__ngram_range=(1, 1);, score=(train=1.000, test=0.167) total time=   0.4s\n",
      "[CV 2/3; 43/108] START clf__criterion=gini, clf__max_features=log2, clf__n_estimators=100, feat-selector__percentile=80, preproc__preprocess__bow__ngram_range=(1, 1)\n",
      "[CV 2/3; 43/108] END clf__criterion=gini, clf__max_features=log2, clf__n_estimators=100, feat-selector__percentile=80, preproc__preprocess__bow__ngram_range=(1, 1);, score=(train=1.000, test=0.000) total time=   0.4s\n",
      "[CV 3/3; 43/108] START clf__criterion=gini, clf__max_features=log2, clf__n_estimators=100, feat-selector__percentile=80, preproc__preprocess__bow__ngram_range=(1, 1)\n",
      "[CV 3/3; 43/108] END clf__criterion=gini, clf__max_features=log2, clf__n_estimators=100, feat-selector__percentile=80, preproc__preprocess__bow__ngram_range=(1, 1);, score=(train=1.000, test=0.200) total time=   0.4s\n",
      "[CV 1/3; 44/108] START clf__criterion=gini, clf__max_features=log2, clf__n_estimators=100, feat-selector__percentile=80, preproc__preprocess__bow__ngram_range=(1, 2)\n",
      "[CV 1/3; 44/108] END clf__criterion=gini, clf__max_features=log2, clf__n_estimators=100, feat-selector__percentile=80, preproc__preprocess__bow__ngram_range=(1, 2);, score=(train=1.000, test=0.167) total time=   0.4s\n",
      "[CV 2/3; 44/108] START clf__criterion=gini, clf__max_features=log2, clf__n_estimators=100, feat-selector__percentile=80, preproc__preprocess__bow__ngram_range=(1, 2)\n",
      "[CV 2/3; 44/108] END clf__criterion=gini, clf__max_features=log2, clf__n_estimators=100, feat-selector__percentile=80, preproc__preprocess__bow__ngram_range=(1, 2);, score=(train=1.000, test=0.000) total time=   0.4s\n",
      "[CV 3/3; 44/108] START clf__criterion=gini, clf__max_features=log2, clf__n_estimators=100, feat-selector__percentile=80, preproc__preprocess__bow__ngram_range=(1, 2)\n"
     ]
    },
    {
     "name": "stdout",
     "output_type": "stream",
     "text": [
      "[CV 3/3; 44/108] END clf__criterion=gini, clf__max_features=log2, clf__n_estimators=100, feat-selector__percentile=80, preproc__preprocess__bow__ngram_range=(1, 2);, score=(train=1.000, test=0.200) total time=   0.5s\n",
      "[CV 1/3; 45/108] START clf__criterion=gini, clf__max_features=log2, clf__n_estimators=100, feat-selector__percentile=80, preproc__preprocess__bow__ngram_range=(1, 3)\n",
      "[CV 1/3; 45/108] END clf__criterion=gini, clf__max_features=log2, clf__n_estimators=100, feat-selector__percentile=80, preproc__preprocess__bow__ngram_range=(1, 3);, score=(train=1.000, test=0.167) total time=   0.5s\n",
      "[CV 2/3; 45/108] START clf__criterion=gini, clf__max_features=log2, clf__n_estimators=100, feat-selector__percentile=80, preproc__preprocess__bow__ngram_range=(1, 3)\n",
      "[CV 2/3; 45/108] END clf__criterion=gini, clf__max_features=log2, clf__n_estimators=100, feat-selector__percentile=80, preproc__preprocess__bow__ngram_range=(1, 3);, score=(train=1.000, test=0.167) total time=   0.5s\n",
      "[CV 3/3; 45/108] START clf__criterion=gini, clf__max_features=log2, clf__n_estimators=100, feat-selector__percentile=80, preproc__preprocess__bow__ngram_range=(1, 3)\n",
      "[CV 3/3; 45/108] END clf__criterion=gini, clf__max_features=log2, clf__n_estimators=100, feat-selector__percentile=80, preproc__preprocess__bow__ngram_range=(1, 3);, score=(train=1.000, test=0.200) total time=   0.5s\n",
      "[CV 1/3; 46/108] START clf__criterion=gini, clf__max_features=log2, clf__n_estimators=250, feat-selector__percentile=30, preproc__preprocess__bow__ngram_range=(1, 1)\n",
      "[CV 1/3; 46/108] END clf__criterion=gini, clf__max_features=log2, clf__n_estimators=250, feat-selector__percentile=30, preproc__preprocess__bow__ngram_range=(1, 1);, score=(train=1.000, test=0.500) total time=   0.6s\n",
      "[CV 2/3; 46/108] START clf__criterion=gini, clf__max_features=log2, clf__n_estimators=250, feat-selector__percentile=30, preproc__preprocess__bow__ngram_range=(1, 1)\n",
      "[CV 2/3; 46/108] END clf__criterion=gini, clf__max_features=log2, clf__n_estimators=250, feat-selector__percentile=30, preproc__preprocess__bow__ngram_range=(1, 1);, score=(train=1.000, test=0.000) total time=   0.6s\n",
      "[CV 3/3; 46/108] START clf__criterion=gini, clf__max_features=log2, clf__n_estimators=250, feat-selector__percentile=30, preproc__preprocess__bow__ngram_range=(1, 1)\n",
      "[CV 3/3; 46/108] END clf__criterion=gini, clf__max_features=log2, clf__n_estimators=250, feat-selector__percentile=30, preproc__preprocess__bow__ngram_range=(1, 1);, score=(train=1.000, test=0.200) total time=   0.8s\n",
      "[CV 1/3; 47/108] START clf__criterion=gini, clf__max_features=log2, clf__n_estimators=250, feat-selector__percentile=30, preproc__preprocess__bow__ngram_range=(1, 2)\n",
      "[CV 1/3; 47/108] END clf__criterion=gini, clf__max_features=log2, clf__n_estimators=250, feat-selector__percentile=30, preproc__preprocess__bow__ngram_range=(1, 2);, score=(train=1.000, test=0.667) total time=   0.8s\n",
      "[CV 2/3; 47/108] START clf__criterion=gini, clf__max_features=log2, clf__n_estimators=250, feat-selector__percentile=30, preproc__preprocess__bow__ngram_range=(1, 2)\n",
      "[CV 2/3; 47/108] END clf__criterion=gini, clf__max_features=log2, clf__n_estimators=250, feat-selector__percentile=30, preproc__preprocess__bow__ngram_range=(1, 2);, score=(train=1.000, test=0.333) total time=   0.6s\n",
      "[CV 3/3; 47/108] START clf__criterion=gini, clf__max_features=log2, clf__n_estimators=250, feat-selector__percentile=30, preproc__preprocess__bow__ngram_range=(1, 2)\n",
      "[CV 3/3; 47/108] END clf__criterion=gini, clf__max_features=log2, clf__n_estimators=250, feat-selector__percentile=30, preproc__preprocess__bow__ngram_range=(1, 2);, score=(train=1.000, test=0.200) total time=   0.7s\n",
      "[CV 1/3; 48/108] START clf__criterion=gini, clf__max_features=log2, clf__n_estimators=250, feat-selector__percentile=30, preproc__preprocess__bow__ngram_range=(1, 3)\n",
      "[CV 1/3; 48/108] END clf__criterion=gini, clf__max_features=log2, clf__n_estimators=250, feat-selector__percentile=30, preproc__preprocess__bow__ngram_range=(1, 3);, score=(train=1.000, test=0.667) total time=   1.1s\n",
      "[CV 2/3; 48/108] START clf__criterion=gini, clf__max_features=log2, clf__n_estimators=250, feat-selector__percentile=30, preproc__preprocess__bow__ngram_range=(1, 3)\n",
      "[CV 2/3; 48/108] END clf__criterion=gini, clf__max_features=log2, clf__n_estimators=250, feat-selector__percentile=30, preproc__preprocess__bow__ngram_range=(1, 3);, score=(train=1.000, test=0.333) total time=   0.8s\n",
      "[CV 3/3; 48/108] START clf__criterion=gini, clf__max_features=log2, clf__n_estimators=250, feat-selector__percentile=30, preproc__preprocess__bow__ngram_range=(1, 3)\n",
      "[CV 3/3; 48/108] END clf__criterion=gini, clf__max_features=log2, clf__n_estimators=250, feat-selector__percentile=30, preproc__preprocess__bow__ngram_range=(1, 3);, score=(train=1.000, test=0.200) total time=   0.9s\n",
      "[CV 1/3; 49/108] START clf__criterion=gini, clf__max_features=log2, clf__n_estimators=250, feat-selector__percentile=60, preproc__preprocess__bow__ngram_range=(1, 1)\n",
      "[CV 1/3; 49/108] END clf__criterion=gini, clf__max_features=log2, clf__n_estimators=250, feat-selector__percentile=60, preproc__preprocess__bow__ngram_range=(1, 1);, score=(train=1.000, test=0.333) total time=   0.7s\n",
      "[CV 2/3; 49/108] START clf__criterion=gini, clf__max_features=log2, clf__n_estimators=250, feat-selector__percentile=60, preproc__preprocess__bow__ngram_range=(1, 1)\n",
      "[CV 2/3; 49/108] END clf__criterion=gini, clf__max_features=log2, clf__n_estimators=250, feat-selector__percentile=60, preproc__preprocess__bow__ngram_range=(1, 1);, score=(train=1.000, test=0.000) total time=   0.8s\n",
      "[CV 3/3; 49/108] START clf__criterion=gini, clf__max_features=log2, clf__n_estimators=250, feat-selector__percentile=60, preproc__preprocess__bow__ngram_range=(1, 1)\n",
      "[CV 3/3; 49/108] END clf__criterion=gini, clf__max_features=log2, clf__n_estimators=250, feat-selector__percentile=60, preproc__preprocess__bow__ngram_range=(1, 1);, score=(train=1.000, test=0.200) total time=   0.7s\n",
      "[CV 1/3; 50/108] START clf__criterion=gini, clf__max_features=log2, clf__n_estimators=250, feat-selector__percentile=60, preproc__preprocess__bow__ngram_range=(1, 2)\n",
      "[CV 1/3; 50/108] END clf__criterion=gini, clf__max_features=log2, clf__n_estimators=250, feat-selector__percentile=60, preproc__preprocess__bow__ngram_range=(1, 2);, score=(train=1.000, test=0.667) total time=   0.7s\n",
      "[CV 2/3; 50/108] START clf__criterion=gini, clf__max_features=log2, clf__n_estimators=250, feat-selector__percentile=60, preproc__preprocess__bow__ngram_range=(1, 2)\n",
      "[CV 2/3; 50/108] END clf__criterion=gini, clf__max_features=log2, clf__n_estimators=250, feat-selector__percentile=60, preproc__preprocess__bow__ngram_range=(1, 2);, score=(train=1.000, test=0.333) total time=   0.6s\n",
      "[CV 3/3; 50/108] START clf__criterion=gini, clf__max_features=log2, clf__n_estimators=250, feat-selector__percentile=60, preproc__preprocess__bow__ngram_range=(1, 2)\n",
      "[CV 3/3; 50/108] END clf__criterion=gini, clf__max_features=log2, clf__n_estimators=250, feat-selector__percentile=60, preproc__preprocess__bow__ngram_range=(1, 2);, score=(train=1.000, test=0.200) total time=   0.7s\n",
      "[CV 1/3; 51/108] START clf__criterion=gini, clf__max_features=log2, clf__n_estimators=250, feat-selector__percentile=60, preproc__preprocess__bow__ngram_range=(1, 3)\n",
      "[CV 1/3; 51/108] END clf__criterion=gini, clf__max_features=log2, clf__n_estimators=250, feat-selector__percentile=60, preproc__preprocess__bow__ngram_range=(1, 3);, score=(train=1.000, test=0.667) total time=   0.7s\n",
      "[CV 2/3; 51/108] START clf__criterion=gini, clf__max_features=log2, clf__n_estimators=250, feat-selector__percentile=60, preproc__preprocess__bow__ngram_range=(1, 3)\n",
      "[CV 2/3; 51/108] END clf__criterion=gini, clf__max_features=log2, clf__n_estimators=250, feat-selector__percentile=60, preproc__preprocess__bow__ngram_range=(1, 3);, score=(train=1.000, test=0.333) total time=   0.7s\n",
      "[CV 3/3; 51/108] START clf__criterion=gini, clf__max_features=log2, clf__n_estimators=250, feat-selector__percentile=60, preproc__preprocess__bow__ngram_range=(1, 3)\n",
      "[CV 3/3; 51/108] END clf__criterion=gini, clf__max_features=log2, clf__n_estimators=250, feat-selector__percentile=60, preproc__preprocess__bow__ngram_range=(1, 3);, score=(train=1.000, test=0.200) total time=   0.7s\n",
      "[CV 1/3; 52/108] START clf__criterion=gini, clf__max_features=log2, clf__n_estimators=250, feat-selector__percentile=80, preproc__preprocess__bow__ngram_range=(1, 1)\n"
     ]
    },
    {
     "name": "stdout",
     "output_type": "stream",
     "text": [
      "[CV 1/3; 52/108] END clf__criterion=gini, clf__max_features=log2, clf__n_estimators=250, feat-selector__percentile=80, preproc__preprocess__bow__ngram_range=(1, 1);, score=(train=1.000, test=0.167) total time=   0.6s\n",
      "[CV 2/3; 52/108] START clf__criterion=gini, clf__max_features=log2, clf__n_estimators=250, feat-selector__percentile=80, preproc__preprocess__bow__ngram_range=(1, 1)\n",
      "[CV 2/3; 52/108] END clf__criterion=gini, clf__max_features=log2, clf__n_estimators=250, feat-selector__percentile=80, preproc__preprocess__bow__ngram_range=(1, 1);, score=(train=1.000, test=0.000) total time=   0.6s\n",
      "[CV 3/3; 52/108] START clf__criterion=gini, clf__max_features=log2, clf__n_estimators=250, feat-selector__percentile=80, preproc__preprocess__bow__ngram_range=(1, 1)\n",
      "[CV 3/3; 52/108] END clf__criterion=gini, clf__max_features=log2, clf__n_estimators=250, feat-selector__percentile=80, preproc__preprocess__bow__ngram_range=(1, 1);, score=(train=1.000, test=0.200) total time=   0.7s\n",
      "[CV 1/3; 53/108] START clf__criterion=gini, clf__max_features=log2, clf__n_estimators=250, feat-selector__percentile=80, preproc__preprocess__bow__ngram_range=(1, 2)\n",
      "[CV 1/3; 53/108] END clf__criterion=gini, clf__max_features=log2, clf__n_estimators=250, feat-selector__percentile=80, preproc__preprocess__bow__ngram_range=(1, 2);, score=(train=1.000, test=0.167) total time=   0.6s\n",
      "[CV 2/3; 53/108] START clf__criterion=gini, clf__max_features=log2, clf__n_estimators=250, feat-selector__percentile=80, preproc__preprocess__bow__ngram_range=(1, 2)\n",
      "[CV 2/3; 53/108] END clf__criterion=gini, clf__max_features=log2, clf__n_estimators=250, feat-selector__percentile=80, preproc__preprocess__bow__ngram_range=(1, 2);, score=(train=1.000, test=0.000) total time=   0.7s\n",
      "[CV 3/3; 53/108] START clf__criterion=gini, clf__max_features=log2, clf__n_estimators=250, feat-selector__percentile=80, preproc__preprocess__bow__ngram_range=(1, 2)\n",
      "[CV 3/3; 53/108] END clf__criterion=gini, clf__max_features=log2, clf__n_estimators=250, feat-selector__percentile=80, preproc__preprocess__bow__ngram_range=(1, 2);, score=(train=1.000, test=0.200) total time=   0.8s\n",
      "[CV 1/3; 54/108] START clf__criterion=gini, clf__max_features=log2, clf__n_estimators=250, feat-selector__percentile=80, preproc__preprocess__bow__ngram_range=(1, 3)\n",
      "[CV 1/3; 54/108] END clf__criterion=gini, clf__max_features=log2, clf__n_estimators=250, feat-selector__percentile=80, preproc__preprocess__bow__ngram_range=(1, 3);, score=(train=1.000, test=0.167) total time=   0.7s\n",
      "[CV 2/3; 54/108] START clf__criterion=gini, clf__max_features=log2, clf__n_estimators=250, feat-selector__percentile=80, preproc__preprocess__bow__ngram_range=(1, 3)\n",
      "[CV 2/3; 54/108] END clf__criterion=gini, clf__max_features=log2, clf__n_estimators=250, feat-selector__percentile=80, preproc__preprocess__bow__ngram_range=(1, 3);, score=(train=1.000, test=0.167) total time=   0.7s\n",
      "[CV 3/3; 54/108] START clf__criterion=gini, clf__max_features=log2, clf__n_estimators=250, feat-selector__percentile=80, preproc__preprocess__bow__ngram_range=(1, 3)\n",
      "[CV 3/3; 54/108] END clf__criterion=gini, clf__max_features=log2, clf__n_estimators=250, feat-selector__percentile=80, preproc__preprocess__bow__ngram_range=(1, 3);, score=(train=1.000, test=0.200) total time=   0.7s\n",
      "[CV 1/3; 55/108] START clf__criterion=entropy, clf__max_features=sqrt, clf__n_estimators=50, feat-selector__percentile=30, preproc__preprocess__bow__ngram_range=(1, 1)\n",
      "[CV 1/3; 55/108] END clf__criterion=entropy, clf__max_features=sqrt, clf__n_estimators=50, feat-selector__percentile=30, preproc__preprocess__bow__ngram_range=(1, 1);, score=(train=1.000, test=0.500) total time=   0.4s\n",
      "[CV 2/3; 55/108] START clf__criterion=entropy, clf__max_features=sqrt, clf__n_estimators=50, feat-selector__percentile=30, preproc__preprocess__bow__ngram_range=(1, 1)\n",
      "[CV 2/3; 55/108] END clf__criterion=entropy, clf__max_features=sqrt, clf__n_estimators=50, feat-selector__percentile=30, preproc__preprocess__bow__ngram_range=(1, 1);, score=(train=1.000, test=0.333) total time=   0.4s\n",
      "[CV 3/3; 55/108] START clf__criterion=entropy, clf__max_features=sqrt, clf__n_estimators=50, feat-selector__percentile=30, preproc__preprocess__bow__ngram_range=(1, 1)\n",
      "[CV 3/3; 55/108] END clf__criterion=entropy, clf__max_features=sqrt, clf__n_estimators=50, feat-selector__percentile=30, preproc__preprocess__bow__ngram_range=(1, 1);, score=(train=1.000, test=0.200) total time=   0.4s\n",
      "[CV 1/3; 56/108] START clf__criterion=entropy, clf__max_features=sqrt, clf__n_estimators=50, feat-selector__percentile=30, preproc__preprocess__bow__ngram_range=(1, 2)\n",
      "[CV 1/3; 56/108] END clf__criterion=entropy, clf__max_features=sqrt, clf__n_estimators=50, feat-selector__percentile=30, preproc__preprocess__bow__ngram_range=(1, 2);, score=(train=1.000, test=0.667) total time=   0.4s\n",
      "[CV 2/3; 56/108] START clf__criterion=entropy, clf__max_features=sqrt, clf__n_estimators=50, feat-selector__percentile=30, preproc__preprocess__bow__ngram_range=(1, 2)\n",
      "[CV 2/3; 56/108] END clf__criterion=entropy, clf__max_features=sqrt, clf__n_estimators=50, feat-selector__percentile=30, preproc__preprocess__bow__ngram_range=(1, 2);, score=(train=1.000, test=0.333) total time=   0.3s\n",
      "[CV 3/3; 56/108] START clf__criterion=entropy, clf__max_features=sqrt, clf__n_estimators=50, feat-selector__percentile=30, preproc__preprocess__bow__ngram_range=(1, 2)\n",
      "[CV 3/3; 56/108] END clf__criterion=entropy, clf__max_features=sqrt, clf__n_estimators=50, feat-selector__percentile=30, preproc__preprocess__bow__ngram_range=(1, 2);, score=(train=1.000, test=0.200) total time=   0.4s\n",
      "[CV 1/3; 57/108] START clf__criterion=entropy, clf__max_features=sqrt, clf__n_estimators=50, feat-selector__percentile=30, preproc__preprocess__bow__ngram_range=(1, 3)\n",
      "[CV 1/3; 57/108] END clf__criterion=entropy, clf__max_features=sqrt, clf__n_estimators=50, feat-selector__percentile=30, preproc__preprocess__bow__ngram_range=(1, 3);, score=(train=1.000, test=0.667) total time=   0.4s\n",
      "[CV 2/3; 57/108] START clf__criterion=entropy, clf__max_features=sqrt, clf__n_estimators=50, feat-selector__percentile=30, preproc__preprocess__bow__ngram_range=(1, 3)\n",
      "[CV 2/3; 57/108] END clf__criterion=entropy, clf__max_features=sqrt, clf__n_estimators=50, feat-selector__percentile=30, preproc__preprocess__bow__ngram_range=(1, 3);, score=(train=1.000, test=0.333) total time=   0.4s\n",
      "[CV 3/3; 57/108] START clf__criterion=entropy, clf__max_features=sqrt, clf__n_estimators=50, feat-selector__percentile=30, preproc__preprocess__bow__ngram_range=(1, 3)\n",
      "[CV 3/3; 57/108] END clf__criterion=entropy, clf__max_features=sqrt, clf__n_estimators=50, feat-selector__percentile=30, preproc__preprocess__bow__ngram_range=(1, 3);, score=(train=1.000, test=0.200) total time=   0.4s\n",
      "[CV 1/3; 58/108] START clf__criterion=entropy, clf__max_features=sqrt, clf__n_estimators=50, feat-selector__percentile=60, preproc__preprocess__bow__ngram_range=(1, 1)\n",
      "[CV 1/3; 58/108] END clf__criterion=entropy, clf__max_features=sqrt, clf__n_estimators=50, feat-selector__percentile=60, preproc__preprocess__bow__ngram_range=(1, 1);, score=(train=1.000, test=0.667) total time=   0.3s\n",
      "[CV 2/3; 58/108] START clf__criterion=entropy, clf__max_features=sqrt, clf__n_estimators=50, feat-selector__percentile=60, preproc__preprocess__bow__ngram_range=(1, 1)\n",
      "[CV 2/3; 58/108] END clf__criterion=entropy, clf__max_features=sqrt, clf__n_estimators=50, feat-selector__percentile=60, preproc__preprocess__bow__ngram_range=(1, 1);, score=(train=1.000, test=0.333) total time=   0.3s\n",
      "[CV 3/3; 58/108] START clf__criterion=entropy, clf__max_features=sqrt, clf__n_estimators=50, feat-selector__percentile=60, preproc__preprocess__bow__ngram_range=(1, 1)\n",
      "[CV 3/3; 58/108] END clf__criterion=entropy, clf__max_features=sqrt, clf__n_estimators=50, feat-selector__percentile=60, preproc__preprocess__bow__ngram_range=(1, 1);, score=(train=1.000, test=0.200) total time=   0.4s\n",
      "[CV 1/3; 59/108] START clf__criterion=entropy, clf__max_features=sqrt, clf__n_estimators=50, feat-selector__percentile=60, preproc__preprocess__bow__ngram_range=(1, 2)\n",
      "[CV 1/3; 59/108] END clf__criterion=entropy, clf__max_features=sqrt, clf__n_estimators=50, feat-selector__percentile=60, preproc__preprocess__bow__ngram_range=(1, 2);, score=(train=1.000, test=0.333) total time=   0.4s\n",
      "[CV 2/3; 59/108] START clf__criterion=entropy, clf__max_features=sqrt, clf__n_estimators=50, feat-selector__percentile=60, preproc__preprocess__bow__ngram_range=(1, 2)\n"
     ]
    },
    {
     "name": "stdout",
     "output_type": "stream",
     "text": [
      "[CV 2/3; 59/108] END clf__criterion=entropy, clf__max_features=sqrt, clf__n_estimators=50, feat-selector__percentile=60, preproc__preprocess__bow__ngram_range=(1, 2);, score=(train=1.000, test=0.167) total time=   0.3s\n",
      "[CV 3/3; 59/108] START clf__criterion=entropy, clf__max_features=sqrt, clf__n_estimators=50, feat-selector__percentile=60, preproc__preprocess__bow__ngram_range=(1, 2)\n",
      "[CV 3/3; 59/108] END clf__criterion=entropy, clf__max_features=sqrt, clf__n_estimators=50, feat-selector__percentile=60, preproc__preprocess__bow__ngram_range=(1, 2);, score=(train=1.000, test=0.200) total time=   0.4s\n",
      "[CV 1/3; 60/108] START clf__criterion=entropy, clf__max_features=sqrt, clf__n_estimators=50, feat-selector__percentile=60, preproc__preprocess__bow__ngram_range=(1, 3)\n",
      "[CV 1/3; 60/108] END clf__criterion=entropy, clf__max_features=sqrt, clf__n_estimators=50, feat-selector__percentile=60, preproc__preprocess__bow__ngram_range=(1, 3);, score=(train=1.000, test=0.667) total time=   0.4s\n",
      "[CV 2/3; 60/108] START clf__criterion=entropy, clf__max_features=sqrt, clf__n_estimators=50, feat-selector__percentile=60, preproc__preprocess__bow__ngram_range=(1, 3)\n",
      "[CV 2/3; 60/108] END clf__criterion=entropy, clf__max_features=sqrt, clf__n_estimators=50, feat-selector__percentile=60, preproc__preprocess__bow__ngram_range=(1, 3);, score=(train=1.000, test=0.333) total time=   0.4s\n",
      "[CV 3/3; 60/108] START clf__criterion=entropy, clf__max_features=sqrt, clf__n_estimators=50, feat-selector__percentile=60, preproc__preprocess__bow__ngram_range=(1, 3)\n",
      "[CV 3/3; 60/108] END clf__criterion=entropy, clf__max_features=sqrt, clf__n_estimators=50, feat-selector__percentile=60, preproc__preprocess__bow__ngram_range=(1, 3);, score=(train=1.000, test=0.200) total time=   0.4s\n",
      "[CV 1/3; 61/108] START clf__criterion=entropy, clf__max_features=sqrt, clf__n_estimators=50, feat-selector__percentile=80, preproc__preprocess__bow__ngram_range=(1, 1)\n",
      "[CV 1/3; 61/108] END clf__criterion=entropy, clf__max_features=sqrt, clf__n_estimators=50, feat-selector__percentile=80, preproc__preprocess__bow__ngram_range=(1, 1);, score=(train=1.000, test=0.333) total time=   0.3s\n",
      "[CV 2/3; 61/108] START clf__criterion=entropy, clf__max_features=sqrt, clf__n_estimators=50, feat-selector__percentile=80, preproc__preprocess__bow__ngram_range=(1, 1)\n",
      "[CV 2/3; 61/108] END clf__criterion=entropy, clf__max_features=sqrt, clf__n_estimators=50, feat-selector__percentile=80, preproc__preprocess__bow__ngram_range=(1, 1);, score=(train=1.000, test=0.000) total time=   0.3s\n",
      "[CV 3/3; 61/108] START clf__criterion=entropy, clf__max_features=sqrt, clf__n_estimators=50, feat-selector__percentile=80, preproc__preprocess__bow__ngram_range=(1, 1)\n",
      "[CV 3/3; 61/108] END clf__criterion=entropy, clf__max_features=sqrt, clf__n_estimators=50, feat-selector__percentile=80, preproc__preprocess__bow__ngram_range=(1, 1);, score=(train=1.000, test=0.200) total time=   0.4s\n",
      "[CV 1/3; 62/108] START clf__criterion=entropy, clf__max_features=sqrt, clf__n_estimators=50, feat-selector__percentile=80, preproc__preprocess__bow__ngram_range=(1, 2)\n",
      "[CV 1/3; 62/108] END clf__criterion=entropy, clf__max_features=sqrt, clf__n_estimators=50, feat-selector__percentile=80, preproc__preprocess__bow__ngram_range=(1, 2);, score=(train=1.000, test=0.167) total time=   0.4s\n",
      "[CV 2/3; 62/108] START clf__criterion=entropy, clf__max_features=sqrt, clf__n_estimators=50, feat-selector__percentile=80, preproc__preprocess__bow__ngram_range=(1, 2)\n",
      "[CV 2/3; 62/108] END clf__criterion=entropy, clf__max_features=sqrt, clf__n_estimators=50, feat-selector__percentile=80, preproc__preprocess__bow__ngram_range=(1, 2);, score=(train=1.000, test=0.333) total time=   0.4s\n",
      "[CV 3/3; 62/108] START clf__criterion=entropy, clf__max_features=sqrt, clf__n_estimators=50, feat-selector__percentile=80, preproc__preprocess__bow__ngram_range=(1, 2)\n",
      "[CV 3/3; 62/108] END clf__criterion=entropy, clf__max_features=sqrt, clf__n_estimators=50, feat-selector__percentile=80, preproc__preprocess__bow__ngram_range=(1, 2);, score=(train=1.000, test=0.200) total time=   0.4s\n",
      "[CV 1/3; 63/108] START clf__criterion=entropy, clf__max_features=sqrt, clf__n_estimators=50, feat-selector__percentile=80, preproc__preprocess__bow__ngram_range=(1, 3)\n",
      "[CV 1/3; 63/108] END clf__criterion=entropy, clf__max_features=sqrt, clf__n_estimators=50, feat-selector__percentile=80, preproc__preprocess__bow__ngram_range=(1, 3);, score=(train=1.000, test=0.500) total time=   0.4s\n",
      "[CV 2/3; 63/108] START clf__criterion=entropy, clf__max_features=sqrt, clf__n_estimators=50, feat-selector__percentile=80, preproc__preprocess__bow__ngram_range=(1, 3)\n",
      "[CV 2/3; 63/108] END clf__criterion=entropy, clf__max_features=sqrt, clf__n_estimators=50, feat-selector__percentile=80, preproc__preprocess__bow__ngram_range=(1, 3);, score=(train=1.000, test=0.333) total time=   0.4s\n",
      "[CV 3/3; 63/108] START clf__criterion=entropy, clf__max_features=sqrt, clf__n_estimators=50, feat-selector__percentile=80, preproc__preprocess__bow__ngram_range=(1, 3)\n",
      "[CV 3/3; 63/108] END clf__criterion=entropy, clf__max_features=sqrt, clf__n_estimators=50, feat-selector__percentile=80, preproc__preprocess__bow__ngram_range=(1, 3);, score=(train=1.000, test=0.200) total time=   0.4s\n",
      "[CV 1/3; 64/108] START clf__criterion=entropy, clf__max_features=sqrt, clf__n_estimators=100, feat-selector__percentile=30, preproc__preprocess__bow__ngram_range=(1, 1)\n",
      "[CV 1/3; 64/108] END clf__criterion=entropy, clf__max_features=sqrt, clf__n_estimators=100, feat-selector__percentile=30, preproc__preprocess__bow__ngram_range=(1, 1);, score=(train=1.000, test=0.500) total time=   0.4s\n",
      "[CV 2/3; 64/108] START clf__criterion=entropy, clf__max_features=sqrt, clf__n_estimators=100, feat-selector__percentile=30, preproc__preprocess__bow__ngram_range=(1, 1)\n",
      "[CV 2/3; 64/108] END clf__criterion=entropy, clf__max_features=sqrt, clf__n_estimators=100, feat-selector__percentile=30, preproc__preprocess__bow__ngram_range=(1, 1);, score=(train=1.000, test=0.333) total time=   0.4s\n",
      "[CV 3/3; 64/108] START clf__criterion=entropy, clf__max_features=sqrt, clf__n_estimators=100, feat-selector__percentile=30, preproc__preprocess__bow__ngram_range=(1, 1)\n",
      "[CV 3/3; 64/108] END clf__criterion=entropy, clf__max_features=sqrt, clf__n_estimators=100, feat-selector__percentile=30, preproc__preprocess__bow__ngram_range=(1, 1);, score=(train=1.000, test=0.200) total time=   0.4s\n",
      "[CV 1/3; 65/108] START clf__criterion=entropy, clf__max_features=sqrt, clf__n_estimators=100, feat-selector__percentile=30, preproc__preprocess__bow__ngram_range=(1, 2)\n",
      "[CV 1/3; 65/108] END clf__criterion=entropy, clf__max_features=sqrt, clf__n_estimators=100, feat-selector__percentile=30, preproc__preprocess__bow__ngram_range=(1, 2);, score=(train=1.000, test=0.667) total time=   0.4s\n",
      "[CV 2/3; 65/108] START clf__criterion=entropy, clf__max_features=sqrt, clf__n_estimators=100, feat-selector__percentile=30, preproc__preprocess__bow__ngram_range=(1, 2)\n",
      "[CV 2/3; 65/108] END clf__criterion=entropy, clf__max_features=sqrt, clf__n_estimators=100, feat-selector__percentile=30, preproc__preprocess__bow__ngram_range=(1, 2);, score=(train=1.000, test=0.333) total time=   0.4s\n",
      "[CV 3/3; 65/108] START clf__criterion=entropy, clf__max_features=sqrt, clf__n_estimators=100, feat-selector__percentile=30, preproc__preprocess__bow__ngram_range=(1, 2)\n",
      "[CV 3/3; 65/108] END clf__criterion=entropy, clf__max_features=sqrt, clf__n_estimators=100, feat-selector__percentile=30, preproc__preprocess__bow__ngram_range=(1, 2);, score=(train=1.000, test=0.200) total time=   0.5s\n",
      "[CV 1/3; 66/108] START clf__criterion=entropy, clf__max_features=sqrt, clf__n_estimators=100, feat-selector__percentile=30, preproc__preprocess__bow__ngram_range=(1, 3)\n",
      "[CV 1/3; 66/108] END clf__criterion=entropy, clf__max_features=sqrt, clf__n_estimators=100, feat-selector__percentile=30, preproc__preprocess__bow__ngram_range=(1, 3);, score=(train=1.000, test=0.667) total time=   0.5s\n",
      "[CV 2/3; 66/108] START clf__criterion=entropy, clf__max_features=sqrt, clf__n_estimators=100, feat-selector__percentile=30, preproc__preprocess__bow__ngram_range=(1, 3)\n",
      "[CV 2/3; 66/108] END clf__criterion=entropy, clf__max_features=sqrt, clf__n_estimators=100, feat-selector__percentile=30, preproc__preprocess__bow__ngram_range=(1, 3);, score=(train=1.000, test=0.333) total time=   0.5s\n",
      "[CV 3/3; 66/108] START clf__criterion=entropy, clf__max_features=sqrt, clf__n_estimators=100, feat-selector__percentile=30, preproc__preprocess__bow__ngram_range=(1, 3)\n"
     ]
    },
    {
     "name": "stdout",
     "output_type": "stream",
     "text": [
      "[CV 3/3; 66/108] END clf__criterion=entropy, clf__max_features=sqrt, clf__n_estimators=100, feat-selector__percentile=30, preproc__preprocess__bow__ngram_range=(1, 3);, score=(train=1.000, test=0.200) total time=   0.5s\n",
      "[CV 1/3; 67/108] START clf__criterion=entropy, clf__max_features=sqrt, clf__n_estimators=100, feat-selector__percentile=60, preproc__preprocess__bow__ngram_range=(1, 1)\n",
      "[CV 1/3; 67/108] END clf__criterion=entropy, clf__max_features=sqrt, clf__n_estimators=100, feat-selector__percentile=60, preproc__preprocess__bow__ngram_range=(1, 1);, score=(train=1.000, test=0.667) total time=   0.4s\n",
      "[CV 2/3; 67/108] START clf__criterion=entropy, clf__max_features=sqrt, clf__n_estimators=100, feat-selector__percentile=60, preproc__preprocess__bow__ngram_range=(1, 1)\n",
      "[CV 2/3; 67/108] END clf__criterion=entropy, clf__max_features=sqrt, clf__n_estimators=100, feat-selector__percentile=60, preproc__preprocess__bow__ngram_range=(1, 1);, score=(train=1.000, test=0.167) total time=   0.4s\n",
      "[CV 3/3; 67/108] START clf__criterion=entropy, clf__max_features=sqrt, clf__n_estimators=100, feat-selector__percentile=60, preproc__preprocess__bow__ngram_range=(1, 1)\n",
      "[CV 3/3; 67/108] END clf__criterion=entropy, clf__max_features=sqrt, clf__n_estimators=100, feat-selector__percentile=60, preproc__preprocess__bow__ngram_range=(1, 1);, score=(train=1.000, test=0.200) total time=   0.4s\n",
      "[CV 1/3; 68/108] START clf__criterion=entropy, clf__max_features=sqrt, clf__n_estimators=100, feat-selector__percentile=60, preproc__preprocess__bow__ngram_range=(1, 2)\n",
      "[CV 1/3; 68/108] END clf__criterion=entropy, clf__max_features=sqrt, clf__n_estimators=100, feat-selector__percentile=60, preproc__preprocess__bow__ngram_range=(1, 2);, score=(train=1.000, test=0.667) total time=   0.4s\n",
      "[CV 2/3; 68/108] START clf__criterion=entropy, clf__max_features=sqrt, clf__n_estimators=100, feat-selector__percentile=60, preproc__preprocess__bow__ngram_range=(1, 2)\n",
      "[CV 2/3; 68/108] END clf__criterion=entropy, clf__max_features=sqrt, clf__n_estimators=100, feat-selector__percentile=60, preproc__preprocess__bow__ngram_range=(1, 2);, score=(train=1.000, test=0.167) total time=   0.4s\n",
      "[CV 3/3; 68/108] START clf__criterion=entropy, clf__max_features=sqrt, clf__n_estimators=100, feat-selector__percentile=60, preproc__preprocess__bow__ngram_range=(1, 2)\n",
      "[CV 3/3; 68/108] END clf__criterion=entropy, clf__max_features=sqrt, clf__n_estimators=100, feat-selector__percentile=60, preproc__preprocess__bow__ngram_range=(1, 2);, score=(train=1.000, test=0.200) total time=   0.5s\n",
      "[CV 1/3; 69/108] START clf__criterion=entropy, clf__max_features=sqrt, clf__n_estimators=100, feat-selector__percentile=60, preproc__preprocess__bow__ngram_range=(1, 3)\n",
      "[CV 1/3; 69/108] END clf__criterion=entropy, clf__max_features=sqrt, clf__n_estimators=100, feat-selector__percentile=60, preproc__preprocess__bow__ngram_range=(1, 3);, score=(train=1.000, test=0.667) total time=   0.5s\n",
      "[CV 2/3; 69/108] START clf__criterion=entropy, clf__max_features=sqrt, clf__n_estimators=100, feat-selector__percentile=60, preproc__preprocess__bow__ngram_range=(1, 3)\n",
      "[CV 2/3; 69/108] END clf__criterion=entropy, clf__max_features=sqrt, clf__n_estimators=100, feat-selector__percentile=60, preproc__preprocess__bow__ngram_range=(1, 3);, score=(train=1.000, test=0.333) total time=   0.4s\n",
      "[CV 3/3; 69/108] START clf__criterion=entropy, clf__max_features=sqrt, clf__n_estimators=100, feat-selector__percentile=60, preproc__preprocess__bow__ngram_range=(1, 3)\n",
      "[CV 3/3; 69/108] END clf__criterion=entropy, clf__max_features=sqrt, clf__n_estimators=100, feat-selector__percentile=60, preproc__preprocess__bow__ngram_range=(1, 3);, score=(train=1.000, test=0.200) total time=   0.5s\n",
      "[CV 1/3; 70/108] START clf__criterion=entropy, clf__max_features=sqrt, clf__n_estimators=100, feat-selector__percentile=80, preproc__preprocess__bow__ngram_range=(1, 1)\n",
      "[CV 1/3; 70/108] END clf__criterion=entropy, clf__max_features=sqrt, clf__n_estimators=100, feat-selector__percentile=80, preproc__preprocess__bow__ngram_range=(1, 1);, score=(train=1.000, test=0.333) total time=   0.4s\n",
      "[CV 2/3; 70/108] START clf__criterion=entropy, clf__max_features=sqrt, clf__n_estimators=100, feat-selector__percentile=80, preproc__preprocess__bow__ngram_range=(1, 1)\n",
      "[CV 2/3; 70/108] END clf__criterion=entropy, clf__max_features=sqrt, clf__n_estimators=100, feat-selector__percentile=80, preproc__preprocess__bow__ngram_range=(1, 1);, score=(train=1.000, test=0.167) total time=   0.4s\n",
      "[CV 3/3; 70/108] START clf__criterion=entropy, clf__max_features=sqrt, clf__n_estimators=100, feat-selector__percentile=80, preproc__preprocess__bow__ngram_range=(1, 1)\n",
      "[CV 3/3; 70/108] END clf__criterion=entropy, clf__max_features=sqrt, clf__n_estimators=100, feat-selector__percentile=80, preproc__preprocess__bow__ngram_range=(1, 1);, score=(train=1.000, test=0.200) total time=   0.4s\n",
      "[CV 1/3; 71/108] START clf__criterion=entropy, clf__max_features=sqrt, clf__n_estimators=100, feat-selector__percentile=80, preproc__preprocess__bow__ngram_range=(1, 2)\n",
      "[CV 1/3; 71/108] END clf__criterion=entropy, clf__max_features=sqrt, clf__n_estimators=100, feat-selector__percentile=80, preproc__preprocess__bow__ngram_range=(1, 2);, score=(train=1.000, test=0.333) total time=   0.4s\n",
      "[CV 2/3; 71/108] START clf__criterion=entropy, clf__max_features=sqrt, clf__n_estimators=100, feat-selector__percentile=80, preproc__preprocess__bow__ngram_range=(1, 2)\n",
      "[CV 2/3; 71/108] END clf__criterion=entropy, clf__max_features=sqrt, clf__n_estimators=100, feat-selector__percentile=80, preproc__preprocess__bow__ngram_range=(1, 2);, score=(train=1.000, test=0.167) total time=   0.4s\n",
      "[CV 3/3; 71/108] START clf__criterion=entropy, clf__max_features=sqrt, clf__n_estimators=100, feat-selector__percentile=80, preproc__preprocess__bow__ngram_range=(1, 2)\n",
      "[CV 3/3; 71/108] END clf__criterion=entropy, clf__max_features=sqrt, clf__n_estimators=100, feat-selector__percentile=80, preproc__preprocess__bow__ngram_range=(1, 2);, score=(train=1.000, test=0.200) total time=   0.5s\n",
      "[CV 1/3; 72/108] START clf__criterion=entropy, clf__max_features=sqrt, clf__n_estimators=100, feat-selector__percentile=80, preproc__preprocess__bow__ngram_range=(1, 3)\n",
      "[CV 1/3; 72/108] END clf__criterion=entropy, clf__max_features=sqrt, clf__n_estimators=100, feat-selector__percentile=80, preproc__preprocess__bow__ngram_range=(1, 3);, score=(train=1.000, test=0.667) total time=   0.5s\n",
      "[CV 2/3; 72/108] START clf__criterion=entropy, clf__max_features=sqrt, clf__n_estimators=100, feat-selector__percentile=80, preproc__preprocess__bow__ngram_range=(1, 3)\n",
      "[CV 2/3; 72/108] END clf__criterion=entropy, clf__max_features=sqrt, clf__n_estimators=100, feat-selector__percentile=80, preproc__preprocess__bow__ngram_range=(1, 3);, score=(train=1.000, test=0.000) total time=   0.5s\n",
      "[CV 3/3; 72/108] START clf__criterion=entropy, clf__max_features=sqrt, clf__n_estimators=100, feat-selector__percentile=80, preproc__preprocess__bow__ngram_range=(1, 3)\n",
      "[CV 3/3; 72/108] END clf__criterion=entropy, clf__max_features=sqrt, clf__n_estimators=100, feat-selector__percentile=80, preproc__preprocess__bow__ngram_range=(1, 3);, score=(train=1.000, test=0.200) total time=   0.5s\n",
      "[CV 1/3; 73/108] START clf__criterion=entropy, clf__max_features=sqrt, clf__n_estimators=250, feat-selector__percentile=30, preproc__preprocess__bow__ngram_range=(1, 1)\n",
      "[CV 1/3; 73/108] END clf__criterion=entropy, clf__max_features=sqrt, clf__n_estimators=250, feat-selector__percentile=30, preproc__preprocess__bow__ngram_range=(1, 1);, score=(train=1.000, test=0.500) total time=   0.6s\n",
      "[CV 2/3; 73/108] START clf__criterion=entropy, clf__max_features=sqrt, clf__n_estimators=250, feat-selector__percentile=30, preproc__preprocess__bow__ngram_range=(1, 1)\n",
      "[CV 2/3; 73/108] END clf__criterion=entropy, clf__max_features=sqrt, clf__n_estimators=250, feat-selector__percentile=30, preproc__preprocess__bow__ngram_range=(1, 1);, score=(train=1.000, test=0.333) total time=   0.6s\n",
      "[CV 3/3; 73/108] START clf__criterion=entropy, clf__max_features=sqrt, clf__n_estimators=250, feat-selector__percentile=30, preproc__preprocess__bow__ngram_range=(1, 1)\n",
      "[CV 3/3; 73/108] END clf__criterion=entropy, clf__max_features=sqrt, clf__n_estimators=250, feat-selector__percentile=30, preproc__preprocess__bow__ngram_range=(1, 1);, score=(train=1.000, test=0.200) total time=   0.6s\n",
      "[CV 1/3; 74/108] START clf__criterion=entropy, clf__max_features=sqrt, clf__n_estimators=250, feat-selector__percentile=30, preproc__preprocess__bow__ngram_range=(1, 2)\n"
     ]
    },
    {
     "name": "stdout",
     "output_type": "stream",
     "text": [
      "[CV 1/3; 74/108] END clf__criterion=entropy, clf__max_features=sqrt, clf__n_estimators=250, feat-selector__percentile=30, preproc__preprocess__bow__ngram_range=(1, 2);, score=(train=1.000, test=0.667) total time=   0.6s\n",
      "[CV 2/3; 74/108] START clf__criterion=entropy, clf__max_features=sqrt, clf__n_estimators=250, feat-selector__percentile=30, preproc__preprocess__bow__ngram_range=(1, 2)\n",
      "[CV 2/3; 74/108] END clf__criterion=entropy, clf__max_features=sqrt, clf__n_estimators=250, feat-selector__percentile=30, preproc__preprocess__bow__ngram_range=(1, 2);, score=(train=1.000, test=0.167) total time=   0.6s\n",
      "[CV 3/3; 74/108] START clf__criterion=entropy, clf__max_features=sqrt, clf__n_estimators=250, feat-selector__percentile=30, preproc__preprocess__bow__ngram_range=(1, 2)\n",
      "[CV 3/3; 74/108] END clf__criterion=entropy, clf__max_features=sqrt, clf__n_estimators=250, feat-selector__percentile=30, preproc__preprocess__bow__ngram_range=(1, 2);, score=(train=1.000, test=0.200) total time=   0.7s\n",
      "[CV 1/3; 75/108] START clf__criterion=entropy, clf__max_features=sqrt, clf__n_estimators=250, feat-selector__percentile=30, preproc__preprocess__bow__ngram_range=(1, 3)\n",
      "[CV 1/3; 75/108] END clf__criterion=entropy, clf__max_features=sqrt, clf__n_estimators=250, feat-selector__percentile=30, preproc__preprocess__bow__ngram_range=(1, 3);, score=(train=1.000, test=0.667) total time=   0.7s\n",
      "[CV 2/3; 75/108] START clf__criterion=entropy, clf__max_features=sqrt, clf__n_estimators=250, feat-selector__percentile=30, preproc__preprocess__bow__ngram_range=(1, 3)\n",
      "[CV 2/3; 75/108] END clf__criterion=entropy, clf__max_features=sqrt, clf__n_estimators=250, feat-selector__percentile=30, preproc__preprocess__bow__ngram_range=(1, 3);, score=(train=1.000, test=0.333) total time=   0.7s\n",
      "[CV 3/3; 75/108] START clf__criterion=entropy, clf__max_features=sqrt, clf__n_estimators=250, feat-selector__percentile=30, preproc__preprocess__bow__ngram_range=(1, 3)\n",
      "[CV 3/3; 75/108] END clf__criterion=entropy, clf__max_features=sqrt, clf__n_estimators=250, feat-selector__percentile=30, preproc__preprocess__bow__ngram_range=(1, 3);, score=(train=1.000, test=0.200) total time=   0.7s\n",
      "[CV 1/3; 76/108] START clf__criterion=entropy, clf__max_features=sqrt, clf__n_estimators=250, feat-selector__percentile=60, preproc__preprocess__bow__ngram_range=(1, 1)\n",
      "[CV 1/3; 76/108] END clf__criterion=entropy, clf__max_features=sqrt, clf__n_estimators=250, feat-selector__percentile=60, preproc__preprocess__bow__ngram_range=(1, 1);, score=(train=1.000, test=0.667) total time=   0.6s\n",
      "[CV 2/3; 76/108] START clf__criterion=entropy, clf__max_features=sqrt, clf__n_estimators=250, feat-selector__percentile=60, preproc__preprocess__bow__ngram_range=(1, 1)\n",
      "[CV 2/3; 76/108] END clf__criterion=entropy, clf__max_features=sqrt, clf__n_estimators=250, feat-selector__percentile=60, preproc__preprocess__bow__ngram_range=(1, 1);, score=(train=1.000, test=0.167) total time=   0.6s\n",
      "[CV 3/3; 76/108] START clf__criterion=entropy, clf__max_features=sqrt, clf__n_estimators=250, feat-selector__percentile=60, preproc__preprocess__bow__ngram_range=(1, 1)\n",
      "[CV 3/3; 76/108] END clf__criterion=entropy, clf__max_features=sqrt, clf__n_estimators=250, feat-selector__percentile=60, preproc__preprocess__bow__ngram_range=(1, 1);, score=(train=1.000, test=0.200) total time=   0.8s\n",
      "[CV 1/3; 77/108] START clf__criterion=entropy, clf__max_features=sqrt, clf__n_estimators=250, feat-selector__percentile=60, preproc__preprocess__bow__ngram_range=(1, 2)\n",
      "[CV 1/3; 77/108] END clf__criterion=entropy, clf__max_features=sqrt, clf__n_estimators=250, feat-selector__percentile=60, preproc__preprocess__bow__ngram_range=(1, 2);, score=(train=1.000, test=0.667) total time=   0.7s\n",
      "[CV 2/3; 77/108] START clf__criterion=entropy, clf__max_features=sqrt, clf__n_estimators=250, feat-selector__percentile=60, preproc__preprocess__bow__ngram_range=(1, 2)\n",
      "[CV 2/3; 77/108] END clf__criterion=entropy, clf__max_features=sqrt, clf__n_estimators=250, feat-selector__percentile=60, preproc__preprocess__bow__ngram_range=(1, 2);, score=(train=1.000, test=0.333) total time=   0.7s\n",
      "[CV 3/3; 77/108] START clf__criterion=entropy, clf__max_features=sqrt, clf__n_estimators=250, feat-selector__percentile=60, preproc__preprocess__bow__ngram_range=(1, 2)\n",
      "[CV 3/3; 77/108] END clf__criterion=entropy, clf__max_features=sqrt, clf__n_estimators=250, feat-selector__percentile=60, preproc__preprocess__bow__ngram_range=(1, 2);, score=(train=1.000, test=0.200) total time=   0.7s\n",
      "[CV 1/3; 78/108] START clf__criterion=entropy, clf__max_features=sqrt, clf__n_estimators=250, feat-selector__percentile=60, preproc__preprocess__bow__ngram_range=(1, 3)\n",
      "[CV 1/3; 78/108] END clf__criterion=entropy, clf__max_features=sqrt, clf__n_estimators=250, feat-selector__percentile=60, preproc__preprocess__bow__ngram_range=(1, 3);, score=(train=1.000, test=0.667) total time=   0.7s\n",
      "[CV 2/3; 78/108] START clf__criterion=entropy, clf__max_features=sqrt, clf__n_estimators=250, feat-selector__percentile=60, preproc__preprocess__bow__ngram_range=(1, 3)\n",
      "[CV 2/3; 78/108] END clf__criterion=entropy, clf__max_features=sqrt, clf__n_estimators=250, feat-selector__percentile=60, preproc__preprocess__bow__ngram_range=(1, 3);, score=(train=1.000, test=0.333) total time=   0.7s\n",
      "[CV 3/3; 78/108] START clf__criterion=entropy, clf__max_features=sqrt, clf__n_estimators=250, feat-selector__percentile=60, preproc__preprocess__bow__ngram_range=(1, 3)\n",
      "[CV 3/3; 78/108] END clf__criterion=entropy, clf__max_features=sqrt, clf__n_estimators=250, feat-selector__percentile=60, preproc__preprocess__bow__ngram_range=(1, 3);, score=(train=1.000, test=0.200) total time=   0.7s\n",
      "[CV 1/3; 79/108] START clf__criterion=entropy, clf__max_features=sqrt, clf__n_estimators=250, feat-selector__percentile=80, preproc__preprocess__bow__ngram_range=(1, 1)\n",
      "[CV 1/3; 79/108] END clf__criterion=entropy, clf__max_features=sqrt, clf__n_estimators=250, feat-selector__percentile=80, preproc__preprocess__bow__ngram_range=(1, 1);, score=(train=1.000, test=0.500) total time=   0.6s\n",
      "[CV 2/3; 79/108] START clf__criterion=entropy, clf__max_features=sqrt, clf__n_estimators=250, feat-selector__percentile=80, preproc__preprocess__bow__ngram_range=(1, 1)\n",
      "[CV 2/3; 79/108] END clf__criterion=entropy, clf__max_features=sqrt, clf__n_estimators=250, feat-selector__percentile=80, preproc__preprocess__bow__ngram_range=(1, 1);, score=(train=1.000, test=0.333) total time=   0.6s\n",
      "[CV 3/3; 79/108] START clf__criterion=entropy, clf__max_features=sqrt, clf__n_estimators=250, feat-selector__percentile=80, preproc__preprocess__bow__ngram_range=(1, 1)\n",
      "[CV 3/3; 79/108] END clf__criterion=entropy, clf__max_features=sqrt, clf__n_estimators=250, feat-selector__percentile=80, preproc__preprocess__bow__ngram_range=(1, 1);, score=(train=1.000, test=0.200) total time=   0.6s\n",
      "[CV 1/3; 80/108] START clf__criterion=entropy, clf__max_features=sqrt, clf__n_estimators=250, feat-selector__percentile=80, preproc__preprocess__bow__ngram_range=(1, 2)\n",
      "[CV 1/3; 80/108] END clf__criterion=entropy, clf__max_features=sqrt, clf__n_estimators=250, feat-selector__percentile=80, preproc__preprocess__bow__ngram_range=(1, 2);, score=(train=1.000, test=0.667) total time=   0.7s\n",
      "[CV 2/3; 80/108] START clf__criterion=entropy, clf__max_features=sqrt, clf__n_estimators=250, feat-selector__percentile=80, preproc__preprocess__bow__ngram_range=(1, 2)\n",
      "[CV 2/3; 80/108] END clf__criterion=entropy, clf__max_features=sqrt, clf__n_estimators=250, feat-selector__percentile=80, preproc__preprocess__bow__ngram_range=(1, 2);, score=(train=1.000, test=0.000) total time=   0.6s\n",
      "[CV 3/3; 80/108] START clf__criterion=entropy, clf__max_features=sqrt, clf__n_estimators=250, feat-selector__percentile=80, preproc__preprocess__bow__ngram_range=(1, 2)\n",
      "[CV 3/3; 80/108] END clf__criterion=entropy, clf__max_features=sqrt, clf__n_estimators=250, feat-selector__percentile=80, preproc__preprocess__bow__ngram_range=(1, 2);, score=(train=1.000, test=0.200) total time=   0.7s\n",
      "[CV 1/3; 81/108] START clf__criterion=entropy, clf__max_features=sqrt, clf__n_estimators=250, feat-selector__percentile=80, preproc__preprocess__bow__ngram_range=(1, 3)\n",
      "[CV 1/3; 81/108] END clf__criterion=entropy, clf__max_features=sqrt, clf__n_estimators=250, feat-selector__percentile=80, preproc__preprocess__bow__ngram_range=(1, 3);, score=(train=1.000, test=0.667) total time=   0.7s\n",
      "[CV 2/3; 81/108] START clf__criterion=entropy, clf__max_features=sqrt, clf__n_estimators=250, feat-selector__percentile=80, preproc__preprocess__bow__ngram_range=(1, 3)\n"
     ]
    },
    {
     "name": "stdout",
     "output_type": "stream",
     "text": [
      "[CV 2/3; 81/108] END clf__criterion=entropy, clf__max_features=sqrt, clf__n_estimators=250, feat-selector__percentile=80, preproc__preprocess__bow__ngram_range=(1, 3);, score=(train=1.000, test=0.000) total time=   0.7s\n",
      "[CV 3/3; 81/108] START clf__criterion=entropy, clf__max_features=sqrt, clf__n_estimators=250, feat-selector__percentile=80, preproc__preprocess__bow__ngram_range=(1, 3)\n",
      "[CV 3/3; 81/108] END clf__criterion=entropy, clf__max_features=sqrt, clf__n_estimators=250, feat-selector__percentile=80, preproc__preprocess__bow__ngram_range=(1, 3);, score=(train=1.000, test=0.200) total time=   0.7s\n",
      "[CV 1/3; 82/108] START clf__criterion=entropy, clf__max_features=log2, clf__n_estimators=50, feat-selector__percentile=30, preproc__preprocess__bow__ngram_range=(1, 1)\n",
      "[CV 1/3; 82/108] END clf__criterion=entropy, clf__max_features=log2, clf__n_estimators=50, feat-selector__percentile=30, preproc__preprocess__bow__ngram_range=(1, 1);, score=(train=1.000, test=0.500) total time=   0.4s\n",
      "[CV 2/3; 82/108] START clf__criterion=entropy, clf__max_features=log2, clf__n_estimators=50, feat-selector__percentile=30, preproc__preprocess__bow__ngram_range=(1, 1)\n",
      "[CV 2/3; 82/108] END clf__criterion=entropy, clf__max_features=log2, clf__n_estimators=50, feat-selector__percentile=30, preproc__preprocess__bow__ngram_range=(1, 1);, score=(train=1.000, test=0.333) total time=   0.3s\n",
      "[CV 3/3; 82/108] START clf__criterion=entropy, clf__max_features=log2, clf__n_estimators=50, feat-selector__percentile=30, preproc__preprocess__bow__ngram_range=(1, 1)\n",
      "[CV 3/3; 82/108] END clf__criterion=entropy, clf__max_features=log2, clf__n_estimators=50, feat-selector__percentile=30, preproc__preprocess__bow__ngram_range=(1, 1);, score=(train=1.000, test=0.200) total time=   0.4s\n",
      "[CV 1/3; 83/108] START clf__criterion=entropy, clf__max_features=log2, clf__n_estimators=50, feat-selector__percentile=30, preproc__preprocess__bow__ngram_range=(1, 2)\n",
      "[CV 1/3; 83/108] END clf__criterion=entropy, clf__max_features=log2, clf__n_estimators=50, feat-selector__percentile=30, preproc__preprocess__bow__ngram_range=(1, 2);, score=(train=1.000, test=0.500) total time=   0.4s\n",
      "[CV 2/3; 83/108] START clf__criterion=entropy, clf__max_features=log2, clf__n_estimators=50, feat-selector__percentile=30, preproc__preprocess__bow__ngram_range=(1, 2)\n",
      "[CV 2/3; 83/108] END clf__criterion=entropy, clf__max_features=log2, clf__n_estimators=50, feat-selector__percentile=30, preproc__preprocess__bow__ngram_range=(1, 2);, score=(train=1.000, test=0.333) total time=   0.4s\n",
      "[CV 3/3; 83/108] START clf__criterion=entropy, clf__max_features=log2, clf__n_estimators=50, feat-selector__percentile=30, preproc__preprocess__bow__ngram_range=(1, 2)\n",
      "[CV 3/3; 83/108] END clf__criterion=entropy, clf__max_features=log2, clf__n_estimators=50, feat-selector__percentile=30, preproc__preprocess__bow__ngram_range=(1, 2);, score=(train=1.000, test=0.200) total time=   0.4s\n",
      "[CV 1/3; 84/108] START clf__criterion=entropy, clf__max_features=log2, clf__n_estimators=50, feat-selector__percentile=30, preproc__preprocess__bow__ngram_range=(1, 3)\n",
      "[CV 1/3; 84/108] END clf__criterion=entropy, clf__max_features=log2, clf__n_estimators=50, feat-selector__percentile=30, preproc__preprocess__bow__ngram_range=(1, 3);, score=(train=1.000, test=0.667) total time=   0.5s\n",
      "[CV 2/3; 84/108] START clf__criterion=entropy, clf__max_features=log2, clf__n_estimators=50, feat-selector__percentile=30, preproc__preprocess__bow__ngram_range=(1, 3)\n",
      "[CV 2/3; 84/108] END clf__criterion=entropy, clf__max_features=log2, clf__n_estimators=50, feat-selector__percentile=30, preproc__preprocess__bow__ngram_range=(1, 3);, score=(train=1.000, test=0.333) total time=   0.5s\n",
      "[CV 3/3; 84/108] START clf__criterion=entropy, clf__max_features=log2, clf__n_estimators=50, feat-selector__percentile=30, preproc__preprocess__bow__ngram_range=(1, 3)\n",
      "[CV 3/3; 84/108] END clf__criterion=entropy, clf__max_features=log2, clf__n_estimators=50, feat-selector__percentile=30, preproc__preprocess__bow__ngram_range=(1, 3);, score=(train=1.000, test=0.200) total time=   0.5s\n",
      "[CV 1/3; 85/108] START clf__criterion=entropy, clf__max_features=log2, clf__n_estimators=50, feat-selector__percentile=60, preproc__preprocess__bow__ngram_range=(1, 1)\n",
      "[CV 1/3; 85/108] END clf__criterion=entropy, clf__max_features=log2, clf__n_estimators=50, feat-selector__percentile=60, preproc__preprocess__bow__ngram_range=(1, 1);, score=(train=1.000, test=0.333) total time=   0.4s\n",
      "[CV 2/3; 85/108] START clf__criterion=entropy, clf__max_features=log2, clf__n_estimators=50, feat-selector__percentile=60, preproc__preprocess__bow__ngram_range=(1, 1)\n",
      "[CV 2/3; 85/108] END clf__criterion=entropy, clf__max_features=log2, clf__n_estimators=50, feat-selector__percentile=60, preproc__preprocess__bow__ngram_range=(1, 1);, score=(train=1.000, test=0.000) total time=   0.4s\n",
      "[CV 3/3; 85/108] START clf__criterion=entropy, clf__max_features=log2, clf__n_estimators=50, feat-selector__percentile=60, preproc__preprocess__bow__ngram_range=(1, 1)\n",
      "[CV 3/3; 85/108] END clf__criterion=entropy, clf__max_features=log2, clf__n_estimators=50, feat-selector__percentile=60, preproc__preprocess__bow__ngram_range=(1, 1);, score=(train=1.000, test=0.200) total time=   0.4s\n",
      "[CV 1/3; 86/108] START clf__criterion=entropy, clf__max_features=log2, clf__n_estimators=50, feat-selector__percentile=60, preproc__preprocess__bow__ngram_range=(1, 2)\n",
      "[CV 1/3; 86/108] END clf__criterion=entropy, clf__max_features=log2, clf__n_estimators=50, feat-selector__percentile=60, preproc__preprocess__bow__ngram_range=(1, 2);, score=(train=1.000, test=0.667) total time=   0.4s\n",
      "[CV 2/3; 86/108] START clf__criterion=entropy, clf__max_features=log2, clf__n_estimators=50, feat-selector__percentile=60, preproc__preprocess__bow__ngram_range=(1, 2)\n",
      "[CV 2/3; 86/108] END clf__criterion=entropy, clf__max_features=log2, clf__n_estimators=50, feat-selector__percentile=60, preproc__preprocess__bow__ngram_range=(1, 2);, score=(train=1.000, test=0.167) total time=   0.4s\n",
      "[CV 3/3; 86/108] START clf__criterion=entropy, clf__max_features=log2, clf__n_estimators=50, feat-selector__percentile=60, preproc__preprocess__bow__ngram_range=(1, 2)\n",
      "[CV 3/3; 86/108] END clf__criterion=entropy, clf__max_features=log2, clf__n_estimators=50, feat-selector__percentile=60, preproc__preprocess__bow__ngram_range=(1, 2);, score=(train=1.000, test=0.200) total time=   0.5s\n",
      "[CV 1/3; 87/108] START clf__criterion=entropy, clf__max_features=log2, clf__n_estimators=50, feat-selector__percentile=60, preproc__preprocess__bow__ngram_range=(1, 3)\n",
      "[CV 1/3; 87/108] END clf__criterion=entropy, clf__max_features=log2, clf__n_estimators=50, feat-selector__percentile=60, preproc__preprocess__bow__ngram_range=(1, 3);, score=(train=1.000, test=0.667) total time=   0.4s\n",
      "[CV 2/3; 87/108] START clf__criterion=entropy, clf__max_features=log2, clf__n_estimators=50, feat-selector__percentile=60, preproc__preprocess__bow__ngram_range=(1, 3)\n",
      "[CV 2/3; 87/108] END clf__criterion=entropy, clf__max_features=log2, clf__n_estimators=50, feat-selector__percentile=60, preproc__preprocess__bow__ngram_range=(1, 3);, score=(train=1.000, test=0.167) total time=   0.4s\n",
      "[CV 3/3; 87/108] START clf__criterion=entropy, clf__max_features=log2, clf__n_estimators=50, feat-selector__percentile=60, preproc__preprocess__bow__ngram_range=(1, 3)\n",
      "[CV 3/3; 87/108] END clf__criterion=entropy, clf__max_features=log2, clf__n_estimators=50, feat-selector__percentile=60, preproc__preprocess__bow__ngram_range=(1, 3);, score=(train=1.000, test=0.200) total time=   0.4s\n",
      "[CV 1/3; 88/108] START clf__criterion=entropy, clf__max_features=log2, clf__n_estimators=50, feat-selector__percentile=80, preproc__preprocess__bow__ngram_range=(1, 1)\n",
      "[CV 1/3; 88/108] END clf__criterion=entropy, clf__max_features=log2, clf__n_estimators=50, feat-selector__percentile=80, preproc__preprocess__bow__ngram_range=(1, 1);, score=(train=1.000, test=0.167) total time=   0.4s\n",
      "[CV 2/3; 88/108] START clf__criterion=entropy, clf__max_features=log2, clf__n_estimators=50, feat-selector__percentile=80, preproc__preprocess__bow__ngram_range=(1, 1)\n",
      "[CV 2/3; 88/108] END clf__criterion=entropy, clf__max_features=log2, clf__n_estimators=50, feat-selector__percentile=80, preproc__preprocess__bow__ngram_range=(1, 1);, score=(train=1.000, test=0.167) total time=   0.4s\n",
      "[CV 3/3; 88/108] START clf__criterion=entropy, clf__max_features=log2, clf__n_estimators=50, feat-selector__percentile=80, preproc__preprocess__bow__ngram_range=(1, 1)\n"
     ]
    },
    {
     "name": "stdout",
     "output_type": "stream",
     "text": [
      "[CV 3/3; 88/108] END clf__criterion=entropy, clf__max_features=log2, clf__n_estimators=50, feat-selector__percentile=80, preproc__preprocess__bow__ngram_range=(1, 1);, score=(train=1.000, test=0.200) total time=   0.4s\n",
      "[CV 1/3; 89/108] START clf__criterion=entropy, clf__max_features=log2, clf__n_estimators=50, feat-selector__percentile=80, preproc__preprocess__bow__ngram_range=(1, 2)\n",
      "[CV 1/3; 89/108] END clf__criterion=entropy, clf__max_features=log2, clf__n_estimators=50, feat-selector__percentile=80, preproc__preprocess__bow__ngram_range=(1, 2);, score=(train=1.000, test=0.167) total time=   0.4s\n",
      "[CV 2/3; 89/108] START clf__criterion=entropy, clf__max_features=log2, clf__n_estimators=50, feat-selector__percentile=80, preproc__preprocess__bow__ngram_range=(1, 2)\n",
      "[CV 2/3; 89/108] END clf__criterion=entropy, clf__max_features=log2, clf__n_estimators=50, feat-selector__percentile=80, preproc__preprocess__bow__ngram_range=(1, 2);, score=(train=1.000, test=0.333) total time=   0.4s\n",
      "[CV 3/3; 89/108] START clf__criterion=entropy, clf__max_features=log2, clf__n_estimators=50, feat-selector__percentile=80, preproc__preprocess__bow__ngram_range=(1, 2)\n",
      "[CV 3/3; 89/108] END clf__criterion=entropy, clf__max_features=log2, clf__n_estimators=50, feat-selector__percentile=80, preproc__preprocess__bow__ngram_range=(1, 2);, score=(train=1.000, test=0.200) total time=   0.4s\n",
      "[CV 1/3; 90/108] START clf__criterion=entropy, clf__max_features=log2, clf__n_estimators=50, feat-selector__percentile=80, preproc__preprocess__bow__ngram_range=(1, 3)\n",
      "[CV 1/3; 90/108] END clf__criterion=entropy, clf__max_features=log2, clf__n_estimators=50, feat-selector__percentile=80, preproc__preprocess__bow__ngram_range=(1, 3);, score=(train=1.000, test=0.333) total time=   0.4s\n",
      "[CV 2/3; 90/108] START clf__criterion=entropy, clf__max_features=log2, clf__n_estimators=50, feat-selector__percentile=80, preproc__preprocess__bow__ngram_range=(1, 3)\n",
      "[CV 2/3; 90/108] END clf__criterion=entropy, clf__max_features=log2, clf__n_estimators=50, feat-selector__percentile=80, preproc__preprocess__bow__ngram_range=(1, 3);, score=(train=1.000, test=0.000) total time=   0.4s\n",
      "[CV 3/3; 90/108] START clf__criterion=entropy, clf__max_features=log2, clf__n_estimators=50, feat-selector__percentile=80, preproc__preprocess__bow__ngram_range=(1, 3)\n",
      "[CV 3/3; 90/108] END clf__criterion=entropy, clf__max_features=log2, clf__n_estimators=50, feat-selector__percentile=80, preproc__preprocess__bow__ngram_range=(1, 3);, score=(train=1.000, test=0.200) total time=   0.4s\n",
      "[CV 1/3; 91/108] START clf__criterion=entropy, clf__max_features=log2, clf__n_estimators=100, feat-selector__percentile=30, preproc__preprocess__bow__ngram_range=(1, 1)\n",
      "[CV 1/3; 91/108] END clf__criterion=entropy, clf__max_features=log2, clf__n_estimators=100, feat-selector__percentile=30, preproc__preprocess__bow__ngram_range=(1, 1);, score=(train=1.000, test=0.667) total time=   0.4s\n",
      "[CV 2/3; 91/108] START clf__criterion=entropy, clf__max_features=log2, clf__n_estimators=100, feat-selector__percentile=30, preproc__preprocess__bow__ngram_range=(1, 1)\n",
      "[CV 2/3; 91/108] END clf__criterion=entropy, clf__max_features=log2, clf__n_estimators=100, feat-selector__percentile=30, preproc__preprocess__bow__ngram_range=(1, 1);, score=(train=1.000, test=0.333) total time=   0.4s\n",
      "[CV 3/3; 91/108] START clf__criterion=entropy, clf__max_features=log2, clf__n_estimators=100, feat-selector__percentile=30, preproc__preprocess__bow__ngram_range=(1, 1)\n",
      "[CV 3/3; 91/108] END clf__criterion=entropy, clf__max_features=log2, clf__n_estimators=100, feat-selector__percentile=30, preproc__preprocess__bow__ngram_range=(1, 1);, score=(train=1.000, test=0.200) total time=   0.4s\n",
      "[CV 1/3; 92/108] START clf__criterion=entropy, clf__max_features=log2, clf__n_estimators=100, feat-selector__percentile=30, preproc__preprocess__bow__ngram_range=(1, 2)\n",
      "[CV 1/3; 92/108] END clf__criterion=entropy, clf__max_features=log2, clf__n_estimators=100, feat-selector__percentile=30, preproc__preprocess__bow__ngram_range=(1, 2);, score=(train=1.000, test=0.500) total time=   0.4s\n",
      "[CV 2/3; 92/108] START clf__criterion=entropy, clf__max_features=log2, clf__n_estimators=100, feat-selector__percentile=30, preproc__preprocess__bow__ngram_range=(1, 2)\n",
      "[CV 2/3; 92/108] END clf__criterion=entropy, clf__max_features=log2, clf__n_estimators=100, feat-selector__percentile=30, preproc__preprocess__bow__ngram_range=(1, 2);, score=(train=1.000, test=0.167) total time=   0.4s\n",
      "[CV 3/3; 92/108] START clf__criterion=entropy, clf__max_features=log2, clf__n_estimators=100, feat-selector__percentile=30, preproc__preprocess__bow__ngram_range=(1, 2)\n",
      "[CV 3/3; 92/108] END clf__criterion=entropy, clf__max_features=log2, clf__n_estimators=100, feat-selector__percentile=30, preproc__preprocess__bow__ngram_range=(1, 2);, score=(train=1.000, test=0.200) total time=   0.5s\n",
      "[CV 1/3; 93/108] START clf__criterion=entropy, clf__max_features=log2, clf__n_estimators=100, feat-selector__percentile=30, preproc__preprocess__bow__ngram_range=(1, 3)\n",
      "[CV 1/3; 93/108] END clf__criterion=entropy, clf__max_features=log2, clf__n_estimators=100, feat-selector__percentile=30, preproc__preprocess__bow__ngram_range=(1, 3);, score=(train=1.000, test=0.667) total time=   0.5s\n",
      "[CV 2/3; 93/108] START clf__criterion=entropy, clf__max_features=log2, clf__n_estimators=100, feat-selector__percentile=30, preproc__preprocess__bow__ngram_range=(1, 3)\n",
      "[CV 2/3; 93/108] END clf__criterion=entropy, clf__max_features=log2, clf__n_estimators=100, feat-selector__percentile=30, preproc__preprocess__bow__ngram_range=(1, 3);, score=(train=1.000, test=0.333) total time=   0.4s\n",
      "[CV 3/3; 93/108] START clf__criterion=entropy, clf__max_features=log2, clf__n_estimators=100, feat-selector__percentile=30, preproc__preprocess__bow__ngram_range=(1, 3)\n",
      "[CV 3/3; 93/108] END clf__criterion=entropy, clf__max_features=log2, clf__n_estimators=100, feat-selector__percentile=30, preproc__preprocess__bow__ngram_range=(1, 3);, score=(train=1.000, test=0.200) total time=   0.5s\n",
      "[CV 1/3; 94/108] START clf__criterion=entropy, clf__max_features=log2, clf__n_estimators=100, feat-selector__percentile=60, preproc__preprocess__bow__ngram_range=(1, 1)\n",
      "[CV 1/3; 94/108] END clf__criterion=entropy, clf__max_features=log2, clf__n_estimators=100, feat-selector__percentile=60, preproc__preprocess__bow__ngram_range=(1, 1);, score=(train=1.000, test=0.167) total time=   0.4s\n",
      "[CV 2/3; 94/108] START clf__criterion=entropy, clf__max_features=log2, clf__n_estimators=100, feat-selector__percentile=60, preproc__preprocess__bow__ngram_range=(1, 1)\n",
      "[CV 2/3; 94/108] END clf__criterion=entropy, clf__max_features=log2, clf__n_estimators=100, feat-selector__percentile=60, preproc__preprocess__bow__ngram_range=(1, 1);, score=(train=1.000, test=0.000) total time=   0.4s\n",
      "[CV 3/3; 94/108] START clf__criterion=entropy, clf__max_features=log2, clf__n_estimators=100, feat-selector__percentile=60, preproc__preprocess__bow__ngram_range=(1, 1)\n",
      "[CV 3/3; 94/108] END clf__criterion=entropy, clf__max_features=log2, clf__n_estimators=100, feat-selector__percentile=60, preproc__preprocess__bow__ngram_range=(1, 1);, score=(train=1.000, test=0.200) total time=   0.4s\n",
      "[CV 1/3; 95/108] START clf__criterion=entropy, clf__max_features=log2, clf__n_estimators=100, feat-selector__percentile=60, preproc__preprocess__bow__ngram_range=(1, 2)\n",
      "[CV 1/3; 95/108] END clf__criterion=entropy, clf__max_features=log2, clf__n_estimators=100, feat-selector__percentile=60, preproc__preprocess__bow__ngram_range=(1, 2);, score=(train=1.000, test=0.667) total time=   0.4s\n",
      "[CV 2/3; 95/108] START clf__criterion=entropy, clf__max_features=log2, clf__n_estimators=100, feat-selector__percentile=60, preproc__preprocess__bow__ngram_range=(1, 2)\n",
      "[CV 2/3; 95/108] END clf__criterion=entropy, clf__max_features=log2, clf__n_estimators=100, feat-selector__percentile=60, preproc__preprocess__bow__ngram_range=(1, 2);, score=(train=1.000, test=0.167) total time=   0.4s\n",
      "[CV 3/3; 95/108] START clf__criterion=entropy, clf__max_features=log2, clf__n_estimators=100, feat-selector__percentile=60, preproc__preprocess__bow__ngram_range=(1, 2)\n",
      "[CV 3/3; 95/108] END clf__criterion=entropy, clf__max_features=log2, clf__n_estimators=100, feat-selector__percentile=60, preproc__preprocess__bow__ngram_range=(1, 2);, score=(train=1.000, test=0.200) total time=   0.5s\n",
      "[CV 1/3; 96/108] START clf__criterion=entropy, clf__max_features=log2, clf__n_estimators=100, feat-selector__percentile=60, preproc__preprocess__bow__ngram_range=(1, 3)\n"
     ]
    },
    {
     "name": "stdout",
     "output_type": "stream",
     "text": [
      "[CV 1/3; 96/108] END clf__criterion=entropy, clf__max_features=log2, clf__n_estimators=100, feat-selector__percentile=60, preproc__preprocess__bow__ngram_range=(1, 3);, score=(train=1.000, test=0.667) total time=   0.5s\n",
      "[CV 2/3; 96/108] START clf__criterion=entropy, clf__max_features=log2, clf__n_estimators=100, feat-selector__percentile=60, preproc__preprocess__bow__ngram_range=(1, 3)\n",
      "[CV 2/3; 96/108] END clf__criterion=entropy, clf__max_features=log2, clf__n_estimators=100, feat-selector__percentile=60, preproc__preprocess__bow__ngram_range=(1, 3);, score=(train=1.000, test=0.167) total time=   0.4s\n",
      "[CV 3/3; 96/108] START clf__criterion=entropy, clf__max_features=log2, clf__n_estimators=100, feat-selector__percentile=60, preproc__preprocess__bow__ngram_range=(1, 3)\n",
      "[CV 3/3; 96/108] END clf__criterion=entropy, clf__max_features=log2, clf__n_estimators=100, feat-selector__percentile=60, preproc__preprocess__bow__ngram_range=(1, 3);, score=(train=1.000, test=0.200) total time=   0.5s\n",
      "[CV 1/3; 97/108] START clf__criterion=entropy, clf__max_features=log2, clf__n_estimators=100, feat-selector__percentile=80, preproc__preprocess__bow__ngram_range=(1, 1)\n",
      "[CV 1/3; 97/108] END clf__criterion=entropy, clf__max_features=log2, clf__n_estimators=100, feat-selector__percentile=80, preproc__preprocess__bow__ngram_range=(1, 1);, score=(train=1.000, test=0.167) total time=   0.4s\n",
      "[CV 2/3; 97/108] START clf__criterion=entropy, clf__max_features=log2, clf__n_estimators=100, feat-selector__percentile=80, preproc__preprocess__bow__ngram_range=(1, 1)\n",
      "[CV 2/3; 97/108] END clf__criterion=entropy, clf__max_features=log2, clf__n_estimators=100, feat-selector__percentile=80, preproc__preprocess__bow__ngram_range=(1, 1);, score=(train=1.000, test=0.000) total time=   0.4s\n",
      "[CV 3/3; 97/108] START clf__criterion=entropy, clf__max_features=log2, clf__n_estimators=100, feat-selector__percentile=80, preproc__preprocess__bow__ngram_range=(1, 1)\n",
      "[CV 3/3; 97/108] END clf__criterion=entropy, clf__max_features=log2, clf__n_estimators=100, feat-selector__percentile=80, preproc__preprocess__bow__ngram_range=(1, 1);, score=(train=1.000, test=0.200) total time=   0.4s\n",
      "[CV 1/3; 98/108] START clf__criterion=entropy, clf__max_features=log2, clf__n_estimators=100, feat-selector__percentile=80, preproc__preprocess__bow__ngram_range=(1, 2)\n",
      "[CV 1/3; 98/108] END clf__criterion=entropy, clf__max_features=log2, clf__n_estimators=100, feat-selector__percentile=80, preproc__preprocess__bow__ngram_range=(1, 2);, score=(train=1.000, test=0.167) total time=   0.4s\n",
      "[CV 2/3; 98/108] START clf__criterion=entropy, clf__max_features=log2, clf__n_estimators=100, feat-selector__percentile=80, preproc__preprocess__bow__ngram_range=(1, 2)\n",
      "[CV 2/3; 98/108] END clf__criterion=entropy, clf__max_features=log2, clf__n_estimators=100, feat-selector__percentile=80, preproc__preprocess__bow__ngram_range=(1, 2);, score=(train=1.000, test=0.000) total time=   0.4s\n",
      "[CV 3/3; 98/108] START clf__criterion=entropy, clf__max_features=log2, clf__n_estimators=100, feat-selector__percentile=80, preproc__preprocess__bow__ngram_range=(1, 2)\n",
      "[CV 3/3; 98/108] END clf__criterion=entropy, clf__max_features=log2, clf__n_estimators=100, feat-selector__percentile=80, preproc__preprocess__bow__ngram_range=(1, 2);, score=(train=1.000, test=0.200) total time=   0.5s\n",
      "[CV 1/3; 99/108] START clf__criterion=entropy, clf__max_features=log2, clf__n_estimators=100, feat-selector__percentile=80, preproc__preprocess__bow__ngram_range=(1, 3)\n",
      "[CV 1/3; 99/108] END clf__criterion=entropy, clf__max_features=log2, clf__n_estimators=100, feat-selector__percentile=80, preproc__preprocess__bow__ngram_range=(1, 3);, score=(train=1.000, test=0.167) total time=   0.5s\n",
      "[CV 2/3; 99/108] START clf__criterion=entropy, clf__max_features=log2, clf__n_estimators=100, feat-selector__percentile=80, preproc__preprocess__bow__ngram_range=(1, 3)\n",
      "[CV 2/3; 99/108] END clf__criterion=entropy, clf__max_features=log2, clf__n_estimators=100, feat-selector__percentile=80, preproc__preprocess__bow__ngram_range=(1, 3);, score=(train=1.000, test=0.167) total time=   0.4s\n",
      "[CV 3/3; 99/108] START clf__criterion=entropy, clf__max_features=log2, clf__n_estimators=100, feat-selector__percentile=80, preproc__preprocess__bow__ngram_range=(1, 3)\n",
      "[CV 3/3; 99/108] END clf__criterion=entropy, clf__max_features=log2, clf__n_estimators=100, feat-selector__percentile=80, preproc__preprocess__bow__ngram_range=(1, 3);, score=(train=1.000, test=0.200) total time=   0.5s\n",
      "[CV 1/3; 100/108] START clf__criterion=entropy, clf__max_features=log2, clf__n_estimators=250, feat-selector__percentile=30, preproc__preprocess__bow__ngram_range=(1, 1)\n",
      "[CV 1/3; 100/108] END clf__criterion=entropy, clf__max_features=log2, clf__n_estimators=250, feat-selector__percentile=30, preproc__preprocess__bow__ngram_range=(1, 1);, score=(train=1.000, test=0.500) total time=   0.6s\n",
      "[CV 2/3; 100/108] START clf__criterion=entropy, clf__max_features=log2, clf__n_estimators=250, feat-selector__percentile=30, preproc__preprocess__bow__ngram_range=(1, 1)\n",
      "[CV 2/3; 100/108] END clf__criterion=entropy, clf__max_features=log2, clf__n_estimators=250, feat-selector__percentile=30, preproc__preprocess__bow__ngram_range=(1, 1);, score=(train=1.000, test=0.167) total time=   0.6s\n",
      "[CV 3/3; 100/108] START clf__criterion=entropy, clf__max_features=log2, clf__n_estimators=250, feat-selector__percentile=30, preproc__preprocess__bow__ngram_range=(1, 1)\n",
      "[CV 3/3; 100/108] END clf__criterion=entropy, clf__max_features=log2, clf__n_estimators=250, feat-selector__percentile=30, preproc__preprocess__bow__ngram_range=(1, 1);, score=(train=1.000, test=0.200) total time=   0.6s\n",
      "[CV 1/3; 101/108] START clf__criterion=entropy, clf__max_features=log2, clf__n_estimators=250, feat-selector__percentile=30, preproc__preprocess__bow__ngram_range=(1, 2)\n",
      "[CV 1/3; 101/108] END clf__criterion=entropy, clf__max_features=log2, clf__n_estimators=250, feat-selector__percentile=30, preproc__preprocess__bow__ngram_range=(1, 2);, score=(train=1.000, test=0.667) total time=   0.6s\n",
      "[CV 2/3; 101/108] START clf__criterion=entropy, clf__max_features=log2, clf__n_estimators=250, feat-selector__percentile=30, preproc__preprocess__bow__ngram_range=(1, 2)\n",
      "[CV 2/3; 101/108] END clf__criterion=entropy, clf__max_features=log2, clf__n_estimators=250, feat-selector__percentile=30, preproc__preprocess__bow__ngram_range=(1, 2);, score=(train=1.000, test=0.333) total time=   0.6s\n",
      "[CV 3/3; 101/108] START clf__criterion=entropy, clf__max_features=log2, clf__n_estimators=250, feat-selector__percentile=30, preproc__preprocess__bow__ngram_range=(1, 2)\n",
      "[CV 3/3; 101/108] END clf__criterion=entropy, clf__max_features=log2, clf__n_estimators=250, feat-selector__percentile=30, preproc__preprocess__bow__ngram_range=(1, 2);, score=(train=1.000, test=0.200) total time=   0.7s\n",
      "[CV 1/3; 102/108] START clf__criterion=entropy, clf__max_features=log2, clf__n_estimators=250, feat-selector__percentile=30, preproc__preprocess__bow__ngram_range=(1, 3)\n",
      "[CV 1/3; 102/108] END clf__criterion=entropy, clf__max_features=log2, clf__n_estimators=250, feat-selector__percentile=30, preproc__preprocess__bow__ngram_range=(1, 3);, score=(train=1.000, test=0.667) total time=   0.7s\n",
      "[CV 2/3; 102/108] START clf__criterion=entropy, clf__max_features=log2, clf__n_estimators=250, feat-selector__percentile=30, preproc__preprocess__bow__ngram_range=(1, 3)\n",
      "[CV 2/3; 102/108] END clf__criterion=entropy, clf__max_features=log2, clf__n_estimators=250, feat-selector__percentile=30, preproc__preprocess__bow__ngram_range=(1, 3);, score=(train=1.000, test=0.333) total time=   0.6s\n",
      "[CV 3/3; 102/108] START clf__criterion=entropy, clf__max_features=log2, clf__n_estimators=250, feat-selector__percentile=30, preproc__preprocess__bow__ngram_range=(1, 3)\n",
      "[CV 3/3; 102/108] END clf__criterion=entropy, clf__max_features=log2, clf__n_estimators=250, feat-selector__percentile=30, preproc__preprocess__bow__ngram_range=(1, 3);, score=(train=1.000, test=0.200) total time=   0.7s\n",
      "[CV 1/3; 103/108] START clf__criterion=entropy, clf__max_features=log2, clf__n_estimators=250, feat-selector__percentile=60, preproc__preprocess__bow__ngram_range=(1, 1)\n",
      "[CV 1/3; 103/108] END clf__criterion=entropy, clf__max_features=log2, clf__n_estimators=250, feat-selector__percentile=60, preproc__preprocess__bow__ngram_range=(1, 1);, score=(train=1.000, test=0.333) total time=   0.6s\n",
      "[CV 2/3; 103/108] START clf__criterion=entropy, clf__max_features=log2, clf__n_estimators=250, feat-selector__percentile=60, preproc__preprocess__bow__ngram_range=(1, 1)\n"
     ]
    },
    {
     "name": "stdout",
     "output_type": "stream",
     "text": [
      "[CV 2/3; 103/108] END clf__criterion=entropy, clf__max_features=log2, clf__n_estimators=250, feat-selector__percentile=60, preproc__preprocess__bow__ngram_range=(1, 1);, score=(train=1.000, test=0.000) total time=   0.6s\n",
      "[CV 3/3; 103/108] START clf__criterion=entropy, clf__max_features=log2, clf__n_estimators=250, feat-selector__percentile=60, preproc__preprocess__bow__ngram_range=(1, 1)\n",
      "[CV 3/3; 103/108] END clf__criterion=entropy, clf__max_features=log2, clf__n_estimators=250, feat-selector__percentile=60, preproc__preprocess__bow__ngram_range=(1, 1);, score=(train=1.000, test=0.200) total time=   0.6s\n",
      "[CV 1/3; 104/108] START clf__criterion=entropy, clf__max_features=log2, clf__n_estimators=250, feat-selector__percentile=60, preproc__preprocess__bow__ngram_range=(1, 2)\n",
      "[CV 1/3; 104/108] END clf__criterion=entropy, clf__max_features=log2, clf__n_estimators=250, feat-selector__percentile=60, preproc__preprocess__bow__ngram_range=(1, 2);, score=(train=1.000, test=0.667) total time=   0.6s\n",
      "[CV 2/3; 104/108] START clf__criterion=entropy, clf__max_features=log2, clf__n_estimators=250, feat-selector__percentile=60, preproc__preprocess__bow__ngram_range=(1, 2)\n",
      "[CV 2/3; 104/108] END clf__criterion=entropy, clf__max_features=log2, clf__n_estimators=250, feat-selector__percentile=60, preproc__preprocess__bow__ngram_range=(1, 2);, score=(train=1.000, test=0.333) total time=   0.6s\n",
      "[CV 3/3; 104/108] START clf__criterion=entropy, clf__max_features=log2, clf__n_estimators=250, feat-selector__percentile=60, preproc__preprocess__bow__ngram_range=(1, 2)\n",
      "[CV 3/3; 104/108] END clf__criterion=entropy, clf__max_features=log2, clf__n_estimators=250, feat-selector__percentile=60, preproc__preprocess__bow__ngram_range=(1, 2);, score=(train=1.000, test=0.200) total time=   0.7s\n",
      "[CV 1/3; 105/108] START clf__criterion=entropy, clf__max_features=log2, clf__n_estimators=250, feat-selector__percentile=60, preproc__preprocess__bow__ngram_range=(1, 3)\n",
      "[CV 1/3; 105/108] END clf__criterion=entropy, clf__max_features=log2, clf__n_estimators=250, feat-selector__percentile=60, preproc__preprocess__bow__ngram_range=(1, 3);, score=(train=1.000, test=0.667) total time=   0.7s\n",
      "[CV 2/3; 105/108] START clf__criterion=entropy, clf__max_features=log2, clf__n_estimators=250, feat-selector__percentile=60, preproc__preprocess__bow__ngram_range=(1, 3)\n",
      "[CV 2/3; 105/108] END clf__criterion=entropy, clf__max_features=log2, clf__n_estimators=250, feat-selector__percentile=60, preproc__preprocess__bow__ngram_range=(1, 3);, score=(train=1.000, test=0.333) total time=   0.6s\n",
      "[CV 3/3; 105/108] START clf__criterion=entropy, clf__max_features=log2, clf__n_estimators=250, feat-selector__percentile=60, preproc__preprocess__bow__ngram_range=(1, 3)\n",
      "[CV 3/3; 105/108] END clf__criterion=entropy, clf__max_features=log2, clf__n_estimators=250, feat-selector__percentile=60, preproc__preprocess__bow__ngram_range=(1, 3);, score=(train=1.000, test=0.200) total time=   0.7s\n",
      "[CV 1/3; 106/108] START clf__criterion=entropy, clf__max_features=log2, clf__n_estimators=250, feat-selector__percentile=80, preproc__preprocess__bow__ngram_range=(1, 1)\n",
      "[CV 1/3; 106/108] END clf__criterion=entropy, clf__max_features=log2, clf__n_estimators=250, feat-selector__percentile=80, preproc__preprocess__bow__ngram_range=(1, 1);, score=(train=1.000, test=0.167) total time=   0.6s\n",
      "[CV 2/3; 106/108] START clf__criterion=entropy, clf__max_features=log2, clf__n_estimators=250, feat-selector__percentile=80, preproc__preprocess__bow__ngram_range=(1, 1)\n",
      "[CV 2/3; 106/108] END clf__criterion=entropy, clf__max_features=log2, clf__n_estimators=250, feat-selector__percentile=80, preproc__preprocess__bow__ngram_range=(1, 1);, score=(train=1.000, test=0.000) total time=   0.6s\n",
      "[CV 3/3; 106/108] START clf__criterion=entropy, clf__max_features=log2, clf__n_estimators=250, feat-selector__percentile=80, preproc__preprocess__bow__ngram_range=(1, 1)\n",
      "[CV 3/3; 106/108] END clf__criterion=entropy, clf__max_features=log2, clf__n_estimators=250, feat-selector__percentile=80, preproc__preprocess__bow__ngram_range=(1, 1);, score=(train=1.000, test=0.200) total time=   0.6s\n",
      "[CV 1/3; 107/108] START clf__criterion=entropy, clf__max_features=log2, clf__n_estimators=250, feat-selector__percentile=80, preproc__preprocess__bow__ngram_range=(1, 2)\n",
      "[CV 1/3; 107/108] END clf__criterion=entropy, clf__max_features=log2, clf__n_estimators=250, feat-selector__percentile=80, preproc__preprocess__bow__ngram_range=(1, 2);, score=(train=1.000, test=0.167) total time=   0.6s\n",
      "[CV 2/3; 107/108] START clf__criterion=entropy, clf__max_features=log2, clf__n_estimators=250, feat-selector__percentile=80, preproc__preprocess__bow__ngram_range=(1, 2)\n",
      "[CV 2/3; 107/108] END clf__criterion=entropy, clf__max_features=log2, clf__n_estimators=250, feat-selector__percentile=80, preproc__preprocess__bow__ngram_range=(1, 2);, score=(train=1.000, test=0.000) total time=   0.6s\n",
      "[CV 3/3; 107/108] START clf__criterion=entropy, clf__max_features=log2, clf__n_estimators=250, feat-selector__percentile=80, preproc__preprocess__bow__ngram_range=(1, 2)\n",
      "[CV 3/3; 107/108] END clf__criterion=entropy, clf__max_features=log2, clf__n_estimators=250, feat-selector__percentile=80, preproc__preprocess__bow__ngram_range=(1, 2);, score=(train=1.000, test=0.200) total time=   0.7s\n",
      "[CV 1/3; 108/108] START clf__criterion=entropy, clf__max_features=log2, clf__n_estimators=250, feat-selector__percentile=80, preproc__preprocess__bow__ngram_range=(1, 3)\n",
      "[CV 1/3; 108/108] END clf__criterion=entropy, clf__max_features=log2, clf__n_estimators=250, feat-selector__percentile=80, preproc__preprocess__bow__ngram_range=(1, 3);, score=(train=1.000, test=0.167) total time=   0.7s\n",
      "[CV 2/3; 108/108] START clf__criterion=entropy, clf__max_features=log2, clf__n_estimators=250, feat-selector__percentile=80, preproc__preprocess__bow__ngram_range=(1, 3)\n",
      "[CV 2/3; 108/108] END clf__criterion=entropy, clf__max_features=log2, clf__n_estimators=250, feat-selector__percentile=80, preproc__preprocess__bow__ngram_range=(1, 3);, score=(train=1.000, test=0.167) total time=   0.7s\n",
      "[CV 3/3; 108/108] START clf__criterion=entropy, clf__max_features=log2, clf__n_estimators=250, feat-selector__percentile=80, preproc__preprocess__bow__ngram_range=(1, 3)\n",
      "[CV 3/3; 108/108] END clf__criterion=entropy, clf__max_features=log2, clf__n_estimators=250, feat-selector__percentile=80, preproc__preprocess__bow__ngram_range=(1, 3);, score=(train=1.000, test=0.200) total time=   0.7s\n",
      "----------\n",
      "iter: 1\n",
      "n_candidates: 36\n",
      "n_resources: 54\n",
      "Fitting 3 folds for each of 36 candidates, totalling 108 fits\n",
      "[CV 1/3; 1/36] START clf__criterion=entropy, clf__max_features=log2, clf__n_estimators=100, feat-selector__percentile=60, preproc__preprocess__bow__ngram_range=(1, 2)\n",
      "[CV 1/3; 1/36] END clf__criterion=entropy, clf__max_features=log2, clf__n_estimators=100, feat-selector__percentile=60, preproc__preprocess__bow__ngram_range=(1, 2);, score=(train=1.000, test=0.667) total time=   1.1s\n",
      "[CV 2/3; 1/36] START clf__criterion=entropy, clf__max_features=log2, clf__n_estimators=100, feat-selector__percentile=60, preproc__preprocess__bow__ngram_range=(1, 2)\n",
      "[CV 2/3; 1/36] END clf__criterion=entropy, clf__max_features=log2, clf__n_estimators=100, feat-selector__percentile=60, preproc__preprocess__bow__ngram_range=(1, 2);, score=(train=1.000, test=0.500) total time=   0.7s\n",
      "[CV 3/3; 1/36] START clf__criterion=entropy, clf__max_features=log2, clf__n_estimators=100, feat-selector__percentile=60, preproc__preprocess__bow__ngram_range=(1, 2)\n",
      "[CV 3/3; 1/36] END clf__criterion=entropy, clf__max_features=log2, clf__n_estimators=100, feat-selector__percentile=60, preproc__preprocess__bow__ngram_range=(1, 2);, score=(train=1.000, test=0.412) total time=   1.1s\n",
      "[CV 1/3; 2/36] START clf__criterion=entropy, clf__max_features=sqrt, clf__n_estimators=250, feat-selector__percentile=30, preproc__preprocess__bow__ngram_range=(1, 2)\n",
      "[CV 1/3; 2/36] END clf__criterion=entropy, clf__max_features=sqrt, clf__n_estimators=250, feat-selector__percentile=30, preproc__preprocess__bow__ngram_range=(1, 2);, score=(train=1.000, test=0.667) total time=   1.4s\n",
      "[CV 2/3; 2/36] START clf__criterion=entropy, clf__max_features=sqrt, clf__n_estimators=250, feat-selector__percentile=30, preproc__preprocess__bow__ngram_range=(1, 2)\n"
     ]
    },
    {
     "name": "stdout",
     "output_type": "stream",
     "text": [
      "[CV 2/3; 2/36] END clf__criterion=entropy, clf__max_features=sqrt, clf__n_estimators=250, feat-selector__percentile=30, preproc__preprocess__bow__ngram_range=(1, 2);, score=(train=1.000, test=0.667) total time=   0.9s\n",
      "[CV 3/3; 2/36] START clf__criterion=entropy, clf__max_features=sqrt, clf__n_estimators=250, feat-selector__percentile=30, preproc__preprocess__bow__ngram_range=(1, 2)\n",
      "[CV 3/3; 2/36] END clf__criterion=entropy, clf__max_features=sqrt, clf__n_estimators=250, feat-selector__percentile=30, preproc__preprocess__bow__ngram_range=(1, 2);, score=(train=1.000, test=0.412) total time=   1.3s\n",
      "[CV 1/3; 3/36] START clf__criterion=gini, clf__max_features=sqrt, clf__n_estimators=250, feat-selector__percentile=60, preproc__preprocess__bow__ngram_range=(1, 3)\n",
      "[CV 1/3; 3/36] END clf__criterion=gini, clf__max_features=sqrt, clf__n_estimators=250, feat-selector__percentile=60, preproc__preprocess__bow__ngram_range=(1, 3);, score=(train=1.000, test=0.667) total time=   1.5s\n",
      "[CV 2/3; 3/36] START clf__criterion=gini, clf__max_features=sqrt, clf__n_estimators=250, feat-selector__percentile=60, preproc__preprocess__bow__ngram_range=(1, 3)\n",
      "[CV 2/3; 3/36] END clf__criterion=gini, clf__max_features=sqrt, clf__n_estimators=250, feat-selector__percentile=60, preproc__preprocess__bow__ngram_range=(1, 3);, score=(train=1.000, test=0.667) total time=   1.0s\n",
      "[CV 3/3; 3/36] START clf__criterion=gini, clf__max_features=sqrt, clf__n_estimators=250, feat-selector__percentile=60, preproc__preprocess__bow__ngram_range=(1, 3)\n",
      "[CV 3/3; 3/36] END clf__criterion=gini, clf__max_features=sqrt, clf__n_estimators=250, feat-selector__percentile=60, preproc__preprocess__bow__ngram_range=(1, 3);, score=(train=1.000, test=0.412) total time=   1.4s\n",
      "[CV 1/3; 4/36] START clf__criterion=entropy, clf__max_features=log2, clf__n_estimators=100, feat-selector__percentile=30, preproc__preprocess__bow__ngram_range=(1, 3)\n",
      "[CV 1/3; 4/36] END clf__criterion=entropy, clf__max_features=log2, clf__n_estimators=100, feat-selector__percentile=30, preproc__preprocess__bow__ngram_range=(1, 3);, score=(train=1.000, test=0.667) total time=   1.3s\n",
      "[CV 2/3; 4/36] START clf__criterion=entropy, clf__max_features=log2, clf__n_estimators=100, feat-selector__percentile=30, preproc__preprocess__bow__ngram_range=(1, 3)\n",
      "[CV 2/3; 4/36] END clf__criterion=entropy, clf__max_features=log2, clf__n_estimators=100, feat-selector__percentile=30, preproc__preprocess__bow__ngram_range=(1, 3);, score=(train=1.000, test=0.556) total time=   0.7s\n",
      "[CV 3/3; 4/36] START clf__criterion=entropy, clf__max_features=log2, clf__n_estimators=100, feat-selector__percentile=30, preproc__preprocess__bow__ngram_range=(1, 3)\n",
      "[CV 3/3; 4/36] END clf__criterion=entropy, clf__max_features=log2, clf__n_estimators=100, feat-selector__percentile=30, preproc__preprocess__bow__ngram_range=(1, 3);, score=(train=1.000, test=0.412) total time=   1.1s\n",
      "[CV 1/3; 5/36] START clf__criterion=entropy, clf__max_features=log2, clf__n_estimators=250, feat-selector__percentile=30, preproc__preprocess__bow__ngram_range=(1, 2)\n",
      "[CV 1/3; 5/36] END clf__criterion=entropy, clf__max_features=log2, clf__n_estimators=250, feat-selector__percentile=30, preproc__preprocess__bow__ngram_range=(1, 2);, score=(train=1.000, test=0.667) total time=   1.4s\n",
      "[CV 2/3; 5/36] START clf__criterion=entropy, clf__max_features=log2, clf__n_estimators=250, feat-selector__percentile=30, preproc__preprocess__bow__ngram_range=(1, 2)\n",
      "[CV 2/3; 5/36] END clf__criterion=entropy, clf__max_features=log2, clf__n_estimators=250, feat-selector__percentile=30, preproc__preprocess__bow__ngram_range=(1, 2);, score=(train=1.000, test=0.667) total time=   0.9s\n",
      "[CV 3/3; 5/36] START clf__criterion=entropy, clf__max_features=log2, clf__n_estimators=250, feat-selector__percentile=30, preproc__preprocess__bow__ngram_range=(1, 2)\n",
      "[CV 3/3; 5/36] END clf__criterion=entropy, clf__max_features=log2, clf__n_estimators=250, feat-selector__percentile=30, preproc__preprocess__bow__ngram_range=(1, 2);, score=(train=1.000, test=0.412) total time=   1.3s\n",
      "[CV 1/3; 6/36] START clf__criterion=entropy, clf__max_features=log2, clf__n_estimators=250, feat-selector__percentile=30, preproc__preprocess__bow__ngram_range=(1, 3)\n",
      "[CV 1/3; 6/36] END clf__criterion=entropy, clf__max_features=log2, clf__n_estimators=250, feat-selector__percentile=30, preproc__preprocess__bow__ngram_range=(1, 3);, score=(train=1.000, test=0.667) total time=   1.5s\n",
      "[CV 2/3; 6/36] START clf__criterion=entropy, clf__max_features=log2, clf__n_estimators=250, feat-selector__percentile=30, preproc__preprocess__bow__ngram_range=(1, 3)\n",
      "[CV 2/3; 6/36] END clf__criterion=entropy, clf__max_features=log2, clf__n_estimators=250, feat-selector__percentile=30, preproc__preprocess__bow__ngram_range=(1, 3);, score=(train=1.000, test=0.611) total time=   1.0s\n",
      "[CV 3/3; 6/36] START clf__criterion=entropy, clf__max_features=log2, clf__n_estimators=250, feat-selector__percentile=30, preproc__preprocess__bow__ngram_range=(1, 3)\n",
      "[CV 3/3; 6/36] END clf__criterion=entropy, clf__max_features=log2, clf__n_estimators=250, feat-selector__percentile=30, preproc__preprocess__bow__ngram_range=(1, 3);, score=(train=1.000, test=0.412) total time=   1.4s\n",
      "[CV 1/3; 7/36] START clf__criterion=gini, clf__max_features=sqrt, clf__n_estimators=50, feat-selector__percentile=30, preproc__preprocess__bow__ngram_range=(1, 3)\n",
      "[CV 1/3; 7/36] END clf__criterion=gini, clf__max_features=sqrt, clf__n_estimators=50, feat-selector__percentile=30, preproc__preprocess__bow__ngram_range=(1, 3);, score=(train=0.971, test=0.667) total time=   1.2s\n",
      "[CV 2/3; 7/36] START clf__criterion=gini, clf__max_features=sqrt, clf__n_estimators=50, feat-selector__percentile=30, preproc__preprocess__bow__ngram_range=(1, 3)\n",
      "[CV 2/3; 7/36] END clf__criterion=gini, clf__max_features=sqrt, clf__n_estimators=50, feat-selector__percentile=30, preproc__preprocess__bow__ngram_range=(1, 3);, score=(train=1.000, test=0.667) total time=   0.7s\n",
      "[CV 3/3; 7/36] START clf__criterion=gini, clf__max_features=sqrt, clf__n_estimators=50, feat-selector__percentile=30, preproc__preprocess__bow__ngram_range=(1, 3)\n",
      "[CV 3/3; 7/36] END clf__criterion=gini, clf__max_features=sqrt, clf__n_estimators=50, feat-selector__percentile=30, preproc__preprocess__bow__ngram_range=(1, 3);, score=(train=1.000, test=0.412) total time=   1.1s\n",
      "[CV 1/3; 8/36] START clf__criterion=entropy, clf__max_features=log2, clf__n_estimators=250, feat-selector__percentile=60, preproc__preprocess__bow__ngram_range=(1, 2)\n",
      "[CV 1/3; 8/36] END clf__criterion=entropy, clf__max_features=log2, clf__n_estimators=250, feat-selector__percentile=60, preproc__preprocess__bow__ngram_range=(1, 2);, score=(train=1.000, test=0.667) total time=   1.4s\n",
      "[CV 2/3; 8/36] START clf__criterion=entropy, clf__max_features=log2, clf__n_estimators=250, feat-selector__percentile=60, preproc__preprocess__bow__ngram_range=(1, 2)\n",
      "[CV 2/3; 8/36] END clf__criterion=entropy, clf__max_features=log2, clf__n_estimators=250, feat-selector__percentile=60, preproc__preprocess__bow__ngram_range=(1, 2);, score=(train=1.000, test=0.611) total time=   0.9s\n",
      "[CV 3/3; 8/36] START clf__criterion=entropy, clf__max_features=log2, clf__n_estimators=250, feat-selector__percentile=60, preproc__preprocess__bow__ngram_range=(1, 2)\n",
      "[CV 3/3; 8/36] END clf__criterion=entropy, clf__max_features=log2, clf__n_estimators=250, feat-selector__percentile=60, preproc__preprocess__bow__ngram_range=(1, 2);, score=(train=1.000, test=0.412) total time=   1.3s\n",
      "[CV 1/3; 9/36] START clf__criterion=entropy, clf__max_features=log2, clf__n_estimators=250, feat-selector__percentile=60, preproc__preprocess__bow__ngram_range=(1, 3)\n",
      "[CV 1/3; 9/36] END clf__criterion=entropy, clf__max_features=log2, clf__n_estimators=250, feat-selector__percentile=60, preproc__preprocess__bow__ngram_range=(1, 3);, score=(train=1.000, test=0.667) total time=   1.5s\n",
      "[CV 2/3; 9/36] START clf__criterion=entropy, clf__max_features=log2, clf__n_estimators=250, feat-selector__percentile=60, preproc__preprocess__bow__ngram_range=(1, 3)\n",
      "[CV 2/3; 9/36] END clf__criterion=entropy, clf__max_features=log2, clf__n_estimators=250, feat-selector__percentile=60, preproc__preprocess__bow__ngram_range=(1, 3);, score=(train=1.000, test=0.500) total time=   1.0s\n",
      "[CV 3/3; 9/36] START clf__criterion=entropy, clf__max_features=log2, clf__n_estimators=250, feat-selector__percentile=60, preproc__preprocess__bow__ngram_range=(1, 3)\n"
     ]
    },
    {
     "name": "stdout",
     "output_type": "stream",
     "text": [
      "[CV 3/3; 9/36] END clf__criterion=entropy, clf__max_features=log2, clf__n_estimators=250, feat-selector__percentile=60, preproc__preprocess__bow__ngram_range=(1, 3);, score=(train=1.000, test=0.412) total time=   1.4s\n",
      "[CV 1/3; 10/36] START clf__criterion=gini, clf__max_features=sqrt, clf__n_estimators=50, feat-selector__percentile=30, preproc__preprocess__bow__ngram_range=(1, 2)\n",
      "[CV 1/3; 10/36] END clf__criterion=gini, clf__max_features=sqrt, clf__n_estimators=50, feat-selector__percentile=30, preproc__preprocess__bow__ngram_range=(1, 2);, score=(train=1.000, test=0.667) total time=   1.3s\n",
      "[CV 2/3; 10/36] START clf__criterion=gini, clf__max_features=sqrt, clf__n_estimators=50, feat-selector__percentile=30, preproc__preprocess__bow__ngram_range=(1, 2)\n",
      "[CV 2/3; 10/36] END clf__criterion=gini, clf__max_features=sqrt, clf__n_estimators=50, feat-selector__percentile=30, preproc__preprocess__bow__ngram_range=(1, 2);, score=(train=1.000, test=0.667) total time=   0.6s\n",
      "[CV 3/3; 10/36] START clf__criterion=gini, clf__max_features=sqrt, clf__n_estimators=50, feat-selector__percentile=30, preproc__preprocess__bow__ngram_range=(1, 2)\n",
      "[CV 3/3; 10/36] END clf__criterion=gini, clf__max_features=sqrt, clf__n_estimators=50, feat-selector__percentile=30, preproc__preprocess__bow__ngram_range=(1, 2);, score=(train=1.000, test=0.412) total time=   1.0s\n",
      "[CV 1/3; 11/36] START clf__criterion=entropy, clf__max_features=log2, clf__n_estimators=100, feat-selector__percentile=30, preproc__preprocess__bow__ngram_range=(1, 1)\n",
      "[CV 1/3; 11/36] END clf__criterion=entropy, clf__max_features=log2, clf__n_estimators=100, feat-selector__percentile=30, preproc__preprocess__bow__ngram_range=(1, 1);, score=(train=1.000, test=0.667) total time=   1.1s\n",
      "[CV 2/3; 11/36] START clf__criterion=entropy, clf__max_features=log2, clf__n_estimators=100, feat-selector__percentile=30, preproc__preprocess__bow__ngram_range=(1, 1)\n",
      "[CV 2/3; 11/36] END clf__criterion=entropy, clf__max_features=log2, clf__n_estimators=100, feat-selector__percentile=30, preproc__preprocess__bow__ngram_range=(1, 1);, score=(train=1.000, test=0.667) total time=   0.6s\n",
      "[CV 3/3; 11/36] START clf__criterion=entropy, clf__max_features=log2, clf__n_estimators=100, feat-selector__percentile=30, preproc__preprocess__bow__ngram_range=(1, 1)\n",
      "[CV 3/3; 11/36] END clf__criterion=entropy, clf__max_features=log2, clf__n_estimators=100, feat-selector__percentile=30, preproc__preprocess__bow__ngram_range=(1, 1);, score=(train=1.000, test=0.529) total time=   1.0s\n",
      "[CV 1/3; 12/36] START clf__criterion=gini, clf__max_features=sqrt, clf__n_estimators=50, feat-selector__percentile=60, preproc__preprocess__bow__ngram_range=(1, 3)\n",
      "[CV 1/3; 12/36] END clf__criterion=gini, clf__max_features=sqrt, clf__n_estimators=50, feat-selector__percentile=60, preproc__preprocess__bow__ngram_range=(1, 3);, score=(train=1.000, test=0.667) total time=   1.2s\n",
      "[CV 2/3; 12/36] START clf__criterion=gini, clf__max_features=sqrt, clf__n_estimators=50, feat-selector__percentile=60, preproc__preprocess__bow__ngram_range=(1, 3)\n",
      "[CV 2/3; 12/36] END clf__criterion=gini, clf__max_features=sqrt, clf__n_estimators=50, feat-selector__percentile=60, preproc__preprocess__bow__ngram_range=(1, 3);, score=(train=1.000, test=0.611) total time=   0.7s\n",
      "[CV 3/3; 12/36] START clf__criterion=gini, clf__max_features=sqrt, clf__n_estimators=50, feat-selector__percentile=60, preproc__preprocess__bow__ngram_range=(1, 3)\n",
      "[CV 3/3; 12/36] END clf__criterion=gini, clf__max_features=sqrt, clf__n_estimators=50, feat-selector__percentile=60, preproc__preprocess__bow__ngram_range=(1, 3);, score=(train=1.000, test=0.412) total time=   1.1s\n",
      "[CV 1/3; 13/36] START clf__criterion=entropy, clf__max_features=sqrt, clf__n_estimators=100, feat-selector__percentile=30, preproc__preprocess__bow__ngram_range=(1, 3)\n",
      "[CV 1/3; 13/36] END clf__criterion=entropy, clf__max_features=sqrt, clf__n_estimators=100, feat-selector__percentile=30, preproc__preprocess__bow__ngram_range=(1, 3);, score=(train=1.000, test=0.667) total time=   1.3s\n",
      "[CV 2/3; 13/36] START clf__criterion=entropy, clf__max_features=sqrt, clf__n_estimators=100, feat-selector__percentile=30, preproc__preprocess__bow__ngram_range=(1, 3)\n",
      "[CV 2/3; 13/36] END clf__criterion=entropy, clf__max_features=sqrt, clf__n_estimators=100, feat-selector__percentile=30, preproc__preprocess__bow__ngram_range=(1, 3);, score=(train=1.000, test=0.667) total time=   0.7s\n",
      "[CV 3/3; 13/36] START clf__criterion=entropy, clf__max_features=sqrt, clf__n_estimators=100, feat-selector__percentile=30, preproc__preprocess__bow__ngram_range=(1, 3)\n",
      "[CV 3/3; 13/36] END clf__criterion=entropy, clf__max_features=sqrt, clf__n_estimators=100, feat-selector__percentile=30, preproc__preprocess__bow__ngram_range=(1, 3);, score=(train=1.000, test=0.412) total time=   1.2s\n",
      "[CV 1/3; 14/36] START clf__criterion=entropy, clf__max_features=log2, clf__n_estimators=50, feat-selector__percentile=30, preproc__preprocess__bow__ngram_range=(1, 3)\n",
      "[CV 1/3; 14/36] END clf__criterion=entropy, clf__max_features=log2, clf__n_estimators=50, feat-selector__percentile=30, preproc__preprocess__bow__ngram_range=(1, 3);, score=(train=1.000, test=0.667) total time=   1.2s\n",
      "[CV 2/3; 14/36] START clf__criterion=entropy, clf__max_features=log2, clf__n_estimators=50, feat-selector__percentile=30, preproc__preprocess__bow__ngram_range=(1, 3)\n",
      "[CV 2/3; 14/36] END clf__criterion=entropy, clf__max_features=log2, clf__n_estimators=50, feat-selector__percentile=30, preproc__preprocess__bow__ngram_range=(1, 3);, score=(train=1.000, test=0.500) total time=   0.7s\n",
      "[CV 3/3; 14/36] START clf__criterion=entropy, clf__max_features=log2, clf__n_estimators=50, feat-selector__percentile=30, preproc__preprocess__bow__ngram_range=(1, 3)\n",
      "[CV 3/3; 14/36] END clf__criterion=entropy, clf__max_features=log2, clf__n_estimators=50, feat-selector__percentile=30, preproc__preprocess__bow__ngram_range=(1, 3);, score=(train=1.000, test=0.412) total time=   1.1s\n",
      "[CV 1/3; 15/36] START clf__criterion=gini, clf__max_features=sqrt, clf__n_estimators=250, feat-selector__percentile=80, preproc__preprocess__bow__ngram_range=(1, 1)\n",
      "[CV 1/3; 15/36] END clf__criterion=gini, clf__max_features=sqrt, clf__n_estimators=250, feat-selector__percentile=80, preproc__preprocess__bow__ngram_range=(1, 1);, score=(train=1.000, test=0.667) total time=   1.3s\n",
      "[CV 2/3; 15/36] START clf__criterion=gini, clf__max_features=sqrt, clf__n_estimators=250, feat-selector__percentile=80, preproc__preprocess__bow__ngram_range=(1, 1)\n",
      "[CV 2/3; 15/36] END clf__criterion=gini, clf__max_features=sqrt, clf__n_estimators=250, feat-selector__percentile=80, preproc__preprocess__bow__ngram_range=(1, 1);, score=(train=1.000, test=0.667) total time=   0.9s\n",
      "[CV 3/3; 15/36] START clf__criterion=gini, clf__max_features=sqrt, clf__n_estimators=250, feat-selector__percentile=80, preproc__preprocess__bow__ngram_range=(1, 1)\n",
      "[CV 3/3; 15/36] END clf__criterion=gini, clf__max_features=sqrt, clf__n_estimators=250, feat-selector__percentile=80, preproc__preprocess__bow__ngram_range=(1, 1);, score=(train=1.000, test=0.588) total time=   1.2s\n",
      "[CV 1/3; 16/36] START clf__criterion=gini, clf__max_features=log2, clf__n_estimators=50, feat-selector__percentile=30, preproc__preprocess__bow__ngram_range=(1, 3)\n",
      "[CV 1/3; 16/36] END clf__criterion=gini, clf__max_features=log2, clf__n_estimators=50, feat-selector__percentile=30, preproc__preprocess__bow__ngram_range=(1, 3);, score=(train=1.000, test=0.667) total time=   1.2s\n",
      "[CV 2/3; 16/36] START clf__criterion=gini, clf__max_features=log2, clf__n_estimators=50, feat-selector__percentile=30, preproc__preprocess__bow__ngram_range=(1, 3)\n",
      "[CV 2/3; 16/36] END clf__criterion=gini, clf__max_features=log2, clf__n_estimators=50, feat-selector__percentile=30, preproc__preprocess__bow__ngram_range=(1, 3);, score=(train=1.000, test=0.556) total time=   0.7s\n",
      "[CV 3/3; 16/36] START clf__criterion=gini, clf__max_features=log2, clf__n_estimators=50, feat-selector__percentile=30, preproc__preprocess__bow__ngram_range=(1, 3)\n",
      "[CV 3/3; 16/36] END clf__criterion=gini, clf__max_features=log2, clf__n_estimators=50, feat-selector__percentile=30, preproc__preprocess__bow__ngram_range=(1, 3);, score=(train=1.000, test=0.412) total time=   1.1s\n",
      "[CV 1/3; 17/36] START clf__criterion=gini, clf__max_features=sqrt, clf__n_estimators=250, feat-selector__percentile=30, preproc__preprocess__bow__ngram_range=(1, 3)\n"
     ]
    },
    {
     "name": "stdout",
     "output_type": "stream",
     "text": [
      "[CV 1/3; 17/36] END clf__criterion=gini, clf__max_features=sqrt, clf__n_estimators=250, feat-selector__percentile=30, preproc__preprocess__bow__ngram_range=(1, 3);, score=(train=1.000, test=0.667) total time=   1.5s\n",
      "[CV 2/3; 17/36] START clf__criterion=gini, clf__max_features=sqrt, clf__n_estimators=250, feat-selector__percentile=30, preproc__preprocess__bow__ngram_range=(1, 3)\n",
      "[CV 2/3; 17/36] END clf__criterion=gini, clf__max_features=sqrt, clf__n_estimators=250, feat-selector__percentile=30, preproc__preprocess__bow__ngram_range=(1, 3);, score=(train=1.000, test=0.667) total time=   1.0s\n",
      "[CV 3/3; 17/36] START clf__criterion=gini, clf__max_features=sqrt, clf__n_estimators=250, feat-selector__percentile=30, preproc__preprocess__bow__ngram_range=(1, 3)\n",
      "[CV 3/3; 17/36] END clf__criterion=gini, clf__max_features=sqrt, clf__n_estimators=250, feat-selector__percentile=30, preproc__preprocess__bow__ngram_range=(1, 3);, score=(train=1.000, test=0.412) total time=   1.4s\n",
      "[CV 1/3; 18/36] START clf__criterion=gini, clf__max_features=log2, clf__n_estimators=100, feat-selector__percentile=30, preproc__preprocess__bow__ngram_range=(1, 3)\n",
      "[CV 1/3; 18/36] END clf__criterion=gini, clf__max_features=log2, clf__n_estimators=100, feat-selector__percentile=30, preproc__preprocess__bow__ngram_range=(1, 3);, score=(train=1.000, test=0.667) total time=   1.3s\n",
      "[CV 2/3; 18/36] START clf__criterion=gini, clf__max_features=log2, clf__n_estimators=100, feat-selector__percentile=30, preproc__preprocess__bow__ngram_range=(1, 3)\n",
      "[CV 2/3; 18/36] END clf__criterion=gini, clf__max_features=log2, clf__n_estimators=100, feat-selector__percentile=30, preproc__preprocess__bow__ngram_range=(1, 3);, score=(train=1.000, test=0.611) total time=   0.7s\n",
      "[CV 3/3; 18/36] START clf__criterion=gini, clf__max_features=log2, clf__n_estimators=100, feat-selector__percentile=30, preproc__preprocess__bow__ngram_range=(1, 3)\n",
      "[CV 3/3; 18/36] END clf__criterion=gini, clf__max_features=log2, clf__n_estimators=100, feat-selector__percentile=30, preproc__preprocess__bow__ngram_range=(1, 3);, score=(train=1.000, test=0.412) total time=   1.1s\n",
      "[CV 1/3; 19/36] START clf__criterion=gini, clf__max_features=log2, clf__n_estimators=250, feat-selector__percentile=30, preproc__preprocess__bow__ngram_range=(1, 2)\n",
      "[CV 1/3; 19/36] END clf__criterion=gini, clf__max_features=log2, clf__n_estimators=250, feat-selector__percentile=30, preproc__preprocess__bow__ngram_range=(1, 2);, score=(train=1.000, test=0.667) total time=   1.4s\n",
      "[CV 2/3; 19/36] START clf__criterion=gini, clf__max_features=log2, clf__n_estimators=250, feat-selector__percentile=30, preproc__preprocess__bow__ngram_range=(1, 2)\n",
      "[CV 2/3; 19/36] END clf__criterion=gini, clf__max_features=log2, clf__n_estimators=250, feat-selector__percentile=30, preproc__preprocess__bow__ngram_range=(1, 2);, score=(train=1.000, test=0.667) total time=   0.9s\n",
      "[CV 3/3; 19/36] START clf__criterion=gini, clf__max_features=log2, clf__n_estimators=250, feat-selector__percentile=30, preproc__preprocess__bow__ngram_range=(1, 2)\n",
      "[CV 3/3; 19/36] END clf__criterion=gini, clf__max_features=log2, clf__n_estimators=250, feat-selector__percentile=30, preproc__preprocess__bow__ngram_range=(1, 2);, score=(train=1.000, test=0.412) total time=   1.3s\n",
      "[CV 1/3; 20/36] START clf__criterion=gini, clf__max_features=log2, clf__n_estimators=250, feat-selector__percentile=30, preproc__preprocess__bow__ngram_range=(1, 3)\n",
      "[CV 1/3; 20/36] END clf__criterion=gini, clf__max_features=log2, clf__n_estimators=250, feat-selector__percentile=30, preproc__preprocess__bow__ngram_range=(1, 3);, score=(train=1.000, test=0.667) total time=   1.5s\n",
      "[CV 2/3; 20/36] START clf__criterion=gini, clf__max_features=log2, clf__n_estimators=250, feat-selector__percentile=30, preproc__preprocess__bow__ngram_range=(1, 3)\n",
      "[CV 2/3; 20/36] END clf__criterion=gini, clf__max_features=log2, clf__n_estimators=250, feat-selector__percentile=30, preproc__preprocess__bow__ngram_range=(1, 3);, score=(train=1.000, test=0.611) total time=   1.0s\n",
      "[CV 3/3; 20/36] START clf__criterion=gini, clf__max_features=log2, clf__n_estimators=250, feat-selector__percentile=30, preproc__preprocess__bow__ngram_range=(1, 3)\n",
      "[CV 3/3; 20/36] END clf__criterion=gini, clf__max_features=log2, clf__n_estimators=250, feat-selector__percentile=30, preproc__preprocess__bow__ngram_range=(1, 3);, score=(train=1.000, test=0.412) total time=   1.4s\n",
      "[CV 1/3; 21/36] START clf__criterion=gini, clf__max_features=sqrt, clf__n_estimators=100, feat-selector__percentile=60, preproc__preprocess__bow__ngram_range=(1, 3)\n",
      "[CV 1/3; 21/36] END clf__criterion=gini, clf__max_features=sqrt, clf__n_estimators=100, feat-selector__percentile=60, preproc__preprocess__bow__ngram_range=(1, 3);, score=(train=1.000, test=0.667) total time=   1.3s\n",
      "[CV 2/3; 21/36] START clf__criterion=gini, clf__max_features=sqrt, clf__n_estimators=100, feat-selector__percentile=60, preproc__preprocess__bow__ngram_range=(1, 3)\n",
      "[CV 2/3; 21/36] END clf__criterion=gini, clf__max_features=sqrt, clf__n_estimators=100, feat-selector__percentile=60, preproc__preprocess__bow__ngram_range=(1, 3);, score=(train=1.000, test=0.667) total time=   0.7s\n",
      "[CV 3/3; 21/36] START clf__criterion=gini, clf__max_features=sqrt, clf__n_estimators=100, feat-selector__percentile=60, preproc__preprocess__bow__ngram_range=(1, 3)\n",
      "[CV 3/3; 21/36] END clf__criterion=gini, clf__max_features=sqrt, clf__n_estimators=100, feat-selector__percentile=60, preproc__preprocess__bow__ngram_range=(1, 3);, score=(train=1.000, test=0.412) total time=   1.2s\n",
      "[CV 1/3; 22/36] START clf__criterion=gini, clf__max_features=log2, clf__n_estimators=250, feat-selector__percentile=60, preproc__preprocess__bow__ngram_range=(1, 2)\n",
      "[CV 1/3; 22/36] END clf__criterion=gini, clf__max_features=log2, clf__n_estimators=250, feat-selector__percentile=60, preproc__preprocess__bow__ngram_range=(1, 2);, score=(train=1.000, test=0.667) total time=   1.4s\n",
      "[CV 2/3; 22/36] START clf__criterion=gini, clf__max_features=log2, clf__n_estimators=250, feat-selector__percentile=60, preproc__preprocess__bow__ngram_range=(1, 2)\n",
      "[CV 2/3; 22/36] END clf__criterion=gini, clf__max_features=log2, clf__n_estimators=250, feat-selector__percentile=60, preproc__preprocess__bow__ngram_range=(1, 2);, score=(train=1.000, test=0.556) total time=   0.9s\n",
      "[CV 3/3; 22/36] START clf__criterion=gini, clf__max_features=log2, clf__n_estimators=250, feat-selector__percentile=60, preproc__preprocess__bow__ngram_range=(1, 2)\n",
      "[CV 3/3; 22/36] END clf__criterion=gini, clf__max_features=log2, clf__n_estimators=250, feat-selector__percentile=60, preproc__preprocess__bow__ngram_range=(1, 2);, score=(train=1.000, test=0.412) total time=   1.3s\n",
      "[CV 1/3; 23/36] START clf__criterion=gini, clf__max_features=log2, clf__n_estimators=250, feat-selector__percentile=60, preproc__preprocess__bow__ngram_range=(1, 3)\n",
      "[CV 1/3; 23/36] END clf__criterion=gini, clf__max_features=log2, clf__n_estimators=250, feat-selector__percentile=60, preproc__preprocess__bow__ngram_range=(1, 3);, score=(train=1.000, test=0.667) total time=   1.5s\n",
      "[CV 2/3; 23/36] START clf__criterion=gini, clf__max_features=log2, clf__n_estimators=250, feat-selector__percentile=60, preproc__preprocess__bow__ngram_range=(1, 3)\n",
      "[CV 2/3; 23/36] END clf__criterion=gini, clf__max_features=log2, clf__n_estimators=250, feat-selector__percentile=60, preproc__preprocess__bow__ngram_range=(1, 3);, score=(train=1.000, test=0.444) total time=   1.0s\n",
      "[CV 3/3; 23/36] START clf__criterion=gini, clf__max_features=log2, clf__n_estimators=250, feat-selector__percentile=60, preproc__preprocess__bow__ngram_range=(1, 3)\n",
      "[CV 3/3; 23/36] END clf__criterion=gini, clf__max_features=log2, clf__n_estimators=250, feat-selector__percentile=60, preproc__preprocess__bow__ngram_range=(1, 3);, score=(train=1.000, test=0.412) total time=   1.4s\n",
      "[CV 1/3; 24/36] START clf__criterion=gini, clf__max_features=sqrt, clf__n_estimators=100, feat-selector__percentile=30, preproc__preprocess__bow__ngram_range=(1, 1)\n",
      "[CV 1/3; 24/36] END clf__criterion=gini, clf__max_features=sqrt, clf__n_estimators=100, feat-selector__percentile=30, preproc__preprocess__bow__ngram_range=(1, 1);, score=(train=1.000, test=0.667) total time=   1.1s\n",
      "[CV 2/3; 24/36] START clf__criterion=gini, clf__max_features=sqrt, clf__n_estimators=100, feat-selector__percentile=30, preproc__preprocess__bow__ngram_range=(1, 1)\n"
     ]
    },
    {
     "name": "stdout",
     "output_type": "stream",
     "text": [
      "[CV 2/3; 24/36] END clf__criterion=gini, clf__max_features=sqrt, clf__n_estimators=100, feat-selector__percentile=30, preproc__preprocess__bow__ngram_range=(1, 1);, score=(train=1.000, test=0.667) total time=   0.6s\n",
      "[CV 3/3; 24/36] START clf__criterion=gini, clf__max_features=sqrt, clf__n_estimators=100, feat-selector__percentile=30, preproc__preprocess__bow__ngram_range=(1, 1)\n",
      "[CV 3/3; 24/36] END clf__criterion=gini, clf__max_features=sqrt, clf__n_estimators=100, feat-selector__percentile=30, preproc__preprocess__bow__ngram_range=(1, 1);, score=(train=1.000, test=0.647) total time=   1.0s\n",
      "[CV 1/3; 25/36] START clf__criterion=gini, clf__max_features=sqrt, clf__n_estimators=100, feat-selector__percentile=30, preproc__preprocess__bow__ngram_range=(1, 3)\n",
      "[CV 1/3; 25/36] END clf__criterion=gini, clf__max_features=sqrt, clf__n_estimators=100, feat-selector__percentile=30, preproc__preprocess__bow__ngram_range=(1, 3);, score=(train=1.000, test=0.667) total time=   1.2s\n",
      "[CV 2/3; 25/36] START clf__criterion=gini, clf__max_features=sqrt, clf__n_estimators=100, feat-selector__percentile=30, preproc__preprocess__bow__ngram_range=(1, 3)\n",
      "[CV 2/3; 25/36] END clf__criterion=gini, clf__max_features=sqrt, clf__n_estimators=100, feat-selector__percentile=30, preproc__preprocess__bow__ngram_range=(1, 3);, score=(train=1.000, test=0.667) total time=   0.7s\n",
      "[CV 3/3; 25/36] START clf__criterion=gini, clf__max_features=sqrt, clf__n_estimators=100, feat-selector__percentile=30, preproc__preprocess__bow__ngram_range=(1, 3)\n",
      "[CV 3/3; 25/36] END clf__criterion=gini, clf__max_features=sqrt, clf__n_estimators=100, feat-selector__percentile=30, preproc__preprocess__bow__ngram_range=(1, 3);, score=(train=1.000, test=0.412) total time=   1.2s\n",
      "[CV 1/3; 26/36] START clf__criterion=entropy, clf__max_features=sqrt, clf__n_estimators=50, feat-selector__percentile=30, preproc__preprocess__bow__ngram_range=(1, 3)\n",
      "[CV 1/3; 26/36] END clf__criterion=entropy, clf__max_features=sqrt, clf__n_estimators=50, feat-selector__percentile=30, preproc__preprocess__bow__ngram_range=(1, 3);, score=(train=1.000, test=0.667) total time=   1.2s\n",
      "[CV 2/3; 26/36] START clf__criterion=entropy, clf__max_features=sqrt, clf__n_estimators=50, feat-selector__percentile=30, preproc__preprocess__bow__ngram_range=(1, 3)\n",
      "[CV 2/3; 26/36] END clf__criterion=entropy, clf__max_features=sqrt, clf__n_estimators=50, feat-selector__percentile=30, preproc__preprocess__bow__ngram_range=(1, 3);, score=(train=1.000, test=0.667) total time=   0.7s\n",
      "[CV 3/3; 26/36] START clf__criterion=entropy, clf__max_features=sqrt, clf__n_estimators=50, feat-selector__percentile=30, preproc__preprocess__bow__ngram_range=(1, 3)\n",
      "[CV 3/3; 26/36] END clf__criterion=entropy, clf__max_features=sqrt, clf__n_estimators=50, feat-selector__percentile=30, preproc__preprocess__bow__ngram_range=(1, 3);, score=(train=1.000, test=0.412) total time=   1.1s\n",
      "[CV 1/3; 27/36] START clf__criterion=entropy, clf__max_features=sqrt, clf__n_estimators=50, feat-selector__percentile=60, preproc__preprocess__bow__ngram_range=(1, 1)\n",
      "[CV 1/3; 27/36] END clf__criterion=entropy, clf__max_features=sqrt, clf__n_estimators=50, feat-selector__percentile=60, preproc__preprocess__bow__ngram_range=(1, 1);, score=(train=1.000, test=0.611) total time=   1.0s\n",
      "[CV 2/3; 27/36] START clf__criterion=entropy, clf__max_features=sqrt, clf__n_estimators=50, feat-selector__percentile=60, preproc__preprocess__bow__ngram_range=(1, 1)\n",
      "[CV 2/3; 27/36] END clf__criterion=entropy, clf__max_features=sqrt, clf__n_estimators=50, feat-selector__percentile=60, preproc__preprocess__bow__ngram_range=(1, 1);, score=(train=1.000, test=0.667) total time=   0.6s\n",
      "[CV 3/3; 27/36] START clf__criterion=entropy, clf__max_features=sqrt, clf__n_estimators=50, feat-selector__percentile=60, preproc__preprocess__bow__ngram_range=(1, 1)\n",
      "[CV 3/3; 27/36] END clf__criterion=entropy, clf__max_features=sqrt, clf__n_estimators=50, feat-selector__percentile=60, preproc__preprocess__bow__ngram_range=(1, 1);, score=(train=1.000, test=0.588) total time=   0.9s\n",
      "[CV 1/3; 28/36] START clf__criterion=entropy, clf__max_features=sqrt, clf__n_estimators=50, feat-selector__percentile=60, preproc__preprocess__bow__ngram_range=(1, 3)\n",
      "[CV 1/3; 28/36] END clf__criterion=entropy, clf__max_features=sqrt, clf__n_estimators=50, feat-selector__percentile=60, preproc__preprocess__bow__ngram_range=(1, 3);, score=(train=1.000, test=0.667) total time=   1.2s\n",
      "[CV 2/3; 28/36] START clf__criterion=entropy, clf__max_features=sqrt, clf__n_estimators=50, feat-selector__percentile=60, preproc__preprocess__bow__ngram_range=(1, 3)\n",
      "[CV 2/3; 28/36] END clf__criterion=entropy, clf__max_features=sqrt, clf__n_estimators=50, feat-selector__percentile=60, preproc__preprocess__bow__ngram_range=(1, 3);, score=(train=1.000, test=0.667) total time=   0.7s\n",
      "[CV 3/3; 28/36] START clf__criterion=entropy, clf__max_features=sqrt, clf__n_estimators=50, feat-selector__percentile=60, preproc__preprocess__bow__ngram_range=(1, 3)\n",
      "[CV 3/3; 28/36] END clf__criterion=entropy, clf__max_features=sqrt, clf__n_estimators=50, feat-selector__percentile=60, preproc__preprocess__bow__ngram_range=(1, 3);, score=(train=1.000, test=0.412) total time=   1.1s\n",
      "[CV 1/3; 29/36] START clf__criterion=entropy, clf__max_features=sqrt, clf__n_estimators=100, feat-selector__percentile=30, preproc__preprocess__bow__ngram_range=(1, 2)\n",
      "[CV 1/3; 29/36] END clf__criterion=entropy, clf__max_features=sqrt, clf__n_estimators=100, feat-selector__percentile=30, preproc__preprocess__bow__ngram_range=(1, 2);, score=(train=1.000, test=0.667) total time=   1.1s\n",
      "[CV 2/3; 29/36] START clf__criterion=entropy, clf__max_features=sqrt, clf__n_estimators=100, feat-selector__percentile=30, preproc__preprocess__bow__ngram_range=(1, 2)\n",
      "[CV 2/3; 29/36] END clf__criterion=entropy, clf__max_features=sqrt, clf__n_estimators=100, feat-selector__percentile=30, preproc__preprocess__bow__ngram_range=(1, 2);, score=(train=1.000, test=0.667) total time=   0.7s\n",
      "[CV 3/3; 29/36] START clf__criterion=entropy, clf__max_features=sqrt, clf__n_estimators=100, feat-selector__percentile=30, preproc__preprocess__bow__ngram_range=(1, 2)\n",
      "[CV 3/3; 29/36] END clf__criterion=entropy, clf__max_features=sqrt, clf__n_estimators=100, feat-selector__percentile=30, preproc__preprocess__bow__ngram_range=(1, 2);, score=(train=1.000, test=0.412) total time=   1.0s\n",
      "[CV 1/3; 30/36] START clf__criterion=gini, clf__max_features=sqrt, clf__n_estimators=250, feat-selector__percentile=60, preproc__preprocess__bow__ngram_range=(1, 2)\n",
      "[CV 1/3; 30/36] END clf__criterion=gini, clf__max_features=sqrt, clf__n_estimators=250, feat-selector__percentile=60, preproc__preprocess__bow__ngram_range=(1, 2);, score=(train=1.000, test=0.667) total time=   1.4s\n",
      "[CV 2/3; 30/36] START clf__criterion=gini, clf__max_features=sqrt, clf__n_estimators=250, feat-selector__percentile=60, preproc__preprocess__bow__ngram_range=(1, 2)\n",
      "[CV 2/3; 30/36] END clf__criterion=gini, clf__max_features=sqrt, clf__n_estimators=250, feat-selector__percentile=60, preproc__preprocess__bow__ngram_range=(1, 2);, score=(train=1.000, test=0.667) total time=   0.9s\n",
      "[CV 3/3; 30/36] START clf__criterion=gini, clf__max_features=sqrt, clf__n_estimators=250, feat-selector__percentile=60, preproc__preprocess__bow__ngram_range=(1, 2)\n",
      "[CV 3/3; 30/36] END clf__criterion=gini, clf__max_features=sqrt, clf__n_estimators=250, feat-selector__percentile=60, preproc__preprocess__bow__ngram_range=(1, 2);, score=(train=1.000, test=0.412) total time=   1.5s\n",
      "[CV 1/3; 31/36] START clf__criterion=entropy, clf__max_features=sqrt, clf__n_estimators=100, feat-selector__percentile=60, preproc__preprocess__bow__ngram_range=(1, 3)\n",
      "[CV 1/3; 31/36] END clf__criterion=entropy, clf__max_features=sqrt, clf__n_estimators=100, feat-selector__percentile=60, preproc__preprocess__bow__ngram_range=(1, 3);, score=(train=1.000, test=0.667) total time=   1.3s\n",
      "[CV 2/3; 31/36] START clf__criterion=entropy, clf__max_features=sqrt, clf__n_estimators=100, feat-selector__percentile=60, preproc__preprocess__bow__ngram_range=(1, 3)\n",
      "[CV 2/3; 31/36] END clf__criterion=entropy, clf__max_features=sqrt, clf__n_estimators=100, feat-selector__percentile=60, preproc__preprocess__bow__ngram_range=(1, 3);, score=(train=1.000, test=0.667) total time=   0.8s\n",
      "[CV 3/3; 31/36] START clf__criterion=entropy, clf__max_features=sqrt, clf__n_estimators=100, feat-selector__percentile=60, preproc__preprocess__bow__ngram_range=(1, 3)\n"
     ]
    },
    {
     "name": "stdout",
     "output_type": "stream",
     "text": [
      "[CV 3/3; 31/36] END clf__criterion=entropy, clf__max_features=sqrt, clf__n_estimators=100, feat-selector__percentile=60, preproc__preprocess__bow__ngram_range=(1, 3);, score=(train=1.000, test=0.412) total time=   1.2s\n",
      "[CV 1/3; 32/36] START clf__criterion=entropy, clf__max_features=sqrt, clf__n_estimators=250, feat-selector__percentile=30, preproc__preprocess__bow__ngram_range=(1, 3)\n",
      "[CV 1/3; 32/36] END clf__criterion=entropy, clf__max_features=sqrt, clf__n_estimators=250, feat-selector__percentile=30, preproc__preprocess__bow__ngram_range=(1, 3);, score=(train=1.000, test=0.667) total time=   1.5s\n",
      "[CV 2/3; 32/36] START clf__criterion=entropy, clf__max_features=sqrt, clf__n_estimators=250, feat-selector__percentile=30, preproc__preprocess__bow__ngram_range=(1, 3)\n",
      "[CV 2/3; 32/36] END clf__criterion=entropy, clf__max_features=sqrt, clf__n_estimators=250, feat-selector__percentile=30, preproc__preprocess__bow__ngram_range=(1, 3);, score=(train=1.000, test=0.667) total time=   1.0s\n",
      "[CV 3/3; 32/36] START clf__criterion=entropy, clf__max_features=sqrt, clf__n_estimators=250, feat-selector__percentile=30, preproc__preprocess__bow__ngram_range=(1, 3)\n",
      "[CV 3/3; 32/36] END clf__criterion=entropy, clf__max_features=sqrt, clf__n_estimators=250, feat-selector__percentile=30, preproc__preprocess__bow__ngram_range=(1, 3);, score=(train=1.000, test=0.412) total time=   1.4s\n",
      "[CV 1/3; 33/36] START clf__criterion=entropy, clf__max_features=sqrt, clf__n_estimators=250, feat-selector__percentile=60, preproc__preprocess__bow__ngram_range=(1, 2)\n",
      "[CV 1/3; 33/36] END clf__criterion=entropy, clf__max_features=sqrt, clf__n_estimators=250, feat-selector__percentile=60, preproc__preprocess__bow__ngram_range=(1, 2);, score=(train=1.000, test=0.667) total time=   1.4s\n",
      "[CV 2/3; 33/36] START clf__criterion=entropy, clf__max_features=sqrt, clf__n_estimators=250, feat-selector__percentile=60, preproc__preprocess__bow__ngram_range=(1, 2)\n",
      "[CV 2/3; 33/36] END clf__criterion=entropy, clf__max_features=sqrt, clf__n_estimators=250, feat-selector__percentile=60, preproc__preprocess__bow__ngram_range=(1, 2);, score=(train=1.000, test=0.667) total time=   0.9s\n",
      "[CV 3/3; 33/36] START clf__criterion=entropy, clf__max_features=sqrt, clf__n_estimators=250, feat-selector__percentile=60, preproc__preprocess__bow__ngram_range=(1, 2)\n",
      "[CV 3/3; 33/36] END clf__criterion=entropy, clf__max_features=sqrt, clf__n_estimators=250, feat-selector__percentile=60, preproc__preprocess__bow__ngram_range=(1, 2);, score=(train=1.000, test=0.412) total time=   1.3s\n",
      "[CV 1/3; 34/36] START clf__criterion=entropy, clf__max_features=sqrt, clf__n_estimators=250, feat-selector__percentile=60, preproc__preprocess__bow__ngram_range=(1, 3)\n",
      "[CV 1/3; 34/36] END clf__criterion=entropy, clf__max_features=sqrt, clf__n_estimators=250, feat-selector__percentile=60, preproc__preprocess__bow__ngram_range=(1, 3);, score=(train=1.000, test=0.667) total time=   1.6s\n",
      "[CV 2/3; 34/36] START clf__criterion=entropy, clf__max_features=sqrt, clf__n_estimators=250, feat-selector__percentile=60, preproc__preprocess__bow__ngram_range=(1, 3)\n",
      "[CV 2/3; 34/36] END clf__criterion=entropy, clf__max_features=sqrt, clf__n_estimators=250, feat-selector__percentile=60, preproc__preprocess__bow__ngram_range=(1, 3);, score=(train=1.000, test=0.667) total time=   1.0s\n",
      "[CV 3/3; 34/36] START clf__criterion=entropy, clf__max_features=sqrt, clf__n_estimators=250, feat-selector__percentile=60, preproc__preprocess__bow__ngram_range=(1, 3)\n",
      "[CV 3/3; 34/36] END clf__criterion=entropy, clf__max_features=sqrt, clf__n_estimators=250, feat-selector__percentile=60, preproc__preprocess__bow__ngram_range=(1, 3);, score=(train=1.000, test=0.412) total time=   1.5s\n",
      "[CV 1/3; 35/36] START clf__criterion=entropy, clf__max_features=sqrt, clf__n_estimators=50, feat-selector__percentile=30, preproc__preprocess__bow__ngram_range=(1, 2)\n",
      "[CV 1/3; 35/36] END clf__criterion=entropy, clf__max_features=sqrt, clf__n_estimators=50, feat-selector__percentile=30, preproc__preprocess__bow__ngram_range=(1, 2);, score=(train=1.000, test=0.667) total time=   1.1s\n",
      "[CV 2/3; 35/36] START clf__criterion=entropy, clf__max_features=sqrt, clf__n_estimators=50, feat-selector__percentile=30, preproc__preprocess__bow__ngram_range=(1, 2)\n",
      "[CV 2/3; 35/36] END clf__criterion=entropy, clf__max_features=sqrt, clf__n_estimators=50, feat-selector__percentile=30, preproc__preprocess__bow__ngram_range=(1, 2);, score=(train=1.000, test=0.667) total time=   0.6s\n",
      "[CV 3/3; 35/36] START clf__criterion=entropy, clf__max_features=sqrt, clf__n_estimators=50, feat-selector__percentile=30, preproc__preprocess__bow__ngram_range=(1, 2)\n",
      "[CV 3/3; 35/36] END clf__criterion=entropy, clf__max_features=sqrt, clf__n_estimators=50, feat-selector__percentile=30, preproc__preprocess__bow__ngram_range=(1, 2);, score=(train=1.000, test=0.412) total time=   1.0s\n",
      "[CV 1/3; 36/36] START clf__criterion=gini, clf__max_features=sqrt, clf__n_estimators=50, feat-selector__percentile=30, preproc__preprocess__bow__ngram_range=(1, 1)\n",
      "[CV 1/3; 36/36] END clf__criterion=gini, clf__max_features=sqrt, clf__n_estimators=50, feat-selector__percentile=30, preproc__preprocess__bow__ngram_range=(1, 1);, score=(train=1.000, test=0.667) total time=   1.0s\n",
      "[CV 2/3; 36/36] START clf__criterion=gini, clf__max_features=sqrt, clf__n_estimators=50, feat-selector__percentile=30, preproc__preprocess__bow__ngram_range=(1, 1)\n",
      "[CV 2/3; 36/36] END clf__criterion=gini, clf__max_features=sqrt, clf__n_estimators=50, feat-selector__percentile=30, preproc__preprocess__bow__ngram_range=(1, 1);, score=(train=1.000, test=0.667) total time=   0.6s\n",
      "[CV 3/3; 36/36] START clf__criterion=gini, clf__max_features=sqrt, clf__n_estimators=50, feat-selector__percentile=30, preproc__preprocess__bow__ngram_range=(1, 1)\n",
      "[CV 3/3; 36/36] END clf__criterion=gini, clf__max_features=sqrt, clf__n_estimators=50, feat-selector__percentile=30, preproc__preprocess__bow__ngram_range=(1, 1);, score=(train=1.000, test=0.647) total time=   1.0s\n",
      "----------\n",
      "iter: 2\n",
      "n_candidates: 12\n",
      "n_resources: 162\n",
      "Fitting 3 folds for each of 12 candidates, totalling 36 fits\n",
      "[CV 1/3; 1/12] START clf__criterion=entropy, clf__max_features=sqrt, clf__n_estimators=50, feat-selector__percentile=30, preproc__preprocess__bow__ngram_range=(1, 2)\n",
      "[CV 1/3; 1/12] END clf__criterion=entropy, clf__max_features=sqrt, clf__n_estimators=50, feat-selector__percentile=30, preproc__preprocess__bow__ngram_range=(1, 2);, score=(train=1.000, test=0.648) total time=   2.5s\n",
      "[CV 2/3; 1/12] START clf__criterion=entropy, clf__max_features=sqrt, clf__n_estimators=50, feat-selector__percentile=30, preproc__preprocess__bow__ngram_range=(1, 2)\n",
      "[CV 2/3; 1/12] END clf__criterion=entropy, clf__max_features=sqrt, clf__n_estimators=50, feat-selector__percentile=30, preproc__preprocess__bow__ngram_range=(1, 2);, score=(train=1.000, test=0.630) total time=   3.0s\n",
      "[CV 3/3; 1/12] START clf__criterion=entropy, clf__max_features=sqrt, clf__n_estimators=50, feat-selector__percentile=30, preproc__preprocess__bow__ngram_range=(1, 2)\n",
      "[CV 3/3; 1/12] END clf__criterion=entropy, clf__max_features=sqrt, clf__n_estimators=50, feat-selector__percentile=30, preproc__preprocess__bow__ngram_range=(1, 2);, score=(train=0.991, test=0.566) total time=   2.8s\n",
      "[CV 1/3; 2/12] START clf__criterion=gini, clf__max_features=sqrt, clf__n_estimators=250, feat-selector__percentile=30, preproc__preprocess__bow__ngram_range=(1, 3)\n",
      "[CV 1/3; 2/12] END clf__criterion=gini, clf__max_features=sqrt, clf__n_estimators=250, feat-selector__percentile=30, preproc__preprocess__bow__ngram_range=(1, 3);, score=(train=1.000, test=0.630) total time=   3.2s\n",
      "[CV 2/3; 2/12] START clf__criterion=gini, clf__max_features=sqrt, clf__n_estimators=250, feat-selector__percentile=30, preproc__preprocess__bow__ngram_range=(1, 3)\n",
      "[CV 2/3; 2/12] END clf__criterion=gini, clf__max_features=sqrt, clf__n_estimators=250, feat-selector__percentile=30, preproc__preprocess__bow__ngram_range=(1, 3);, score=(train=1.000, test=0.630) total time=   3.8s\n",
      "[CV 3/3; 2/12] START clf__criterion=gini, clf__max_features=sqrt, clf__n_estimators=250, feat-selector__percentile=30, preproc__preprocess__bow__ngram_range=(1, 3)\n",
      "[CV 3/3; 2/12] END clf__criterion=gini, clf__max_features=sqrt, clf__n_estimators=250, feat-selector__percentile=30, preproc__preprocess__bow__ngram_range=(1, 3);, score=(train=1.000, test=0.566) total time=   3.5s\n",
      "[CV 1/3; 3/12] START clf__criterion=entropy, clf__max_features=sqrt, clf__n_estimators=250, feat-selector__percentile=60, preproc__preprocess__bow__ngram_range=(1, 3)\n"
     ]
    },
    {
     "name": "stdout",
     "output_type": "stream",
     "text": [
      "[CV 1/3; 3/12] END clf__criterion=entropy, clf__max_features=sqrt, clf__n_estimators=250, feat-selector__percentile=60, preproc__preprocess__bow__ngram_range=(1, 3);, score=(train=1.000, test=0.630) total time=   3.4s\n",
      "[CV 2/3; 3/12] START clf__criterion=entropy, clf__max_features=sqrt, clf__n_estimators=250, feat-selector__percentile=60, preproc__preprocess__bow__ngram_range=(1, 3)\n",
      "[CV 2/3; 3/12] END clf__criterion=entropy, clf__max_features=sqrt, clf__n_estimators=250, feat-selector__percentile=60, preproc__preprocess__bow__ngram_range=(1, 3);, score=(train=1.000, test=0.630) total time=   4.0s\n",
      "[CV 3/3; 3/12] START clf__criterion=entropy, clf__max_features=sqrt, clf__n_estimators=250, feat-selector__percentile=60, preproc__preprocess__bow__ngram_range=(1, 3)\n",
      "[CV 3/3; 3/12] END clf__criterion=entropy, clf__max_features=sqrt, clf__n_estimators=250, feat-selector__percentile=60, preproc__preprocess__bow__ngram_range=(1, 3);, score=(train=1.000, test=0.566) total time=   3.8s\n",
      "[CV 1/3; 4/12] START clf__criterion=gini, clf__max_features=sqrt, clf__n_estimators=50, feat-selector__percentile=30, preproc__preprocess__bow__ngram_range=(1, 3)\n",
      "[CV 1/3; 4/12] END clf__criterion=gini, clf__max_features=sqrt, clf__n_estimators=50, feat-selector__percentile=30, preproc__preprocess__bow__ngram_range=(1, 3);, score=(train=1.000, test=0.611) total time=   2.8s\n",
      "[CV 2/3; 4/12] START clf__criterion=gini, clf__max_features=sqrt, clf__n_estimators=50, feat-selector__percentile=30, preproc__preprocess__bow__ngram_range=(1, 3)\n",
      "[CV 2/3; 4/12] END clf__criterion=gini, clf__max_features=sqrt, clf__n_estimators=50, feat-selector__percentile=30, preproc__preprocess__bow__ngram_range=(1, 3);, score=(train=1.000, test=0.630) total time=   3.3s\n",
      "[CV 3/3; 4/12] START clf__criterion=gini, clf__max_features=sqrt, clf__n_estimators=50, feat-selector__percentile=30, preproc__preprocess__bow__ngram_range=(1, 3)\n",
      "[CV 3/3; 4/12] END clf__criterion=gini, clf__max_features=sqrt, clf__n_estimators=50, feat-selector__percentile=30, preproc__preprocess__bow__ngram_range=(1, 3);, score=(train=0.991, test=0.566) total time=   3.1s\n",
      "[CV 1/3; 5/12] START clf__criterion=entropy, clf__max_features=sqrt, clf__n_estimators=100, feat-selector__percentile=30, preproc__preprocess__bow__ngram_range=(1, 3)\n",
      "[CV 1/3; 5/12] END clf__criterion=entropy, clf__max_features=sqrt, clf__n_estimators=100, feat-selector__percentile=30, preproc__preprocess__bow__ngram_range=(1, 3);, score=(train=1.000, test=0.611) total time=   2.9s\n",
      "[CV 2/3; 5/12] START clf__criterion=entropy, clf__max_features=sqrt, clf__n_estimators=100, feat-selector__percentile=30, preproc__preprocess__bow__ngram_range=(1, 3)\n",
      "[CV 2/3; 5/12] END clf__criterion=entropy, clf__max_features=sqrt, clf__n_estimators=100, feat-selector__percentile=30, preproc__preprocess__bow__ngram_range=(1, 3);, score=(train=1.000, test=0.630) total time=   3.4s\n",
      "[CV 3/3; 5/12] START clf__criterion=entropy, clf__max_features=sqrt, clf__n_estimators=100, feat-selector__percentile=30, preproc__preprocess__bow__ngram_range=(1, 3)\n",
      "[CV 3/3; 5/12] END clf__criterion=entropy, clf__max_features=sqrt, clf__n_estimators=100, feat-selector__percentile=30, preproc__preprocess__bow__ngram_range=(1, 3);, score=(train=0.991, test=0.566) total time=   3.3s\n",
      "[CV 1/3; 6/12] START clf__criterion=gini, clf__max_features=sqrt, clf__n_estimators=250, feat-selector__percentile=60, preproc__preprocess__bow__ngram_range=(1, 2)\n",
      "[CV 1/3; 6/12] END clf__criterion=gini, clf__max_features=sqrt, clf__n_estimators=250, feat-selector__percentile=60, preproc__preprocess__bow__ngram_range=(1, 2);, score=(train=1.000, test=0.630) total time=   3.6s\n",
      "[CV 2/3; 6/12] START clf__criterion=gini, clf__max_features=sqrt, clf__n_estimators=250, feat-selector__percentile=60, preproc__preprocess__bow__ngram_range=(1, 2)\n",
      "[CV 2/3; 6/12] END clf__criterion=gini, clf__max_features=sqrt, clf__n_estimators=250, feat-selector__percentile=60, preproc__preprocess__bow__ngram_range=(1, 2);, score=(train=1.000, test=0.630) total time=   3.9s\n",
      "[CV 3/3; 6/12] START clf__criterion=gini, clf__max_features=sqrt, clf__n_estimators=250, feat-selector__percentile=60, preproc__preprocess__bow__ngram_range=(1, 2)\n",
      "[CV 3/3; 6/12] END clf__criterion=gini, clf__max_features=sqrt, clf__n_estimators=250, feat-selector__percentile=60, preproc__preprocess__bow__ngram_range=(1, 2);, score=(train=1.000, test=0.566) total time=   4.0s\n",
      "[CV 1/3; 7/12] START clf__criterion=entropy, clf__max_features=sqrt, clf__n_estimators=100, feat-selector__percentile=60, preproc__preprocess__bow__ngram_range=(1, 3)\n",
      "[CV 1/3; 7/12] END clf__criterion=entropy, clf__max_features=sqrt, clf__n_estimators=100, feat-selector__percentile=60, preproc__preprocess__bow__ngram_range=(1, 3);, score=(train=1.000, test=0.630) total time=   3.7s\n",
      "[CV 2/3; 7/12] START clf__criterion=entropy, clf__max_features=sqrt, clf__n_estimators=100, feat-selector__percentile=60, preproc__preprocess__bow__ngram_range=(1, 3)\n",
      "[CV 2/3; 7/12] END clf__criterion=entropy, clf__max_features=sqrt, clf__n_estimators=100, feat-selector__percentile=60, preproc__preprocess__bow__ngram_range=(1, 3);, score=(train=1.000, test=0.630) total time=   3.5s\n",
      "[CV 3/3; 7/12] START clf__criterion=entropy, clf__max_features=sqrt, clf__n_estimators=100, feat-selector__percentile=60, preproc__preprocess__bow__ngram_range=(1, 3)\n",
      "[CV 3/3; 7/12] END clf__criterion=entropy, clf__max_features=sqrt, clf__n_estimators=100, feat-selector__percentile=60, preproc__preprocess__bow__ngram_range=(1, 3);, score=(train=1.000, test=0.566) total time=   3.3s\n",
      "[CV 1/3; 8/12] START clf__criterion=entropy, clf__max_features=log2, clf__n_estimators=100, feat-selector__percentile=30, preproc__preprocess__bow__ngram_range=(1, 1)\n",
      "[CV 1/3; 8/12] END clf__criterion=entropy, clf__max_features=log2, clf__n_estimators=100, feat-selector__percentile=30, preproc__preprocess__bow__ngram_range=(1, 1);, score=(train=1.000, test=0.648) total time=   2.6s\n",
      "[CV 2/3; 8/12] START clf__criterion=entropy, clf__max_features=log2, clf__n_estimators=100, feat-selector__percentile=30, preproc__preprocess__bow__ngram_range=(1, 1)\n",
      "[CV 2/3; 8/12] END clf__criterion=entropy, clf__max_features=log2, clf__n_estimators=100, feat-selector__percentile=30, preproc__preprocess__bow__ngram_range=(1, 1);, score=(train=1.000, test=0.630) total time=   2.8s\n",
      "[CV 3/3; 8/12] START clf__criterion=entropy, clf__max_features=log2, clf__n_estimators=100, feat-selector__percentile=30, preproc__preprocess__bow__ngram_range=(1, 1)\n",
      "[CV 3/3; 8/12] END clf__criterion=entropy, clf__max_features=log2, clf__n_estimators=100, feat-selector__percentile=30, preproc__preprocess__bow__ngram_range=(1, 1);, score=(train=1.000, test=0.566) total time=   2.6s\n",
      "[CV 1/3; 9/12] START clf__criterion=entropy, clf__max_features=sqrt, clf__n_estimators=50, feat-selector__percentile=60, preproc__preprocess__bow__ngram_range=(1, 1)\n",
      "[CV 1/3; 9/12] END clf__criterion=entropy, clf__max_features=sqrt, clf__n_estimators=50, feat-selector__percentile=60, preproc__preprocess__bow__ngram_range=(1, 1);, score=(train=1.000, test=0.648) total time=   2.3s\n",
      "[CV 2/3; 9/12] START clf__criterion=entropy, clf__max_features=sqrt, clf__n_estimators=50, feat-selector__percentile=60, preproc__preprocess__bow__ngram_range=(1, 1)\n",
      "[CV 2/3; 9/12] END clf__criterion=entropy, clf__max_features=sqrt, clf__n_estimators=50, feat-selector__percentile=60, preproc__preprocess__bow__ngram_range=(1, 1);, score=(train=1.000, test=0.648) total time=   2.7s\n",
      "[CV 3/3; 9/12] START clf__criterion=entropy, clf__max_features=sqrt, clf__n_estimators=50, feat-selector__percentile=60, preproc__preprocess__bow__ngram_range=(1, 1)\n",
      "[CV 3/3; 9/12] END clf__criterion=entropy, clf__max_features=sqrt, clf__n_estimators=50, feat-selector__percentile=60, preproc__preprocess__bow__ngram_range=(1, 1);, score=(train=1.000, test=0.585) total time=   2.5s\n",
      "[CV 1/3; 10/12] START clf__criterion=gini, clf__max_features=sqrt, clf__n_estimators=250, feat-selector__percentile=80, preproc__preprocess__bow__ngram_range=(1, 1)\n",
      "[CV 1/3; 10/12] END clf__criterion=gini, clf__max_features=sqrt, clf__n_estimators=250, feat-selector__percentile=80, preproc__preprocess__bow__ngram_range=(1, 1);, score=(train=1.000, test=0.648) total time=   2.7s\n",
      "[CV 2/3; 10/12] START clf__criterion=gini, clf__max_features=sqrt, clf__n_estimators=250, feat-selector__percentile=80, preproc__preprocess__bow__ngram_range=(1, 1)\n"
     ]
    },
    {
     "name": "stdout",
     "output_type": "stream",
     "text": [
      "[CV 2/3; 10/12] END clf__criterion=gini, clf__max_features=sqrt, clf__n_estimators=250, feat-selector__percentile=80, preproc__preprocess__bow__ngram_range=(1, 1);, score=(train=1.000, test=0.593) total time=   3.0s\n",
      "[CV 3/3; 10/12] START clf__criterion=gini, clf__max_features=sqrt, clf__n_estimators=250, feat-selector__percentile=80, preproc__preprocess__bow__ngram_range=(1, 1)\n",
      "[CV 3/3; 10/12] END clf__criterion=gini, clf__max_features=sqrt, clf__n_estimators=250, feat-selector__percentile=80, preproc__preprocess__bow__ngram_range=(1, 1);, score=(train=1.000, test=0.566) total time=   2.9s\n",
      "[CV 1/3; 11/12] START clf__criterion=gini, clf__max_features=sqrt, clf__n_estimators=100, feat-selector__percentile=30, preproc__preprocess__bow__ngram_range=(1, 1)\n",
      "[CV 1/3; 11/12] END clf__criterion=gini, clf__max_features=sqrt, clf__n_estimators=100, feat-selector__percentile=30, preproc__preprocess__bow__ngram_range=(1, 1);, score=(train=1.000, test=0.556) total time=   2.6s\n",
      "[CV 2/3; 11/12] START clf__criterion=gini, clf__max_features=sqrt, clf__n_estimators=100, feat-selector__percentile=30, preproc__preprocess__bow__ngram_range=(1, 1)\n",
      "[CV 2/3; 11/12] END clf__criterion=gini, clf__max_features=sqrt, clf__n_estimators=100, feat-selector__percentile=30, preproc__preprocess__bow__ngram_range=(1, 1);, score=(train=1.000, test=0.648) total time=   2.7s\n",
      "[CV 3/3; 11/12] START clf__criterion=gini, clf__max_features=sqrt, clf__n_estimators=100, feat-selector__percentile=30, preproc__preprocess__bow__ngram_range=(1, 1)\n",
      "[CV 3/3; 11/12] END clf__criterion=gini, clf__max_features=sqrt, clf__n_estimators=100, feat-selector__percentile=30, preproc__preprocess__bow__ngram_range=(1, 1);, score=(train=1.000, test=0.604) total time=   2.6s\n",
      "[CV 1/3; 12/12] START clf__criterion=gini, clf__max_features=sqrt, clf__n_estimators=50, feat-selector__percentile=30, preproc__preprocess__bow__ngram_range=(1, 1)\n",
      "[CV 1/3; 12/12] END clf__criterion=gini, clf__max_features=sqrt, clf__n_estimators=50, feat-selector__percentile=30, preproc__preprocess__bow__ngram_range=(1, 1);, score=(train=1.000, test=0.574) total time=   2.3s\n",
      "[CV 2/3; 12/12] START clf__criterion=gini, clf__max_features=sqrt, clf__n_estimators=50, feat-selector__percentile=30, preproc__preprocess__bow__ngram_range=(1, 1)\n",
      "[CV 2/3; 12/12] END clf__criterion=gini, clf__max_features=sqrt, clf__n_estimators=50, feat-selector__percentile=30, preproc__preprocess__bow__ngram_range=(1, 1);, score=(train=1.000, test=0.611) total time=   2.6s\n",
      "[CV 3/3; 12/12] START clf__criterion=gini, clf__max_features=sqrt, clf__n_estimators=50, feat-selector__percentile=30, preproc__preprocess__bow__ngram_range=(1, 1)\n",
      "[CV 3/3; 12/12] END clf__criterion=gini, clf__max_features=sqrt, clf__n_estimators=50, feat-selector__percentile=30, preproc__preprocess__bow__ngram_range=(1, 1);, score=(train=0.991, test=0.604) total time=   2.5s\n",
      "----------\n",
      "iter: 3\n",
      "n_candidates: 4\n",
      "n_resources: 486\n",
      "Fitting 3 folds for each of 4 candidates, totalling 12 fits\n",
      "[CV 1/3; 1/4] START clf__criterion=entropy, clf__max_features=sqrt, clf__n_estimators=100, feat-selector__percentile=60, preproc__preprocess__bow__ngram_range=(1, 3)\n",
      "[CV 1/3; 1/4] END clf__criterion=entropy, clf__max_features=sqrt, clf__n_estimators=100, feat-selector__percentile=60, preproc__preprocess__bow__ngram_range=(1, 3);, score=(train=1.000, test=0.586) total time=  11.2s\n",
      "[CV 2/3; 1/4] START clf__criterion=entropy, clf__max_features=sqrt, clf__n_estimators=100, feat-selector__percentile=60, preproc__preprocess__bow__ngram_range=(1, 3)\n",
      "[CV 2/3; 1/4] END clf__criterion=entropy, clf__max_features=sqrt, clf__n_estimators=100, feat-selector__percentile=60, preproc__preprocess__bow__ngram_range=(1, 3);, score=(train=0.997, test=0.568) total time=  12.2s\n",
      "[CV 3/3; 1/4] START clf__criterion=entropy, clf__max_features=sqrt, clf__n_estimators=100, feat-selector__percentile=60, preproc__preprocess__bow__ngram_range=(1, 3)\n",
      "[CV 3/3; 1/4] END clf__criterion=entropy, clf__max_features=sqrt, clf__n_estimators=100, feat-selector__percentile=60, preproc__preprocess__bow__ngram_range=(1, 3);, score=(train=1.000, test=0.602) total time=  10.0s\n",
      "[CV 1/3; 2/4] START clf__criterion=entropy, clf__max_features=sqrt, clf__n_estimators=50, feat-selector__percentile=30, preproc__preprocess__bow__ngram_range=(1, 2)\n",
      "[CV 1/3; 2/4] END clf__criterion=entropy, clf__max_features=sqrt, clf__n_estimators=50, feat-selector__percentile=30, preproc__preprocess__bow__ngram_range=(1, 2);, score=(train=1.000, test=0.586) total time=   8.9s\n",
      "[CV 2/3; 2/4] START clf__criterion=entropy, clf__max_features=sqrt, clf__n_estimators=50, feat-selector__percentile=30, preproc__preprocess__bow__ngram_range=(1, 2)\n",
      "[CV 2/3; 2/4] END clf__criterion=entropy, clf__max_features=sqrt, clf__n_estimators=50, feat-selector__percentile=30, preproc__preprocess__bow__ngram_range=(1, 2);, score=(train=0.997, test=0.568) total time=   9.5s\n",
      "[CV 3/3; 2/4] START clf__criterion=entropy, clf__max_features=sqrt, clf__n_estimators=50, feat-selector__percentile=30, preproc__preprocess__bow__ngram_range=(1, 2)\n",
      "[CV 3/3; 2/4] END clf__criterion=entropy, clf__max_features=sqrt, clf__n_estimators=50, feat-selector__percentile=30, preproc__preprocess__bow__ngram_range=(1, 2);, score=(train=1.000, test=0.596) total time=   7.6s\n",
      "[CV 1/3; 3/4] START clf__criterion=entropy, clf__max_features=log2, clf__n_estimators=100, feat-selector__percentile=30, preproc__preprocess__bow__ngram_range=(1, 1)\n",
      "[CV 1/3; 3/4] END clf__criterion=entropy, clf__max_features=log2, clf__n_estimators=100, feat-selector__percentile=30, preproc__preprocess__bow__ngram_range=(1, 1);, score=(train=1.000, test=0.599) total time=   8.0s\n",
      "[CV 2/3; 3/4] START clf__criterion=entropy, clf__max_features=log2, clf__n_estimators=100, feat-selector__percentile=30, preproc__preprocess__bow__ngram_range=(1, 1)\n",
      "[CV 2/3; 3/4] END clf__criterion=entropy, clf__max_features=log2, clf__n_estimators=100, feat-selector__percentile=30, preproc__preprocess__bow__ngram_range=(1, 1);, score=(train=0.997, test=0.568) total time=   8.6s\n",
      "[CV 3/3; 3/4] START clf__criterion=entropy, clf__max_features=log2, clf__n_estimators=100, feat-selector__percentile=30, preproc__preprocess__bow__ngram_range=(1, 1)\n",
      "[CV 3/3; 3/4] END clf__criterion=entropy, clf__max_features=log2, clf__n_estimators=100, feat-selector__percentile=30, preproc__preprocess__bow__ngram_range=(1, 1);, score=(train=1.000, test=0.615) total time=   7.0s\n",
      "[CV 1/3; 4/4] START clf__criterion=entropy, clf__max_features=sqrt, clf__n_estimators=50, feat-selector__percentile=60, preproc__preprocess__bow__ngram_range=(1, 1)\n",
      "[CV 1/3; 4/4] END clf__criterion=entropy, clf__max_features=sqrt, clf__n_estimators=50, feat-selector__percentile=60, preproc__preprocess__bow__ngram_range=(1, 1);, score=(train=1.000, test=0.568) total time=   8.1s\n",
      "[CV 2/3; 4/4] START clf__criterion=entropy, clf__max_features=sqrt, clf__n_estimators=50, feat-selector__percentile=60, preproc__preprocess__bow__ngram_range=(1, 1)\n",
      "[CV 2/3; 4/4] END clf__criterion=entropy, clf__max_features=sqrt, clf__n_estimators=50, feat-selector__percentile=60, preproc__preprocess__bow__ngram_range=(1, 1);, score=(train=0.997, test=0.611) total time=   8.6s\n",
      "[CV 3/3; 4/4] START clf__criterion=entropy, clf__max_features=sqrt, clf__n_estimators=50, feat-selector__percentile=60, preproc__preprocess__bow__ngram_range=(1, 1)\n",
      "[CV 3/3; 4/4] END clf__criterion=entropy, clf__max_features=sqrt, clf__n_estimators=50, feat-selector__percentile=60, preproc__preprocess__bow__ngram_range=(1, 1);, score=(train=1.000, test=0.627) total time=   6.9s\n"
     ]
    },
    {
     "data": {
      "text/plain": [
       "HalvingGridSearchCV(cv=3,\n",
       "                    estimator=Pipeline(steps=[('preproc',\n",
       "                                               Pipeline(steps=[('preprocess',\n",
       "                                                                ColumnTransformer(transformers=[('bow',\n",
       "                                                                                                 CountVectorizer(ngram_range=(1,\n",
       "                                                                                                                              2),\n",
       "                                                                                                                 tokenizer=<__main__.StemmerTokenizer object at 0x7f1acb92dca0>),\n",
       "                                                                                                 'history_text'),\n",
       "                                                                                                ('minmax',\n",
       "                                                                                                 MinMaxScaler(),\n",
       "                                                                                                 ['intelligence_score',\n",
       "                                                                                                  'strength_score',\n",
       "                                                                                                  'speed_score',\n",
       "                                                                                                  'durability_score',\n",
       "                                                                                                  'power_score',\n",
       "                                                                                                  'combat_score'])]))])),\n",
       "                                              ('feat-selector',\n",
       "                                               SelectPercentile()),\n",
       "                                              ('clf',\n",
       "                                               RandomForestClassifier(max_depth=100,\n",
       "                                                                      random_state=84))]),\n",
       "                    param_grid={'clf__criterion': ['gini', 'entropy'],\n",
       "                                'clf__max_features': ['sqrt', 'log2'],\n",
       "                                'clf__n_estimators': [50, 100, 250],\n",
       "                                'feat-selector__percentile': [30, 60, 80],\n",
       "                                'preproc__preprocess__bow__ngram_range': [(1,\n",
       "                                                                           1),\n",
       "                                                                          (1,\n",
       "                                                                           2),\n",
       "                                                                          (1,\n",
       "                                                                           3)]},\n",
       "                    verbose=10)"
      ]
     },
     "execution_count": 51,
     "metadata": {},
     "output_type": "execute_result"
    }
   ],
   "source": [
    "search_rf.fit(X_train, y_train)"
   ]
  },
  {
   "cell_type": "code",
   "execution_count": 54,
   "metadata": {},
   "outputs": [
    {
     "data": {
      "text/plain": [
       "(Pipeline(steps=[('preproc',\n",
       "                  Pipeline(steps=[('preprocess',\n",
       "                                   ColumnTransformer(transformers=[('bow',\n",
       "                                                                    CountVectorizer(tokenizer=<__main__.StemmerTokenizer object at 0x7f1ac5863bb0>),\n",
       "                                                                    'history_text'),\n",
       "                                                                   ('minmax',\n",
       "                                                                    MinMaxScaler(),\n",
       "                                                                    ['intelligence_score',\n",
       "                                                                     'strength_score',\n",
       "                                                                     'speed_score',\n",
       "                                                                     'durability_score',\n",
       "                                                                     'power_score',\n",
       "                                                                     'combat_score'])]))])),\n",
       "                 ('feat-selector', SelectPercentile(percentile=60)),\n",
       "                 ('clf',\n",
       "                  RandomForestClassifier(criterion='entropy', max_depth=100,\n",
       "                                         max_features='sqrt', n_estimators=50,\n",
       "                                         random_state=84))]),\n",
       " 0.6217616580310881)"
      ]
     },
     "execution_count": 54,
     "metadata": {},
     "output_type": "execute_result"
    }
   ],
   "source": [
    "search_rf.best_estimator_, "
   ]
  },
  {
   "cell_type": "code",
   "execution_count": 55,
   "metadata": {},
   "outputs": [
    {
     "data": {
      "text/plain": [
       "0.6217616580310881"
      ]
     },
     "execution_count": 55,
     "metadata": {},
     "output_type": "execute_result"
    }
   ],
   "source": [
    "search_rf.score(X_test, y_test)"
   ]
  },
  {
   "cell_type": "markdown",
   "metadata": {
    "cell_id": "00042-1dc5444c-59e9-4d79-93fb-3c545fe3b086",
    "deepnote_cell_type": "markdown",
    "id": "OmQUw2aZ_6z2"
   },
   "source": [
    "## 1.4 Predicción del datos sin etiquetado  [0.5 puntos]\n",
    "\n",
    "<p align=\"center\">\n",
    "  <img src=\"https://pbs.twimg.com/media/DolotxUUYAAbg7f.jpg\" width=\"350\">\n",
    "</p>\n"
   ]
  },
  {
   "cell_type": "markdown",
   "metadata": {
    "cell_id": "00043-bdf593d2-92b5-4d74-869a-8c9541a6e572",
    "deepnote_cell_type": "markdown",
    "id": "Cj0ERBgTBFWN"
   },
   "source": [
    "LLego el momento de predecir \n",
    "`Vergil`, `Gorilla Girl` y `Batcow`\n",
    "\n",
    "\n",
    "**Nota:** Recuerde que pueden existir campos vacios en `history_text`, por lo que se les recomienda borrar los nan."
   ]
  },
  {
   "cell_type": "markdown",
   "metadata": {
    "cell_id": "00035-1e9b40e0-20dc-4ed1-81ca-b7f8f9679771",
    "deepnote_cell_type": "markdown",
    "tags": []
   },
   "source": [
    "**Respuesta:**"
   ]
  },
  {
   "cell_type": "code",
   "execution_count": 44,
   "metadata": {
    "cell_id": "00035-1ec91701-af2f-4571-9067-f82dbc6f2989",
    "deepnote_cell_type": "code",
    "tags": []
   },
   "outputs": [],
   "source": [
    "#### Código aquí ####\n",
    "\n",
    "# Clean nans and duplicates\n",
    "df_comics_no_label = df_comics_no_label.dropna(subset=['history_text'])\n",
    "df_comics_no_label = df_comics_no_label.drop_duplicates(subset=['history_text'])\n"
   ]
  },
  {
   "cell_type": "code",
   "execution_count": 45,
   "metadata": {},
   "outputs": [],
   "source": [
    "df_to_pred = df_comics_no_label[df_comics_no_label[\"name\"].isin([\"Vergil\", \"Gorilla Girl\", \"Batcow\"])]\n",
    "\n",
    "X_no_label, y_no_label = df_to_pred[[col for col in df_comics.columns if col != \"alignment\"]], \\\n",
    "            df_to_pred[\"alignment\"].to_numpy().ravel()"
   ]
  },
  {
   "cell_type": "code",
   "execution_count": 49,
   "metadata": {},
   "outputs": [
    {
     "name": "stdout",
     "output_type": "stream",
     "text": [
      " Batcow: Good \n",
      " Gorilla Girl: Good \n",
      " Vergil: Good\n"
     ]
    }
   ],
   "source": [
    "y_pred_logreg = search_logreg.predict(X_no_label)\n",
    "print(\n",
    "    \" Batcow:\", y_pred_logreg[0], \"\\n\", \n",
    "    \"Gorilla Girl:\", y_pred_logreg[1], \"\\n\",\n",
    "    \"Vergil:\", y_pred_logreg[2]\n",
    ")"
   ]
  },
  {
   "cell_type": "code",
   "execution_count": 53,
   "metadata": {},
   "outputs": [
    {
     "name": "stdout",
     "output_type": "stream",
     "text": [
      "Batcow: Good \n",
      " Gorilla Girl: Good \n",
      " Vergil: Good\n"
     ]
    }
   ],
   "source": [
    "y_pred_rf = search_rf.predict(X_no_label)\n",
    "print(\n",
    "    \"Batcow:\", y_pred_rf[0], \"\\n\", \n",
    "    \"Gorilla Girl:\", y_pred_rf[1], \"\\n\",\n",
    "    \"Vergil:\", y_pred_rf[2]\n",
    ")"
   ]
  },
  {
   "cell_type": "markdown",
   "metadata": {
    "cell_id": "00045-bf830861-7edd-434b-93f5-af4b0404ce83",
    "deepnote_cell_type": "markdown",
    "id": "Rg4ZMq8ezAH6"
   },
   "source": [
    "# Conclusión\n",
    "Eso ha sido todo para el lab de hoy, recuerden que el laboratorio tiene un plazo de entrega de una semana y que **los días de atraso no se pueden utilizar para entregas de lab, solo para tareas**. Cualquier duda del laboratorio, no duden en contactarnos por mail o U-cursos.\n",
    "\n",
    "<p align=\"center\">\n",
    "  <img src=\"https://media1.tenor.com/images/fb5bf7cc5a4acb91b4177672886a88ba/tenor.gif?itemid=5591338\">\n",
    "</p>"
   ]
  },
  {
   "cell_type": "markdown",
   "metadata": {
    "created_in_deepnote_cell": true,
    "deepnote_cell_type": "markdown",
    "tags": []
   },
   "source": [
    "<a style='text-decoration:none;line-height:16px;display:flex;color:#5B5B62;padding:10px;justify-content:end;' href='https://deepnote.com?utm_source=created-in-deepnote-cell&projectId=87110296-876e-426f-b91d-aaf681223468' target=\"_blank\">\n",
    "<img alt='Created in deepnote.com' style='display:inline;max-height:16px;margin:0px;margin-right:7.5px;' src='data:image/svg+xml;base64,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' > </img>\n",
    "Created in <span style='font-weight:600;margin-left:4px;'>Deepnote</span></a>"
   ]
  }
 ],
 "metadata": {
  "colab": {
   "collapsed_sections": [
    "LCOUC4jss148",
    "GtG74Cphq56p"
   ],
   "name": "Laboratorio4.ipynb",
   "provenance": [],
   "toc_visible": true
  },
  "deepnote": {},
  "deepnote_execution_queue": [],
  "deepnote_notebook_id": "038fcdf2-d87a-4a74-89c6-f5afff22afb6",
  "kernelspec": {
   "display_name": "Python 3 (ipykernel)",
   "language": "python",
   "name": "python3"
  },
  "language_info": {
   "codemirror_mode": {
    "name": "ipython",
    "version": 3
   },
   "file_extension": ".py",
   "mimetype": "text/x-python",
   "name": "python",
   "nbconvert_exporter": "python",
   "pygments_lexer": "ipython3",
   "version": "3.9.7"
  },
  "toc": {
   "base_numbering": 1,
   "nav_menu": {},
   "number_sections": true,
   "sideBar": true,
   "skip_h1_title": true,
   "title_cell": "Tabla de Contenidos",
   "title_sidebar": "Contenidos",
   "toc_cell": false,
   "toc_position": {
    "height": "calc(100% - 180px)",
    "left": "10px",
    "top": "150px",
    "width": "241.867px"
   },
   "toc_section_display": true,
   "toc_window_display": true
  },
  "varInspector": {
   "cols": {
    "lenName": 16,
    "lenType": 16,
    "lenVar": 40
   },
   "kernels_config": {
    "python": {
     "delete_cmd_postfix": "",
     "delete_cmd_prefix": "del ",
     "library": "var_list.py",
     "varRefreshCmd": "print(var_dic_list())"
    },
    "r": {
     "delete_cmd_postfix": ") ",
     "delete_cmd_prefix": "rm(",
     "library": "var_list.r",
     "varRefreshCmd": "cat(var_dic_list()) "
    }
   },
   "types_to_exclude": [
    "module",
    "function",
    "builtin_function_or_method",
    "instance",
    "_Feature"
   ],
   "window_display": false
  }
 },
 "nbformat": 4,
 "nbformat_minor": 1
}
